{
 "cells": [
  {
   "cell_type": "markdown",
   "id": "cf8baf08",
   "metadata": {},
   "source": [
    "# English Premier League sports-betting model"
   ]
  },
  {
   "cell_type": "markdown",
   "id": "02e3b926",
   "metadata": {},
   "source": [
    "The purpose of this notebook is to present the exploratory data analysis that was conducted before the modeling process."
   ]
  },
  {
   "cell_type": "code",
   "execution_count": 5,
   "id": "5ff5cdb9",
   "metadata": {},
   "outputs": [],
   "source": [
    "# import relevant libraries\n",
    "import numpy as np\n",
    "import pandas as pd\n",
    "import seaborn as sns\n",
    "import matplotlib.pyplot as plt"
   ]
  },
  {
   "cell_type": "code",
   "execution_count": 6,
   "id": "b3ecbbb9",
   "metadata": {},
   "outputs": [
    {
     "data": {
      "text/html": [
       "<div>\n",
       "<style scoped>\n",
       "    .dataframe tbody tr th:only-of-type {\n",
       "        vertical-align: middle;\n",
       "    }\n",
       "\n",
       "    .dataframe tbody tr th {\n",
       "        vertical-align: top;\n",
       "    }\n",
       "\n",
       "    .dataframe thead th {\n",
       "        text-align: right;\n",
       "    }\n",
       "</style>\n",
       "<table border=\"1\" class=\"dataframe\">\n",
       "  <thead>\n",
       "    <tr style=\"text-align: right;\">\n",
       "      <th></th>\n",
       "      <th>Season</th>\n",
       "      <th>DateTime</th>\n",
       "      <th>HomeTeam</th>\n",
       "      <th>AwayTeam</th>\n",
       "      <th>HomeML</th>\n",
       "      <th>DrawML</th>\n",
       "      <th>AwayML</th>\n",
       "      <th>ML_Favorite</th>\n",
       "      <th>Home_Favorite?</th>\n",
       "      <th>FTHG</th>\n",
       "      <th>...</th>\n",
       "      <th>HST</th>\n",
       "      <th>AST</th>\n",
       "      <th>HC</th>\n",
       "      <th>AC</th>\n",
       "      <th>HF</th>\n",
       "      <th>AF</th>\n",
       "      <th>HY</th>\n",
       "      <th>AY</th>\n",
       "      <th>HR</th>\n",
       "      <th>AR</th>\n",
       "    </tr>\n",
       "  </thead>\n",
       "  <tbody>\n",
       "    <tr>\n",
       "      <th>0</th>\n",
       "      <td>2003-04</td>\n",
       "      <td>2004-02-11T00:00:00Z</td>\n",
       "      <td>Birmingham</td>\n",
       "      <td>Everton</td>\n",
       "      <td>-105.0</td>\n",
       "      <td>215.0</td>\n",
       "      <td>229.0</td>\n",
       "      <td>Birmingham</td>\n",
       "      <td>1.0</td>\n",
       "      <td>3</td>\n",
       "      <td>...</td>\n",
       "      <td>11</td>\n",
       "      <td>3</td>\n",
       "      <td>8</td>\n",
       "      <td>11</td>\n",
       "      <td>10</td>\n",
       "      <td>14</td>\n",
       "      <td>1</td>\n",
       "      <td>0</td>\n",
       "      <td>0</td>\n",
       "      <td>0</td>\n",
       "    </tr>\n",
       "    <tr>\n",
       "      <th>1</th>\n",
       "      <td>2003-04</td>\n",
       "      <td>2004-02-11T00:00:00Z</td>\n",
       "      <td>Blackburn</td>\n",
       "      <td>Newcastle</td>\n",
       "      <td>150.0</td>\n",
       "      <td>210.0</td>\n",
       "      <td>138.0</td>\n",
       "      <td>Newcastle</td>\n",
       "      <td>0.0</td>\n",
       "      <td>1</td>\n",
       "      <td>...</td>\n",
       "      <td>7</td>\n",
       "      <td>7</td>\n",
       "      <td>8</td>\n",
       "      <td>6</td>\n",
       "      <td>12</td>\n",
       "      <td>10</td>\n",
       "      <td>0</td>\n",
       "      <td>0</td>\n",
       "      <td>0</td>\n",
       "      <td>0</td>\n",
       "    </tr>\n",
       "    <tr>\n",
       "      <th>2</th>\n",
       "      <td>2003-04</td>\n",
       "      <td>2004-02-11T00:00:00Z</td>\n",
       "      <td>Charlton</td>\n",
       "      <td>Tottenham</td>\n",
       "      <td>110.0</td>\n",
       "      <td>215.0</td>\n",
       "      <td>195.0</td>\n",
       "      <td>Charlton</td>\n",
       "      <td>1.0</td>\n",
       "      <td>2</td>\n",
       "      <td>...</td>\n",
       "      <td>14</td>\n",
       "      <td>10</td>\n",
       "      <td>10</td>\n",
       "      <td>4</td>\n",
       "      <td>13</td>\n",
       "      <td>14</td>\n",
       "      <td>3</td>\n",
       "      <td>0</td>\n",
       "      <td>0</td>\n",
       "      <td>0</td>\n",
       "    </tr>\n",
       "    <tr>\n",
       "      <th>3</th>\n",
       "      <td>2003-04</td>\n",
       "      <td>2004-02-11T00:00:00Z</td>\n",
       "      <td>Fulham</td>\n",
       "      <td>Aston Villa</td>\n",
       "      <td>102.0</td>\n",
       "      <td>215.0</td>\n",
       "      <td>210.0</td>\n",
       "      <td>Fulham</td>\n",
       "      <td>1.0</td>\n",
       "      <td>1</td>\n",
       "      <td>...</td>\n",
       "      <td>6</td>\n",
       "      <td>3</td>\n",
       "      <td>6</td>\n",
       "      <td>5</td>\n",
       "      <td>16</td>\n",
       "      <td>17</td>\n",
       "      <td>2</td>\n",
       "      <td>1</td>\n",
       "      <td>1</td>\n",
       "      <td>0</td>\n",
       "    </tr>\n",
       "    <tr>\n",
       "      <th>4</th>\n",
       "      <td>2003-04</td>\n",
       "      <td>2004-02-11T00:00:00Z</td>\n",
       "      <td>Liverpool</td>\n",
       "      <td>Man City</td>\n",
       "      <td>-172.0</td>\n",
       "      <td>240.0</td>\n",
       "      <td>383.0</td>\n",
       "      <td>Liverpool</td>\n",
       "      <td>1.0</td>\n",
       "      <td>2</td>\n",
       "      <td>...</td>\n",
       "      <td>7</td>\n",
       "      <td>3</td>\n",
       "      <td>6</td>\n",
       "      <td>3</td>\n",
       "      <td>7</td>\n",
       "      <td>8</td>\n",
       "      <td>0</td>\n",
       "      <td>0</td>\n",
       "      <td>0</td>\n",
       "      <td>0</td>\n",
       "    </tr>\n",
       "  </tbody>\n",
       "</table>\n",
       "<p>5 rows × 28 columns</p>\n",
       "</div>"
      ],
      "text/plain": [
       "    Season              DateTime    HomeTeam     AwayTeam  HomeML  DrawML  \\\n",
       "0  2003-04  2004-02-11T00:00:00Z  Birmingham      Everton  -105.0   215.0   \n",
       "1  2003-04  2004-02-11T00:00:00Z   Blackburn    Newcastle   150.0   210.0   \n",
       "2  2003-04  2004-02-11T00:00:00Z    Charlton    Tottenham   110.0   215.0   \n",
       "3  2003-04  2004-02-11T00:00:00Z      Fulham  Aston Villa   102.0   215.0   \n",
       "4  2003-04  2004-02-11T00:00:00Z   Liverpool     Man City  -172.0   240.0   \n",
       "\n",
       "   AwayML ML_Favorite  Home_Favorite?  FTHG  ...  HST AST  HC  AC  HF  AF  HY  \\\n",
       "0   229.0  Birmingham             1.0     3  ...   11   3   8  11  10  14   1   \n",
       "1   138.0   Newcastle             0.0     1  ...    7   7   8   6  12  10   0   \n",
       "2   195.0    Charlton             1.0     2  ...   14  10  10   4  13  14   3   \n",
       "3   210.0      Fulham             1.0     1  ...    6   3   6   5  16  17   2   \n",
       "4   383.0   Liverpool             1.0     2  ...    7   3   6   3   7   8   0   \n",
       "\n",
       "   AY  HR  AR  \n",
       "0   0   0   0  \n",
       "1   0   0   0  \n",
       "2   0   0   0  \n",
       "3   1   1   0  \n",
       "4   0   0   0  \n",
       "\n",
       "[5 rows x 28 columns]"
      ]
     },
     "execution_count": 6,
     "metadata": {},
     "output_type": "execute_result"
    }
   ],
   "source": [
    "# reading in the data\n",
    "df = pd.read_excel('/Users/schoollaptop/Documents/FLATIRON2021/CAPSTONE/results.xlsm')\n",
    "df.head()"
   ]
  },
  {
   "cell_type": "markdown",
   "id": "3c2e9206",
   "metadata": {},
   "source": [
    "It looks like the Home Moneyline (HomeML), Draw Moneyline (DrawML), and Away Moneyline (AwayML) odds are only provided for about 400 games. It is probably safe to get rid of these columns altogether because the dataset provides the betting favorite already in the column, 'ML_Favorite'."
   ]
  },
  {
   "cell_type": "code",
   "execution_count": 7,
   "id": "5602e023",
   "metadata": {},
   "outputs": [],
   "source": [
    "df = df.drop(['HomeML','DrawML','AwayML','Home_Favorite?'], axis=1)"
   ]
  },
  {
   "cell_type": "markdown",
   "id": "8ef337ac",
   "metadata": {},
   "source": [
    "Now I will rename some of the columns to make them easier to understand"
   ]
  },
  {
   "cell_type": "code",
   "execution_count": 8,
   "id": "9f3d11f8",
   "metadata": {},
   "outputs": [],
   "source": [
    "df.rename(columns={'FTHG':'FullTime_HomeGoals',\n",
    "                   'FTAG':'FullTime_AwayGoals',\n",
    "                   'FTR':'FullTime_Result',\n",
    "                   'HTHG':'HalfTime_HomeGoals',\n",
    "                   'HTAG':'HalfTime_AwayGoals',\n",
    "                   'HTR':'HalfTime_Result',\n",
    "                   'HS':'Home_Shots',\n",
    "                   'AS':'Away_Shots',\n",
    "                   'HST':'Home_ShotsOnTarget',\n",
    "                   'AST':'Away_ShotsOnTarget',\n",
    "                   'HC':'Home_Corners',\n",
    "                   'AC':'Away_Corners',\n",
    "                   'HF':'Home_Fouls',\n",
    "                   'AF':'Away_Fouls',\n",
    "                   'HY':'Home_YellowCs',\n",
    "                   'AY':'Away_YellowCs',\n",
    "                   'HR':'Home_RedCs',\n",
    "                   'AR':'Away_RedCs'}, inplace=True)"
   ]
  },
  {
   "cell_type": "markdown",
   "id": "f592827f",
   "metadata": {},
   "source": [
    "And finally, I will change the 'FullTime_Result' and 'HalfTime_Result' columns so that instead of strings of 'H', 'D', and 'A' (Home, Draw, Away), they will be 2, 1, and 0 respectively.\n",
    "\n",
    "Full Time Result column explained:\n",
    "- 2 = Home win\n",
    "- 1 = Draw\n",
    "- 0 = Away win\n",
    "\n",
    "Half Time Result column explained:\n",
    "- 2 = Home team winning at halftime\n",
    "- 1 = Draw/tie at halftime\n",
    "- 0 = Away team winning at halftime"
   ]
  },
  {
   "cell_type": "code",
   "execution_count": 9,
   "id": "c537ccc8",
   "metadata": {},
   "outputs": [],
   "source": [
    "# map a dictionary to convert strings to integers\n",
    "# Full Time Result\n",
    "df['FullTime_Result'] = df['FullTime_Result'].map({'H': 2,\n",
    "                                                   'D': 1,\n",
    "                                                   'A': 0})\n",
    "\n",
    "# map a dictionary to convert strings to integers\n",
    "df['HalfTime_Result'] = df['HalfTime_Result'].map({'H': 2,\n",
    "                                                   'D': 1,\n",
    "                                                   'A': 0})"
   ]
  },
  {
   "cell_type": "markdown",
   "id": "968be91f",
   "metadata": {},
   "source": [
    "## Feature Engineering\n",
    "Some matches did not provide whether or not the home team was the favorite to win the game. It would be interesting to have this data for all of the matches so we will create a new column of the same name but have it be filled with booleans (True/False) and later replace them with 1s and 0s respectively"
   ]
  },
  {
   "cell_type": "code",
   "execution_count": 10,
   "id": "13a83b77",
   "metadata": {},
   "outputs": [],
   "source": [
    "df['HomeTeam_Favorite'] = (df['HomeTeam'] == df['ML_Favorite'])\n",
    "\n",
    "# map a dictionary to replace True and False with 1 and 0, respectively\n",
    "df['HomeTeam_Favorite'] = df['HomeTeam_Favorite'].map({True: 1,\n",
    "                                                 False: 0})"
   ]
  },
  {
   "cell_type": "markdown",
   "id": "99a2cdb6",
   "metadata": {},
   "source": [
    "<b>HomeTeam_Favorite</b> explained:\n",
    "- 1: Home team was the betting favorite to win the game\n",
    "- 0: Away team was the betting favorite to win the game"
   ]
  },
  {
   "cell_type": "markdown",
   "id": "e0e3dd7e",
   "metadata": {},
   "source": [
    "<b>Conversion Rate</b> is calculated as the number of goals divided by the total number of shots. We will create a column for both the Home and Away team."
   ]
  },
  {
   "cell_type": "code",
   "execution_count": 11,
   "id": "dfc5fd9d",
   "metadata": {},
   "outputs": [],
   "source": [
    "# Home Conversion Rate\n",
    "df['Home_ConversionRate'] = round((df['FullTime_HomeGoals'] / df['Home_Shots']) * 100, 0)\n",
    "\n",
    "# Away Conversion Rate\n",
    "df['Away_ConversionRate'] = round((df['FullTime_AwayGoals'] / df['Away_Shots']) * 100, 0)"
   ]
  },
  {
   "cell_type": "markdown",
   "id": "2e9fd9d0",
   "metadata": {},
   "source": [
    "<b>Shots On Target percentage (%)</b> new column for each row based on what percentage of their total shots were shots on target"
   ]
  },
  {
   "cell_type": "code",
   "execution_count": 12,
   "id": "f4605f26",
   "metadata": {},
   "outputs": [],
   "source": [
    "# Home Shots on Target (SoT percentage)\n",
    "df['Home_SoT%'] = round((df['Home_ShotsOnTarget'] / df['Home_Shots']), 2)\n",
    "\n",
    "# Away Shots on Target (SoT percentage)\n",
    "df['Away_SoT%'] = round((df['Away_ShotsOnTarget'] / df['Away_Shots']), 2)"
   ]
  },
  {
   "cell_type": "markdown",
   "id": "5242e208",
   "metadata": {},
   "source": [
    "<b>Did the team that was favored to win (betting favorite) actually end up winning?</b>"
   ]
  },
  {
   "cell_type": "code",
   "execution_count": 13,
   "id": "afa6940a",
   "metadata": {},
   "outputs": [],
   "source": [
    "# creating a Pandas series by using a for loop that determines whether the home team or the away team was the\n",
    "# betting favorite in the match. I decided to use integers because strings are more difficult to work with.\n",
    "# I am appending the integer 2 because that is what is used to identify the home team in 'FullTime_Result'\n",
    "# After creating this 'favorites' column, I will identify whether or not the favored team actually won\n",
    "\n",
    "favorites = []\n",
    "\n",
    "for match in range(0,6657):\n",
    "    # if the home team is favored, append a 2\n",
    "    if df['HomeTeam'][match] == df['ML_Favorite'][match]:\n",
    "        favorites.append(2)\n",
    "    # if the away team is favored, append a 0\n",
    "    else:\n",
    "        favorites.append(0)"
   ]
  },
  {
   "cell_type": "code",
   "execution_count": 14,
   "id": "e263e5b2",
   "metadata": {},
   "outputs": [],
   "source": [
    "# converting the favorites list to a Pandas series so it can be easily\n",
    "# added onto our original dataframe\n",
    "favorites = pd.Series(favorites)\n",
    "\n",
    "df['Favorites'] = favorites"
   ]
  },
  {
   "cell_type": "markdown",
   "id": "2080ef16",
   "metadata": {},
   "source": [
    "<b>'Favorites'</b> column explained:\n",
    "- 2 = Home Team favored to win the match\n",
    "- 0 = Away Team favored to win the match"
   ]
  },
  {
   "cell_type": "code",
   "execution_count": 15,
   "id": "a366864d",
   "metadata": {},
   "outputs": [],
   "source": [
    "# using np.where to fill in 1 for when a favored team wins and 0 for when a favored team loses OR draws\n",
    "df['Favorite_Winner'] = np.where((df['FullTime_Result'] == df['Favorites']), 1, 0)"
   ]
  },
  {
   "cell_type": "markdown",
   "id": "12dfc85d",
   "metadata": {},
   "source": [
    "<b>Favorite Winner</b> explained:\n",
    "- 1 = the favored team ended up winning the game\n",
    "- 0 = the favored team ended up losing OR drawing the game"
   ]
  },
  {
   "cell_type": "markdown",
   "id": "c6dfdb57",
   "metadata": {},
   "source": [
    "We will not need the DateTime or Referee column because they are irrelevant for this analysis."
   ]
  },
  {
   "cell_type": "code",
   "execution_count": 16,
   "id": "d0afc698",
   "metadata": {},
   "outputs": [],
   "source": [
    "# dropping Datetime and Referee columns inplace\n",
    "df.drop(['DateTime','Referee'], axis=1, inplace=True)"
   ]
  },
  {
   "cell_type": "markdown",
   "id": "a87bd221",
   "metadata": {},
   "source": [
    "## EDA\n",
    "How many teams that were the betting favorite to win actually end up winning? On the x-axis, 'Favorite' indicates that the betting favorite ended up winning while 'Non-favorite' indicates the betting favorite either lost or drew/tied."
   ]
  },
  {
   "cell_type": "code",
   "execution_count": 17,
   "id": "c65f19ba",
   "metadata": {},
   "outputs": [
    {
     "data": {
      "image/png": "[encoded data removed]",
      "text/plain": [
       "<Figure size 720x432 with 1 Axes>"
      ]
     },
     "metadata": {
      "needs_background": "light"
     },
     "output_type": "display_data"
    }
   ],
   "source": [
    "plt.figure(figsize=(10,6))\n",
    "sns.countplot(x=df['Favorite_Winner'], color='purple', edgecolor='black')\n",
    "plt.title('Betting Favorites', fontsize=20)\n",
    "plt.xticks([0,1], ['Non-favorite','Favorite'])\n",
    "plt.ylabel('Count', fontsize=15)\n",
    "plt.xlabel('Ended up as winner',fontsize=15)\n",
    "plt.show()"
   ]
  },
  {
   "cell_type": "code",
   "execution_count": 18,
   "id": "a2bd2d25",
   "metadata": {},
   "outputs": [
    {
     "name": "stdout",
     "output_type": "stream",
     "text": [
      "0.5421360973411447\n"
     ]
    }
   ],
   "source": [
    "# percentage of betting favorites that ended up winning\n",
    "print(len(df[df['Favorite_Winner']==1]) / len(df['Favorite_Winner']))"
   ]
  },
  {
   "cell_type": "markdown",
   "id": "fc251f50",
   "metadata": {},
   "source": [
    "How many times were the home team favored to win the match?"
   ]
  },
  {
   "cell_type": "code",
   "execution_count": 19,
   "id": "8e092769",
   "metadata": {},
   "outputs": [
    {
     "data": {
      "text/plain": [
       "Text(0, 0.5, 'Count')"
      ]
     },
     "execution_count": 19,
     "metadata": {},
     "output_type": "execute_result"
    },
    {
     "data": {
      "image/png": "[encoded data removed]",
      "text/plain": [
       "<Figure size 720x432 with 1 Axes>"
      ]
     },
     "metadata": {
      "needs_background": "light"
     },
     "output_type": "display_data"
    }
   ],
   "source": [
    "# count of home teams that were favored to win\n",
    "plt.figure(figsize=(10,6))\n",
    "sns.countplot(x=df['HomeTeam_Favorite'], color='purple', edgecolor='black')\n",
    "plt.title('Home teams favored to win match', fontsize=20)\n",
    "plt.xlabel('Away vs. Home team', fontsize=15)\n",
    "plt.ylabel('Count', fontsize=15)"
   ]
  },
  {
   "cell_type": "code",
   "execution_count": 20,
   "id": "cf681945",
   "metadata": {},
   "outputs": [
    {
     "name": "stdout",
     "output_type": "stream",
     "text": [
      "Home Teams were favored in 0.6948% of all matches in the dataset.\n"
     ]
    }
   ],
   "source": [
    "# percentage of games where the home team was the favorite\n",
    "home_favorite_percentage = len(df[df['HomeTeam_Favorite'] == 1]) / len(df['HomeTeam_Favorite'])\n",
    "\n",
    "print('Home Teams were favored in ' + str(round(home_favorite_percentage, ndigits=4)) + \n",
    "      '% of all matches in the dataset.')"
   ]
  },
  {
   "cell_type": "code",
   "execution_count": 21,
   "id": "ce0850d5",
   "metadata": {},
   "outputs": [
    {
     "name": "stdout",
     "output_type": "stream",
     "text": [
      "Away Teams were favored in 0.3052% of all matches in the dataset.\n"
     ]
    }
   ],
   "source": [
    "# percentage of games where the home team was the favorite\n",
    "away_favorite_percentage = len(df[df['HomeTeam_Favorite'] == 0]) / len(df['HomeTeam_Favorite'])\n",
    "\n",
    "print('Away Teams were favored in ' + str(round(away_favorite_percentage, ndigits=4)) + \n",
    "      '% of all matches in the dataset.')"
   ]
  },
  {
   "cell_type": "markdown",
   "id": "ff3d6368",
   "metadata": {},
   "source": [
    "How many times did the home team that were betting favorites actually win?"
   ]
  },
  {
   "cell_type": "code",
   "execution_count": 22,
   "id": "4053e3c4",
   "metadata": {},
   "outputs": [
    {
     "data": {
      "image/png": "[encoded data removed]",
      "text/plain": [
       "<Figure size 720x432 with 1 Axes>"
      ]
     },
     "metadata": {
      "needs_background": "light"
     },
     "output_type": "display_data"
    }
   ],
   "source": [
    "# count of home favorites that actually won\n",
    "plt.figure(figsize=(10,6))\n",
    "sns.countplot(x=df['HomeTeam_Favorite'], hue=df['FullTime_Result'], color='purple', edgecolor='black')\n",
    "plt.xticks([0,1], ['Away','Home'])\n",
    "plt.xlabel('Favorite', fontsize=15)\n",
    "plt.ylabel('Count', fontsize=15)\n",
    "plt.title('Match Results', fontsize=20)\n",
    "plt.show()"
   ]
  },
  {
   "cell_type": "markdown",
   "id": "7cfe640c",
   "metadata": {},
   "source": [
    "What was the general distribution of Full-Time match results in the dataset?"
   ]
  },
  {
   "cell_type": "code",
   "execution_count": 23,
   "id": "e66826a2",
   "metadata": {},
   "outputs": [
    {
     "name": "stderr",
     "output_type": "stream",
     "text": [
      "/opt/anaconda3/envs/learn-env/lib/python3.8/site-packages/seaborn/_decorators.py:36: FutureWarning: Pass the following variable as a keyword arg: x. From version 0.12, the only valid positional argument will be `data`, and passing other arguments without an explicit keyword will result in an error or misinterpretation.\n",
      "  warnings.warn(\n"
     ]
    },
    {
     "data": {
      "image/png": "[encoded data removed]",
      "text/plain": [
       "<Figure size 720x432 with 1 Axes>"
      ]
     },
     "metadata": {
      "needs_background": "light"
     },
     "output_type": "display_data"
    }
   ],
   "source": [
    "# Distribution of results\n",
    "plt.figure(figsize=(10,6))\n",
    "sns.countplot(df['FullTime_Result'], color='purple', edgecolor='black')\n",
    "plt.xticks([0,1,2], ['Away Win','Draw','Home Win'])\n",
    "plt.title('Distribution of Full-Time Results', fontsize=20)\n",
    "plt.xlabel('Result', fontsize=15)\n",
    "plt.ylabel('Count', fontsize=15)\n",
    "plt.show()"
   ]
  },
  {
   "cell_type": "markdown",
   "id": "4c724dd2",
   "metadata": {},
   "source": [
    "Did the teams that were winning at half-time go on to win the game at full-time?"
   ]
  },
  {
   "cell_type": "code",
   "execution_count": 24,
   "id": "89e2f8b9",
   "metadata": {},
   "outputs": [
    {
     "name": "stderr",
     "output_type": "stream",
     "text": [
      "/opt/anaconda3/envs/learn-env/lib/python3.8/site-packages/seaborn/_decorators.py:36: FutureWarning: Pass the following variable as a keyword arg: x. From version 0.12, the only valid positional argument will be `data`, and passing other arguments without an explicit keyword will result in an error or misinterpretation.\n",
      "  warnings.warn(\n"
     ]
    },
    {
     "data": {
      "image/png": "[encoded data removed]",
      "text/plain": [
       "<Figure size 720x432 with 1 Axes>"
      ]
     },
     "metadata": {
      "needs_background": "light"
     },
     "output_type": "display_data"
    }
   ],
   "source": [
    "# how many teams leading at half time went on to win the game?\n",
    "plt.figure(figsize=(10,6))\n",
    "sns.countplot(df['HalfTime_Result'], hue=df['FullTime_Result'], color='purple', edgecolor='black')\n",
    "plt.title('Halftime vs. Full-time Results', fontsize=20)\n",
    "plt.xlabel('Away vs Draw vs Home', fontsize=15)\n",
    "plt.ylabel('Count', fontsize=15)\n",
    "plt.show()"
   ]
  },
  {
   "cell_type": "markdown",
   "id": "10e0a2c0",
   "metadata": {},
   "source": [
    "## Now that I've explored the data with visuals, time to move onto modeling..."
   ]
  }
 ],
 "metadata": {
  "kernelspec": {
   "display_name": "Python (learn-env)",
   "language": "python",
   "name": "learn-env"
  },
  "language_info": {
   "codemirror_mode": {
    "name": "ipython",
    "version": 3
   },
   "file_extension": ".py",
   "mimetype": "text/x-python",
   "name": "python",
   "nbconvert_exporter": "python",
   "pygments_lexer": "ipython3",
   "version": "3.8.5"
  }
 },
 "nbformat": 4,
 "nbformat_minor": 5
}
