{
 "cells": [
  {
   "cell_type": "markdown",
<<<<<<< Updated upstream
   "id": "3bb193ff",
=======
   "id": "f90650c5",
>>>>>>> Stashed changes
   "metadata": {},
   "source": [
    "# BASELINE MODEL = Decision Tree"
   ]
  },
  {
   "cell_type": "markdown",
   "id": "17061590",
   "metadata": {},
   "source": [
    "# English Premier League sports-betting model"
   ]
  },
  {
   "cell_type": "markdown",
   "id": "bbff4f56",
   "metadata": {},
   "source": [
    "## Business Problem\n",
    "- Bettors are looking for a model that can be used to place their bets on Premier League matches. This model will be used in replacement of their own intuition/biases.\n",
    "- General sports bettors who gamble as a hobby\n",
    "- FanDuel, DraftKings, --> provide insight on which teams are most likely to win and price competitions\n",
    "- model deployment"
   ]
  },
  {
   "cell_type": "markdown",
   "id": "eeb62c14",
   "metadata": {},
   "source": [
    "## Data Preprocessing and Cleaning"
   ]
  },
  {
   "cell_type": "code",
   "execution_count": 1,
   "id": "62cbc1a9",
   "metadata": {},
   "outputs": [],
   "source": [
    "# imports\n",
    "import numpy as np\n",
    "import pandas as pd\n",
    "import seaborn as sns\n",
    "import matplotlib.pyplot as plt\n",
    "from sklearn.model_selection import train_test_split\n",
    "from sklearn.preprocessing import MinMaxScaler\n",
    "from sklearn.linear_model import LogisticRegression\n",
    "from sklearn.metrics import accuracy_score,confusion_matrix,classification_report,plot_confusion_matrix\n",
    "from sklearn.linear_model import LogisticRegressionCV\n",
    "from sklearn.model_selection import GridSearchCV\n",
    "from sklearn.ensemble import RandomForestClassifier\n",
    "from sklearn.svm import SVC\n",
    "from xgboost import XGBClassifier\n",
    "from sklearn.tree import DecisionTreeClassifier\n"
   ]
  },
  {
   "cell_type": "code",
   "execution_count": 2,
   "id": "89768b6f",
   "metadata": {},
   "outputs": [
    {
     "data": {
      "text/html": [
       "<div>\n",
       "<style scoped>\n",
       "    .dataframe tbody tr th:only-of-type {\n",
       "        vertical-align: middle;\n",
       "    }\n",
       "\n",
       "    .dataframe tbody tr th {\n",
       "        vertical-align: top;\n",
       "    }\n",
       "\n",
       "    .dataframe thead th {\n",
       "        text-align: right;\n",
       "    }\n",
       "</style>\n",
       "<table border=\"1\" class=\"dataframe\">\n",
       "  <thead>\n",
       "    <tr style=\"text-align: right;\">\n",
       "      <th></th>\n",
       "      <th>Season</th>\n",
       "      <th>DateTime</th>\n",
       "      <th>HomeTeam</th>\n",
       "      <th>AwayTeam</th>\n",
       "      <th>HomeML</th>\n",
       "      <th>DrawML</th>\n",
       "      <th>AwayML</th>\n",
       "      <th>ML_Favorite</th>\n",
       "      <th>Home_Favorite?</th>\n",
       "      <th>FTHG</th>\n",
       "      <th>...</th>\n",
       "      <th>HST</th>\n",
       "      <th>AST</th>\n",
       "      <th>HC</th>\n",
       "      <th>AC</th>\n",
       "      <th>HF</th>\n",
       "      <th>AF</th>\n",
       "      <th>HY</th>\n",
       "      <th>AY</th>\n",
       "      <th>HR</th>\n",
       "      <th>AR</th>\n",
       "    </tr>\n",
       "  </thead>\n",
       "  <tbody>\n",
       "    <tr>\n",
       "      <th>0</th>\n",
       "      <td>2003-04</td>\n",
       "      <td>2004-02-11T00:00:00Z</td>\n",
       "      <td>Birmingham</td>\n",
       "      <td>Everton</td>\n",
       "      <td>-105.0</td>\n",
       "      <td>215.0</td>\n",
       "      <td>229.0</td>\n",
       "      <td>Birmingham</td>\n",
       "      <td>1.0</td>\n",
       "      <td>3</td>\n",
       "      <td>...</td>\n",
       "      <td>11</td>\n",
       "      <td>3</td>\n",
       "      <td>8</td>\n",
       "      <td>11</td>\n",
       "      <td>10</td>\n",
       "      <td>14</td>\n",
       "      <td>1</td>\n",
       "      <td>0</td>\n",
       "      <td>0</td>\n",
       "      <td>0</td>\n",
       "    </tr>\n",
       "    <tr>\n",
       "      <th>1</th>\n",
       "      <td>2003-04</td>\n",
       "      <td>2004-02-11T00:00:00Z</td>\n",
       "      <td>Blackburn</td>\n",
       "      <td>Newcastle</td>\n",
       "      <td>150.0</td>\n",
       "      <td>210.0</td>\n",
       "      <td>138.0</td>\n",
       "      <td>Newcastle</td>\n",
       "      <td>0.0</td>\n",
       "      <td>1</td>\n",
       "      <td>...</td>\n",
       "      <td>7</td>\n",
       "      <td>7</td>\n",
       "      <td>8</td>\n",
       "      <td>6</td>\n",
       "      <td>12</td>\n",
       "      <td>10</td>\n",
       "      <td>0</td>\n",
       "      <td>0</td>\n",
       "      <td>0</td>\n",
       "      <td>0</td>\n",
       "    </tr>\n",
       "    <tr>\n",
       "      <th>2</th>\n",
       "      <td>2003-04</td>\n",
       "      <td>2004-02-11T00:00:00Z</td>\n",
       "      <td>Charlton</td>\n",
       "      <td>Tottenham</td>\n",
       "      <td>110.0</td>\n",
       "      <td>215.0</td>\n",
       "      <td>195.0</td>\n",
       "      <td>Charlton</td>\n",
       "      <td>1.0</td>\n",
       "      <td>2</td>\n",
       "      <td>...</td>\n",
       "      <td>14</td>\n",
       "      <td>10</td>\n",
       "      <td>10</td>\n",
       "      <td>4</td>\n",
       "      <td>13</td>\n",
       "      <td>14</td>\n",
       "      <td>3</td>\n",
       "      <td>0</td>\n",
       "      <td>0</td>\n",
       "      <td>0</td>\n",
       "    </tr>\n",
       "    <tr>\n",
       "      <th>3</th>\n",
       "      <td>2003-04</td>\n",
       "      <td>2004-02-11T00:00:00Z</td>\n",
       "      <td>Fulham</td>\n",
       "      <td>Aston Villa</td>\n",
       "      <td>102.0</td>\n",
       "      <td>215.0</td>\n",
       "      <td>210.0</td>\n",
       "      <td>Fulham</td>\n",
       "      <td>1.0</td>\n",
       "      <td>1</td>\n",
       "      <td>...</td>\n",
       "      <td>6</td>\n",
       "      <td>3</td>\n",
       "      <td>6</td>\n",
       "      <td>5</td>\n",
       "      <td>16</td>\n",
       "      <td>17</td>\n",
       "      <td>2</td>\n",
       "      <td>1</td>\n",
       "      <td>1</td>\n",
       "      <td>0</td>\n",
       "    </tr>\n",
       "    <tr>\n",
       "      <th>4</th>\n",
       "      <td>2003-04</td>\n",
       "      <td>2004-02-11T00:00:00Z</td>\n",
       "      <td>Liverpool</td>\n",
       "      <td>Man City</td>\n",
       "      <td>-172.0</td>\n",
       "      <td>240.0</td>\n",
       "      <td>383.0</td>\n",
       "      <td>Liverpool</td>\n",
       "      <td>1.0</td>\n",
       "      <td>2</td>\n",
       "      <td>...</td>\n",
       "      <td>7</td>\n",
       "      <td>3</td>\n",
       "      <td>6</td>\n",
       "      <td>3</td>\n",
       "      <td>7</td>\n",
       "      <td>8</td>\n",
       "      <td>0</td>\n",
       "      <td>0</td>\n",
       "      <td>0</td>\n",
       "      <td>0</td>\n",
       "    </tr>\n",
       "  </tbody>\n",
       "</table>\n",
       "<p>5 rows × 28 columns</p>\n",
       "</div>"
      ],
      "text/plain": [
       "    Season              DateTime    HomeTeam     AwayTeam  HomeML  DrawML  \\\n",
       "0  2003-04  2004-02-11T00:00:00Z  Birmingham      Everton  -105.0   215.0   \n",
       "1  2003-04  2004-02-11T00:00:00Z   Blackburn    Newcastle   150.0   210.0   \n",
       "2  2003-04  2004-02-11T00:00:00Z    Charlton    Tottenham   110.0   215.0   \n",
       "3  2003-04  2004-02-11T00:00:00Z      Fulham  Aston Villa   102.0   215.0   \n",
       "4  2003-04  2004-02-11T00:00:00Z   Liverpool     Man City  -172.0   240.0   \n",
       "\n",
       "   AwayML ML_Favorite  Home_Favorite?  FTHG  ...  HST AST  HC  AC  HF  AF  HY  \\\n",
       "0   229.0  Birmingham             1.0     3  ...   11   3   8  11  10  14   1   \n",
       "1   138.0   Newcastle             0.0     1  ...    7   7   8   6  12  10   0   \n",
       "2   195.0    Charlton             1.0     2  ...   14  10  10   4  13  14   3   \n",
       "3   210.0      Fulham             1.0     1  ...    6   3   6   5  16  17   2   \n",
       "4   383.0   Liverpool             1.0     2  ...    7   3   6   3   7   8   0   \n",
       "\n",
       "   AY  HR  AR  \n",
       "0   0   0   0  \n",
       "1   0   0   0  \n",
       "2   0   0   0  \n",
       "3   1   1   0  \n",
       "4   0   0   0  \n",
       "\n",
       "[5 rows x 28 columns]"
      ]
     },
     "execution_count": 2,
     "metadata": {},
     "output_type": "execute_result"
    }
   ],
   "source": [
    "# reading in the data\n",
    "df = pd.read_excel('/Users/schoollaptop/Documents/FLATIRON2021/CAPSTONE/results.xlsm')\n",
    "df.head()"
   ]
  },
  {
   "cell_type": "code",
   "execution_count": 3,
   "id": "0bcadd63",
   "metadata": {},
   "outputs": [
    {
     "name": "stdout",
     "output_type": "stream",
     "text": [
      "<class 'pandas.core.frame.DataFrame'>\n",
      "RangeIndex: 6657 entries, 0 to 6656\n",
      "Data columns (total 28 columns):\n",
      " #   Column          Non-Null Count  Dtype  \n",
      "---  ------          --------------  -----  \n",
      " 0   Season          6657 non-null   object \n",
      " 1   DateTime        6657 non-null   object \n",
      " 2   HomeTeam        6657 non-null   object \n",
      " 3   AwayTeam        6657 non-null   object \n",
      " 4   HomeML          397 non-null    float64\n",
      " 5   DrawML          397 non-null    float64\n",
      " 6   AwayML          397 non-null    float64\n",
      " 7   ML_Favorite     6654 non-null   object \n",
      " 8   Home_Favorite?  12 non-null     float64\n",
      " 9   FTHG            6657 non-null   int64  \n",
      " 10  FTAG            6657 non-null   int64  \n",
      " 11  FTR             6657 non-null   object \n",
      " 12  HTHG            6657 non-null   int64  \n",
      " 13  HTAG            6657 non-null   int64  \n",
      " 14  HTR             6657 non-null   object \n",
      " 15  Referee         6657 non-null   object \n",
      " 16  HS              6657 non-null   int64  \n",
      " 17  AS              6657 non-null   int64  \n",
      " 18  HST             6657 non-null   int64  \n",
      " 19  AST             6657 non-null   int64  \n",
      " 20  HC              6657 non-null   int64  \n",
      " 21  AC              6657 non-null   int64  \n",
      " 22  HF              6657 non-null   int64  \n",
      " 23  AF              6657 non-null   int64  \n",
      " 24  HY              6657 non-null   int64  \n",
      " 25  AY              6657 non-null   int64  \n",
      " 26  HR              6657 non-null   int64  \n",
      " 27  AR              6657 non-null   int64  \n",
      "dtypes: float64(4), int64(16), object(8)\n",
      "memory usage: 1.4+ MB\n"
     ]
    }
   ],
   "source": [
    "# info\n",
    "df.info()"
   ]
  },
  {
   "cell_type": "code",
   "execution_count": 4,
   "id": "5c446eea",
   "metadata": {},
   "outputs": [
    {
     "data": {
      "text/html": [
       "<div>\n",
       "<style scoped>\n",
       "    .dataframe tbody tr th:only-of-type {\n",
       "        vertical-align: middle;\n",
       "    }\n",
       "\n",
       "    .dataframe tbody tr th {\n",
       "        vertical-align: top;\n",
       "    }\n",
       "\n",
       "    .dataframe thead th {\n",
       "        text-align: right;\n",
       "    }\n",
       "</style>\n",
       "<table border=\"1\" class=\"dataframe\">\n",
       "  <thead>\n",
       "    <tr style=\"text-align: right;\">\n",
       "      <th></th>\n",
       "      <th>HomeML</th>\n",
       "      <th>DrawML</th>\n",
       "      <th>AwayML</th>\n",
       "      <th>Home_Favorite?</th>\n",
       "      <th>FTHG</th>\n",
       "      <th>FTAG</th>\n",
       "      <th>HTHG</th>\n",
       "      <th>HTAG</th>\n",
       "      <th>HS</th>\n",
       "      <th>AS</th>\n",
       "      <th>HST</th>\n",
       "      <th>AST</th>\n",
       "      <th>HC</th>\n",
       "      <th>AC</th>\n",
       "      <th>HF</th>\n",
       "      <th>AF</th>\n",
       "      <th>HY</th>\n",
       "      <th>AY</th>\n",
       "      <th>HR</th>\n",
       "      <th>AR</th>\n",
       "    </tr>\n",
       "  </thead>\n",
       "  <tbody>\n",
       "    <tr>\n",
       "      <th>count</th>\n",
       "      <td>397.000000</td>\n",
       "      <td>397.000000</td>\n",
       "      <td>397.000000</td>\n",
       "      <td>12.000000</td>\n",
       "      <td>6657.000000</td>\n",
       "      <td>6657.000000</td>\n",
       "      <td>6657.000000</td>\n",
       "      <td>6657.000000</td>\n",
       "      <td>6657.000000</td>\n",
       "      <td>6657.000000</td>\n",
       "      <td>6657.000000</td>\n",
       "      <td>6657.000000</td>\n",
       "      <td>6657.000000</td>\n",
       "      <td>6657.000000</td>\n",
       "      <td>6657.000000</td>\n",
       "      <td>6657.000000</td>\n",
       "      <td>6657.000000</td>\n",
       "      <td>6657.000000</td>\n",
       "      <td>6657.000000</td>\n",
       "      <td>6657.000000</td>\n",
       "    </tr>\n",
       "    <tr>\n",
       "      <th>mean</th>\n",
       "      <td>22.947103</td>\n",
       "      <td>241.443325</td>\n",
       "      <td>264.916877</td>\n",
       "      <td>0.833333</td>\n",
       "      <td>1.525913</td>\n",
       "      <td>1.152772</td>\n",
       "      <td>0.683191</td>\n",
       "      <td>0.504431</td>\n",
       "      <td>13.673426</td>\n",
       "      <td>10.847980</td>\n",
       "      <td>6.112814</td>\n",
       "      <td>4.795403</td>\n",
       "      <td>6.041160</td>\n",
       "      <td>4.790446</td>\n",
       "      <td>11.127385</td>\n",
       "      <td>11.588403</td>\n",
       "      <td>1.424666</td>\n",
       "      <td>1.741175</td>\n",
       "      <td>0.060087</td>\n",
       "      <td>0.087877</td>\n",
       "    </tr>\n",
       "    <tr>\n",
       "      <th>std</th>\n",
       "      <td>233.480851</td>\n",
       "      <td>49.595892</td>\n",
       "      <td>255.740884</td>\n",
       "      <td>0.389249</td>\n",
       "      <td>1.305026</td>\n",
       "      <td>1.142862</td>\n",
       "      <td>0.834831</td>\n",
       "      <td>0.719963</td>\n",
       "      <td>5.363752</td>\n",
       "      <td>4.672221</td>\n",
       "      <td>3.391968</td>\n",
       "      <td>2.849578</td>\n",
       "      <td>3.110078</td>\n",
       "      <td>2.746684</td>\n",
       "      <td>3.650893</td>\n",
       "      <td>3.818804</td>\n",
       "      <td>1.186770</td>\n",
       "      <td>1.271276</td>\n",
       "      <td>0.248180</td>\n",
       "      <td>0.295090</td>\n",
       "    </tr>\n",
       "    <tr>\n",
       "      <th>min</th>\n",
       "      <td>-667.000000</td>\n",
       "      <td>200.000000</td>\n",
       "      <td>-286.000000</td>\n",
       "      <td>0.000000</td>\n",
       "      <td>0.000000</td>\n",
       "      <td>0.000000</td>\n",
       "      <td>0.000000</td>\n",
       "      <td>0.000000</td>\n",
       "      <td>0.000000</td>\n",
       "      <td>0.000000</td>\n",
       "      <td>0.000000</td>\n",
       "      <td>0.000000</td>\n",
       "      <td>0.000000</td>\n",
       "      <td>0.000000</td>\n",
       "      <td>0.000000</td>\n",
       "      <td>1.000000</td>\n",
       "      <td>0.000000</td>\n",
       "      <td>0.000000</td>\n",
       "      <td>0.000000</td>\n",
       "      <td>0.000000</td>\n",
       "    </tr>\n",
       "    <tr>\n",
       "      <th>25%</th>\n",
       "      <td>-139.000000</td>\n",
       "      <td>216.000000</td>\n",
       "      <td>156.000000</td>\n",
       "      <td>1.000000</td>\n",
       "      <td>1.000000</td>\n",
       "      <td>0.000000</td>\n",
       "      <td>0.000000</td>\n",
       "      <td>0.000000</td>\n",
       "      <td>10.000000</td>\n",
       "      <td>7.000000</td>\n",
       "      <td>4.000000</td>\n",
       "      <td>3.000000</td>\n",
       "      <td>4.000000</td>\n",
       "      <td>3.000000</td>\n",
       "      <td>9.000000</td>\n",
       "      <td>9.000000</td>\n",
       "      <td>1.000000</td>\n",
       "      <td>1.000000</td>\n",
       "      <td>0.000000</td>\n",
       "      <td>0.000000</td>\n",
       "    </tr>\n",
       "    <tr>\n",
       "      <th>50%</th>\n",
       "      <td>110.000000</td>\n",
       "      <td>222.000000</td>\n",
       "      <td>208.000000</td>\n",
       "      <td>1.000000</td>\n",
       "      <td>1.000000</td>\n",
       "      <td>1.000000</td>\n",
       "      <td>0.000000</td>\n",
       "      <td>0.000000</td>\n",
       "      <td>13.000000</td>\n",
       "      <td>10.000000</td>\n",
       "      <td>6.000000</td>\n",
       "      <td>4.000000</td>\n",
       "      <td>6.000000</td>\n",
       "      <td>4.000000</td>\n",
       "      <td>11.000000</td>\n",
       "      <td>11.000000</td>\n",
       "      <td>1.000000</td>\n",
       "      <td>2.000000</td>\n",
       "      <td>0.000000</td>\n",
       "      <td>0.000000</td>\n",
       "    </tr>\n",
       "    <tr>\n",
       "      <th>75%</th>\n",
       "      <td>147.000000</td>\n",
       "      <td>240.000000</td>\n",
       "      <td>345.000000</td>\n",
       "      <td>1.000000</td>\n",
       "      <td>2.000000</td>\n",
       "      <td>2.000000</td>\n",
       "      <td>1.000000</td>\n",
       "      <td>1.000000</td>\n",
       "      <td>17.000000</td>\n",
       "      <td>14.000000</td>\n",
       "      <td>8.000000</td>\n",
       "      <td>6.000000</td>\n",
       "      <td>8.000000</td>\n",
       "      <td>6.000000</td>\n",
       "      <td>13.000000</td>\n",
       "      <td>14.000000</td>\n",
       "      <td>2.000000</td>\n",
       "      <td>3.000000</td>\n",
       "      <td>0.000000</td>\n",
       "      <td>0.000000</td>\n",
       "    </tr>\n",
       "    <tr>\n",
       "      <th>max</th>\n",
       "      <td>715.000000</td>\n",
       "      <td>517.000000</td>\n",
       "      <td>899.000000</td>\n",
       "      <td>1.000000</td>\n",
       "      <td>9.000000</td>\n",
       "      <td>9.000000</td>\n",
       "      <td>5.000000</td>\n",
       "      <td>5.000000</td>\n",
       "      <td>43.000000</td>\n",
       "      <td>30.000000</td>\n",
       "      <td>24.000000</td>\n",
       "      <td>20.000000</td>\n",
       "      <td>20.000000</td>\n",
       "      <td>19.000000</td>\n",
       "      <td>33.000000</td>\n",
       "      <td>28.000000</td>\n",
       "      <td>7.000000</td>\n",
       "      <td>9.000000</td>\n",
       "      <td>3.000000</td>\n",
       "      <td>2.000000</td>\n",
       "    </tr>\n",
       "  </tbody>\n",
       "</table>\n",
       "</div>"
      ],
      "text/plain": [
       "           HomeML      DrawML      AwayML  Home_Favorite?         FTHG  \\\n",
       "count  397.000000  397.000000  397.000000       12.000000  6657.000000   \n",
       "mean    22.947103  241.443325  264.916877        0.833333     1.525913   \n",
       "std    233.480851   49.595892  255.740884        0.389249     1.305026   \n",
       "min   -667.000000  200.000000 -286.000000        0.000000     0.000000   \n",
       "25%   -139.000000  216.000000  156.000000        1.000000     1.000000   \n",
       "50%    110.000000  222.000000  208.000000        1.000000     1.000000   \n",
       "75%    147.000000  240.000000  345.000000        1.000000     2.000000   \n",
       "max    715.000000  517.000000  899.000000        1.000000     9.000000   \n",
       "\n",
       "              FTAG         HTHG         HTAG           HS           AS  \\\n",
       "count  6657.000000  6657.000000  6657.000000  6657.000000  6657.000000   \n",
       "mean      1.152772     0.683191     0.504431    13.673426    10.847980   \n",
       "std       1.142862     0.834831     0.719963     5.363752     4.672221   \n",
       "min       0.000000     0.000000     0.000000     0.000000     0.000000   \n",
       "25%       0.000000     0.000000     0.000000    10.000000     7.000000   \n",
       "50%       1.000000     0.000000     0.000000    13.000000    10.000000   \n",
       "75%       2.000000     1.000000     1.000000    17.000000    14.000000   \n",
       "max       9.000000     5.000000     5.000000    43.000000    30.000000   \n",
       "\n",
       "               HST          AST           HC           AC           HF  \\\n",
       "count  6657.000000  6657.000000  6657.000000  6657.000000  6657.000000   \n",
       "mean      6.112814     4.795403     6.041160     4.790446    11.127385   \n",
       "std       3.391968     2.849578     3.110078     2.746684     3.650893   \n",
       "min       0.000000     0.000000     0.000000     0.000000     0.000000   \n",
       "25%       4.000000     3.000000     4.000000     3.000000     9.000000   \n",
       "50%       6.000000     4.000000     6.000000     4.000000    11.000000   \n",
       "75%       8.000000     6.000000     8.000000     6.000000    13.000000   \n",
       "max      24.000000    20.000000    20.000000    19.000000    33.000000   \n",
       "\n",
       "                AF           HY           AY           HR           AR  \n",
       "count  6657.000000  6657.000000  6657.000000  6657.000000  6657.000000  \n",
       "mean     11.588403     1.424666     1.741175     0.060087     0.087877  \n",
       "std       3.818804     1.186770     1.271276     0.248180     0.295090  \n",
       "min       1.000000     0.000000     0.000000     0.000000     0.000000  \n",
       "25%       9.000000     1.000000     1.000000     0.000000     0.000000  \n",
       "50%      11.000000     1.000000     2.000000     0.000000     0.000000  \n",
       "75%      14.000000     2.000000     3.000000     0.000000     0.000000  \n",
       "max      28.000000     7.000000     9.000000     3.000000     2.000000  "
      ]
     },
     "execution_count": 4,
     "metadata": {},
     "output_type": "execute_result"
    }
   ],
   "source": [
    "df.describe()"
   ]
  },
  {
   "cell_type": "markdown",
   "id": "72f78bf3",
   "metadata": {},
   "source": [
    "It looks like the Home Moneyline (HomeML), Draw Moneyline (DrawML), and Away Moneyline (AwayML) odds are only provided for about 400 games. It is probably safe to get rid of these columns altogether because the dataset provides the straight up favorite already in the column, 'ML_Favorite'."
   ]
  },
  {
   "cell_type": "code",
   "execution_count": 5,
   "id": "1cb57209",
   "metadata": {},
   "outputs": [
    {
     "data": {
      "text/html": [
       "<div>\n",
       "<style scoped>\n",
       "    .dataframe tbody tr th:only-of-type {\n",
       "        vertical-align: middle;\n",
       "    }\n",
       "\n",
       "    .dataframe tbody tr th {\n",
       "        vertical-align: top;\n",
       "    }\n",
       "\n",
       "    .dataframe thead th {\n",
       "        text-align: right;\n",
       "    }\n",
       "</style>\n",
       "<table border=\"1\" class=\"dataframe\">\n",
       "  <thead>\n",
       "    <tr style=\"text-align: right;\">\n",
       "      <th></th>\n",
       "      <th>Season</th>\n",
       "      <th>DateTime</th>\n",
       "      <th>HomeTeam</th>\n",
       "      <th>AwayTeam</th>\n",
       "      <th>ML_Favorite</th>\n",
       "      <th>FTHG</th>\n",
       "      <th>FTAG</th>\n",
       "      <th>FTR</th>\n",
       "      <th>HTHG</th>\n",
       "      <th>HTAG</th>\n",
       "      <th>...</th>\n",
       "      <th>HST</th>\n",
       "      <th>AST</th>\n",
       "      <th>HC</th>\n",
       "      <th>AC</th>\n",
       "      <th>HF</th>\n",
       "      <th>AF</th>\n",
       "      <th>HY</th>\n",
       "      <th>AY</th>\n",
       "      <th>HR</th>\n",
       "      <th>AR</th>\n",
       "    </tr>\n",
       "  </thead>\n",
       "  <tbody>\n",
       "    <tr>\n",
       "      <th>0</th>\n",
       "      <td>2003-04</td>\n",
       "      <td>2004-02-11T00:00:00Z</td>\n",
       "      <td>Birmingham</td>\n",
       "      <td>Everton</td>\n",
       "      <td>Birmingham</td>\n",
       "      <td>3</td>\n",
       "      <td>0</td>\n",
       "      <td>H</td>\n",
       "      <td>2</td>\n",
       "      <td>0</td>\n",
       "      <td>...</td>\n",
       "      <td>11</td>\n",
       "      <td>3</td>\n",
       "      <td>8</td>\n",
       "      <td>11</td>\n",
       "      <td>10</td>\n",
       "      <td>14</td>\n",
       "      <td>1</td>\n",
       "      <td>0</td>\n",
       "      <td>0</td>\n",
       "      <td>0</td>\n",
       "    </tr>\n",
       "    <tr>\n",
       "      <th>1</th>\n",
       "      <td>2003-04</td>\n",
       "      <td>2004-02-11T00:00:00Z</td>\n",
       "      <td>Blackburn</td>\n",
       "      <td>Newcastle</td>\n",
       "      <td>Newcastle</td>\n",
       "      <td>1</td>\n",
       "      <td>1</td>\n",
       "      <td>D</td>\n",
       "      <td>0</td>\n",
       "      <td>0</td>\n",
       "      <td>...</td>\n",
       "      <td>7</td>\n",
       "      <td>7</td>\n",
       "      <td>8</td>\n",
       "      <td>6</td>\n",
       "      <td>12</td>\n",
       "      <td>10</td>\n",
       "      <td>0</td>\n",
       "      <td>0</td>\n",
       "      <td>0</td>\n",
       "      <td>0</td>\n",
       "    </tr>\n",
       "    <tr>\n",
       "      <th>2</th>\n",
       "      <td>2003-04</td>\n",
       "      <td>2004-02-11T00:00:00Z</td>\n",
       "      <td>Charlton</td>\n",
       "      <td>Tottenham</td>\n",
       "      <td>Charlton</td>\n",
       "      <td>2</td>\n",
       "      <td>4</td>\n",
       "      <td>A</td>\n",
       "      <td>0</td>\n",
       "      <td>2</td>\n",
       "      <td>...</td>\n",
       "      <td>14</td>\n",
       "      <td>10</td>\n",
       "      <td>10</td>\n",
       "      <td>4</td>\n",
       "      <td>13</td>\n",
       "      <td>14</td>\n",
       "      <td>3</td>\n",
       "      <td>0</td>\n",
       "      <td>0</td>\n",
       "      <td>0</td>\n",
       "    </tr>\n",
       "    <tr>\n",
       "      <th>3</th>\n",
       "      <td>2003-04</td>\n",
       "      <td>2004-02-11T00:00:00Z</td>\n",
       "      <td>Fulham</td>\n",
       "      <td>Aston Villa</td>\n",
       "      <td>Fulham</td>\n",
       "      <td>1</td>\n",
       "      <td>2</td>\n",
       "      <td>A</td>\n",
       "      <td>1</td>\n",
       "      <td>2</td>\n",
       "      <td>...</td>\n",
       "      <td>6</td>\n",
       "      <td>3</td>\n",
       "      <td>6</td>\n",
       "      <td>5</td>\n",
       "      <td>16</td>\n",
       "      <td>17</td>\n",
       "      <td>2</td>\n",
       "      <td>1</td>\n",
       "      <td>1</td>\n",
       "      <td>0</td>\n",
       "    </tr>\n",
       "    <tr>\n",
       "      <th>4</th>\n",
       "      <td>2003-04</td>\n",
       "      <td>2004-02-11T00:00:00Z</td>\n",
       "      <td>Liverpool</td>\n",
       "      <td>Man City</td>\n",
       "      <td>Liverpool</td>\n",
       "      <td>2</td>\n",
       "      <td>1</td>\n",
       "      <td>H</td>\n",
       "      <td>1</td>\n",
       "      <td>0</td>\n",
       "      <td>...</td>\n",
       "      <td>7</td>\n",
       "      <td>3</td>\n",
       "      <td>6</td>\n",
       "      <td>3</td>\n",
       "      <td>7</td>\n",
       "      <td>8</td>\n",
       "      <td>0</td>\n",
       "      <td>0</td>\n",
       "      <td>0</td>\n",
       "      <td>0</td>\n",
       "    </tr>\n",
       "  </tbody>\n",
       "</table>\n",
       "<p>5 rows × 24 columns</p>\n",
       "</div>"
      ],
      "text/plain": [
       "    Season              DateTime    HomeTeam     AwayTeam ML_Favorite  FTHG  \\\n",
       "0  2003-04  2004-02-11T00:00:00Z  Birmingham      Everton  Birmingham     3   \n",
       "1  2003-04  2004-02-11T00:00:00Z   Blackburn    Newcastle   Newcastle     1   \n",
       "2  2003-04  2004-02-11T00:00:00Z    Charlton    Tottenham    Charlton     2   \n",
       "3  2003-04  2004-02-11T00:00:00Z      Fulham  Aston Villa      Fulham     1   \n",
       "4  2003-04  2004-02-11T00:00:00Z   Liverpool     Man City   Liverpool     2   \n",
       "\n",
       "   FTAG FTR  HTHG  HTAG  ... HST AST  HC  AC  HF  AF  HY  AY  HR  AR  \n",
       "0     0   H     2     0  ...  11   3   8  11  10  14   1   0   0   0  \n",
       "1     1   D     0     0  ...   7   7   8   6  12  10   0   0   0   0  \n",
       "2     4   A     0     2  ...  14  10  10   4  13  14   3   0   0   0  \n",
       "3     2   A     1     2  ...   6   3   6   5  16  17   2   1   1   0  \n",
       "4     1   H     1     0  ...   7   3   6   3   7   8   0   0   0   0  \n",
       "\n",
       "[5 rows x 24 columns]"
      ]
     },
     "execution_count": 5,
     "metadata": {},
     "output_type": "execute_result"
    }
   ],
   "source": [
    "df = df.drop(['HomeML','DrawML','AwayML','Home_Favorite?'], axis=1)\n",
    "df.head()"
   ]
  },
  {
   "cell_type": "markdown",
   "id": "dd1d99fd",
   "metadata": {},
   "source": [
    "Now I will rename some of the columns to make them easier to understand"
   ]
  },
  {
   "cell_type": "code",
   "execution_count": 6,
   "id": "a9b8b915",
   "metadata": {},
   "outputs": [
    {
     "data": {
      "text/plain": [
       "Index(['Season', 'DateTime', 'HomeTeam', 'AwayTeam', 'ML_Favorite', 'FTHG',\n",
       "       'FTAG', 'FTR', 'HTHG', 'HTAG', 'HTR', 'Referee', 'HS', 'AS', 'HST',\n",
       "       'AST', 'HC', 'AC', 'HF', 'AF', 'HY', 'AY', 'HR', 'AR'],\n",
       "      dtype='object')"
      ]
     },
     "execution_count": 6,
     "metadata": {},
     "output_type": "execute_result"
    }
   ],
   "source": [
    "df.columns"
   ]
  },
  {
   "cell_type": "code",
   "execution_count": 7,
   "id": "ef4f5ef1",
   "metadata": {},
   "outputs": [],
   "source": [
    "df.rename(columns={'FTHG':'FullTime_HomeGoals',\n",
    "                   'FTAG':'FullTime_AwayGoals',\n",
    "                   'FTR':'FullTime_Result',\n",
    "                   'HTHG':'HalfTime_HomeGoals',\n",
    "                   'HTAG':'HalfTime_AwayGoals',\n",
    "                   'HTR':'HalfTime_Result',\n",
    "                   'HS':'Home_Shots',\n",
    "                   'AS':'Away_Shots',\n",
    "                   'HST':'Home_ShotsOnTarget',\n",
    "                   'AST':'Away_ShotsOnTarget',\n",
    "                   'HC':'Home_Corners',\n",
    "                   'AC':'Away_Corners',\n",
    "                   'HF':'Home_Fouls',\n",
    "                   'AF':'Away_Fouls',\n",
    "                   'HY':'Home_YellowCs',\n",
    "                   'AY':'Away_YellowCs',\n",
    "                   'HR':'Home_RedCs',\n",
    "                   'AR':'Away_RedCs'}, inplace=True)"
   ]
  },
  {
   "cell_type": "code",
   "execution_count": 8,
   "id": "bdac5e12",
   "metadata": {},
   "outputs": [
    {
     "data": {
      "text/html": [
       "<div>\n",
       "<style scoped>\n",
       "    .dataframe tbody tr th:only-of-type {\n",
       "        vertical-align: middle;\n",
       "    }\n",
       "\n",
       "    .dataframe tbody tr th {\n",
       "        vertical-align: top;\n",
       "    }\n",
       "\n",
       "    .dataframe thead th {\n",
       "        text-align: right;\n",
       "    }\n",
       "</style>\n",
       "<table border=\"1\" class=\"dataframe\">\n",
       "  <thead>\n",
       "    <tr style=\"text-align: right;\">\n",
       "      <th></th>\n",
       "      <th>Season</th>\n",
       "      <th>DateTime</th>\n",
       "      <th>HomeTeam</th>\n",
       "      <th>AwayTeam</th>\n",
       "      <th>ML_Favorite</th>\n",
       "      <th>FullTime_HomeGoals</th>\n",
       "      <th>FullTime_AwayGoals</th>\n",
       "      <th>FullTime_Result</th>\n",
       "      <th>HalfTime_HomeGoals</th>\n",
       "      <th>HalfTime_AwayGoals</th>\n",
       "      <th>...</th>\n",
       "      <th>Home_ShotsOnTarget</th>\n",
       "      <th>Away_ShotsOnTarget</th>\n",
       "      <th>Home_Corners</th>\n",
       "      <th>Away_Corners</th>\n",
       "      <th>Home_Fouls</th>\n",
       "      <th>Away_Fouls</th>\n",
       "      <th>Home_YellowCs</th>\n",
       "      <th>Away_YellowCs</th>\n",
       "      <th>Home_RedCs</th>\n",
       "      <th>Away_RedCs</th>\n",
       "    </tr>\n",
       "  </thead>\n",
       "  <tbody>\n",
       "    <tr>\n",
       "      <th>0</th>\n",
       "      <td>2003-04</td>\n",
       "      <td>2004-02-11T00:00:00Z</td>\n",
       "      <td>Birmingham</td>\n",
       "      <td>Everton</td>\n",
       "      <td>Birmingham</td>\n",
       "      <td>3</td>\n",
       "      <td>0</td>\n",
       "      <td>H</td>\n",
       "      <td>2</td>\n",
       "      <td>0</td>\n",
       "      <td>...</td>\n",
       "      <td>11</td>\n",
       "      <td>3</td>\n",
       "      <td>8</td>\n",
       "      <td>11</td>\n",
       "      <td>10</td>\n",
       "      <td>14</td>\n",
       "      <td>1</td>\n",
       "      <td>0</td>\n",
       "      <td>0</td>\n",
       "      <td>0</td>\n",
       "    </tr>\n",
       "    <tr>\n",
       "      <th>1</th>\n",
       "      <td>2003-04</td>\n",
       "      <td>2004-02-11T00:00:00Z</td>\n",
       "      <td>Blackburn</td>\n",
       "      <td>Newcastle</td>\n",
       "      <td>Newcastle</td>\n",
       "      <td>1</td>\n",
       "      <td>1</td>\n",
       "      <td>D</td>\n",
       "      <td>0</td>\n",
       "      <td>0</td>\n",
       "      <td>...</td>\n",
       "      <td>7</td>\n",
       "      <td>7</td>\n",
       "      <td>8</td>\n",
       "      <td>6</td>\n",
       "      <td>12</td>\n",
       "      <td>10</td>\n",
       "      <td>0</td>\n",
       "      <td>0</td>\n",
       "      <td>0</td>\n",
       "      <td>0</td>\n",
       "    </tr>\n",
       "    <tr>\n",
       "      <th>2</th>\n",
       "      <td>2003-04</td>\n",
       "      <td>2004-02-11T00:00:00Z</td>\n",
       "      <td>Charlton</td>\n",
       "      <td>Tottenham</td>\n",
       "      <td>Charlton</td>\n",
       "      <td>2</td>\n",
       "      <td>4</td>\n",
       "      <td>A</td>\n",
       "      <td>0</td>\n",
       "      <td>2</td>\n",
       "      <td>...</td>\n",
       "      <td>14</td>\n",
       "      <td>10</td>\n",
       "      <td>10</td>\n",
       "      <td>4</td>\n",
       "      <td>13</td>\n",
       "      <td>14</td>\n",
       "      <td>3</td>\n",
       "      <td>0</td>\n",
       "      <td>0</td>\n",
       "      <td>0</td>\n",
       "    </tr>\n",
       "    <tr>\n",
       "      <th>3</th>\n",
       "      <td>2003-04</td>\n",
       "      <td>2004-02-11T00:00:00Z</td>\n",
       "      <td>Fulham</td>\n",
       "      <td>Aston Villa</td>\n",
       "      <td>Fulham</td>\n",
       "      <td>1</td>\n",
       "      <td>2</td>\n",
       "      <td>A</td>\n",
       "      <td>1</td>\n",
       "      <td>2</td>\n",
       "      <td>...</td>\n",
       "      <td>6</td>\n",
       "      <td>3</td>\n",
       "      <td>6</td>\n",
       "      <td>5</td>\n",
       "      <td>16</td>\n",
       "      <td>17</td>\n",
       "      <td>2</td>\n",
       "      <td>1</td>\n",
       "      <td>1</td>\n",
       "      <td>0</td>\n",
       "    </tr>\n",
       "    <tr>\n",
       "      <th>4</th>\n",
       "      <td>2003-04</td>\n",
       "      <td>2004-02-11T00:00:00Z</td>\n",
       "      <td>Liverpool</td>\n",
       "      <td>Man City</td>\n",
       "      <td>Liverpool</td>\n",
       "      <td>2</td>\n",
       "      <td>1</td>\n",
       "      <td>H</td>\n",
       "      <td>1</td>\n",
       "      <td>0</td>\n",
       "      <td>...</td>\n",
       "      <td>7</td>\n",
       "      <td>3</td>\n",
       "      <td>6</td>\n",
       "      <td>3</td>\n",
       "      <td>7</td>\n",
       "      <td>8</td>\n",
       "      <td>0</td>\n",
       "      <td>0</td>\n",
       "      <td>0</td>\n",
       "      <td>0</td>\n",
       "    </tr>\n",
       "  </tbody>\n",
       "</table>\n",
       "<p>5 rows × 24 columns</p>\n",
       "</div>"
      ],
      "text/plain": [
       "    Season              DateTime    HomeTeam     AwayTeam ML_Favorite  \\\n",
       "0  2003-04  2004-02-11T00:00:00Z  Birmingham      Everton  Birmingham   \n",
       "1  2003-04  2004-02-11T00:00:00Z   Blackburn    Newcastle   Newcastle   \n",
       "2  2003-04  2004-02-11T00:00:00Z    Charlton    Tottenham    Charlton   \n",
       "3  2003-04  2004-02-11T00:00:00Z      Fulham  Aston Villa      Fulham   \n",
       "4  2003-04  2004-02-11T00:00:00Z   Liverpool     Man City   Liverpool   \n",
       "\n",
       "   FullTime_HomeGoals  FullTime_AwayGoals FullTime_Result  HalfTime_HomeGoals  \\\n",
       "0                   3                   0               H                   2   \n",
       "1                   1                   1               D                   0   \n",
       "2                   2                   4               A                   0   \n",
       "3                   1                   2               A                   1   \n",
       "4                   2                   1               H                   1   \n",
       "\n",
       "   HalfTime_AwayGoals  ... Home_ShotsOnTarget Away_ShotsOnTarget  \\\n",
       "0                   0  ...                 11                  3   \n",
       "1                   0  ...                  7                  7   \n",
       "2                   2  ...                 14                 10   \n",
       "3                   2  ...                  6                  3   \n",
       "4                   0  ...                  7                  3   \n",
       "\n",
       "   Home_Corners  Away_Corners  Home_Fouls  Away_Fouls  Home_YellowCs  \\\n",
       "0             8            11          10          14              1   \n",
       "1             8             6          12          10              0   \n",
       "2            10             4          13          14              3   \n",
       "3             6             5          16          17              2   \n",
       "4             6             3           7           8              0   \n",
       "\n",
       "   Away_YellowCs  Home_RedCs  Away_RedCs  \n",
       "0              0           0           0  \n",
       "1              0           0           0  \n",
       "2              0           0           0  \n",
       "3              1           1           0  \n",
       "4              0           0           0  \n",
       "\n",
       "[5 rows x 24 columns]"
      ]
     },
     "execution_count": 8,
     "metadata": {},
     "output_type": "execute_result"
    }
   ],
   "source": [
    "df.head()"
   ]
  },
  {
   "cell_type": "markdown",
   "id": "3eba9717",
   "metadata": {},
   "source": [
    "And finally, I will change the 'FullTime_Result' and 'HalfTime_Result' columns so that instead of strings of 'H', 'D', and 'A', they will be 2, 1, and 0 respectively."
   ]
  },
  {
   "cell_type": "markdown",
   "id": "62aace1c",
   "metadata": {},
   "source": [
    "Full Time Result explained:\n",
    "- 2 = Home win\n",
    "- 1 = Draw\n",
    "- 0 = Away win\n",
    "\n",
    "Half Time Result explained:\n",
    "- 2 = Home team winning at halftime\n",
    "- 1 = Draw/tie at halftime\n",
    "- 0 = Away team winning at halftime"
   ]
  },
  {
   "cell_type": "code",
   "execution_count": 9,
   "id": "06b1fc7e",
   "metadata": {},
   "outputs": [],
   "source": [
    "# map a dictionary to convert strings to integers\n",
    "# Full Time Result\n",
    "df['FullTime_Result'] = df['FullTime_Result'].map({'H': 2,\n",
    "                                                   'D': 1,\n",
    "                                                   'A': 0})\n",
    "\n",
    "# map a dictionary to convert strings to integers\n",
    "df['HalfTime_Result'] = df['HalfTime_Result'].map({'H': 2,\n",
    "                                                   'D': 1,\n",
    "                                                   'A': 0})"
   ]
  },
  {
   "cell_type": "code",
   "execution_count": 10,
   "id": "65a5b4ac",
   "metadata": {},
   "outputs": [
    {
     "data": {
      "text/html": [
       "<div>\n",
       "<style scoped>\n",
       "    .dataframe tbody tr th:only-of-type {\n",
       "        vertical-align: middle;\n",
       "    }\n",
       "\n",
       "    .dataframe tbody tr th {\n",
       "        vertical-align: top;\n",
       "    }\n",
       "\n",
       "    .dataframe thead th {\n",
       "        text-align: right;\n",
       "    }\n",
       "</style>\n",
       "<table border=\"1\" class=\"dataframe\">\n",
       "  <thead>\n",
       "    <tr style=\"text-align: right;\">\n",
       "      <th></th>\n",
       "      <th>FullTime_Result</th>\n",
       "      <th>HalfTime_Result</th>\n",
       "    </tr>\n",
       "  </thead>\n",
       "  <tbody>\n",
       "    <tr>\n",
       "      <th>0</th>\n",
       "      <td>2</td>\n",
       "      <td>2</td>\n",
       "    </tr>\n",
       "    <tr>\n",
       "      <th>1</th>\n",
       "      <td>1</td>\n",
       "      <td>1</td>\n",
       "    </tr>\n",
       "    <tr>\n",
       "      <th>2</th>\n",
       "      <td>0</td>\n",
       "      <td>0</td>\n",
       "    </tr>\n",
       "    <tr>\n",
       "      <th>3</th>\n",
       "      <td>0</td>\n",
       "      <td>0</td>\n",
       "    </tr>\n",
       "    <tr>\n",
       "      <th>4</th>\n",
       "      <td>2</td>\n",
       "      <td>2</td>\n",
       "    </tr>\n",
       "    <tr>\n",
       "      <th>...</th>\n",
       "      <td>...</td>\n",
       "      <td>...</td>\n",
       "    </tr>\n",
       "    <tr>\n",
       "      <th>6652</th>\n",
       "      <td>1</td>\n",
       "      <td>1</td>\n",
       "    </tr>\n",
       "    <tr>\n",
       "      <th>6653</th>\n",
       "      <td>1</td>\n",
       "      <td>0</td>\n",
       "    </tr>\n",
       "    <tr>\n",
       "      <th>6654</th>\n",
       "      <td>2</td>\n",
       "      <td>2</td>\n",
       "    </tr>\n",
       "    <tr>\n",
       "      <th>6655</th>\n",
       "      <td>0</td>\n",
       "      <td>0</td>\n",
       "    </tr>\n",
       "    <tr>\n",
       "      <th>6656</th>\n",
       "      <td>1</td>\n",
       "      <td>1</td>\n",
       "    </tr>\n",
       "  </tbody>\n",
       "</table>\n",
       "<p>6657 rows × 2 columns</p>\n",
       "</div>"
      ],
      "text/plain": [
       "      FullTime_Result  HalfTime_Result\n",
       "0                   2                2\n",
       "1                   1                1\n",
       "2                   0                0\n",
       "3                   0                0\n",
       "4                   2                2\n",
       "...               ...              ...\n",
       "6652                1                1\n",
       "6653                1                0\n",
       "6654                2                2\n",
       "6655                0                0\n",
       "6656                1                1\n",
       "\n",
       "[6657 rows x 2 columns]"
      ]
     },
     "execution_count": 10,
     "metadata": {},
     "output_type": "execute_result"
    }
   ],
   "source": [
    "df[['FullTime_Result', 'HalfTime_Result']]"
   ]
  },
  {
   "cell_type": "markdown",
   "id": "86553ba0",
   "metadata": {},
   "source": [
    "## Feature Engineering"
   ]
  },
  {
   "cell_type": "markdown",
   "id": "01426b53",
   "metadata": {},
   "source": [
    "Some matches did not provide whether or not the home team was the favorite to win the game. It would be interesting to have this data for all of the matches so we will create a new column of the same name but have it be filled with booleans (True/False) and later replace them with 1s and 0s respectively"
   ]
  },
  {
   "cell_type": "code",
   "execution_count": 11,
   "id": "a3997519",
   "metadata": {},
   "outputs": [],
   "source": [
    "df['HomeTeam_Favorite'] = (df['HomeTeam'] == df['ML_Favorite'])"
   ]
  },
  {
   "cell_type": "code",
   "execution_count": 12,
   "id": "bb30ff2e",
   "metadata": {},
   "outputs": [
    {
     "data": {
      "text/plain": [
       "True"
      ]
     },
     "execution_count": 12,
     "metadata": {},
     "output_type": "execute_result"
    }
   ],
   "source": [
    "df['HomeTeam_Favorite'][20]"
   ]
  },
  {
   "cell_type": "code",
   "execution_count": 13,
   "id": "c41df3ef",
   "metadata": {},
   "outputs": [
    {
     "data": {
      "text/html": [
       "<div>\n",
       "<style scoped>\n",
       "    .dataframe tbody tr th:only-of-type {\n",
       "        vertical-align: middle;\n",
       "    }\n",
       "\n",
       "    .dataframe tbody tr th {\n",
       "        vertical-align: top;\n",
       "    }\n",
       "\n",
       "    .dataframe thead th {\n",
       "        text-align: right;\n",
       "    }\n",
       "</style>\n",
       "<table border=\"1\" class=\"dataframe\">\n",
       "  <thead>\n",
       "    <tr style=\"text-align: right;\">\n",
       "      <th></th>\n",
       "      <th>Season</th>\n",
       "      <th>DateTime</th>\n",
       "      <th>HomeTeam</th>\n",
       "      <th>AwayTeam</th>\n",
       "      <th>ML_Favorite</th>\n",
       "      <th>FullTime_HomeGoals</th>\n",
       "      <th>FullTime_AwayGoals</th>\n",
       "      <th>FullTime_Result</th>\n",
       "      <th>HalfTime_HomeGoals</th>\n",
       "      <th>HalfTime_AwayGoals</th>\n",
       "      <th>...</th>\n",
       "      <th>Away_ShotsOnTarget</th>\n",
       "      <th>Home_Corners</th>\n",
       "      <th>Away_Corners</th>\n",
       "      <th>Home_Fouls</th>\n",
       "      <th>Away_Fouls</th>\n",
       "      <th>Home_YellowCs</th>\n",
       "      <th>Away_YellowCs</th>\n",
       "      <th>Home_RedCs</th>\n",
       "      <th>Away_RedCs</th>\n",
       "      <th>HomeTeam_Favorite</th>\n",
       "    </tr>\n",
       "  </thead>\n",
       "  <tbody>\n",
       "    <tr>\n",
       "      <th>0</th>\n",
       "      <td>2003-04</td>\n",
       "      <td>2004-02-11T00:00:00Z</td>\n",
       "      <td>Birmingham</td>\n",
       "      <td>Everton</td>\n",
       "      <td>Birmingham</td>\n",
       "      <td>3</td>\n",
       "      <td>0</td>\n",
       "      <td>2</td>\n",
       "      <td>2</td>\n",
       "      <td>0</td>\n",
       "      <td>...</td>\n",
       "      <td>3</td>\n",
       "      <td>8</td>\n",
       "      <td>11</td>\n",
       "      <td>10</td>\n",
       "      <td>14</td>\n",
       "      <td>1</td>\n",
       "      <td>0</td>\n",
       "      <td>0</td>\n",
       "      <td>0</td>\n",
       "      <td>True</td>\n",
       "    </tr>\n",
       "    <tr>\n",
       "      <th>1</th>\n",
       "      <td>2003-04</td>\n",
       "      <td>2004-02-11T00:00:00Z</td>\n",
       "      <td>Blackburn</td>\n",
       "      <td>Newcastle</td>\n",
       "      <td>Newcastle</td>\n",
       "      <td>1</td>\n",
       "      <td>1</td>\n",
       "      <td>1</td>\n",
       "      <td>0</td>\n",
       "      <td>0</td>\n",
       "      <td>...</td>\n",
       "      <td>7</td>\n",
       "      <td>8</td>\n",
       "      <td>6</td>\n",
       "      <td>12</td>\n",
       "      <td>10</td>\n",
       "      <td>0</td>\n",
       "      <td>0</td>\n",
       "      <td>0</td>\n",
       "      <td>0</td>\n",
       "      <td>False</td>\n",
       "    </tr>\n",
       "    <tr>\n",
       "      <th>2</th>\n",
       "      <td>2003-04</td>\n",
       "      <td>2004-02-11T00:00:00Z</td>\n",
       "      <td>Charlton</td>\n",
       "      <td>Tottenham</td>\n",
       "      <td>Charlton</td>\n",
       "      <td>2</td>\n",
       "      <td>4</td>\n",
       "      <td>0</td>\n",
       "      <td>0</td>\n",
       "      <td>2</td>\n",
       "      <td>...</td>\n",
       "      <td>10</td>\n",
       "      <td>10</td>\n",
       "      <td>4</td>\n",
       "      <td>13</td>\n",
       "      <td>14</td>\n",
       "      <td>3</td>\n",
       "      <td>0</td>\n",
       "      <td>0</td>\n",
       "      <td>0</td>\n",
       "      <td>True</td>\n",
       "    </tr>\n",
       "    <tr>\n",
       "      <th>3</th>\n",
       "      <td>2003-04</td>\n",
       "      <td>2004-02-11T00:00:00Z</td>\n",
       "      <td>Fulham</td>\n",
       "      <td>Aston Villa</td>\n",
       "      <td>Fulham</td>\n",
       "      <td>1</td>\n",
       "      <td>2</td>\n",
       "      <td>0</td>\n",
       "      <td>1</td>\n",
       "      <td>2</td>\n",
       "      <td>...</td>\n",
       "      <td>3</td>\n",
       "      <td>6</td>\n",
       "      <td>5</td>\n",
       "      <td>16</td>\n",
       "      <td>17</td>\n",
       "      <td>2</td>\n",
       "      <td>1</td>\n",
       "      <td>1</td>\n",
       "      <td>0</td>\n",
       "      <td>True</td>\n",
       "    </tr>\n",
       "    <tr>\n",
       "      <th>4</th>\n",
       "      <td>2003-04</td>\n",
       "      <td>2004-02-11T00:00:00Z</td>\n",
       "      <td>Liverpool</td>\n",
       "      <td>Man City</td>\n",
       "      <td>Liverpool</td>\n",
       "      <td>2</td>\n",
       "      <td>1</td>\n",
       "      <td>2</td>\n",
       "      <td>1</td>\n",
       "      <td>0</td>\n",
       "      <td>...</td>\n",
       "      <td>3</td>\n",
       "      <td>6</td>\n",
       "      <td>3</td>\n",
       "      <td>7</td>\n",
       "      <td>8</td>\n",
       "      <td>0</td>\n",
       "      <td>0</td>\n",
       "      <td>0</td>\n",
       "      <td>0</td>\n",
       "      <td>True</td>\n",
       "    </tr>\n",
       "  </tbody>\n",
       "</table>\n",
       "<p>5 rows × 25 columns</p>\n",
       "</div>"
      ],
      "text/plain": [
       "    Season              DateTime    HomeTeam     AwayTeam ML_Favorite  \\\n",
       "0  2003-04  2004-02-11T00:00:00Z  Birmingham      Everton  Birmingham   \n",
       "1  2003-04  2004-02-11T00:00:00Z   Blackburn    Newcastle   Newcastle   \n",
       "2  2003-04  2004-02-11T00:00:00Z    Charlton    Tottenham    Charlton   \n",
       "3  2003-04  2004-02-11T00:00:00Z      Fulham  Aston Villa      Fulham   \n",
       "4  2003-04  2004-02-11T00:00:00Z   Liverpool     Man City   Liverpool   \n",
       "\n",
       "   FullTime_HomeGoals  FullTime_AwayGoals  FullTime_Result  \\\n",
       "0                   3                   0                2   \n",
       "1                   1                   1                1   \n",
       "2                   2                   4                0   \n",
       "3                   1                   2                0   \n",
       "4                   2                   1                2   \n",
       "\n",
       "   HalfTime_HomeGoals  HalfTime_AwayGoals  ...  Away_ShotsOnTarget  \\\n",
       "0                   2                   0  ...                   3   \n",
       "1                   0                   0  ...                   7   \n",
       "2                   0                   2  ...                  10   \n",
       "3                   1                   2  ...                   3   \n",
       "4                   1                   0  ...                   3   \n",
       "\n",
       "  Home_Corners  Away_Corners  Home_Fouls  Away_Fouls  Home_YellowCs  \\\n",
       "0            8            11          10          14              1   \n",
       "1            8             6          12          10              0   \n",
       "2           10             4          13          14              3   \n",
       "3            6             5          16          17              2   \n",
       "4            6             3           7           8              0   \n",
       "\n",
       "   Away_YellowCs  Home_RedCs  Away_RedCs  HomeTeam_Favorite  \n",
       "0              0           0           0               True  \n",
       "1              0           0           0              False  \n",
       "2              0           0           0               True  \n",
       "3              1           1           0               True  \n",
       "4              0           0           0               True  \n",
       "\n",
       "[5 rows x 25 columns]"
      ]
     },
     "execution_count": 13,
     "metadata": {},
     "output_type": "execute_result"
    }
   ],
   "source": [
    "df.head()"
   ]
  },
  {
   "cell_type": "code",
   "execution_count": 14,
   "id": "1a49aac7",
   "metadata": {},
   "outputs": [],
   "source": [
    "# map a dictionary to replace True and False with 1 and 0, respectively\n",
    "df['HomeTeam_Favorite'] = df['HomeTeam_Favorite'].map({True: 1,\n",
    "                                                 False: 0})"
   ]
  },
  {
   "cell_type": "code",
   "execution_count": 15,
   "id": "8e579c8d",
   "metadata": {},
   "outputs": [
    {
     "data": {
      "text/plain": [
       "0       1\n",
       "1       0\n",
       "2       1\n",
       "3       1\n",
       "4       1\n",
       "       ..\n",
       "6652    0\n",
       "6653    0\n",
       "6654    1\n",
       "6655    1\n",
       "6656    0\n",
       "Name: HomeTeam_Favorite, Length: 6657, dtype: int64"
      ]
     },
     "execution_count": 15,
     "metadata": {},
     "output_type": "execute_result"
    }
   ],
   "source": [
    "df['HomeTeam_Favorite']"
   ]
  },
  {
   "cell_type": "markdown",
   "id": "c71ff05c",
   "metadata": {},
   "source": [
    "HomeTeam_Favorite explained:\n",
    "- 1: Home team was the betting favorite to win the game\n",
    "- 0: Away team was the betting favorite to win the game"
   ]
  },
  {
   "cell_type": "markdown",
   "id": "3401eb42",
   "metadata": {},
   "source": [
    "Conversion Rate is calculated as the number of goals divided by the total number of shots. We will create a column for both the Home and Away team."
   ]
  },
  {
   "cell_type": "code",
   "execution_count": 16,
   "id": "c7ceba61",
   "metadata": {},
   "outputs": [],
   "source": [
    "# Home Conversion Rate\n",
    "df['Home_ConversionRate'] = round((df['FullTime_HomeGoals'] / df['Home_Shots']) * 100, 0)\n",
    "\n",
    "# Away Conversion Rate\n",
    "df['Away_ConversionRate'] = round((df['FullTime_AwayGoals'] / df['Away_Shots']) * 100, 0)"
   ]
  },
  {
   "cell_type": "code",
   "execution_count": 17,
   "id": "da09edac",
   "metadata": {},
   "outputs": [
    {
     "data": {
      "text/html": [
       "<div>\n",
       "<style scoped>\n",
       "    .dataframe tbody tr th:only-of-type {\n",
       "        vertical-align: middle;\n",
       "    }\n",
       "\n",
       "    .dataframe tbody tr th {\n",
       "        vertical-align: top;\n",
       "    }\n",
       "\n",
       "    .dataframe thead th {\n",
       "        text-align: right;\n",
       "    }\n",
       "</style>\n",
       "<table border=\"1\" class=\"dataframe\">\n",
       "  <thead>\n",
       "    <tr style=\"text-align: right;\">\n",
       "      <th></th>\n",
       "      <th>Home_ConversionRate</th>\n",
       "      <th>Away_ConversionRate</th>\n",
       "    </tr>\n",
       "  </thead>\n",
       "  <tbody>\n",
       "    <tr>\n",
       "      <th>0</th>\n",
       "      <td>20.0</td>\n",
       "      <td>0.0</td>\n",
       "    </tr>\n",
       "    <tr>\n",
       "      <th>1</th>\n",
       "      <td>6.0</td>\n",
       "      <td>7.0</td>\n",
       "    </tr>\n",
       "    <tr>\n",
       "      <th>2</th>\n",
       "      <td>11.0</td>\n",
       "      <td>33.0</td>\n",
       "    </tr>\n",
       "    <tr>\n",
       "      <th>3</th>\n",
       "      <td>8.0</td>\n",
       "      <td>20.0</td>\n",
       "    </tr>\n",
       "    <tr>\n",
       "      <th>4</th>\n",
       "      <td>17.0</td>\n",
       "      <td>17.0</td>\n",
       "    </tr>\n",
       "    <tr>\n",
       "      <th>...</th>\n",
       "      <td>...</td>\n",
       "      <td>...</td>\n",
       "    </tr>\n",
       "    <tr>\n",
       "      <th>6652</th>\n",
       "      <td>0.0</td>\n",
       "      <td>0.0</td>\n",
       "    </tr>\n",
       "    <tr>\n",
       "      <th>6653</th>\n",
       "      <td>11.0</td>\n",
       "      <td>22.0</td>\n",
       "    </tr>\n",
       "    <tr>\n",
       "      <th>6654</th>\n",
       "      <td>12.0</td>\n",
       "      <td>7.0</td>\n",
       "    </tr>\n",
       "    <tr>\n",
       "      <th>6655</th>\n",
       "      <td>6.0</td>\n",
       "      <td>15.0</td>\n",
       "    </tr>\n",
       "    <tr>\n",
       "      <th>6656</th>\n",
       "      <td>33.0</td>\n",
       "      <td>17.0</td>\n",
       "    </tr>\n",
       "  </tbody>\n",
       "</table>\n",
       "<p>6657 rows × 2 columns</p>\n",
       "</div>"
      ],
      "text/plain": [
       "      Home_ConversionRate  Away_ConversionRate\n",
       "0                    20.0                  0.0\n",
       "1                     6.0                  7.0\n",
       "2                    11.0                 33.0\n",
       "3                     8.0                 20.0\n",
       "4                    17.0                 17.0\n",
       "...                   ...                  ...\n",
       "6652                  0.0                  0.0\n",
       "6653                 11.0                 22.0\n",
       "6654                 12.0                  7.0\n",
       "6655                  6.0                 15.0\n",
       "6656                 33.0                 17.0\n",
       "\n",
       "[6657 rows x 2 columns]"
      ]
     },
     "execution_count": 17,
     "metadata": {},
     "output_type": "execute_result"
    }
   ],
   "source": [
    "df[['Home_ConversionRate','Away_ConversionRate']]"
   ]
  },
  {
   "cell_type": "markdown",
   "id": "4788cf3c",
   "metadata": {},
   "source": [
    "New column for each time based on what percentage of their total shots were shots on target"
   ]
  },
  {
   "cell_type": "code",
   "execution_count": 18,
   "id": "fde348b7",
   "metadata": {},
   "outputs": [],
   "source": [
    "# Home Shots on Target (SoT percentage)\n",
    "df['Home_SoT%'] = round((df['Home_ShotsOnTarget'] / df['Home_Shots']), 2)\n",
    "\n",
    "# Away Shots on Target (SoT percentage)\n",
    "df['Away_SoT%'] = round((df['Away_ShotsOnTarget'] / df['Away_Shots']), 2)"
   ]
  },
  {
   "cell_type": "code",
   "execution_count": 19,
   "id": "7e472617",
   "metadata": {},
   "outputs": [
    {
     "data": {
      "text/html": [
       "<div>\n",
       "<style scoped>\n",
       "    .dataframe tbody tr th:only-of-type {\n",
       "        vertical-align: middle;\n",
       "    }\n",
       "\n",
       "    .dataframe tbody tr th {\n",
       "        vertical-align: top;\n",
       "    }\n",
       "\n",
       "    .dataframe thead th {\n",
       "        text-align: right;\n",
       "    }\n",
       "</style>\n",
       "<table border=\"1\" class=\"dataframe\">\n",
       "  <thead>\n",
       "    <tr style=\"text-align: right;\">\n",
       "      <th></th>\n",
       "      <th>Home_SoT%</th>\n",
       "      <th>Away_SoT%</th>\n",
       "    </tr>\n",
       "  </thead>\n",
       "  <tbody>\n",
       "    <tr>\n",
       "      <th>0</th>\n",
       "      <td>0.73</td>\n",
       "      <td>0.60</td>\n",
       "    </tr>\n",
       "    <tr>\n",
       "      <th>1</th>\n",
       "      <td>0.41</td>\n",
       "      <td>0.50</td>\n",
       "    </tr>\n",
       "    <tr>\n",
       "      <th>2</th>\n",
       "      <td>0.78</td>\n",
       "      <td>0.83</td>\n",
       "    </tr>\n",
       "    <tr>\n",
       "      <th>3</th>\n",
       "      <td>0.46</td>\n",
       "      <td>0.30</td>\n",
       "    </tr>\n",
       "    <tr>\n",
       "      <th>4</th>\n",
       "      <td>0.58</td>\n",
       "      <td>0.50</td>\n",
       "    </tr>\n",
       "    <tr>\n",
       "      <th>...</th>\n",
       "      <td>...</td>\n",
       "      <td>...</td>\n",
       "    </tr>\n",
       "    <tr>\n",
       "      <th>6652</th>\n",
       "      <td>0.10</td>\n",
       "      <td>0.25</td>\n",
       "    </tr>\n",
       "    <tr>\n",
       "      <th>6653</th>\n",
       "      <td>0.22</td>\n",
       "      <td>0.56</td>\n",
       "    </tr>\n",
       "    <tr>\n",
       "      <th>6654</th>\n",
       "      <td>0.47</td>\n",
       "      <td>0.21</td>\n",
       "    </tr>\n",
       "    <tr>\n",
       "      <th>6655</th>\n",
       "      <td>0.28</td>\n",
       "      <td>0.46</td>\n",
       "    </tr>\n",
       "    <tr>\n",
       "      <th>6656</th>\n",
       "      <td>0.67</td>\n",
       "      <td>0.25</td>\n",
       "    </tr>\n",
       "  </tbody>\n",
       "</table>\n",
       "<p>6657 rows × 2 columns</p>\n",
       "</div>"
      ],
      "text/plain": [
       "      Home_SoT%  Away_SoT%\n",
       "0          0.73       0.60\n",
       "1          0.41       0.50\n",
       "2          0.78       0.83\n",
       "3          0.46       0.30\n",
       "4          0.58       0.50\n",
       "...         ...        ...\n",
       "6652       0.10       0.25\n",
       "6653       0.22       0.56\n",
       "6654       0.47       0.21\n",
       "6655       0.28       0.46\n",
       "6656       0.67       0.25\n",
       "\n",
       "[6657 rows x 2 columns]"
      ]
     },
     "execution_count": 19,
     "metadata": {},
     "output_type": "execute_result"
    }
   ],
   "source": [
    "df[['Home_SoT%','Away_SoT%']]"
   ]
  },
  {
   "cell_type": "markdown",
   "id": "c01a4029",
   "metadata": {},
   "source": [
    "Did the team that was favored to win actually end up winning?"
   ]
  },
  {
   "cell_type": "code",
   "execution_count": 20,
   "id": "4b46b15e",
   "metadata": {},
   "outputs": [],
   "source": [
    "# creating a Pandas series by using a for loop that determines whether the home team or the away team was the\n",
    "# betting favorite in the match. I decided to use integers because strings are more difficult to work with.\n",
    "# I am appending the integer 2 because that is what is used to identify the home team in 'FullTime_Result'\n",
    "# After creating this 'favorites' column, I will identify whether or not the favored team actually won\n",
    "\n",
    "favorites = []\n",
    "\n",
    "for match in range(0,6657):\n",
    "    # if the home team is favored, append a 2\n",
    "    if df['HomeTeam'][match] == df['ML_Favorite'][match]:\n",
    "        favorites.append(2)\n",
    "    # if the away team is favored, append a 0\n",
    "    else:\n",
    "        favorites.append(0)"
   ]
  },
  {
   "cell_type": "code",
   "execution_count": 21,
   "id": "afacafd3",
   "metadata": {},
   "outputs": [],
   "source": [
    "favorites = pd.Series(favorites)"
   ]
  },
  {
   "cell_type": "code",
   "execution_count": 22,
   "id": "052fc0eb",
   "metadata": {},
   "outputs": [],
   "source": [
    "df['Favorites'] = favorites"
   ]
  },
  {
   "cell_type": "markdown",
   "id": "45586868",
   "metadata": {},
   "source": [
    "'Favorites' column explained:\n",
    "- 2 = Home Team favored to win the match\n",
    "- 0 = Away Team favored to win the match"
   ]
  },
  {
   "cell_type": "code",
   "execution_count": 23,
   "id": "d156f780",
   "metadata": {},
   "outputs": [
    {
     "data": {
      "text/html": [
       "<div>\n",
       "<style scoped>\n",
       "    .dataframe tbody tr th:only-of-type {\n",
       "        vertical-align: middle;\n",
       "    }\n",
       "\n",
       "    .dataframe tbody tr th {\n",
       "        vertical-align: top;\n",
       "    }\n",
       "\n",
       "    .dataframe thead th {\n",
       "        text-align: right;\n",
       "    }\n",
       "</style>\n",
       "<table border=\"1\" class=\"dataframe\">\n",
       "  <thead>\n",
       "    <tr style=\"text-align: right;\">\n",
       "      <th></th>\n",
       "      <th>FullTime_Result</th>\n",
       "      <th>Favorites</th>\n",
       "    </tr>\n",
       "  </thead>\n",
       "  <tbody>\n",
       "    <tr>\n",
       "      <th>0</th>\n",
       "      <td>2</td>\n",
       "      <td>2</td>\n",
       "    </tr>\n",
       "    <tr>\n",
       "      <th>1</th>\n",
       "      <td>1</td>\n",
       "      <td>0</td>\n",
       "    </tr>\n",
       "    <tr>\n",
       "      <th>2</th>\n",
       "      <td>0</td>\n",
       "      <td>2</td>\n",
       "    </tr>\n",
       "    <tr>\n",
       "      <th>3</th>\n",
       "      <td>0</td>\n",
       "      <td>2</td>\n",
       "    </tr>\n",
       "    <tr>\n",
       "      <th>4</th>\n",
       "      <td>2</td>\n",
       "      <td>2</td>\n",
       "    </tr>\n",
       "    <tr>\n",
       "      <th>...</th>\n",
       "      <td>...</td>\n",
       "      <td>...</td>\n",
       "    </tr>\n",
       "    <tr>\n",
       "      <th>6652</th>\n",
       "      <td>1</td>\n",
       "      <td>0</td>\n",
       "    </tr>\n",
       "    <tr>\n",
       "      <th>6653</th>\n",
       "      <td>1</td>\n",
       "      <td>0</td>\n",
       "    </tr>\n",
       "    <tr>\n",
       "      <th>6654</th>\n",
       "      <td>2</td>\n",
       "      <td>2</td>\n",
       "    </tr>\n",
       "    <tr>\n",
       "      <th>6655</th>\n",
       "      <td>0</td>\n",
       "      <td>2</td>\n",
       "    </tr>\n",
       "    <tr>\n",
       "      <th>6656</th>\n",
       "      <td>1</td>\n",
       "      <td>0</td>\n",
       "    </tr>\n",
       "  </tbody>\n",
       "</table>\n",
       "<p>6657 rows × 2 columns</p>\n",
       "</div>"
      ],
      "text/plain": [
       "      FullTime_Result  Favorites\n",
       "0                   2          2\n",
       "1                   1          0\n",
       "2                   0          2\n",
       "3                   0          2\n",
       "4                   2          2\n",
       "...               ...        ...\n",
       "6652                1          0\n",
       "6653                1          0\n",
       "6654                2          2\n",
       "6655                0          2\n",
       "6656                1          0\n",
       "\n",
       "[6657 rows x 2 columns]"
      ]
     },
     "execution_count": 23,
     "metadata": {},
     "output_type": "execute_result"
    }
   ],
   "source": [
    "df[['FullTime_Result','Favorites']]"
   ]
  },
  {
   "cell_type": "code",
   "execution_count": 24,
   "id": "9ba8ae4f",
   "metadata": {},
   "outputs": [],
   "source": [
    "# using np.where to fill in 1 for when a favored team wins and 0 for when a favored team loses OR draws\n",
    "df['Favorite_Winner'] = np.where((df['FullTime_Result'] == df['Favorites']), 1, 0)"
   ]
  },
  {
   "cell_type": "code",
   "execution_count": 25,
   "id": "2b8a4a7c",
   "metadata": {},
   "outputs": [
    {
     "data": {
      "text/html": [
       "<div>\n",
       "<style scoped>\n",
       "    .dataframe tbody tr th:only-of-type {\n",
       "        vertical-align: middle;\n",
       "    }\n",
       "\n",
       "    .dataframe tbody tr th {\n",
       "        vertical-align: top;\n",
       "    }\n",
       "\n",
       "    .dataframe thead th {\n",
       "        text-align: right;\n",
       "    }\n",
       "</style>\n",
       "<table border=\"1\" class=\"dataframe\">\n",
       "  <thead>\n",
       "    <tr style=\"text-align: right;\">\n",
       "      <th></th>\n",
       "      <th>FullTime_Result</th>\n",
       "      <th>Favorites</th>\n",
       "      <th>Favorite_Winner</th>\n",
       "    </tr>\n",
       "  </thead>\n",
       "  <tbody>\n",
       "    <tr>\n",
       "      <th>0</th>\n",
       "      <td>2</td>\n",
       "      <td>2</td>\n",
       "      <td>1</td>\n",
       "    </tr>\n",
       "    <tr>\n",
       "      <th>1</th>\n",
       "      <td>1</td>\n",
       "      <td>0</td>\n",
       "      <td>0</td>\n",
       "    </tr>\n",
       "    <tr>\n",
       "      <th>2</th>\n",
       "      <td>0</td>\n",
       "      <td>2</td>\n",
       "      <td>0</td>\n",
       "    </tr>\n",
       "    <tr>\n",
       "      <th>3</th>\n",
       "      <td>0</td>\n",
       "      <td>2</td>\n",
       "      <td>0</td>\n",
       "    </tr>\n",
       "    <tr>\n",
       "      <th>4</th>\n",
       "      <td>2</td>\n",
       "      <td>2</td>\n",
       "      <td>1</td>\n",
       "    </tr>\n",
       "    <tr>\n",
       "      <th>...</th>\n",
       "      <td>...</td>\n",
       "      <td>...</td>\n",
       "      <td>...</td>\n",
       "    </tr>\n",
       "    <tr>\n",
       "      <th>6652</th>\n",
       "      <td>1</td>\n",
       "      <td>0</td>\n",
       "      <td>0</td>\n",
       "    </tr>\n",
       "    <tr>\n",
       "      <th>6653</th>\n",
       "      <td>1</td>\n",
       "      <td>0</td>\n",
       "      <td>0</td>\n",
       "    </tr>\n",
       "    <tr>\n",
       "      <th>6654</th>\n",
       "      <td>2</td>\n",
       "      <td>2</td>\n",
       "      <td>1</td>\n",
       "    </tr>\n",
       "    <tr>\n",
       "      <th>6655</th>\n",
       "      <td>0</td>\n",
       "      <td>2</td>\n",
       "      <td>0</td>\n",
       "    </tr>\n",
       "    <tr>\n",
       "      <th>6656</th>\n",
       "      <td>1</td>\n",
       "      <td>0</td>\n",
       "      <td>0</td>\n",
       "    </tr>\n",
       "  </tbody>\n",
       "</table>\n",
       "<p>6657 rows × 3 columns</p>\n",
       "</div>"
      ],
      "text/plain": [
       "      FullTime_Result  Favorites  Favorite_Winner\n",
       "0                   2          2                1\n",
       "1                   1          0                0\n",
       "2                   0          2                0\n",
       "3                   0          2                0\n",
       "4                   2          2                1\n",
       "...               ...        ...              ...\n",
       "6652                1          0                0\n",
       "6653                1          0                0\n",
       "6654                2          2                1\n",
       "6655                0          2                0\n",
       "6656                1          0                0\n",
       "\n",
       "[6657 rows x 3 columns]"
      ]
     },
     "execution_count": 25,
     "metadata": {},
     "output_type": "execute_result"
    }
   ],
   "source": [
    "df[['FullTime_Result','Favorites','Favorite_Winner']]"
   ]
  },
  {
   "cell_type": "markdown",
   "id": "efb49368",
   "metadata": {},
   "source": [
    "Favorite Winner explained:\n",
    "- 1 = the favored team ended up winning the game\n",
    "- 0 = the favored team ended up losing OR drawing the game"
   ]
  },
  {
   "cell_type": "code",
   "execution_count": 26,
   "id": "79e8e210",
   "metadata": {},
   "outputs": [
    {
     "data": {
      "text/plain": [
       "Index(['Season', 'DateTime', 'HomeTeam', 'AwayTeam', 'ML_Favorite',\n",
       "       'FullTime_HomeGoals', 'FullTime_AwayGoals', 'FullTime_Result',\n",
       "       'HalfTime_HomeGoals', 'HalfTime_AwayGoals', 'HalfTime_Result',\n",
       "       'Referee', 'Home_Shots', 'Away_Shots', 'Home_ShotsOnTarget',\n",
       "       'Away_ShotsOnTarget', 'Home_Corners', 'Away_Corners', 'Home_Fouls',\n",
       "       'Away_Fouls', 'Home_YellowCs', 'Away_YellowCs', 'Home_RedCs',\n",
       "       'Away_RedCs', 'HomeTeam_Favorite', 'Home_ConversionRate',\n",
       "       'Away_ConversionRate', 'Home_SoT%', 'Away_SoT%', 'Favorites',\n",
       "       'Favorite_Winner'],\n",
       "      dtype='object')"
      ]
     },
     "execution_count": 26,
     "metadata": {},
     "output_type": "execute_result"
    }
   ],
   "source": [
    "# now what columns do we have?\n",
    "df.columns"
   ]
  },
  {
   "cell_type": "markdown",
   "id": "319d1290",
   "metadata": {},
   "source": [
    "We MIGHT no longer need the 'ML_Favorite' column but will keep for now. We will also not need the DateTime or Referee column because they are irrelevant for this analysis"
   ]
  },
  {
   "cell_type": "code",
   "execution_count": 27,
   "id": "1692b1b4",
   "metadata": {},
   "outputs": [],
   "source": [
    "df.drop(['DateTime','Referee'], axis=1, inplace=True)"
   ]
  },
  {
   "cell_type": "code",
   "execution_count": 28,
   "id": "797e0fef",
   "metadata": {},
   "outputs": [
    {
     "data": {
      "text/html": [
       "<div>\n",
       "<style scoped>\n",
       "    .dataframe tbody tr th:only-of-type {\n",
       "        vertical-align: middle;\n",
       "    }\n",
       "\n",
       "    .dataframe tbody tr th {\n",
       "        vertical-align: top;\n",
       "    }\n",
       "\n",
       "    .dataframe thead th {\n",
       "        text-align: right;\n",
       "    }\n",
       "</style>\n",
       "<table border=\"1\" class=\"dataframe\">\n",
       "  <thead>\n",
       "    <tr style=\"text-align: right;\">\n",
       "      <th></th>\n",
       "      <th>Season</th>\n",
       "      <th>HomeTeam</th>\n",
       "      <th>AwayTeam</th>\n",
       "      <th>ML_Favorite</th>\n",
       "      <th>FullTime_HomeGoals</th>\n",
       "      <th>FullTime_AwayGoals</th>\n",
       "      <th>FullTime_Result</th>\n",
       "      <th>HalfTime_HomeGoals</th>\n",
       "      <th>HalfTime_AwayGoals</th>\n",
       "      <th>HalfTime_Result</th>\n",
       "      <th>...</th>\n",
       "      <th>Away_YellowCs</th>\n",
       "      <th>Home_RedCs</th>\n",
       "      <th>Away_RedCs</th>\n",
       "      <th>HomeTeam_Favorite</th>\n",
       "      <th>Home_ConversionRate</th>\n",
       "      <th>Away_ConversionRate</th>\n",
       "      <th>Home_SoT%</th>\n",
       "      <th>Away_SoT%</th>\n",
       "      <th>Favorites</th>\n",
       "      <th>Favorite_Winner</th>\n",
       "    </tr>\n",
       "  </thead>\n",
       "  <tbody>\n",
       "    <tr>\n",
       "      <th>0</th>\n",
       "      <td>2003-04</td>\n",
       "      <td>Birmingham</td>\n",
       "      <td>Everton</td>\n",
       "      <td>Birmingham</td>\n",
       "      <td>3</td>\n",
       "      <td>0</td>\n",
       "      <td>2</td>\n",
       "      <td>2</td>\n",
       "      <td>0</td>\n",
       "      <td>2</td>\n",
       "      <td>...</td>\n",
       "      <td>0</td>\n",
       "      <td>0</td>\n",
       "      <td>0</td>\n",
       "      <td>1</td>\n",
       "      <td>20.0</td>\n",
       "      <td>0.0</td>\n",
       "      <td>0.73</td>\n",
       "      <td>0.60</td>\n",
       "      <td>2</td>\n",
       "      <td>1</td>\n",
       "    </tr>\n",
       "    <tr>\n",
       "      <th>1</th>\n",
       "      <td>2003-04</td>\n",
       "      <td>Blackburn</td>\n",
       "      <td>Newcastle</td>\n",
       "      <td>Newcastle</td>\n",
       "      <td>1</td>\n",
       "      <td>1</td>\n",
       "      <td>1</td>\n",
       "      <td>0</td>\n",
       "      <td>0</td>\n",
       "      <td>1</td>\n",
       "      <td>...</td>\n",
       "      <td>0</td>\n",
       "      <td>0</td>\n",
       "      <td>0</td>\n",
       "      <td>0</td>\n",
       "      <td>6.0</td>\n",
       "      <td>7.0</td>\n",
       "      <td>0.41</td>\n",
       "      <td>0.50</td>\n",
       "      <td>0</td>\n",
       "      <td>0</td>\n",
       "    </tr>\n",
       "    <tr>\n",
       "      <th>2</th>\n",
       "      <td>2003-04</td>\n",
       "      <td>Charlton</td>\n",
       "      <td>Tottenham</td>\n",
       "      <td>Charlton</td>\n",
       "      <td>2</td>\n",
       "      <td>4</td>\n",
       "      <td>0</td>\n",
       "      <td>0</td>\n",
       "      <td>2</td>\n",
       "      <td>0</td>\n",
       "      <td>...</td>\n",
       "      <td>0</td>\n",
       "      <td>0</td>\n",
       "      <td>0</td>\n",
       "      <td>1</td>\n",
       "      <td>11.0</td>\n",
       "      <td>33.0</td>\n",
       "      <td>0.78</td>\n",
       "      <td>0.83</td>\n",
       "      <td>2</td>\n",
       "      <td>0</td>\n",
       "    </tr>\n",
       "    <tr>\n",
       "      <th>3</th>\n",
       "      <td>2003-04</td>\n",
       "      <td>Fulham</td>\n",
       "      <td>Aston Villa</td>\n",
       "      <td>Fulham</td>\n",
       "      <td>1</td>\n",
       "      <td>2</td>\n",
       "      <td>0</td>\n",
       "      <td>1</td>\n",
       "      <td>2</td>\n",
       "      <td>0</td>\n",
       "      <td>...</td>\n",
       "      <td>1</td>\n",
       "      <td>1</td>\n",
       "      <td>0</td>\n",
       "      <td>1</td>\n",
       "      <td>8.0</td>\n",
       "      <td>20.0</td>\n",
       "      <td>0.46</td>\n",
       "      <td>0.30</td>\n",
       "      <td>2</td>\n",
       "      <td>0</td>\n",
       "    </tr>\n",
       "    <tr>\n",
       "      <th>4</th>\n",
       "      <td>2003-04</td>\n",
       "      <td>Liverpool</td>\n",
       "      <td>Man City</td>\n",
       "      <td>Liverpool</td>\n",
       "      <td>2</td>\n",
       "      <td>1</td>\n",
       "      <td>2</td>\n",
       "      <td>1</td>\n",
       "      <td>0</td>\n",
       "      <td>2</td>\n",
       "      <td>...</td>\n",
       "      <td>0</td>\n",
       "      <td>0</td>\n",
       "      <td>0</td>\n",
       "      <td>1</td>\n",
       "      <td>17.0</td>\n",
       "      <td>17.0</td>\n",
       "      <td>0.58</td>\n",
       "      <td>0.50</td>\n",
       "      <td>2</td>\n",
       "      <td>1</td>\n",
       "    </tr>\n",
       "  </tbody>\n",
       "</table>\n",
       "<p>5 rows × 29 columns</p>\n",
       "</div>"
      ],
      "text/plain": [
       "    Season    HomeTeam     AwayTeam ML_Favorite  FullTime_HomeGoals  \\\n",
       "0  2003-04  Birmingham      Everton  Birmingham                   3   \n",
       "1  2003-04   Blackburn    Newcastle   Newcastle                   1   \n",
       "2  2003-04    Charlton    Tottenham    Charlton                   2   \n",
       "3  2003-04      Fulham  Aston Villa      Fulham                   1   \n",
       "4  2003-04   Liverpool     Man City   Liverpool                   2   \n",
       "\n",
       "   FullTime_AwayGoals  FullTime_Result  HalfTime_HomeGoals  \\\n",
       "0                   0                2                   2   \n",
       "1                   1                1                   0   \n",
       "2                   4                0                   0   \n",
       "3                   2                0                   1   \n",
       "4                   1                2                   1   \n",
       "\n",
       "   HalfTime_AwayGoals  HalfTime_Result  ...  Away_YellowCs  Home_RedCs  \\\n",
       "0                   0                2  ...              0           0   \n",
       "1                   0                1  ...              0           0   \n",
       "2                   2                0  ...              0           0   \n",
       "3                   2                0  ...              1           1   \n",
       "4                   0                2  ...              0           0   \n",
       "\n",
       "   Away_RedCs  HomeTeam_Favorite  Home_ConversionRate  Away_ConversionRate  \\\n",
       "0           0                  1                 20.0                  0.0   \n",
       "1           0                  0                  6.0                  7.0   \n",
       "2           0                  1                 11.0                 33.0   \n",
       "3           0                  1                  8.0                 20.0   \n",
       "4           0                  1                 17.0                 17.0   \n",
       "\n",
       "   Home_SoT%  Away_SoT%  Favorites  Favorite_Winner  \n",
       "0       0.73       0.60          2                1  \n",
       "1       0.41       0.50          0                0  \n",
       "2       0.78       0.83          2                0  \n",
       "3       0.46       0.30          2                0  \n",
       "4       0.58       0.50          2                1  \n",
       "\n",
       "[5 rows x 29 columns]"
      ]
     },
     "execution_count": 28,
     "metadata": {},
     "output_type": "execute_result"
    }
   ],
   "source": [
    "df.head()"
   ]
  },
  {
   "cell_type": "markdown",
   "id": "33e9797a",
   "metadata": {},
   "source": [
    "## EDA"
   ]
  },
  {
   "cell_type": "code",
<<<<<<< Updated upstream
   "execution_count": 29,
=======
   "execution_count": 132,
   "id": "706ac955",
   "metadata": {},
   "outputs": [
    {
     "name": "stderr",
     "output_type": "stream",
     "text": [
      "/opt/anaconda3/envs/learn-env/lib/python3.8/site-packages/seaborn/_decorators.py:36: FutureWarning: Pass the following variable as a keyword arg: x. From version 0.12, the only valid positional argument will be `data`, and passing other arguments without an explicit keyword will result in an error or misinterpretation.\n",
      "  warnings.warn(\n"
     ]
    },
    {
     "data": {
      "text/plain": [
       "Text(0.5, 0, 'Betting favorite ended up as winner')"
      ]
     },
     "execution_count": 132,
     "metadata": {},
     "output_type": "execute_result"
    },
    {
     "data": {
      "image/png": "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\n",
      "text/plain": [
       "<Figure size 720x432 with 1 Axes>"
      ]
     },
     "metadata": {
      "needs_background": "light"
     },
     "output_type": "display_data"
    }
   ],
   "source": [
    "# count of favored teams that actually ended up winning\n",
    "# 0 if they ended up losing or drawing\n",
    "plt.figure(figsize=(10,6))\n",
    "sns.countplot(df['Favorite_Winner'], palette='flare')\n",
    "plt.xlabel('Betting favorite ended up as winner',fontsize=15)"
   ]
  },
  {
   "cell_type": "code",
   "execution_count": 134,
   "id": "66a8ecfe",
   "metadata": {
    "scrolled": true
   },
   "outputs": [
    {
     "name": "stdout",
     "output_type": "stream",
     "text": [
      "0.5421360973411447\n"
     ]
    }
   ],
   "source": [
    "# percentage of betting favorites that ended up winning\n",
    "print(len(df[df['Favorite_Winner']==1]) / len(df['Favorite_Winner']))"
   ]
  },
  {
   "cell_type": "code",
   "execution_count": 115,
>>>>>>> Stashed changes
   "id": "84831c83",
   "metadata": {},
   "outputs": [
    {
     "name": "stderr",
     "output_type": "stream",
     "text": [
      "/opt/anaconda3/envs/learn-env/lib/python3.8/site-packages/seaborn/_decorators.py:36: FutureWarning: Pass the following variable as a keyword arg: x. From version 0.12, the only valid positional argument will be `data`, and passing other arguments without an explicit keyword will result in an error or misinterpretation.\n",
      "  warnings.warn(\n"
     ]
    },
    {
     "data": {
      "text/plain": [
       "<AxesSubplot:xlabel='HomeTeam_Favorite', ylabel='count'>"
      ]
     },
<<<<<<< Updated upstream
     "execution_count": 29,
=======
     "execution_count": 115,
>>>>>>> Stashed changes
     "metadata": {},
     "output_type": "execute_result"
    },
    {
     "data": {
<<<<<<< Updated upstream
      "image/png": "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\n",
=======
      "image/png": "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\n",
>>>>>>> Stashed changes
      "text/plain": [
       "<Figure size 432x288 with 1 Axes>"
      ]
     },
     "metadata": {
      "needs_background": "light"
     },
     "output_type": "display_data"
    }
   ],
   "source": [
    "# count of home teams that were favored to win\n",
<<<<<<< Updated upstream
    "sns.countplot(df['HomeTeam_Favorite'])"
=======
    "sns.countplot(df['HomeTeam_Favorite'], palette='flare')"
>>>>>>> Stashed changes
   ]
  },
  {
   "cell_type": "code",
   "execution_count": 30,
   "id": "002eab47",
   "metadata": {},
   "outputs": [
    {
     "name": "stdout",
     "output_type": "stream",
     "text": [
      "Home Teams were favored in 0.6948% of all matches in the dataset.\n"
     ]
    }
   ],
   "source": [
    "# percentage of games where the home team was the favorite\n",
    "home_favorite_percentage = len(df[df['HomeTeam_Favorite'] == 1]) / len(df['HomeTeam_Favorite'])\n",
    "\n",
    "print('Home Teams were favored in ' + str(round(home_favorite_percentage, ndigits=4)) + \n",
    "      '% of all matches in the dataset.')"
   ]
  },
  {
   "cell_type": "code",
   "execution_count": 31,
   "id": "5b0e4e8b",
   "metadata": {},
   "outputs": [
    {
     "name": "stdout",
     "output_type": "stream",
     "text": [
      "Away Teams were favored in 0.3052% of all matches in the dataset.\n"
     ]
    }
   ],
   "source": [
    "# percentage of games where the home team was the favorite\n",
    "away_favorite_percentage = len(df[df['HomeTeam_Favorite'] == 0]) / len(df['HomeTeam_Favorite'])\n",
    "\n",
    "print('Away Teams were favored in ' + str(round(away_favorite_percentage, ndigits=4)) + \n",
    "      '% of all matches in the dataset.')"
   ]
  },
  {
   "cell_type": "code",
<<<<<<< Updated upstream
   "execution_count": 32,
=======
   "execution_count": 125,
>>>>>>> Stashed changes
   "id": "fbc531bf",
   "metadata": {},
   "outputs": [
    {
     "name": "stderr",
     "output_type": "stream",
     "text": [
      "/opt/anaconda3/envs/learn-env/lib/python3.8/site-packages/seaborn/_decorators.py:36: FutureWarning: Pass the following variable as a keyword arg: x. From version 0.12, the only valid positional argument will be `data`, and passing other arguments without an explicit keyword will result in an error or misinterpretation.\n",
      "  warnings.warn(\n"
     ]
    },
    {
     "data": {
      "text/plain": [
<<<<<<< Updated upstream
       "<AxesSubplot:xlabel='HomeTeam_Favorite', ylabel='count'>"
      ]
     },
     "execution_count": 32,
=======
       "Text(0.5, 1.0, 'Match Results')"
      ]
     },
     "execution_count": 125,
>>>>>>> Stashed changes
     "metadata": {},
     "output_type": "execute_result"
    },
    {
     "data": {
<<<<<<< Updated upstream
      "image/png": "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\n",
      "text/plain": [
       "<Figure size 432x288 with 1 Axes>"
=======
      "image/png": "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\n",
      "text/plain": [
       "<Figure size 720x432 with 1 Axes>"
>>>>>>> Stashed changes
      ]
     },
     "metadata": {
      "needs_background": "light"
     },
     "output_type": "display_data"
    }
   ],
   "source": [
    "# count of home favorites that actually won\n",
<<<<<<< Updated upstream
    "sns.countplot(df['HomeTeam_Favorite'], hue=df['FullTime_Result'])"
=======
    "plt.figure(figsize=(10,6))\n",
    "sns.countplot(df['HomeTeam_Favorite'], hue=df['FullTime_Result'], palette='flare')\n",
    "plt.xticks([0,1], ['Away','Home'])\n",
    "plt.xlabel('Favorite', fontsize=15)\n",
    "plt.title('Match Results', fontsize=20)"
>>>>>>> Stashed changes
   ]
  },
  {
   "cell_type": "code",
   "execution_count": 33,
   "id": "131f0107",
   "metadata": {},
   "outputs": [
    {
     "name": "stderr",
     "output_type": "stream",
     "text": [
      "/opt/anaconda3/envs/learn-env/lib/python3.8/site-packages/seaborn/_decorators.py:36: FutureWarning: Pass the following variable as a keyword arg: x. From version 0.12, the only valid positional argument will be `data`, and passing other arguments without an explicit keyword will result in an error or misinterpretation.\n",
      "  warnings.warn(\n"
     ]
    },
    {
     "data": {
      "text/plain": [
       "<AxesSubplot:xlabel='Favorite_Winner', ylabel='count'>"
      ]
     },
     "execution_count": 33,
     "metadata": {},
     "output_type": "execute_result"
    },
    {
     "data": {
      "image/png": "iVBORw0KGgoAAAANSUhEUgAAAYsAAAEHCAYAAABfkmooAAAAOXRFWHRTb2Z0d2FyZQBNYXRwbG90bGliIHZlcnNpb24zLjMuMSwgaHR0cHM6Ly9tYXRwbG90bGliLm9yZy/d3fzzAAAACXBIWXMAAAsTAAALEwEAmpwYAAAZMElEQVR4nO3de5RcdZmv8edNAoSBZBQICjSZhDEouU2AEMAAoojhxBzD1QnDCBzAqAc48TbHMEsuMoYjoygK6lnMGibgkgQUAxmWgBIFJICxI1Eg3LImOdDhGgRNEMiF9/xRO7EInd6V0NXVXfV81qpVtd/al7d6dfqb/du79o7MRJKkrvRrdAOSpN7PsJAklTIsJEmlDAtJUinDQpJUakCjG6iX3XbbLYcNG9boNiSpT1m8ePGqzByyeb1pw2LYsGG0t7c3ug1J6lMi4v91VncYSpJUyrCQJJUyLCRJpZr2mEVn1q1bR0dHB6+99lqjW2kKAwcOpK2tje22267RrUiqs5YKi46ODgYNGsSwYcOIiEa306dlJi+++CIdHR0MHz680e1IqrOWGoZ67bXX2HXXXQ2KbhAR7Lrrru6lSS2ipcICMCi6kT9LqXW0XFhIkraeYSFJKtVSB7g7079/f8aMGbNp+qabbmJLlwmZPXs27e3tXHnllVx00UXsvPPOLF++nIULF7J27VqWL1/Oe9/7XgC+/OUvc/XVV3Pdddfxjne8o9v7vvPOO5k6dSr77LMPr776KlOmTOEb3/hGt61/xYoVTJkyhYceeoglS5bw9NNPM3ny5G5bv9TbTbxiYqNb2GoLz11Yt3W3fFjsuOOOLFmyZJuX/+53vwv85Y9r9bpOPPHEt9ld1w4//HBuueUWXn31Vfbff3+OO+44Jk7s/l/wJUuW0N7eblhILaxuw1ARsXdE/DIiHomIhyNiRlG/KCJWRsSS4jG5apnzImJZRDwWEZOq6gdGxIPFe9+JOh9ZHTZsGKtWrQKgvb2dI4888m2tZ8WKFbzvfe/jrLPOYvTo0ZxyyinccccdTJw4kREjRrBo0SIAXnnlFc444wwOOugg9t9/f26++eaatrPjjjsybtw4Vq5cCcDPfvYzDj30UA444ABOOukk1qxZA8DMmTMZOXIkY8eO5Ytf/CIAp59+Oj/+8Y83rWvnnXd+07rXrl3LBRdcwPXXX8+4ceO4/vrrt+lnIalvq+eexXrgC5n524gYBCyOiJ8X730rM980ZhIRI4FpwChgT+COiNg3MzcA3wemA/cDPwWOAW7tjiZfffVVxo0bB8Dw4cOZN29ed6z2LZYtW8aPfvQjrrrqKg466CCuu+467rnnHubPn88ll1zCTTfdxKxZs/jQhz7E1Vdfzcsvv8yECRP48Ic/zE477dTlul966SWeeOIJjjjiCFatWsVXv/pV7rjjDnbaaScuvfRSvvnNb3LOOecwb948Hn30USKCl19+uaa+t99+ey6++OJNw2+SWlPdwiIznwGeKV6vjohHgL26WGQqMDczXweWR8QyYEJErAAGZ+Z9ABFxLXAs3RQWb3cYqlbDhw/fdGxk1KhRHHXUUUQEY8aMYcWKFUBlj2D+/Pmbjj289tprPPnkk+y3336drvNXv/oVY8eO5bHHHmPmzJm8+93v5pZbbmHp0qWbhqPWrl3LoYceyuDBgxk4cCBnnXUWH/3oR5kyZUrdP7Ok5tEjxywiYhiwP/BrYCJwTkScCrRT2ft4iUqQ3F+1WEdRW1e83rze2XamU9kDYejQodvc74ABA3jjjTcAuu1LZzvssMOm1/369ds03a9fP9avXw9UvhV94403bjpIXmbjMYvHH3+cww47jOOOO47M5Oijj2bOnDlvmX/RokUsWLCAuXPncuWVV/KLX/ziTZ81M1m7du3b/aiSmlDdT52NiJ2BG4HPZuafqAwp/S0wjsqex2UbZ+1k8eyi/tZi5lWZOT4zxw8Z8pZ7d9Rs2LBhLF68GIAbb7xxm9eztSZNmsQVV1xBZuXjPfDAAzUtt++++3Leeedx6aWXcsghh7Bw4UKWLVsGwJ///Gcef/xx1qxZwx//+EcmT57M5Zdfvmlvqvqz3nzzzaxbt+4t6x80aBCrV6/uhk8oqa+qa1hExHZUguKHmfkTgMx8LjM3ZOYbwL8BE4rZO4C9qxZvA54u6m2d1OvmwgsvZMaMGRx++OH079+/npt6k/PPP59169YxduxYRo8ezfnnn1/zsp/+9Ke5++67WbNmDbNnz+bkk09m7NixHHLIITz66KOsXr2aKVOmMHbsWD7wgQ/wrW99C4BPfvKT3HXXXUyYMIFf//rXnR4f+eAHP8jSpUs9wC21sNj4v9huX3HljKVrgD9k5mer6nsUxzOIiM8BB2fmtIgYBVxHJTz2BBYAIzJzQ0T8BjiXyjDWT4ErMvOnXW1//Pjxufmd8h555JEtjv9r2/gzVbNq1e9ZRMTizBy/eb2exywmAp8AHoyIJUXtn4GTI2IclaGkFcCnADLz4Yi4AVhK5Uyqs4szoQA+A8wGdqRyYLtbDm5LkmpTz7Oh7qHz4w1b3CPIzFnArE7q7cDo7uuu77j99tv50pe+9KZaPU/xlaTOtPw3uHu7SZMmMWnSpPIZJamOvJCgJKmUYSFJKmVYSJJKecyimx34T9d26/oWf/3Umua77bbbmDFjBhs2bOCss85i5syZ3dqHpNbmnkUT2LBhA2effTa33norS5cuZc6cOSxdurTRbUlqIoZFE1i0aBHvec972Geffdh+++2ZNm1azZc3l6RaGBZNYOXKley991+ulNLW1rbp3haS1B0MiybQ2SVb6nx/KEktxrBoAm1tbTz11FObpjs6Othzzz0b2JGkZmNYNIGDDjqIJ554guXLl7N27Vrmzp3Lxz72sUa3JamJeOpsN6v1VNfuNGDAAK688komTZrEhg0bOOOMMxg1alSP9yGpeRkWTWLy5MlMnjy50W1IalIOQ0mSShkWkqRShoUkqZRhIUkqZVhIkkoZFpKkUp46282evHhMt65v6AUPls5zxhlncMstt7D77rvz0EMPdev2JQncs2gKp59+Orfddluj25DUxAyLJnDEEUewyy67NLoNSU3MsJAklTIsJEmlDAtJUinDQpJUylNnu1ktp7p2t5NPPpk777yTVatW0dbWxle+8hXOPPPMHu9DUvMyLJrAnDlzGt2CpCbnMJQkqZRhIUkqZVhIkkrVLSwiYu+I+GVEPBIRD0fEjKK+S0T8PCKeKJ7fWbXMeRGxLCIei4hJVfUDI+LB4r3vRETUq29J0lvVc89iPfCFzNwPOAQ4OyJGAjOBBZk5AlhQTFO8Nw0YBRwDfC8i+hfr+j4wHRhRPI6pY9+SpM3ULSwy85nM/G3xejXwCLAXMBW4ppjtGuDY4vVUYG5mvp6Zy4FlwISI2AMYnJn3ZWYC11YtI0nqAT1y6mxEDAP2B34NvCszn4FKoETE7sVsewH3Vy3WUdTWFa83r/dKE6+Y2K3rW3juwtJ5nnrqKU499VSeffZZ+vXrx/Tp05kxY0a39iGptdU9LCJiZ+BG4LOZ+acuDjd09kZ2Ue9sW9OpDFcxdOjQrW+2jxowYACXXXYZBxxwAKtXr+bAAw/k6KOPZuTIkY1uTVKTqOvZUBGxHZWg+GFm/qQoP1cMLVE8P1/UO4C9qxZvA54u6m2d1N8iM6/KzPGZOX7IkCHd90F6uT322IMDDjgAgEGDBrHffvuxcuXKBnclqZnU82yoAP4deCQzv1n11nzgtOL1acDNVfVpEbFDRAynciB7UTFktToiDinWeWrVMtrMihUreOCBBzj44IMb3YqkJlLPYaiJwCeAByNiSVH7Z+BrwA0RcSbwJHASQGY+HBE3AEupnEl1dmZuKJb7DDAb2BG4tXhoM2vWrOGEE07g8ssvZ/DgwY1uR1ITqVtYZOY9dH68AeCoLSwzC5jVSb0dGN193TWfdevWccIJJ3DKKadw/PHHN7odSU3Gb3A3gczkzDPPZL/99uPzn/98o9uR1IS86mw3q+VU127f5sKF/OAHP2DMmDGMGzcOgEsuuYTJkyf3eC+SmpNh0QQOO+wwKt9XlKT6cBhKklTKsJAklWq5sHC4pvv4s5RaR0uFxcCBA3nxxRf9I9cNMpMXX3yRgQMHNroVST2gpQ5wt7W10dHRwQsvvNDoVprCwIEDaWtrK59RUp/XUmGx3XbbMXz48Ea3IUl9TksNQ0mSto1hIUkqZVhIkkoZFpKkUoaFJKmUYSFJKmVYSJJKGRaSpFKGhSSplGEhSSplWEiSShkWkqRShoUkqVRLXXW22T158ZhGt7DVhl7wYKNbkFQD9ywkSaUMC0lSKcNCklTKsJAklTIsJEmlDAtJUinDQpJUyrCQJJUyLCRJpeoWFhFxdUQ8HxEPVdUuioiVEbGkeEyueu+8iFgWEY9FxKSq+oER8WDx3nciIurVsySpc/Xcs5gNHNNJ/VuZOa54/BQgIkYC04BRxTLfi4j+xfzfB6YDI4pHZ+uUJNVR3cIiM+8G/lDj7FOBuZn5emYuB5YBEyJiD2BwZt6XmQlcCxxbl4YlSVvUiGMW50TE74thqncWtb2Ap6rm6ShqexWvN693KiKmR0R7RLS/8MIL3d23JLWsmsIiIhbUUqvB94G/BcYBzwCXbVxdJ/NmF/VOZeZVmTk+M8cPGTJkG9qTJHWmy0uUR8RA4K+A3Yq9gI1/vAcDe27txjLzuap1/xtwSzHZAexdNWsb8HRRb+ukLknqQWV7Fp8CFgPvK543Pm4Gvru1GyuOQWx0HLDxTKn5wLSI2CEihlM5kL0oM58BVkfEIcVZUKcW25Yk9aAu9ywy89vAtyPi3My8YmtWHBFzgCOp7JV0ABcCR0bEOCpDSSuohBGZ+XBE3AAsBdYDZ2fmhmJVn6FyZtWOwK3FQ5LUg2q6U15mXhER7weGVS+Tmdd2sczJnZT/vYv5ZwGzOqm3A6Nr6VOSVB81hUVE/IDKgeklwMb/8W88lVWS1ORqvQf3eGBk8V0HSVKLqfV7Fg8B765nI5Kk3qvWPYvdgKURsQh4fWMxMz9Wl64kSb1KrWFxUT2bkCT1brWeDXVXvRuRJPVetZ4NtZq/XGZje2A74JXMHFyvxiRJvUetexaDqqcj4lhgQj0akiT1Ptt01dnMvAn4UPe2IknqrWodhjq+arIfle9d+J0LSWoRtZ4N9d+rXq+ncl2nqd3ejSSpV6r1mMX/qHcjkqTeq9abH7VFxLyIeD4inouIGyOirXxJSVIzqPUA939QuefEnlRua/qfRU2S1AJqDYshmfkfmbm+eMwGvG+pJLWIWsNiVUT8Y0T0Lx7/CLxYz8YkSb1HrWFxBvBx4FngGeBEwIPektQiaj119l+A0zLzJYCI2AX4BpUQkSQ1uVr3LMZuDAqAzPwDsH99WpIk9Ta1hkW/iHjnxoliz6LWvRJJUh9X6x/8y4B7I+LHVC7z8XFgVt26kiT1KrV+g/vaiGincvHAAI7PzKV17UyS1GvUPJRUhIMBIUktaJsuUS5Jai2GhSSplGEhSSplWEiSShkWkqRShoUkqZRhIUkqZVhIkkrV7fpOEXE1MAV4PjNHF7VdgOuBYcAK4ONVV7I9DzgT2AD8r8y8vagfCMwGdgR+CszIzKxX31JfcOA/XdvoFrbK4q+f2ugW9DbVc89iNnDMZrWZwILMHAEsKKaJiJHANGBUscz3IqJ/scz3genAiOKx+TolSXVWt7DIzLuBP2xWngpcU7y+Bji2qj43M1/PzOXAMmBCROwBDM7M+4q9iWurlpEk9ZCePmbxrsx8BqB43r2o7wU8VTVfR1Hbq3i9eb1TETE9Itojov2FF17o1sYlqZX1lgPc0Uktu6h3KjOvyszxmTl+yJAh3dacJLW6ng6L54qhJYrn54t6B7B31XxtwNNFva2TuiSpB/V0WMwHTitenwbcXFWfFhE7RMRwKgeyFxVDVasj4pCICODUqmUkST2knqfOzgGOBHaLiA7gQuBrwA0RcSbwJHASQGY+HBE3ULlfxnrg7MzcUKzqM/zl1Nlbi4ckqQfVLSwy8+QtvHXUFuafRSe3as3MdmB0N7YmSdpKveUAtySpFzMsJEml6jYM1df1tcspAMwb1OgOJDUr9ywkSaUMC0lSKcNCklTKsJAklTIsJEmlDAtJUinDQpJUyrCQJJUyLCRJpQwLSVIpw0KSVMqwkCSVMiwkSaUMC0lSKcNCklTKsJAklTIsJEmlDAtJUinDQpJUyrCQJJUyLCRJpQwLSVIpw0KSVMqwkCSVMiwkSaUMC0lSKcNCklTKsJAklWpIWETEioh4MCKWRER7UdslIn4eEU8Uz++smv+8iFgWEY9FxKRG9CxJrayRexYfzMxxmTm+mJ4JLMjMEcCCYpqIGAlMA0YBxwDfi4j+jWhYklpVbxqGmgpcU7y+Bji2qj43M1/PzOXAMmBCz7cnSa2rUWGRwM8iYnFETC9q78rMZwCK592L+l7AU1XLdhQ1SVIPGdCg7U7MzKcjYnfg5xHxaBfzRie17HTGSvBMBxg6dOjb71J1N/GKiY1uYassPHdho1uQGqIhexaZ+XTx/Dwwj8qw0nMRsQdA8fx8MXsHsHfV4m3A01tY71WZOT4zxw8ZMqRe7UtSy+nxsIiInSJi0MbXwEeAh4D5wGnFbKcBNxev5wPTImKHiBgOjAAW9WzXktTaGjEM9S5gXkRs3P51mXlbRPwGuCEizgSeBE4CyMyHI+IGYCmwHjg7Mzc0oG9Jalk9HhaZ+V/A33VSfxE4agvLzAJm1bk1SdIW9KZTZyVJvZRhIUkqZVhIkkoZFpKkUoaFJKmUYSFJKmVYSJJKGRaSpFKGhSSplGEhSSplWEiSShkWkqRShoUkqZRhIUkqZVhIkkoZFpKkUoaFJKmUYSFJKmVYSJJKGRaSpFKGhSSplGEhSSplWEiSShkWkqRShoUkqZRhIUkqZVhIkkoZFpKkUoaFJKmUYSFJKmVYSJJKGRaSpFJ9Jiwi4piIeCwilkXEzEb3I0mtpE+ERUT0B74L/DdgJHByRIxsbFeS1Dr6RFgAE4BlmflfmbkWmAtMbXBPktQyIjMb3UOpiDgROCYzzyqmPwEcnJnnbDbfdGB6Mfle4LEebbR57QasanQT0hb4+9m9/iYzh2xeHNCITrZBdFJ7S8pl5lXAVfVvp7VERHtmjm90H1Jn/P3sGX1lGKoD2Ltqug14ukG9SFLL6Sth8RtgREQMj4jtgWnA/Ab3JEkto08MQ2Xm+og4B7gd6A9cnZkPN7itVuLQnnozfz97QJ84wC1Jaqy+MgwlSWogw0KSVMqwUJe8zIp6q4i4OiKej4iHGt1LKzAstEVeZkW93GzgmEY30SoMC3XFy6yo18rMu4E/NLqPVmFYqCt7AU9VTXcUNUktxrBQV2q6zIqk5mdYqCteZkUSYFioa15mRRJgWKgLmbke2HiZlUeAG7zMinqLiJgD3Ae8NyI6IuLMRvfUzLzchySplHsWkqRShoUkqZRhIUkqZVhIkkoZFpKkUoaFJKmUYaGmFBEbImJJ1WNYHbd1b/E8LCL+YRvXMS8ijq2afiwivlw1fWNEHB8Rn46IU99209JW6hP34Ja2wauZOa6eG4iI/pm5ITPfX5SGAf8AXLcNq7sXeD9wU0TsCqwBDq16/1Dg7Mx89m20XJONn6ve21Hf4p6FWkJE7BwRCyLitxHxYERMLeqXRsT/rJrvooj4QlR8PSIeKub/++L9IyPilxFxHfBgUVtTLP414PBiT+ZzEdG/WMdvIuL3EfGpLlpcSCUsKJ5vAYYUfQynEn7PFv19sdjunUX/iyLi8Yg4vKifHhE/iYjbIuKJiPjXqs/3kYi4r/g5/Cgidi7qKyLigoi4Bzjp7f681Xzcs1Cz2jEilhSvl1P5A3hcZv4pInYD7o+I+VTu0XE58L1i3o9TuaHO8cA44O+A3YDfRMTdxTwTgNGZuXyzbc4EvpiZUwAiYjrwx8w8KCJ2ABZGxM86WQ5gMTC6uAbX+4G7gH2A/YD9qYRJZwZk5oSImAxcCHy4qI8rlnsdeCwirgBeBb4MfDgzX4mILwGfBy4ulnktMw/bwnbU4gwLNas3DUNFxHbAJRFxBPAGlftyvCszH4iI3SNiT2AI8FJmPhkRnwPmFMMxz0XEXcBBwJ+ARVv4g7+5jwBjI+LEYvqvgRFUwutNMvP1iHgYOAA4BPhXKmHxfip/9O/dwjZ+UjwvpjIMttGCzPxj8dmXAn8DvIPKHQ8XRgTA9lSurbTR9TV8JrUow0Kt4hQqYXBgZq6LiBXAwOK9HwMnAu+msqcBnd/LY6NXatxmAOdm5u01zn8vcAQwKDNfioj7qVzIcX/g/25hmdeL5w28+d/z61WvN74XwM8z8+QtrKvWz6UW5DELtYq/Bp4vguKDVP6nvdFcKpdfP5FKcADcDfx9cdxhCJU/4otKtrEaGFQ1fTvwmWKvhojYNyJ26mL5hcCngN8V07+nspcxFOiOq/3eD0yMiPcU/fxVROzbDetVC3DPQq3ih8B/RkQ7sAR4dOMbmflwRAwCVmbmM0V5HpUzkH5H5e6A/7s4wPy+Lrbxe2B9RPwOmA18m8rQ0G+jMu7zAnBsF8vfS2Xo6f8Ufa2PiOeBpzLzja36tJ3IzBci4nRgTnEMBSrHMB5/u+tW8/MS5ZKkUg5DSZJKOQwl9aCIGAP8YLPy65l5cCP6kWrlMJQkqZTDUJKkUoaFJKmUYSFJKmVYSJJK/X8w+hYieh3vgAAAAABJRU5ErkJggg==\n",
      "text/plain": [
       "<Figure size 432x288 with 1 Axes>"
      ]
     },
     "metadata": {
      "needs_background": "light"
     },
     "output_type": "display_data"
    }
   ],
   "source": [
    "sns.countplot(df['Favorite_Winner'], hue=df['FullTime_Result'])"
   ]
  },
  {
   "cell_type": "code",
<<<<<<< Updated upstream
   "execution_count": 34,
=======
   "execution_count": 129,
>>>>>>> Stashed changes
   "id": "d581eb48",
   "metadata": {},
   "outputs": [
    {
     "name": "stderr",
     "output_type": "stream",
     "text": [
      "/opt/anaconda3/envs/learn-env/lib/python3.8/site-packages/seaborn/_decorators.py:36: FutureWarning: Pass the following variable as a keyword arg: x. From version 0.12, the only valid positional argument will be `data`, and passing other arguments without an explicit keyword will result in an error or misinterpretation.\n",
      "  warnings.warn(\n"
     ]
    },
    {
     "data": {
      "text/plain": [
<<<<<<< Updated upstream
       "<AxesSubplot:xlabel='FullTime_Result', ylabel='count'>"
      ]
     },
     "execution_count": 34,
=======
       "Text(0.5, 0, 'Result')"
      ]
     },
     "execution_count": 129,
>>>>>>> Stashed changes
     "metadata": {},
     "output_type": "execute_result"
    },
    {
     "data": {
<<<<<<< Updated upstream
      "image/png": "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\n",
      "text/plain": [
       "<Figure size 432x288 with 1 Axes>"
=======
      "image/png": "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\n",
      "text/plain": [
       "<Figure size 720x576 with 1 Axes>"
>>>>>>> Stashed changes
      ]
     },
     "metadata": {
      "needs_background": "light"
     },
     "output_type": "display_data"
    }
   ],
   "source": [
    "# Distribution of results\n",
<<<<<<< Updated upstream
    "sns.countplot(df['FullTime_Result'])"
=======
    "plt.figure(figsize=(10,8))\n",
    "sns.countplot(df['FullTime_Result'], palette='flare')\n",
    "plt.xticks([0,1,2], ['Away Win','Draw','Home Win'])\n",
    "plt.title('Distribution of Full-Time Results', fontsize=20)\n",
    "plt.xlabel('Result', fontsize=18)\n"
>>>>>>> Stashed changes
   ]
  },
  {
   "cell_type": "code",
   "execution_count": 35,
   "id": "27888793",
   "metadata": {},
   "outputs": [
    {
     "name": "stderr",
     "output_type": "stream",
     "text": [
      "/opt/anaconda3/envs/learn-env/lib/python3.8/site-packages/seaborn/_decorators.py:36: FutureWarning: Pass the following variable as a keyword arg: x. From version 0.12, the only valid positional argument will be `data`, and passing other arguments without an explicit keyword will result in an error or misinterpretation.\n",
      "  warnings.warn(\n"
     ]
    },
    {
     "data": {
      "text/plain": [
       "<AxesSubplot:xlabel='HalfTime_Result', ylabel='count'>"
      ]
     },
     "execution_count": 35,
     "metadata": {},
     "output_type": "execute_result"
    },
    {
     "data": {
      "image/png": "iVBORw0KGgoAAAANSUhEUgAAAYsAAAEHCAYAAABfkmooAAAAOXRFWHRTb2Z0d2FyZQBNYXRwbG90bGliIHZlcnNpb24zLjMuMSwgaHR0cHM6Ly9tYXRwbG90bGliLm9yZy/d3fzzAAAACXBIWXMAAAsTAAALEwEAmpwYAAAba0lEQVR4nO3de5RU5Z3u8e8DqDAKEy+YII2n0aCR2zTSEgxqjMbgEMZrTGA5UQ8YYpZmyHHiEU/iJU5wxom3DBjPIkeGkBPBC0EJJ94w8UZU0ihRBBESGGkgChgVIgq0v/NH7cYSi96FVtWmq57PWrXY+619+VW38vC+e9e7FRGYmZm1pUPWBZiZ2Z7PYWFmZqkcFmZmlsphYWZmqRwWZmaWqlPWBZTLQQcdFPX19VmXYWbWrixcuHBDRHTfub1qw6K+vp6mpqasyzAza1ck/Vehdg9DmZlZKoeFmZmlcliYmVmqqr1mUci2bdtobm7mnXfeybqUqtC5c2fq6urYa6+9si7FzMqspsKiubmZrl27Ul9fj6Ssy2nXIoKNGzfS3NxM7969sy7HzMqspoah3nnnHQ488EAHRQlI4sADD3QvzaxG1FRYAA6KEvLP0qx21FxYmJnZ7nNYmJlZqpq6wF1Ix44dGTBgwI71e++9l11NEzJt2jSampqYPHky11xzDfvttx8rV65k/vz5bN26lZUrV3LkkUcC8P3vf5+pU6dyxx138IlPfKLkdT/66KOcfvrpHHbYYWzZsoWRI0dyww03lOz4q1atYuTIkSxevJhFixaxdu1aRowYUbLjm9WiYZOGVfyc8789vyTHqfmw6NKlC4sWLfrI+996663A+3+55h/rK1/5ysesrm3HH388c+fOZcuWLQwaNIgzzzyTYcNK/x/jokWLaGpqcliY1TAPQxVQX1/Phg0bAGhqauLEE0/8WMdZtWoVn/nMZ7jwwgvp378/5557LvPmzWPYsGH06dOHBQsWAPDXv/6VMWPGcMwxxzBo0CDuu+++os7TpUsXGhoaWLNmDQAPPfQQxx57LEcffTTnnHMOmzdvBmDChAn07duXgQMH8t3vfheACy64gHvuuWfHsfbbb78PHHvr1q1cddVV3HnnnTQ0NHDnnXd+pJ+FmbVvNd+z2LJlCw0NDQD07t2b2bNnl+U8K1as4O6772bKlCkcc8wx3HHHHTz55JPMmTOH6667jnvvvZeJEydy0kknMXXqVN544w2GDBnCF7/4Rfbdd982j/2Xv/yF5cuXc8IJJ7BhwwZ++MMfMm/ePPbdd1+uv/56brrpJi655BJmz57NSy+9hCTeeOONouree++9ufbaa3cMv5lZbar5sPi4w1DF6t27945rI/369ePkk09GEgMGDGDVqlVArkcwZ86cHdce3nnnHV555RWOOuqogsd84oknGDhwIMuWLWPChAl86lOfYu7cuSxZsmTHcNTWrVs59thj6datG507d+bCCy/ky1/+MiNHjiz7Zzaz6lHzYVFIp06deO+99wBK9qWzffbZZ8dyhw4ddqx36NCB7du3A7lvRc+aNWvHRfI0rdcsXn75ZY477jjOPPNMIoJTTjmFGTNmfGj7BQsW8MgjjzBz5kwmT57Mb37zmw981ohg69atH/ejmlkV8jWLAurr61m4cCEAs2bNqth5hw8fzqRJk4gIAJ577rmi9jviiCO44ooruP766xk6dCjz589nxYoVALz99tu8/PLLbN68mTfffJMRI0Zwyy237OhN5X/W++67j23btn3o+F27dmXTpk0l+IRm1l45LAq4+uqrGT9+PMcffzwdO3as2HmvvPJKtm3bxsCBA+nfvz9XXnll0ftedNFFPP7442zevJlp06YxevRoBg4cyNChQ3nppZfYtGkTI0eOZODAgXz+85/n5ptvBuAb3/gGjz32GEOGDOGZZ54peH3kC1/4AkuWLPEFbrMaptZ/xVabxsbG2PlJeUuXLt3l+L99NP6ZmhWvPXzPQtLCiGjcud09CzMzS+UL3Hu4Bx98kMsvv/wDbeW8xdfMrJCyhYWkqcBI4LWI6J+03Qm03urzCeCNiGiQVA8sBZYl7z0dERcl+wwGpgFdgF8D46Nax84KGD58OMOHD8+6DDOrceXsWUwDJgPTWxsi4muty5JuBN7M2/6PEdFQ4Di3AeOAp8mFxanA/aUv18zMdqVs1ywi4nHg9ULvKfcghK8CH/4ywAe36wF0i4inkt7EdOCMEpdqZmYpsrrAfTzwakQsz2vrLek5SY9JOj5p6wk0523TnLQVJGmcpCZJTevXry991WZmNSqrC9yj+WCvYh1waERsTK5R3CupH1DoUWy7vF4REVOAKZC7dbaE9RZt8GXT0zfaDQt/dF5R2z3wwAOMHz+elpYWLrzwQiZMmFDSOsystlW8ZyGpE3AWsOPbXRHxbkRsTJYXAn8EjiDXk6jL270OWFu5atuHlpYWLr74Yu6//36WLFnCjBkzWLJkSdZlmVkVyWIY6ovASxGxY3hJUndJHZPlw4A+wJ8iYh2wSdLQ5DrHeUBx83bXkAULFvDpT3+aww47jL333ptRo0YVPb25mVkxyhYWkmYATwFHSmqWNDZ5axQfvrB9AvC8pD8A9wAXRUTrxfFvAf8HWEGux+E7oXayZs0aevXqtWO9rq5ux7MtzMxKoWzXLCJi9C7aLyjQNgsoOGNfRDQB/UtaXJUp9LWTXEfMzKw0PN1HFairq2P16tU71pubmznkkEMyrMjMqo3Dogocc8wxLF++nJUrV7J161ZmzpzJaaedlnVZZlZFPDdUiRV7q2spderUicmTJzN8+HBaWloYM2YM/fr1q3gdZla9HBZVYsSIEYwYMSLrMsysSnkYyszMUjkszMwslcPCzMxSOSzMzCyVw8LMzFI5LMzMLJVvnS2xV64dUNLjHXrVC6nbjBkzhrlz53LwwQezePHikp7fzAzcs6gKF1xwAQ888EDWZZhZFXNYVIETTjiBAw44IOsyzKyKOSzMzCyVw8LMzFI5LMzMLJXDwszMUvnW2RIr5lbXUhs9ejSPPvooGzZsoK6ujh/84AeMHTs2fUczsyI5LKrAjBk7P9LczKy0yjYMJWmqpNckLc5ru0bSGkmLkteIvPeukLRC0jJJw/PaB0t6IXnvP+SHS5uZVVw5r1lMA04t0H5zRDQkr18DSOoLjAL6Jfv8RFLHZPvbgHFAn+RV6JhmZlZGZQuLiHgceL3IzU8HZkbEuxGxElgBDJHUA+gWEU9FRADTgTPKUrCZme1SFndDXSLp+WSYav+krSewOm+b5qStZ7K8c3tBksZJapLUtH79+lLXbWZWsyodFrcBhwMNwDrgxqS90HWIaKO9oIiYEhGNEdHYvXv3j1mqmZm1qmhYRMSrEdESEe8BPwWGJG81A73yNq0D1ibtdQXazcysgip666ykHhGxLlk9E2i9U2oOcIekm4BDyF3IXhARLZI2SRoKPAOcB0yqZM27a9ikYSU93vxvz0/dZvXq1Zx33nn8+c9/pkOHDowbN47x48eXtA4zq21lCwtJM4ATgYMkNQNXAydKaiA3lLQK+CZARLwo6S5gCbAduDgiWpJDfYvcnVVdgPuTl+Xp1KkTN954I0cffTSbNm1i8ODBnHLKKfTt2zfr0sysSpQtLCJidIHm29vYfiIwsUB7E9C/hKVVnR49etCjRw8AunbtylFHHcWaNWscFmZWMp4bqsqsWrWK5557js9+9rNZl2JmVcRhUUU2b97M2WefzS233EK3bt2yLsfMqojDokps27aNs88+m3PPPZezzjor63LMrMo4LKpARDB27FiOOuooLr300qzLMbMq5FlnS6yYW11Lfs758/n5z3/OgAEDaGhoAOC6665jxIgRbe9oZlYkh0UVOO6448hNnWVmVh4ehjIzs1QOCzMzS1VzYeHhmtLxz9KsdtRUWHTu3JmNGzf6L7kSiAg2btxI586dsy7FzCqgpi5w19XV0dzcjJ91URqdO3emrq4ufUMza/dqKiz22msvevfunXUZZmbtTk0NQ5mZ2UfjsDAzs1QOCzMzS+WwMDOzVA4LMzNL5bAwM7NUZQsLSVMlvSZpcV7bjyS9JOl5SbMlfSJpr5e0RdKi5PW/8/YZLOkFSSsk/YcklatmMzMrrJw9i2nAqTu1PQz0j4iBwMvAFXnv/TEiGpLXRXnttwHjgD7Ja+djmplZmZUtLCLiceD1ndoeiojtyerTQJtf/5XUA+gWEU9Fbo6O6cAZZSjXzMzakOU1izHA/XnrvSU9J+kxSccnbT2B5rxtmpO2giSNk9QkqclTepiZlU4mYSHpe8B24BdJ0zrg0IgYBFwK3CGpG1Do+sQuZwGMiCkR0RgRjd27dy912WZmNavic0NJOh8YCZycDC0REe8C7ybLCyX9ETiCXE8if6iqDlhb2YrNzKyiPQtJpwKXA6dFxNt57d0ldUyWDyN3IftPEbEO2CRpaHIX1HnAfZWs2czMytizkDQDOBE4SFIzcDW5u5/2AR5O7oB9Ornz6QTgWknbgRbgoohovTj+LXJ3VnUhd40j/zqHmZlVQNnCIiJGF2i+fRfbzgJm7eK9JqB/CUszM7Pd5G9wm5lZKoeFmZmlcliYmVkqh4WZmaVyWJiZWSqHhZmZpXJYmJlZKoeFmZmlcliYmVkqh4WZmaVyWJiZWaqKT1G+Jxp82fRMzrvwR+dlcl4zs91VVM9C0iPFtJmZWXVqs2chqTPwN+SmGd+f959c1w04pMy1mZnZHiJtGOqbwHfIBcNC3g+Lt4Bby1eWmZntSdoMi4j4MfBjSd+OiEkVqsnMzPYwRV3gjohJkj4H1OfvExHZXBk2M7OKKiosJP0cOBxYRO6xpwABOCzMzGpAsbfONgJ9IyLKWYyZme2Zig2LxcCngHXFHljSVGAk8FpE9E/aDgDuJDectQr4akT8JXnvCmAsuZ7LP0XEg0n7YGAa0AX4NTDeoWVZe+XaAZmc99CrXsjkvGbFhsVBwBJJC4B3Wxsj4rQ29pkGTOaDQ1UTgEci4t8kTUjWL5fUFxgF9CN359U8SUdERAtwGzAOeJpcWJwK3F9k3WZVZdikYZmcd/6352dyXttzFBsW1+zugSPicUn1OzWfDpyYLP8MeBS4PGmfGRHvAislrQCGSFoFdIuIpwAkTQfOwGFhZlZRxd4N9ViJzvfJiFiXHHOdpIOT9p7keg6tmpO2bcnyzu0FSRpHrhfCoYceWqKSzcys2Ok+Nkl6K3m9I6lF0lslrEMF2qKN9oIiYkpENEZEY/fu3UtWnJlZrSu2Z9E1f13SGcCQj3C+VyX1SHoVPYDXkvZmoFfednXA2qS9rkC7mZlV0Eeaojwi7gVO+gi7zgHOT5bPB+7Lax8laR9JvYE+wIJkyGqTpKGSBJyXt4+ZmVVIsV/KOytvtQO57120efuqpBnkLmYfJKkZuBr4N+AuSWOBV4BzACLiRUl3AUuA7cDFyZ1QAN/i/Vtn78cXt83MKq7Yu6H+IW95O7nvSJze1g4RMXoXb528i+0nAhMLtDcB/Yuq0szMyqLYaxb/vdyFmJnZnqvYu6HqJM2W9JqkVyXNklSXvqeZmVWDYi9w/ye5i9CHkPuew6+SNjMzqwHFhkX3iPjPiNievKYB/iKDmVmNKDYsNkj6R0kdk9c/AhvLWZiZme05ig2LMcBXgT+Tm3n2K4AvepuZ1Yhib539F+D8vOnEDwBuIBciZmZW5YrtWQxsDQqAiHgdGFSekszMbE9TbFh0kLR/60rSsyi2V2JmZu1csX/h3wj8TtI95Kb5+CoFvm1tZmbVqdhvcE+X1ERu8kABZ0XEkrJWZmZme4yih5KScHBAmJnVoI80RbmZmdUWh4WZmaVyWJiZWSqHhZmZpXJYmJlZKoeFmZmlqnhYSDpS0qK811uSviPpGklr8tpH5O1zhaQVkpZJGl7pms3Mal3Fp+yIiGVAA4CkjsAaYDa5WWxvjogb8reX1BcYBfQj9/CleZKOiIiWStZtZlbLsh6GOhn4Y0T8VxvbnA7MjIh3I2IlsAIYUpHqzMwMyD4sRgEz8tYvkfS8pKl5Exf2BFbnbdOctH2IpHGSmiQ1rV+/vjwVm5nVoMzCQtLewGnA3UnTbcDh5Iao1pGbvBByc1HtLAodMyKmRERjRDR27+6nvpqZlUqWPYu/B56NiFcBIuLViGiJiPeAn/L+UFMz0CtvvzpgbUUrNTOrcVmGxWjyhqAk9ch770xgcbI8BxglaR9JvYE+wIKKVWlmZtk8wEjS3wCnAN/Ma/53SQ3khphWtb4XES9KuovcjLfbgYt9J5S1GnzZ9EzOO7trJqc1y0wmYRERbwMH7tT29Ta2n4gftmRmlpms74YyM7N2wGFhZmapHBZmZpbKYWFmZqkcFmZmlsphYWZmqRwWZmaWymFhZmapHBZmZpbKYWFmZqkcFmZmlsphYWZmqRwWZmaWymFhZmapHBZmZpbKYWFmZqkcFmZmlsphYWZmqRwWZmaWKpOwkLRK0guSFklqStoOkPSwpOXJn/vnbX+FpBWSlkkankXNZma1LMuexRcioiEiGpP1CcAjEdEHeCRZR1JfYBTQDzgV+ImkjlkUbGZWq/akYajTgZ8lyz8DzshrnxkR70bESmAFMKTy5ZmZ1a6swiKAhyQtlDQuaftkRKwDSP48OGnvCazO27c5afsQSeMkNUlqWr9+fZlKNzOrPZ0yOu+wiFgr6WDgYUkvtbGtCrRFoQ0jYgowBaCxsbHgNmZmtvsy6VlExNrkz9eA2eSGlV6V1AMg+fO1ZPNmoFfe7nXA2spVa2ZmFQ8LSftK6tq6DHwJWAzMAc5PNjsfuC9ZngOMkrSPpN5AH2BBZas2M6ttWQxDfRKYLan1/HdExAOSfg/cJWks8ApwDkBEvCjpLmAJsB24OCJaMqjbzKxmVTwsIuJPwN8VaN8InLyLfSYCE8tcmpmZ7cKedOusmZntoRwWZmaWymFhZmapHBZmZpbKYWFmZqkcFmZmlsphYWZmqRwWZmaWymFhZmapHBZmZpbKYWFmZqkcFmZmlsphYWZmqRwWZmaWKqvHqpqZZeaVawdkc+L9u2Vz3hJwWGQoi/9gD73qhYqf08zaPw9DmZlZKoeFmZmlqnhYSOol6beSlkp6UdL4pP0aSWskLUpeI/L2uULSCknLJA2vdM1mZrUui2sW24F/johnJXUFFkp6OHnv5oi4IX9jSX2BUUA/4BBgnqQjIqKlolWbmdWwivcsImJdRDybLG8ClgI929jldGBmRLwbESuBFcCQ8ldqZmatMr1mIakeGAQ8kzRdIul5SVMl7Z+09QRW5+3WzC7CRdI4SU2SmtavX1+uss3Mak5mYSFpP2AW8J2IeAu4DTgcaADWATe2blpg9yh0zIiYEhGNEdHYvXv30hdtZlajMgkLSXuRC4pfRMQvASLi1YhoiYj3gJ/y/lBTM9Arb/c6YG0l6zUzq3VZ3A0l4HZgaUTclNfeI2+zM4HFyfIcYJSkfST1BvoACypVr5mZZXM31DDg68ALkhYlbf8LGC2pgdwQ0yrgmwAR8aKku4Al5O6kuth3QpmZVVbFwyIinqTwdYhft7HPRGBi2YoyM7M2+RvcZmaWymFhZmapHBZmZpbKYWFmZqkcFmZmlsoPP6oxwyYNy+S88789P5PzmllpuGdhZmapHBZmZpbKw1BmlpnBl03P5Lyzu2Zy2nbNPQszM0vlsDAzs1QOCzMzS+WwMDOzVA4LMzNL5bAwM7NUDgszM0vlsDAzs1QOCzMzS+WwMDOzVO0mLCSdKmmZpBWSJmRdj5lZLWkXYSGpI3Ar8PdAX2C0pL7ZVmVmVjvaRVgAQ4AVEfGniNgKzAROz7gmM7Oa0V5mne0JrM5bbwY+u/NGksYB45LVzZKWVaC2j+y/fbzdDwI2lKSQCtA/KesSSqqWfnfg399O2tXv7yP87gr+eNpLWBT6tPGhhogpwJTyl5M9SU0R0Zh1Hbb7/Ltr32r199dehqGagV5563XA2oxqMTOrOe0lLH4P9JHUW9LewChgTsY1mZnVjHYxDBUR2yVdAjwIdASmRsSLGZeVtZoYbqtS/t21bzX5+1PEh4b+zczMPqC9DEOZmVmGHBZmZpbKYdHOeNqT9kvSVEmvSVqcdS22eyT1kvRbSUslvShpfNY1VZqvWbQjybQnLwOnkLud+PfA6IhYkmlhVhRJJwCbgekR0T/reqx4knoAPSLiWUldgYXAGbX0/557Fu2Lpz1pxyLiceD1rOuw3RcR6yLi2WR5E7CU3MwSNcNh0b4Umvakpv6DNcuapHpgEPBMxqVUlMOifSlq2hMzKw9J+wGzgO9ExFtZ11NJDov2xdOemGVE0l7kguIXEfHLrOupNIdF++JpT8wyIEnA7cDSiLgp63qy4LBoRyJiO9A67clS4C5Pe9J+SJoBPAUcKalZ0tisa7KiDQO+DpwkaVHyGpF1UZXkW2fNzCyVexZmZpbKYWFmZqkcFmZmlsphYWZmqRwWZmaWymFhZmapHBZWlSRt3mn9AkmTU/bZsY2k7pKekfScpJbkvvpXJK3Pu8/+c5LuKeNnuEbSmuRcSySNLvHx8z/vGZL6lvL4Vl3axTO4zTJwMvBSRJzf2iDpAqAxIi7J2+53Za7j5oi4QVIfYKGkeyJiWxnOcwYwF6iZKbdt97hnYTVH0j/k9RrmSfrkTu83AP8OjEj+Vd9lF8epb32QUfKv9Hsl/UrSSkmXSLo0OcfTkg5Itjtc0gOSFkp6QtJniqk5IpYDbwP7J8e5TNLvJT0v6QdJ276S/p+kP0haLOlrSfsqSQcly42SHt3pc3wOOA34UfJ5Dy/uJ2m1xD0Lq1ZdJC3KWz+A9+fRehIYGhEh6ULgfwL/3LphRCySdBUf7kWk6U9u6urOwArg8ogYJOlm4DzgFmAKcFFELJf0WeAnwElpB5Z0NLA8Il6T9CWgD7nnmwiYkzxYqTuwNiK+nOzzt8UUHRG/kzQHmBsRZRtWs/bNYWHVaktENLSutA4hJat1wJ3J08/2BlaW6Jy/TR6Ms0nSm8CvkvYXgIHJ9NafA+7OzUsHwD4px/wfkr4BHAacmrR9KXk9l6zvRy48ngBukHQ9ub/4nyjBZzIDPAxltWkSMDkiBgDfJNcTKIV385bfy1t/j9w/zDoAb0REQ97rqJRj3hwRRwJfA6ZL6kyuN/Gvecf4dETcHhEvA4PJhdO/Jr0jgO28//96qT6r1RiHhdWivwXWJMvnt7VhKSUPy1kp6RzITXst6e+K3PeXQBO5eh8ExiQ9FST1lHSwpEOAtyPi/wI3AEcnu68iFyIAZ+/iFJuArrv/qaxWOCysFl1DbijoCWBDhc99LjBW0h+AF9m9Z6hfC1wKzAPuAJ6S9AJwD7m/6AcAC5JrNd8Dfpjs9wPgx8nnbdnFsWcClyUX5H2B2z7EU5SbmVkq9yzMzCyV74Yyy5ik7wHn7NR8d0RMzKIes0I8DGVmZqk8DGVmZqkcFmZmlsphYWZmqRwWZmaW6v8DnYMPD4Nbn7YAAAAASUVORK5CYII=\n",
      "text/plain": [
       "<Figure size 432x288 with 1 Axes>"
      ]
     },
     "metadata": {
      "needs_background": "light"
     },
     "output_type": "display_data"
    }
   ],
   "source": [
    "# how many teams leading at half time went on to win the game?\n",
    "sns.countplot(df['HalfTime_Result'], hue=df['FullTime_Result'])"
   ]
  },
  {
   "cell_type": "code",
   "execution_count": 36,
   "id": "6d23f67c",
   "metadata": {},
   "outputs": [
    {
     "data": {
      "text/plain": [
       "0.28270992939762657"
      ]
     },
     "execution_count": 36,
     "metadata": {},
     "output_type": "execute_result"
    }
   ],
   "source": [
    "# percentage of games where home team winning at half time AND ends up \n",
    "# winning at full time\n",
    "len(df[(df['HalfTime_Result'] == 2) & (df['FullTime_Result'] == 2)]) / len(df)"
   ]
  },
  {
   "cell_type": "code",
   "execution_count": 37,
   "id": "dd793c5e",
   "metadata": {},
   "outputs": [
    {
     "data": {
      "text/plain": [
       "0.16554003304791948"
      ]
     },
     "execution_count": 37,
     "metadata": {},
     "output_type": "execute_result"
    }
   ],
   "source": [
    "# percentage of games where away team winning at half time AND ends up \n",
    "# winning at full time\n",
    "len(df[(df['HalfTime_Result'] == 0) & (df['FullTime_Result'] == 0)]) / len(df)"
   ]
  },
  {
   "cell_type": "code",
   "execution_count": 38,
   "id": "74a99ad5",
   "metadata": {},
   "outputs": [
    {
     "data": {
      "text/plain": [
       "0.06624605678233439"
      ]
     },
     "execution_count": 38,
     "metadata": {},
     "output_type": "execute_result"
    }
   ],
   "source": [
    "# percentage of games where home team winning at half time AND ends up \n",
    "# losing/drawing at full time\n",
    "len(df[(df['HalfTime_Result'] == 2) & (df['FullTime_Result'] != 2)]) / len(df)"
   ]
  },
  {
   "cell_type": "code",
   "execution_count": 39,
   "id": "30704837",
   "metadata": {},
   "outputs": [
    {
     "data": {
      "text/plain": [
       "0.07045215562565721"
      ]
     },
     "execution_count": 39,
     "metadata": {},
     "output_type": "execute_result"
    }
   ],
   "source": [
    "# percentage of games where away team winning at half time AND ends up \n",
    "# losing/drawing at full time\n",
    "len(df[(df['HalfTime_Result'] == 0) & (df['FullTime_Result'] != 0)]) / len(df)"
   ]
  },
  {
   "cell_type": "code",
   "execution_count": 40,
   "id": "ccaf7f96",
   "metadata": {},
   "outputs": [
    {
     "data": {
      "text/plain": [
       "0.15382304341294878"
      ]
     },
     "execution_count": 40,
     "metadata": {},
     "output_type": "execute_result"
    }
   ],
   "source": [
    "# percentage of games where it's a draw at halftime AND ends up \n",
    "# as a draw at full time\n",
    "len(df[(df['HalfTime_Result'] == 1) & (df['FullTime_Result'] == 1)]) / len(df)"
   ]
  },
  {
   "cell_type": "markdown",
   "id": "682b3079",
   "metadata": {},
   "source": [
    "### Reducing the amount of dimensions in dataset: get rid of redundant and/or irrelevant features"
   ]
  },
  {
   "cell_type": "code",
   "execution_count": 41,
   "id": "ebeb49fe",
   "metadata": {},
   "outputs": [
    {
     "data": {
      "text/plain": [
       "<AxesSubplot:>"
      ]
     },
     "execution_count": 41,
     "metadata": {},
     "output_type": "execute_result"
    },
    {
     "data": {
      "image/png": "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\n",
      "text/plain": [
       "<Figure size 1080x864 with 2 Axes>"
      ]
     },
     "metadata": {
      "needs_background": "light"
     },
     "output_type": "display_data"
    }
   ],
   "source": [
    "# heatmap correlation\n",
    "plt.figure(figsize=(15,12))\n",
    "sns.heatmap(df.corr(), annot=True)"
   ]
  },
  {
   "cell_type": "markdown",
   "id": "4b35e362",
   "metadata": {},
   "source": [
    "Ultimately, we want the model to be able to predict 'FullTime_Result' so let's see which columns are most/least correlated with this target variable"
   ]
  },
  {
   "cell_type": "code",
   "execution_count": 42,
   "id": "a126e28e",
   "metadata": {},
   "outputs": [
    {
     "data": {
      "text/plain": [
       "FullTime_Result        1.000000\n",
       "FullTime_HomeGoals     0.627083\n",
       "HalfTime_Result        0.602206\n",
       "Home_ConversionRate    0.516405\n",
       "HalfTime_HomeGoals     0.434142\n",
       "Favorites              0.341739\n",
       "HomeTeam_Favorite      0.341739\n",
       "Favorite_Winner        0.327223\n",
       "Home_ShotsOnTarget     0.309438\n",
       "Home_SoT%              0.232717\n",
       "Home_Shots             0.214076\n",
       "Away_RedCs             0.090447\n",
       "Home_Corners           0.053508\n",
       "Away_Fouls             0.031430\n",
       "Away_YellowCs          0.022138\n",
       "Home_Fouls            -0.035652\n",
       "Away_Corners          -0.042672\n",
       "Home_YellowCs         -0.116995\n",
       "Home_RedCs            -0.131621\n",
       "Away_SoT%             -0.183807\n",
       "Away_Shots            -0.252295\n",
       "Away_ShotsOnTarget    -0.308754\n",
       "HalfTime_AwayGoals    -0.424904\n",
       "Away_ConversionRate   -0.497415\n",
       "FullTime_AwayGoals    -0.635393\n",
       "Name: FullTime_Result, dtype: float64"
      ]
     },
     "execution_count": 42,
     "metadata": {},
     "output_type": "execute_result"
    }
   ],
   "source": [
    "df.corr()['FullTime_Result'].sort_values(ascending=False)"
   ]
  },
  {
   "cell_type": "markdown",
   "id": "4bef6917",
   "metadata": {},
   "source": [
    "It will be better to have a dataset without all of the extra, redundant columns in it. For example, ShotsOnTarget, ShotsOnTarget%, and Shots are all basically saying the same thing. In this case, we will keep ShotsOnTarget% because it is a percentage instead of a count of how many occurred in each match."
   ]
  },
  {
   "cell_type": "markdown",
   "id": "c7fb5eb2",
   "metadata": {},
   "source": [
    "We will also take out FullTime_HomeGoals and FullTime_AwayGoals because this tells the model how many goals each team ended up with. This would essentially give away the FullTime_Result and cause the model to overfit to the training data. I am also dropping the amount of corner kicks for each time because that had minimal correlation with FullTime_Result. Additionally, I will take out Home and Away fouls because there was almost no relationship to FullTime_Result. Finally, I will be dropping the conversion rates because that also tells the model what percentage of a team's shots were goals. The higher the percentage for conversion rate, the more likely it is the team scored more goals than the other."
   ]
  },
  {
   "cell_type": "code",
   "execution_count": 43,
   "id": "b57b3c8b",
   "metadata": {},
   "outputs": [
    {
     "data": {
      "text/plain": [
       "Index(['Season', 'HomeTeam', 'AwayTeam', 'ML_Favorite', 'FullTime_HomeGoals',\n",
       "       'FullTime_AwayGoals', 'FullTime_Result', 'HalfTime_HomeGoals',\n",
       "       'HalfTime_AwayGoals', 'HalfTime_Result', 'Home_Shots', 'Away_Shots',\n",
       "       'Home_ShotsOnTarget', 'Away_ShotsOnTarget', 'Home_Corners',\n",
       "       'Away_Corners', 'Home_Fouls', 'Away_Fouls', 'Home_YellowCs',\n",
       "       'Away_YellowCs', 'Home_RedCs', 'Away_RedCs', 'HomeTeam_Favorite',\n",
       "       'Home_ConversionRate', 'Away_ConversionRate', 'Home_SoT%', 'Away_SoT%',\n",
       "       'Favorites', 'Favorite_Winner'],\n",
       "      dtype='object')"
      ]
     },
     "execution_count": 43,
     "metadata": {},
     "output_type": "execute_result"
    }
   ],
   "source": [
    "df.columns"
   ]
  },
  {
   "cell_type": "code",
   "execution_count": 44,
   "id": "fd036695",
   "metadata": {},
   "outputs": [],
   "source": [
    "cleaned_df = df.drop(['FullTime_HomeGoals',\n",
    "                      'FullTime_AwayGoals',\n",
    "                      'Favorites',\n",
    "                      'Home_Shots',\n",
    "                      'Home_Corners',\n",
    "                      'Away_Corners',\n",
    "                      'Away_Shots',\n",
    "                      'Season',\n",
    "                      'ML_Favorite',\n",
    "                      'Home_ConversionRate',\n",
    "                      'Away_ConversionRate',\n",
    "                      'Favorite_Winner',\n",
    "                      'Home_ShotsOnTarget',\n",
    "                      'Away_ShotsOnTarget',\n",
    "                      'Home_Fouls',\n",
    "                      'Away_Fouls'], axis=1)"
   ]
  },
  {
   "cell_type": "code",
   "execution_count": 45,
   "id": "20552657",
   "metadata": {},
   "outputs": [
    {
     "data": {
      "text/plain": [
       "<AxesSubplot:>"
      ]
     },
     "execution_count": 45,
     "metadata": {},
     "output_type": "execute_result"
    },
    {
     "data": {
      "image/png": "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\n",
      "text/plain": [
       "<Figure size 864x576 with 2 Axes>"
      ]
     },
     "metadata": {
      "needs_background": "light"
     },
     "output_type": "display_data"
    }
   ],
   "source": [
    "# new heatmap\n",
    "plt.figure(figsize=(12,8))\n",
    "sns.heatmap(cleaned_df.corr(),annot=True)"
   ]
  },
  {
   "cell_type": "code",
   "execution_count": 46,
   "id": "2d183819",
   "metadata": {},
   "outputs": [
    {
     "data": {
      "text/plain": [
       "FullTime_Result       1.000000\n",
       "HalfTime_Result       0.602206\n",
       "HalfTime_HomeGoals    0.434142\n",
       "HomeTeam_Favorite     0.341739\n",
       "Home_SoT%             0.232717\n",
       "Away_RedCs            0.090447\n",
       "Away_YellowCs         0.022138\n",
       "Home_YellowCs        -0.116995\n",
       "Home_RedCs           -0.131621\n",
       "Away_SoT%            -0.183807\n",
       "HalfTime_AwayGoals   -0.424904\n",
       "Name: FullTime_Result, dtype: float64"
      ]
     },
     "execution_count": 46,
     "metadata": {},
     "output_type": "execute_result"
    }
   ],
   "source": [
    "# correlation with full time result\n",
    "cleaned_df.corr()['FullTime_Result'].sort_values(ascending=False)"
   ]
  },
  {
   "cell_type": "markdown",
   "id": "01d3208c",
   "metadata": {},
   "source": [
    "## Modeling Process"
   ]
  },
  {
   "cell_type": "code",
   "execution_count": 47,
   "id": "5a2d722a",
   "metadata": {},
   "outputs": [
    {
     "name": "stdout",
     "output_type": "stream",
     "text": [
      "<class 'pandas.core.frame.DataFrame'>\n",
      "RangeIndex: 6657 entries, 0 to 6656\n",
      "Data columns (total 13 columns):\n",
      " #   Column              Non-Null Count  Dtype  \n",
      "---  ------              --------------  -----  \n",
      " 0   HomeTeam            6657 non-null   object \n",
      " 1   AwayTeam            6657 non-null   object \n",
      " 2   FullTime_Result     6657 non-null   int64  \n",
      " 3   HalfTime_HomeGoals  6657 non-null   int64  \n",
      " 4   HalfTime_AwayGoals  6657 non-null   int64  \n",
      " 5   HalfTime_Result     6657 non-null   int64  \n",
      " 6   Home_YellowCs       6657 non-null   int64  \n",
      " 7   Away_YellowCs       6657 non-null   int64  \n",
      " 8   Home_RedCs          6657 non-null   int64  \n",
      " 9   Away_RedCs          6657 non-null   int64  \n",
      " 10  HomeTeam_Favorite   6657 non-null   int64  \n",
      " 11  Home_SoT%           6656 non-null   float64\n",
      " 12  Away_SoT%           6653 non-null   float64\n",
      "dtypes: float64(2), int64(9), object(2)\n",
      "memory usage: 676.2+ KB\n"
     ]
    }
   ],
   "source": [
    "cleaned_df.info()"
   ]
  },
  {
   "cell_type": "code",
   "execution_count": 48,
   "id": "af87bc6d",
   "metadata": {},
   "outputs": [
    {
     "name": "stdout",
     "output_type": "stream",
     "text": [
      "<class 'pandas.core.frame.DataFrame'>\n",
      "Int64Index: 6652 entries, 0 to 6656\n",
      "Data columns (total 13 columns):\n",
      " #   Column              Non-Null Count  Dtype  \n",
      "---  ------              --------------  -----  \n",
      " 0   HomeTeam            6652 non-null   object \n",
      " 1   AwayTeam            6652 non-null   object \n",
      " 2   FullTime_Result     6652 non-null   int64  \n",
      " 3   HalfTime_HomeGoals  6652 non-null   int64  \n",
      " 4   HalfTime_AwayGoals  6652 non-null   int64  \n",
      " 5   HalfTime_Result     6652 non-null   int64  \n",
      " 6   Home_YellowCs       6652 non-null   int64  \n",
      " 7   Away_YellowCs       6652 non-null   int64  \n",
      " 8   Home_RedCs          6652 non-null   int64  \n",
      " 9   Away_RedCs          6652 non-null   int64  \n",
      " 10  HomeTeam_Favorite   6652 non-null   int64  \n",
      " 11  Home_SoT%           6652 non-null   float64\n",
      " 12  Away_SoT%           6652 non-null   float64\n",
      "dtypes: float64(2), int64(9), object(2)\n",
      "memory usage: 727.6+ KB\n"
     ]
    }
   ],
   "source": [
    "# dropping rows with missing values (only 5 rows)\n",
    "cleaned_df = cleaned_df.dropna()\n",
    "cleaned_df.info()"
   ]
  },
  {
   "cell_type": "markdown",
<<<<<<< Updated upstream
   "id": "d244e2a7",
=======
   "id": "a8f2408d",
>>>>>>> Stashed changes
   "metadata": {},
   "source": [
    "### Scaling the columns with continous values using MinMaxScaler\n",
    "For my baseline model I will be using a Decision Tree and I understand that you do not have to scale your values. However, I am choosing to scale them now because I am planning to test multiple models and some are distance-based (logistic regression and support vector machine)"
   ]
  },
  {
   "cell_type": "code",
   "execution_count": 49,
   "id": "f027dedf",
   "metadata": {},
   "outputs": [],
   "source": [
    "# instance of MinMaxScaler\n",
    "mm_scaler = MinMaxScaler()\n",
    "\n",
    "# scaling the columns with continuous values using MinMaxScaler\n",
    "cleaned_df[['Home_YellowCs','Away_YellowCs','Home_SoT%','Away_SoT%']] = mm_scaler.fit_transform(cleaned_df[['Home_YellowCs','Away_YellowCs','Home_SoT%','Away_SoT%']])"
   ]
  },
  {
   "cell_type": "code",
   "execution_count": 50,
   "id": "3e51cd69",
   "metadata": {},
   "outputs": [],
   "source": [
    "# target feature is FullTime_Result\n",
    "# for baseline model, we will only input the column that identifies betting favorite\n",
    "X = cleaned_df[['HomeTeam_Favorite']]\n",
    "y = cleaned_df['FullTime_Result']"
   ]
  },
  {
   "cell_type": "markdown",
   "id": "8e40eb79",
   "metadata": {},
   "source": [
    "### Train | Test split"
   ]
  },
  {
   "cell_type": "code",
   "execution_count": 51,
   "id": "99c21d64",
   "metadata": {},
   "outputs": [],
   "source": [
    "# split into training and testing data\n",
    "X_train, X_test, y_train, y_test = train_test_split(X, y, test_size=0.25, random_state=42)\n"
   ]
  },
  {
   "cell_type": "markdown",
   "id": "e534c529",
   "metadata": {},
   "source": [
    "### Baseline model - Decision Tree --> one feature 'HomeTeam_Favorite'"
   ]
  },
  {
   "cell_type": "code",
   "execution_count": 52,
   "id": "adad723e",
   "metadata": {},
   "outputs": [
    {
     "data": {
      "text/plain": [
       "DecisionTreeClassifier()"
      ]
     },
     "execution_count": 52,
     "metadata": {},
     "output_type": "execute_result"
    }
   ],
   "source": [
    "# instance of Decision Tree\n",
    "base_tree = DecisionTreeClassifier()\n",
    "\n",
    "# fitting model onto the training data\n",
    "base_tree.fit(X_train, y_train)"
   ]
  },
  {
   "cell_type": "code",
   "execution_count": 53,
   "id": "3bc2690c",
   "metadata": {},
   "outputs": [],
   "source": [
    "# generate predictions to evaluate model performance\n",
    "tree_preds = base_tree.predict(X_test)"
   ]
  },
  {
   "cell_type": "code",
   "execution_count": 54,
   "id": "75032899",
   "metadata": {},
   "outputs": [
    {
     "data": {
      "text/plain": [
<<<<<<< Updated upstream
       "<sklearn.metrics._plot.confusion_matrix.ConfusionMatrixDisplay at 0x7fccfa517e80>"
=======
       "<sklearn.metrics._plot.confusion_matrix.ConfusionMatrixDisplay at 0x7ffeb1e5e430>"
>>>>>>> Stashed changes
      ]
     },
     "execution_count": 54,
     "metadata": {},
     "output_type": "execute_result"
    },
    {
     "data": {
      "image/png": "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\n",
      "text/plain": [
       "<Figure size 432x288 with 2 Axes>"
      ]
     },
     "metadata": {
      "needs_background": "light"
     },
     "output_type": "display_data"
    }
   ],
   "source": [
    "plot_confusion_matrix(base_tree, X_test, y_test)"
   ]
  },
  {
   "cell_type": "code",
   "execution_count": 55,
   "id": "a5777151",
   "metadata": {},
   "outputs": [
    {
     "name": "stdout",
     "output_type": "stream",
     "text": [
      "              precision    recall  f1-score   support\n",
      "\n",
      "           0       0.50      0.52      0.51       479\n",
      "           1       0.00      0.00      0.00       407\n",
      "           2       0.58      0.86      0.69       777\n",
      "\n",
      "    accuracy                           0.55      1663\n",
      "   macro avg       0.36      0.46      0.40      1663\n",
      "weighted avg       0.41      0.55      0.47      1663\n",
      "\n"
     ]
    },
    {
     "name": "stderr",
     "output_type": "stream",
     "text": [
      "/opt/anaconda3/envs/learn-env/lib/python3.8/site-packages/sklearn/metrics/_classification.py:1221: UndefinedMetricWarning: Precision and F-score are ill-defined and being set to 0.0 in labels with no predicted samples. Use `zero_division` parameter to control this behavior.\n",
      "  _warn_prf(average, modifier, msg_start, len(result))\n"
     ]
    }
   ],
   "source": [
    "print(classification_report(y_test, tree_preds))"
   ]
  },
  {
   "cell_type": "markdown",
<<<<<<< Updated upstream
   "id": "dc1316b1",
=======
   "id": "89d2ef4b",
>>>>>>> Stashed changes
   "metadata": {},
   "source": [
    "Metric being used --> <b>accuracy</b>\n",
    "\n",
    "I am choosing accuracy as the metric to evaluate my models because as a sports-betting model, I am only interested in the predictions that the model gets correct. If the predictions are not correct/accurate, a bettor will lose the money that they wagered."
   ]
  },
  {
   "cell_type": "markdown",
   "id": "01b1f2d4",
   "metadata": {},
   "source": [
    "55% accuracy for a baseline model which is not terrible. Right now, the decision tree model classified a little over half of the Premier League match results correctly. The baseline model did not predict for any of the matches to end up as a draw because the HomeTeam_Favorite feature only identifies whether or not the betting favorite was the home team or the away team. Additionally, a draw/tie is never the betting favorite for a Premier League match."
   ]
  },
  {
   "cell_type": "markdown",
   "id": "3d9ca405",
   "metadata": {},
   "source": [
    "### Model 2 - Decision Tree GridSearch --> trying to find optimal parameters\n",
    "Adding in more features other than 'HomeTeam_Favorite'"
   ]
  },
  {
   "cell_type": "code",
   "execution_count": 56,
   "id": "ccee3c98",
   "metadata": {},
   "outputs": [
    {
     "name": "stdout",
     "output_type": "stream",
     "text": [
      "<class 'pandas.core.frame.DataFrame'>\n",
      "Int64Index: 6652 entries, 0 to 6656\n",
      "Data columns (total 13 columns):\n",
      " #   Column              Non-Null Count  Dtype  \n",
      "---  ------              --------------  -----  \n",
      " 0   HomeTeam            6652 non-null   object \n",
      " 1   AwayTeam            6652 non-null   object \n",
      " 2   FullTime_Result     6652 non-null   int64  \n",
      " 3   HalfTime_HomeGoals  6652 non-null   int64  \n",
      " 4   HalfTime_AwayGoals  6652 non-null   int64  \n",
      " 5   HalfTime_Result     6652 non-null   int64  \n",
      " 6   Home_YellowCs       6652 non-null   float64\n",
      " 7   Away_YellowCs       6652 non-null   float64\n",
      " 8   Home_RedCs          6652 non-null   int64  \n",
      " 9   Away_RedCs          6652 non-null   int64  \n",
      " 10  HomeTeam_Favorite   6652 non-null   int64  \n",
      " 11  Home_SoT%           6652 non-null   float64\n",
      " 12  Away_SoT%           6652 non-null   float64\n",
      "dtypes: float64(4), int64(7), object(2)\n",
      "memory usage: 727.6+ KB\n"
     ]
    }
   ],
   "source": [
    "cleaned_df.info()"
   ]
  },
  {
   "cell_type": "code",
   "execution_count": 57,
   "id": "dbb68545",
   "metadata": {},
   "outputs": [],
   "source": [
    "# train_test_split\n",
    "# NOT including full time home and away goals because that gives away the result but will include half time\n",
    "# stats for live-betting considerations\n",
    "X = cleaned_df.drop(['HomeTeam',\n",
    "                     'AwayTeam',\n",
    "                     #'FullTime_HomeGoals',\n",
    "                     #'FullTime_AwayGoals',\n",
    "                     #'Favorite_Winner',\n",
    "                     'FullTime_Result'], axis=1)\n",
    "                    \n",
    "y = cleaned_df['FullTime_Result']"
   ]
  },
  {
   "cell_type": "code",
   "execution_count": 58,
   "id": "a43538c2",
   "metadata": {},
   "outputs": [],
   "source": [
    "# split into training and testing data\n",
    "X_train, X_test, y_train, y_test = train_test_split(X, y, test_size=0.25, random_state=42)"
   ]
  },
  {
   "cell_type": "code",
   "execution_count": 59,
   "id": "015d07aa",
   "metadata": {},
   "outputs": [
    {
     "data": {
      "text/html": [
       "<div>\n",
       "<style scoped>\n",
       "    .dataframe tbody tr th:only-of-type {\n",
       "        vertical-align: middle;\n",
       "    }\n",
       "\n",
       "    .dataframe tbody tr th {\n",
       "        vertical-align: top;\n",
       "    }\n",
       "\n",
       "    .dataframe thead th {\n",
       "        text-align: right;\n",
       "    }\n",
       "</style>\n",
       "<table border=\"1\" class=\"dataframe\">\n",
       "  <thead>\n",
       "    <tr style=\"text-align: right;\">\n",
       "      <th></th>\n",
       "      <th>HalfTime_HomeGoals</th>\n",
       "      <th>HalfTime_AwayGoals</th>\n",
       "      <th>HalfTime_Result</th>\n",
       "      <th>Home_YellowCs</th>\n",
       "      <th>Away_YellowCs</th>\n",
       "      <th>Home_RedCs</th>\n",
       "      <th>Away_RedCs</th>\n",
       "      <th>HomeTeam_Favorite</th>\n",
       "      <th>Home_SoT%</th>\n",
       "      <th>Away_SoT%</th>\n",
       "    </tr>\n",
       "  </thead>\n",
       "  <tbody>\n",
       "    <tr>\n",
       "      <th>5711</th>\n",
       "      <td>0</td>\n",
       "      <td>0</td>\n",
       "      <td>1</td>\n",
       "      <td>0.142857</td>\n",
       "      <td>0.333333</td>\n",
       "      <td>0</td>\n",
       "      <td>0</td>\n",
       "      <td>0</td>\n",
       "      <td>0.40</td>\n",
       "      <td>0.312500</td>\n",
       "    </tr>\n",
       "    <tr>\n",
       "      <th>1582</th>\n",
       "      <td>1</td>\n",
       "      <td>0</td>\n",
       "      <td>2</td>\n",
       "      <td>0.000000</td>\n",
       "      <td>0.111111</td>\n",
       "      <td>0</td>\n",
       "      <td>0</td>\n",
       "      <td>1</td>\n",
       "      <td>0.60</td>\n",
       "      <td>0.500000</td>\n",
       "    </tr>\n",
       "    <tr>\n",
       "      <th>3421</th>\n",
       "      <td>0</td>\n",
       "      <td>0</td>\n",
       "      <td>1</td>\n",
       "      <td>0.285714</td>\n",
       "      <td>0.555556</td>\n",
       "      <td>0</td>\n",
       "      <td>0</td>\n",
       "      <td>1</td>\n",
       "      <td>0.47</td>\n",
       "      <td>0.571429</td>\n",
       "    </tr>\n",
       "    <tr>\n",
       "      <th>388</th>\n",
       "      <td>0</td>\n",
       "      <td>3</td>\n",
       "      <td>0</td>\n",
       "      <td>0.285714</td>\n",
       "      <td>0.000000</td>\n",
       "      <td>0</td>\n",
       "      <td>0</td>\n",
       "      <td>0</td>\n",
       "      <td>0.20</td>\n",
       "      <td>0.357143</td>\n",
       "    </tr>\n",
       "    <tr>\n",
       "      <th>3508</th>\n",
       "      <td>0</td>\n",
       "      <td>0</td>\n",
       "      <td>1</td>\n",
       "      <td>0.000000</td>\n",
       "      <td>0.000000</td>\n",
       "      <td>0</td>\n",
       "      <td>0</td>\n",
       "      <td>1</td>\n",
       "      <td>0.50</td>\n",
       "      <td>0.500000</td>\n",
       "    </tr>\n",
       "    <tr>\n",
       "      <th>...</th>\n",
       "      <td>...</td>\n",
       "      <td>...</td>\n",
       "      <td>...</td>\n",
       "      <td>...</td>\n",
       "      <td>...</td>\n",
       "      <td>...</td>\n",
       "      <td>...</td>\n",
       "      <td>...</td>\n",
       "      <td>...</td>\n",
       "      <td>...</td>\n",
       "    </tr>\n",
       "    <tr>\n",
       "      <th>3775</th>\n",
       "      <td>0</td>\n",
       "      <td>1</td>\n",
       "      <td>0</td>\n",
       "      <td>0.285714</td>\n",
       "      <td>0.111111</td>\n",
       "      <td>0</td>\n",
       "      <td>0</td>\n",
       "      <td>0</td>\n",
       "      <td>0.23</td>\n",
       "      <td>0.401786</td>\n",
       "    </tr>\n",
       "    <tr>\n",
       "      <th>5194</th>\n",
       "      <td>0</td>\n",
       "      <td>0</td>\n",
       "      <td>1</td>\n",
       "      <td>0.285714</td>\n",
       "      <td>0.000000</td>\n",
       "      <td>0</td>\n",
       "      <td>0</td>\n",
       "      <td>0</td>\n",
       "      <td>0.25</td>\n",
       "      <td>0.107143</td>\n",
       "    </tr>\n",
       "    <tr>\n",
       "      <th>5229</th>\n",
       "      <td>0</td>\n",
       "      <td>2</td>\n",
       "      <td>0</td>\n",
       "      <td>0.000000</td>\n",
       "      <td>0.000000</td>\n",
       "      <td>0</td>\n",
       "      <td>0</td>\n",
       "      <td>0</td>\n",
       "      <td>0.29</td>\n",
       "      <td>0.375000</td>\n",
       "    </tr>\n",
       "    <tr>\n",
       "      <th>5394</th>\n",
       "      <td>1</td>\n",
       "      <td>0</td>\n",
       "      <td>2</td>\n",
       "      <td>0.142857</td>\n",
       "      <td>0.111111</td>\n",
       "      <td>0</td>\n",
       "      <td>0</td>\n",
       "      <td>1</td>\n",
       "      <td>0.35</td>\n",
       "      <td>0.151786</td>\n",
       "    </tr>\n",
       "    <tr>\n",
       "      <th>862</th>\n",
       "      <td>0</td>\n",
       "      <td>0</td>\n",
       "      <td>1</td>\n",
       "      <td>0.000000</td>\n",
       "      <td>0.000000</td>\n",
       "      <td>0</td>\n",
       "      <td>0</td>\n",
       "      <td>1</td>\n",
       "      <td>0.11</td>\n",
       "      <td>0.339286</td>\n",
       "    </tr>\n",
       "  </tbody>\n",
       "</table>\n",
       "<p>4989 rows × 10 columns</p>\n",
       "</div>"
      ],
      "text/plain": [
       "      HalfTime_HomeGoals  HalfTime_AwayGoals  HalfTime_Result  Home_YellowCs  \\\n",
       "5711                   0                   0                1       0.142857   \n",
       "1582                   1                   0                2       0.000000   \n",
       "3421                   0                   0                1       0.285714   \n",
       "388                    0                   3                0       0.285714   \n",
       "3508                   0                   0                1       0.000000   \n",
       "...                  ...                 ...              ...            ...   \n",
       "3775                   0                   1                0       0.285714   \n",
       "5194                   0                   0                1       0.285714   \n",
       "5229                   0                   2                0       0.000000   \n",
       "5394                   1                   0                2       0.142857   \n",
       "862                    0                   0                1       0.000000   \n",
       "\n",
       "      Away_YellowCs  Home_RedCs  Away_RedCs  HomeTeam_Favorite  Home_SoT%  \\\n",
       "5711       0.333333           0           0                  0       0.40   \n",
       "1582       0.111111           0           0                  1       0.60   \n",
       "3421       0.555556           0           0                  1       0.47   \n",
       "388        0.000000           0           0                  0       0.20   \n",
       "3508       0.000000           0           0                  1       0.50   \n",
       "...             ...         ...         ...                ...        ...   \n",
       "3775       0.111111           0           0                  0       0.23   \n",
       "5194       0.000000           0           0                  0       0.25   \n",
       "5229       0.000000           0           0                  0       0.29   \n",
       "5394       0.111111           0           0                  1       0.35   \n",
       "862        0.000000           0           0                  1       0.11   \n",
       "\n",
       "      Away_SoT%  \n",
       "5711   0.312500  \n",
       "1582   0.500000  \n",
       "3421   0.571429  \n",
       "388    0.357143  \n",
       "3508   0.500000  \n",
       "...         ...  \n",
       "3775   0.401786  \n",
       "5194   0.107143  \n",
       "5229   0.375000  \n",
       "5394   0.151786  \n",
       "862    0.339286  \n",
       "\n",
       "[4989 rows x 10 columns]"
      ]
     },
     "execution_count": 59,
     "metadata": {},
     "output_type": "execute_result"
    }
   ],
   "source": [
    "X_train"
   ]
  },
  {
   "cell_type": "code",
   "execution_count": 60,
   "id": "a48e09ab",
   "metadata": {},
   "outputs": [],
   "source": [
    "tree2 = DecisionTreeClassifier()\n",
    "\n",
    "# parameter grid\n",
    "tree_params = {\n",
    "    'criterion': ['gini','entropy'],\n",
    "    'max_depth': [1,3,5,10,20],\n",
    "    'class_weight':[None,'balanced']\n",
    "}\n"
   ]
  },
  {
   "cell_type": "code",
   "execution_count": 61,
   "id": "d168d013",
   "metadata": {},
   "outputs": [],
   "source": [
    "tree_grid = GridSearchCV(tree2, \n",
    "                         tree_params,\n",
    "                         scoring='accuracy',\n",
    "                         n_jobs=1,\n",
    "                         cv=3)"
   ]
  },
  {
   "cell_type": "code",
   "execution_count": 62,
   "id": "28618f6d",
   "metadata": {},
   "outputs": [
    {
     "data": {
      "text/plain": [
       "GridSearchCV(cv=3, estimator=DecisionTreeClassifier(), n_jobs=1,\n",
       "             param_grid={'class_weight': [None, 'balanced'],\n",
       "                         'criterion': ['gini', 'entropy'],\n",
       "                         'max_depth': [1, 3, 5, 10, 20]},\n",
       "             scoring='accuracy')"
      ]
     },
     "execution_count": 62,
     "metadata": {},
     "output_type": "execute_result"
    }
   ],
   "source": [
    "tree_grid.fit(X_train, y_train)"
   ]
  },
  {
   "cell_type": "code",
   "execution_count": 63,
   "id": "59d21f9d",
   "metadata": {},
   "outputs": [
    {
     "data": {
      "text/plain": [
       "{'class_weight': None, 'criterion': 'entropy', 'max_depth': 5}"
      ]
     },
     "execution_count": 63,
     "metadata": {},
     "output_type": "execute_result"
    }
   ],
   "source": [
    "# optimal parameters\n",
    "tree_grid.best_params_"
   ]
  },
  {
   "cell_type": "code",
   "execution_count": 64,
   "id": "99723b85",
   "metadata": {},
   "outputs": [],
   "source": [
    "tree_grid_preds = tree_grid.predict(X_test)"
   ]
  },
  {
   "cell_type": "code",
   "execution_count": 65,
   "id": "f1de3d20",
   "metadata": {},
   "outputs": [
    {
     "data": {
      "text/plain": [
<<<<<<< Updated upstream
       "<sklearn.metrics._plot.confusion_matrix.ConfusionMatrixDisplay at 0x7fccfb0dc3a0>"
=======
       "<sklearn.metrics._plot.confusion_matrix.ConfusionMatrixDisplay at 0x7ffeb28eb910>"
>>>>>>> Stashed changes
      ]
     },
     "execution_count": 65,
     "metadata": {},
     "output_type": "execute_result"
    },
    {
     "data": {
      "image/png": "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\n",
      "text/plain": [
       "<Figure size 432x288 with 2 Axes>"
      ]
     },
     "metadata": {
      "needs_background": "light"
     },
     "output_type": "display_data"
    }
   ],
   "source": [
    "plot_confusion_matrix(tree_grid, X_test, y_test)"
   ]
  },
  {
   "cell_type": "code",
   "execution_count": 66,
   "id": "703b296d",
   "metadata": {},
   "outputs": [
    {
     "name": "stdout",
     "output_type": "stream",
     "text": [
      "              precision    recall  f1-score   support\n",
      "\n",
      "           0       0.69      0.62      0.65       479\n",
      "           1       0.40      0.35      0.37       407\n",
      "           2       0.73      0.82      0.77       777\n",
      "\n",
      "    accuracy                           0.65      1663\n",
      "   macro avg       0.61      0.60      0.60      1663\n",
      "weighted avg       0.64      0.65      0.64      1663\n",
      "\n"
     ]
    }
   ],
   "source": [
    "print(classification_report(y_test, tree_grid_preds))"
   ]
  },
  {
   "cell_type": "markdown",
<<<<<<< Updated upstream
   "id": "59c3f53f",
=======
   "id": "29a01609",
>>>>>>> Stashed changes
   "metadata": {},
   "source": [
    "The GridSearch for the Decision Tree model yielded an improvement of 10% in the model's accuracy. Overall, the model's accuracy is 65%. Next, I will try a different algorithm called Logistic Regression because this algorithm is relatively simple and interpretable. The goal of trying new models is try and improve the accuracy score as much as possible."
   ]
  },
  {
   "cell_type": "markdown",
   "id": "652a7206",
   "metadata": {},
   "source": [
    "### Model 2 - Logistic Regression with added features"
   ]
  },
  {
   "cell_type": "code",
   "execution_count": 67,
   "id": "d1254235",
   "metadata": {},
   "outputs": [
    {
     "data": {
      "text/plain": [
       "LogisticRegression()"
      ]
     },
     "execution_count": 67,
     "metadata": {},
     "output_type": "execute_result"
    }
   ],
   "source": [
    "log_model2 = LogisticRegression()\n",
    "\n",
    "log_model2.fit(X_train, y_train)"
   ]
  },
  {
   "cell_type": "code",
   "execution_count": 68,
   "id": "29b6601d",
   "metadata": {},
   "outputs": [
    {
     "data": {
      "text/plain": [
       "0.6626578472639808"
      ]
     },
     "execution_count": 68,
     "metadata": {},
     "output_type": "execute_result"
    }
   ],
   "source": [
    "# predictions\n",
    "y_preds2 = log_model2.predict(X_test)\n",
    "accuracy_score(y_test, y_preds2)"
   ]
  },
  {
   "cell_type": "code",
   "execution_count": 69,
   "id": "399fe01a",
   "metadata": {},
   "outputs": [
    {
     "data": {
      "text/plain": [
<<<<<<< Updated upstream
       "<sklearn.metrics._plot.confusion_matrix.ConfusionMatrixDisplay at 0x7fccf42acfd0>"
=======
       "<sklearn.metrics._plot.confusion_matrix.ConfusionMatrixDisplay at 0x7ffeb2e29880>"
>>>>>>> Stashed changes
      ]
     },
     "execution_count": 69,
     "metadata": {},
     "output_type": "execute_result"
    },
    {
     "data": {
      "image/png": "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\n",
      "text/plain": [
       "<Figure size 432x288 with 2 Axes>"
      ]
     },
     "metadata": {
      "needs_background": "light"
     },
     "output_type": "display_data"
    }
   ],
   "source": [
    "plot_confusion_matrix(log_model2, X_test, y_test)"
   ]
  },
  {
   "cell_type": "code",
   "execution_count": 70,
   "id": "a102b501",
   "metadata": {},
   "outputs": [
    {
     "name": "stdout",
     "output_type": "stream",
     "text": [
      "              precision    recall  f1-score   support\n",
      "\n",
      "           0       0.65      0.72      0.69       479\n",
      "           1       0.46      0.18      0.25       407\n",
      "           2       0.70      0.88      0.78       777\n",
      "\n",
      "    accuracy                           0.66      1663\n",
      "   macro avg       0.60      0.59      0.57      1663\n",
      "weighted avg       0.63      0.66      0.62      1663\n",
      "\n"
     ]
    }
   ],
   "source": [
    "print(classification_report(y_test, y_preds2))"
   ]
  },
  {
   "cell_type": "code",
   "execution_count": 71,
   "id": "31f09296",
   "metadata": {},
   "outputs": [
    {
     "data": {
      "text/plain": [
       "array([[-0.93333693,  0.99699019,  0.00955383,  0.26131454, -0.56236939,\n",
       "         0.70652753, -0.72193424, -0.82196797, -1.54343907,  1.70170694],\n",
       "       [-0.13277617, -0.01845158,  0.03923867,  0.14583584,  0.42738363,\n",
       "         0.06047554,  0.10587147,  0.12525551, -0.20636623, -0.28039482],\n",
       "       [ 1.0661131 , -0.97853861, -0.04879251, -0.40715037,  0.13498576,\n",
       "        -0.76700306,  0.61606277,  0.69671246,  1.74980531, -1.42131212]])"
      ]
     },
     "execution_count": 71,
     "metadata": {},
     "output_type": "execute_result"
    }
   ],
   "source": [
    "# feature importances\n",
    "log_model2.coef_"
   ]
  },
  {
   "cell_type": "markdown",
   "id": "6ff1262f",
   "metadata": {},
   "source": [
    "We are already starting to repeat code for model performance evaluation. I will create a function to simplify this step."
   ]
  },
  {
   "cell_type": "code",
   "execution_count": 72,
   "id": "c06a4191",
   "metadata": {},
   "outputs": [],
   "source": [
    "def model_evaluation(model, y_true=y_test, X_test=X_test):\n",
    "    model_predictions = model.predict(X_test)\n",
    "    plot_confusion_matrix(model, X_test, y_test)\n",
    "    print(classification_report(y_test, model_predictions))"
   ]
  },
  {
   "cell_type": "markdown",
   "id": "4598b0ef",
   "metadata": {},
   "source": [
    "### Model 3: Logistic Regression CV (cross-validation)"
   ]
  },
  {
   "cell_type": "code",
   "execution_count": 73,
   "id": "c3ad76b6",
   "metadata": {},
   "outputs": [
    {
     "data": {
      "text/plain": [
       "LogisticRegressionCV(max_iter=200)"
      ]
     },
     "execution_count": 73,
     "metadata": {},
     "output_type": "execute_result"
    }
   ],
   "source": [
    "log_model_cv = LogisticRegressionCV(max_iter=200)\n",
    "\n",
    "log_model_cv.fit(X_train, y_train)"
   ]
  },
  {
   "cell_type": "code",
   "execution_count": 74,
   "id": "21e05d6a",
   "metadata": {},
   "outputs": [
    {
     "data": {
      "text/plain": [
       "array([1.00000000e-04, 7.74263683e-04, 5.99484250e-03, 4.64158883e-02,\n",
       "       3.59381366e-01, 2.78255940e+00, 2.15443469e+01, 1.66810054e+02,\n",
       "       1.29154967e+03, 1.00000000e+04])"
      ]
     },
     "execution_count": 74,
     "metadata": {},
     "output_type": "execute_result"
    }
   ],
   "source": [
    "log_model_cv.Cs_"
   ]
  },
  {
   "cell_type": "code",
   "execution_count": 75,
   "id": "5a0ac909",
   "metadata": {},
   "outputs": [
    {
     "data": {
      "text/plain": [
       "array([0.35938137, 0.35938137, 0.35938137])"
      ]
     },
     "execution_count": 75,
     "metadata": {},
     "output_type": "execute_result"
    }
   ],
   "source": [
    "# which value of C is the best\n",
    "log_model_cv.C_"
   ]
  },
  {
   "cell_type": "code",
   "execution_count": 76,
   "id": "80335777",
   "metadata": {},
   "outputs": [
    {
     "data": {
      "text/plain": [
       "{'Cs': 10,\n",
       " 'class_weight': None,\n",
       " 'cv': None,\n",
       " 'dual': False,\n",
       " 'fit_intercept': True,\n",
       " 'intercept_scaling': 1.0,\n",
       " 'l1_ratios': None,\n",
       " 'max_iter': 200,\n",
       " 'multi_class': 'auto',\n",
       " 'n_jobs': None,\n",
       " 'penalty': 'l2',\n",
       " 'random_state': None,\n",
       " 'refit': True,\n",
       " 'scoring': None,\n",
       " 'solver': 'lbfgs',\n",
       " 'tol': 0.0001,\n",
       " 'verbose': 0}"
      ]
     },
     "execution_count": 76,
     "metadata": {},
     "output_type": "execute_result"
    }
   ],
   "source": [
    "log_model_cv.get_params()"
   ]
  },
  {
   "cell_type": "code",
   "execution_count": 77,
   "id": "ba5ac296",
   "metadata": {},
   "outputs": [
    {
     "name": "stdout",
     "output_type": "stream",
     "text": [
      "              precision    recall  f1-score   support\n",
      "\n",
      "           0       0.65      0.73      0.69       479\n",
      "           1       0.46      0.17      0.25       407\n",
      "           2       0.70      0.88      0.78       777\n",
      "\n",
      "    accuracy                           0.66      1663\n",
      "   macro avg       0.60      0.59      0.57      1663\n",
      "weighted avg       0.63      0.66      0.62      1663\n",
      "\n"
     ]
    },
    {
     "data": {
      "image/png": "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\n",
      "text/plain": [
       "<Figure size 432x288 with 2 Axes>"
      ]
     },
     "metadata": {
      "needs_background": "light"
     },
     "output_type": "display_data"
    }
   ],
   "source": [
    "model_evaluation(log_model_cv, y_test, X_test)"
   ]
  },
  {
   "cell_type": "markdown",
   "id": "60a1c6ec",
   "metadata": {},
   "source": [
    "LogisticRegressionCV feature importances"
   ]
  },
  {
   "cell_type": "code",
   "execution_count": 78,
   "id": "4bfabdb8",
   "metadata": {},
   "outputs": [
    {
     "data": {
      "text/plain": [
       "HalfTime_HomeGoals   -0.862963\n",
       "HalfTime_AwayGoals    0.931569\n",
       "HalfTime_Result      -0.061927\n",
       "Home_YellowCs         0.237469\n",
       "Away_YellowCs        -0.504151\n",
       "Home_RedCs            0.676734\n",
       "Away_RedCs           -0.693701\n",
       "HomeTeam_Favorite    -0.811271\n",
       "Home_SoT%            -1.409708\n",
       "Away_SoT%             1.550150\n",
       "dtype: float64"
      ]
     },
     "execution_count": 78,
     "metadata": {},
     "output_type": "execute_result"
    }
   ],
   "source": [
    "log_model_cv_coefs = pd.Series(index=X_train.columns, data=log_model_cv.coef_[0])\n",
    "log_model_cv_coefs"
   ]
  },
  {
   "cell_type": "code",
   "execution_count": 79,
   "id": "5b62342a",
   "metadata": {},
   "outputs": [
    {
     "data": {
      "text/plain": [
       "(array([0, 1, 2, 3, 4, 5, 6, 7, 8, 9]),\n",
       " [Text(0, 0, 'Home_SoT%'),\n",
       "  Text(1, 0, 'HalfTime_HomeGoals'),\n",
       "  Text(2, 0, 'HomeTeam_Favorite'),\n",
       "  Text(3, 0, 'Away_RedCs'),\n",
       "  Text(4, 0, 'Away_YellowCs'),\n",
       "  Text(5, 0, 'HalfTime_Result'),\n",
       "  Text(6, 0, 'Home_YellowCs'),\n",
       "  Text(7, 0, 'Home_RedCs'),\n",
       "  Text(8, 0, 'HalfTime_AwayGoals'),\n",
       "  Text(9, 0, 'Away_SoT%')])"
      ]
     },
     "execution_count": 79,
     "metadata": {},
     "output_type": "execute_result"
    },
    {
     "data": {
      "image/png": "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\n",
      "text/plain": [
       "<Figure size 720x432 with 1 Axes>"
      ]
     },
     "metadata": {
      "needs_background": "light"
     },
     "output_type": "display_data"
    }
   ],
   "source": [
    "# feature importances\n",
    "plt.figure(figsize=(10,6))\n",
    "log_model_cv_coefs = log_model_cv_coefs.sort_values()\n",
    "sns.barplot(x=log_model_cv_coefs.index, y=log_model_cv_coefs.values)\n",
    "plt.xticks(rotation=45)"
   ]
  },
  {
   "cell_type": "markdown",
   "id": "0ad4aba0",
   "metadata": {},
   "source": [
    "## Tuned Models"
   ]
  },
  {
   "cell_type": "markdown",
   "id": "7e67e376",
   "metadata": {},
   "source": [
    "### Model 4 - Logistic Regression GridSearch"
   ]
  },
  {
   "cell_type": "code",
   "execution_count": 80,
   "id": "30543532",
   "metadata": {},
   "outputs": [],
   "source": [
    "# new logistic regression instance\n",
    "log_model_3 = LogisticRegression()"
   ]
  },
  {
   "cell_type": "code",
   "execution_count": 81,
   "id": "a3bab607",
   "metadata": {},
   "outputs": [],
   "source": [
    "# parameter grid\n",
    "param_grid_log3 = {\n",
    "    'penalty': ['l2', 'l1', 'elasticnet'],\n",
    "    'solver': ['newton-cg', 'lbfgs', 'liblinear', 'sag', 'saga'],\n",
    "    'max_iter': [100, 200, 300]\n",
    "}"
   ]
  },
  {
   "cell_type": "code",
   "execution_count": 82,
   "id": "c8097d88",
   "metadata": {},
   "outputs": [],
   "source": [
    "log_model_grid = GridSearchCV(log_model_3,\n",
    "                              param_grid_log3,\n",
    "                              scoring='accuracy',\n",
    "                              n_jobs=1,\n",
    "                              cv=3)"
   ]
  },
  {
   "cell_type": "code",
   "execution_count": 83,
   "id": "3b626ba5",
   "metadata": {},
   "outputs": [
    {
     "name": "stderr",
     "output_type": "stream",
     "text": [
      "/opt/anaconda3/envs/learn-env/lib/python3.8/site-packages/sklearn/model_selection/_validation.py:548: FitFailedWarning: Estimator fit failed. The score on this train-test partition for these parameters will be set to nan. Details: \n",
      "Traceback (most recent call last):\n",
      "  File \"/opt/anaconda3/envs/learn-env/lib/python3.8/site-packages/sklearn/model_selection/_validation.py\", line 531, in _fit_and_score\n",
      "    estimator.fit(X_train, y_train, **fit_params)\n",
      "  File \"/opt/anaconda3/envs/learn-env/lib/python3.8/site-packages/sklearn/linear_model/_logistic.py\", line 1304, in fit\n",
      "    solver = _check_solver(self.solver, self.penalty, self.dual)\n",
      "  File \"/opt/anaconda3/envs/learn-env/lib/python3.8/site-packages/sklearn/linear_model/_logistic.py\", line 442, in _check_solver\n",
      "    raise ValueError(\"Solver %s supports only 'l2' or 'none' penalties, \"\n",
      "ValueError: Solver newton-cg supports only 'l2' or 'none' penalties, got l1 penalty.\n",
      "\n",
      "  warnings.warn(\"Estimator fit failed. The score on this train-test\"\n",
      "/opt/anaconda3/envs/learn-env/lib/python3.8/site-packages/sklearn/model_selection/_validation.py:548: FitFailedWarning: Estimator fit failed. The score on this train-test partition for these parameters will be set to nan. Details: \n",
      "Traceback (most recent call last):\n",
      "  File \"/opt/anaconda3/envs/learn-env/lib/python3.8/site-packages/sklearn/model_selection/_validation.py\", line 531, in _fit_and_score\n",
      "    estimator.fit(X_train, y_train, **fit_params)\n",
      "  File \"/opt/anaconda3/envs/learn-env/lib/python3.8/site-packages/sklearn/linear_model/_logistic.py\", line 1304, in fit\n",
      "    solver = _check_solver(self.solver, self.penalty, self.dual)\n",
      "  File \"/opt/anaconda3/envs/learn-env/lib/python3.8/site-packages/sklearn/linear_model/_logistic.py\", line 442, in _check_solver\n",
      "    raise ValueError(\"Solver %s supports only 'l2' or 'none' penalties, \"\n",
      "ValueError: Solver lbfgs supports only 'l2' or 'none' penalties, got l1 penalty.\n",
      "\n",
      "  warnings.warn(\"Estimator fit failed. The score on this train-test\"\n",
      "/opt/anaconda3/envs/learn-env/lib/python3.8/site-packages/sklearn/model_selection/_validation.py:548: FitFailedWarning: Estimator fit failed. The score on this train-test partition for these parameters will be set to nan. Details: \n",
      "Traceback (most recent call last):\n",
      "  File \"/opt/anaconda3/envs/learn-env/lib/python3.8/site-packages/sklearn/model_selection/_validation.py\", line 531, in _fit_and_score\n",
      "    estimator.fit(X_train, y_train, **fit_params)\n",
      "  File \"/opt/anaconda3/envs/learn-env/lib/python3.8/site-packages/sklearn/linear_model/_logistic.py\", line 1304, in fit\n",
      "    solver = _check_solver(self.solver, self.penalty, self.dual)\n",
      "  File \"/opt/anaconda3/envs/learn-env/lib/python3.8/site-packages/sklearn/linear_model/_logistic.py\", line 442, in _check_solver\n",
      "    raise ValueError(\"Solver %s supports only 'l2' or 'none' penalties, \"\n",
      "ValueError: Solver sag supports only 'l2' or 'none' penalties, got l1 penalty.\n",
      "\n",
      "  warnings.warn(\"Estimator fit failed. The score on this train-test\"\n",
      "/opt/anaconda3/envs/learn-env/lib/python3.8/site-packages/sklearn/model_selection/_validation.py:548: FitFailedWarning: Estimator fit failed. The score on this train-test partition for these parameters will be set to nan. Details: \n",
      "Traceback (most recent call last):\n",
      "  File \"/opt/anaconda3/envs/learn-env/lib/python3.8/site-packages/sklearn/model_selection/_validation.py\", line 531, in _fit_and_score\n",
      "    estimator.fit(X_train, y_train, **fit_params)\n",
      "  File \"/opt/anaconda3/envs/learn-env/lib/python3.8/site-packages/sklearn/linear_model/_logistic.py\", line 1304, in fit\n",
      "    solver = _check_solver(self.solver, self.penalty, self.dual)\n",
      "  File \"/opt/anaconda3/envs/learn-env/lib/python3.8/site-packages/sklearn/linear_model/_logistic.py\", line 442, in _check_solver\n",
      "    raise ValueError(\"Solver %s supports only 'l2' or 'none' penalties, \"\n",
      "ValueError: Solver newton-cg supports only 'l2' or 'none' penalties, got elasticnet penalty.\n",
      "\n",
      "  warnings.warn(\"Estimator fit failed. The score on this train-test\"\n",
      "/opt/anaconda3/envs/learn-env/lib/python3.8/site-packages/sklearn/model_selection/_validation.py:548: FitFailedWarning: Estimator fit failed. The score on this train-test partition for these parameters will be set to nan. Details: \n",
      "Traceback (most recent call last):\n",
      "  File \"/opt/anaconda3/envs/learn-env/lib/python3.8/site-packages/sklearn/model_selection/_validation.py\", line 531, in _fit_and_score\n",
      "    estimator.fit(X_train, y_train, **fit_params)\n",
      "  File \"/opt/anaconda3/envs/learn-env/lib/python3.8/site-packages/sklearn/linear_model/_logistic.py\", line 1304, in fit\n",
      "    solver = _check_solver(self.solver, self.penalty, self.dual)\n",
      "  File \"/opt/anaconda3/envs/learn-env/lib/python3.8/site-packages/sklearn/linear_model/_logistic.py\", line 442, in _check_solver\n",
      "    raise ValueError(\"Solver %s supports only 'l2' or 'none' penalties, \"\n",
      "ValueError: Solver lbfgs supports only 'l2' or 'none' penalties, got elasticnet penalty.\n",
      "\n",
      "  warnings.warn(\"Estimator fit failed. The score on this train-test\"\n",
      "/opt/anaconda3/envs/learn-env/lib/python3.8/site-packages/sklearn/model_selection/_validation.py:548: FitFailedWarning: Estimator fit failed. The score on this train-test partition for these parameters will be set to nan. Details: \n",
      "Traceback (most recent call last):\n",
      "  File \"/opt/anaconda3/envs/learn-env/lib/python3.8/site-packages/sklearn/model_selection/_validation.py\", line 531, in _fit_and_score\n",
      "    estimator.fit(X_train, y_train, **fit_params)\n",
      "  File \"/opt/anaconda3/envs/learn-env/lib/python3.8/site-packages/sklearn/linear_model/_logistic.py\", line 1304, in fit\n",
      "    solver = _check_solver(self.solver, self.penalty, self.dual)\n",
      "  File \"/opt/anaconda3/envs/learn-env/lib/python3.8/site-packages/sklearn/linear_model/_logistic.py\", line 449, in _check_solver\n",
      "    raise ValueError(\"Only 'saga' solver supports elasticnet penalty,\"\n",
      "ValueError: Only 'saga' solver supports elasticnet penalty, got solver=liblinear.\n",
      "\n",
      "  warnings.warn(\"Estimator fit failed. The score on this train-test\"\n",
      "/opt/anaconda3/envs/learn-env/lib/python3.8/site-packages/sklearn/model_selection/_validation.py:548: FitFailedWarning: Estimator fit failed. The score on this train-test partition for these parameters will be set to nan. Details: \n",
      "Traceback (most recent call last):\n",
      "  File \"/opt/anaconda3/envs/learn-env/lib/python3.8/site-packages/sklearn/model_selection/_validation.py\", line 531, in _fit_and_score\n",
      "    estimator.fit(X_train, y_train, **fit_params)\n",
      "  File \"/opt/anaconda3/envs/learn-env/lib/python3.8/site-packages/sklearn/linear_model/_logistic.py\", line 1304, in fit\n",
      "    solver = _check_solver(self.solver, self.penalty, self.dual)\n",
      "  File \"/opt/anaconda3/envs/learn-env/lib/python3.8/site-packages/sklearn/linear_model/_logistic.py\", line 442, in _check_solver\n",
      "    raise ValueError(\"Solver %s supports only 'l2' or 'none' penalties, \"\n",
      "ValueError: Solver sag supports only 'l2' or 'none' penalties, got elasticnet penalty.\n",
      "\n",
      "  warnings.warn(\"Estimator fit failed. The score on this train-test\"\n",
      "/opt/anaconda3/envs/learn-env/lib/python3.8/site-packages/sklearn/model_selection/_validation.py:548: FitFailedWarning: Estimator fit failed. The score on this train-test partition for these parameters will be set to nan. Details: \n",
      "Traceback (most recent call last):\n",
      "  File \"/opt/anaconda3/envs/learn-env/lib/python3.8/site-packages/sklearn/model_selection/_validation.py\", line 531, in _fit_and_score\n",
      "    estimator.fit(X_train, y_train, **fit_params)\n",
      "  File \"/opt/anaconda3/envs/learn-env/lib/python3.8/site-packages/sklearn/linear_model/_logistic.py\", line 1312, in fit\n",
      "    raise ValueError(\"l1_ratio must be between 0 and 1;\"\n",
      "ValueError: l1_ratio must be between 0 and 1; got (l1_ratio=None)\n",
      "\n",
      "  warnings.warn(\"Estimator fit failed. The score on this train-test\"\n",
      "/opt/anaconda3/envs/learn-env/lib/python3.8/site-packages/sklearn/model_selection/_validation.py:548: FitFailedWarning: Estimator fit failed. The score on this train-test partition for these parameters will be set to nan. Details: \n",
      "Traceback (most recent call last):\n",
      "  File \"/opt/anaconda3/envs/learn-env/lib/python3.8/site-packages/sklearn/model_selection/_validation.py\", line 531, in _fit_and_score\n",
      "    estimator.fit(X_train, y_train, **fit_params)\n",
      "  File \"/opt/anaconda3/envs/learn-env/lib/python3.8/site-packages/sklearn/linear_model/_logistic.py\", line 1304, in fit\n",
      "    solver = _check_solver(self.solver, self.penalty, self.dual)\n",
      "  File \"/opt/anaconda3/envs/learn-env/lib/python3.8/site-packages/sklearn/linear_model/_logistic.py\", line 442, in _check_solver\n",
      "    raise ValueError(\"Solver %s supports only 'l2' or 'none' penalties, \"\n",
      "ValueError: Solver newton-cg supports only 'l2' or 'none' penalties, got l1 penalty.\n",
      "\n",
      "  warnings.warn(\"Estimator fit failed. The score on this train-test\"\n",
      "/opt/anaconda3/envs/learn-env/lib/python3.8/site-packages/sklearn/model_selection/_validation.py:548: FitFailedWarning: Estimator fit failed. The score on this train-test partition for these parameters will be set to nan. Details: \n",
      "Traceback (most recent call last):\n",
      "  File \"/opt/anaconda3/envs/learn-env/lib/python3.8/site-packages/sklearn/model_selection/_validation.py\", line 531, in _fit_and_score\n",
      "    estimator.fit(X_train, y_train, **fit_params)\n",
      "  File \"/opt/anaconda3/envs/learn-env/lib/python3.8/site-packages/sklearn/linear_model/_logistic.py\", line 1304, in fit\n",
      "    solver = _check_solver(self.solver, self.penalty, self.dual)\n",
      "  File \"/opt/anaconda3/envs/learn-env/lib/python3.8/site-packages/sklearn/linear_model/_logistic.py\", line 442, in _check_solver\n",
      "    raise ValueError(\"Solver %s supports only 'l2' or 'none' penalties, \"\n",
      "ValueError: Solver lbfgs supports only 'l2' or 'none' penalties, got l1 penalty.\n",
      "\n",
      "  warnings.warn(\"Estimator fit failed. The score on this train-test\"\n",
      "/opt/anaconda3/envs/learn-env/lib/python3.8/site-packages/sklearn/model_selection/_validation.py:548: FitFailedWarning: Estimator fit failed. The score on this train-test partition for these parameters will be set to nan. Details: \n",
      "Traceback (most recent call last):\n",
      "  File \"/opt/anaconda3/envs/learn-env/lib/python3.8/site-packages/sklearn/model_selection/_validation.py\", line 531, in _fit_and_score\n",
      "    estimator.fit(X_train, y_train, **fit_params)\n",
      "  File \"/opt/anaconda3/envs/learn-env/lib/python3.8/site-packages/sklearn/linear_model/_logistic.py\", line 1304, in fit\n",
      "    solver = _check_solver(self.solver, self.penalty, self.dual)\n",
      "  File \"/opt/anaconda3/envs/learn-env/lib/python3.8/site-packages/sklearn/linear_model/_logistic.py\", line 442, in _check_solver\n",
      "    raise ValueError(\"Solver %s supports only 'l2' or 'none' penalties, \"\n",
      "ValueError: Solver sag supports only 'l2' or 'none' penalties, got l1 penalty.\n",
      "\n",
      "  warnings.warn(\"Estimator fit failed. The score on this train-test\"\n"
     ]
    },
    {
     "name": "stderr",
     "output_type": "stream",
     "text": [
      "/opt/anaconda3/envs/learn-env/lib/python3.8/site-packages/sklearn/model_selection/_validation.py:548: FitFailedWarning: Estimator fit failed. The score on this train-test partition for these parameters will be set to nan. Details: \n",
      "Traceback (most recent call last):\n",
      "  File \"/opt/anaconda3/envs/learn-env/lib/python3.8/site-packages/sklearn/model_selection/_validation.py\", line 531, in _fit_and_score\n",
      "    estimator.fit(X_train, y_train, **fit_params)\n",
      "  File \"/opt/anaconda3/envs/learn-env/lib/python3.8/site-packages/sklearn/linear_model/_logistic.py\", line 1304, in fit\n",
      "    solver = _check_solver(self.solver, self.penalty, self.dual)\n",
      "  File \"/opt/anaconda3/envs/learn-env/lib/python3.8/site-packages/sklearn/linear_model/_logistic.py\", line 442, in _check_solver\n",
      "    raise ValueError(\"Solver %s supports only 'l2' or 'none' penalties, \"\n",
      "ValueError: Solver newton-cg supports only 'l2' or 'none' penalties, got elasticnet penalty.\n",
      "\n",
      "  warnings.warn(\"Estimator fit failed. The score on this train-test\"\n",
      "/opt/anaconda3/envs/learn-env/lib/python3.8/site-packages/sklearn/model_selection/_validation.py:548: FitFailedWarning: Estimator fit failed. The score on this train-test partition for these parameters will be set to nan. Details: \n",
      "Traceback (most recent call last):\n",
      "  File \"/opt/anaconda3/envs/learn-env/lib/python3.8/site-packages/sklearn/model_selection/_validation.py\", line 531, in _fit_and_score\n",
      "    estimator.fit(X_train, y_train, **fit_params)\n",
      "  File \"/opt/anaconda3/envs/learn-env/lib/python3.8/site-packages/sklearn/linear_model/_logistic.py\", line 1304, in fit\n",
      "    solver = _check_solver(self.solver, self.penalty, self.dual)\n",
      "  File \"/opt/anaconda3/envs/learn-env/lib/python3.8/site-packages/sklearn/linear_model/_logistic.py\", line 442, in _check_solver\n",
      "    raise ValueError(\"Solver %s supports only 'l2' or 'none' penalties, \"\n",
      "ValueError: Solver lbfgs supports only 'l2' or 'none' penalties, got elasticnet penalty.\n",
      "\n",
      "  warnings.warn(\"Estimator fit failed. The score on this train-test\"\n",
      "/opt/anaconda3/envs/learn-env/lib/python3.8/site-packages/sklearn/model_selection/_validation.py:548: FitFailedWarning: Estimator fit failed. The score on this train-test partition for these parameters will be set to nan. Details: \n",
      "Traceback (most recent call last):\n",
      "  File \"/opt/anaconda3/envs/learn-env/lib/python3.8/site-packages/sklearn/model_selection/_validation.py\", line 531, in _fit_and_score\n",
      "    estimator.fit(X_train, y_train, **fit_params)\n",
      "  File \"/opt/anaconda3/envs/learn-env/lib/python3.8/site-packages/sklearn/linear_model/_logistic.py\", line 1304, in fit\n",
      "    solver = _check_solver(self.solver, self.penalty, self.dual)\n",
      "  File \"/opt/anaconda3/envs/learn-env/lib/python3.8/site-packages/sklearn/linear_model/_logistic.py\", line 449, in _check_solver\n",
      "    raise ValueError(\"Only 'saga' solver supports elasticnet penalty,\"\n",
      "ValueError: Only 'saga' solver supports elasticnet penalty, got solver=liblinear.\n",
      "\n",
      "  warnings.warn(\"Estimator fit failed. The score on this train-test\"\n",
      "/opt/anaconda3/envs/learn-env/lib/python3.8/site-packages/sklearn/model_selection/_validation.py:548: FitFailedWarning: Estimator fit failed. The score on this train-test partition for these parameters will be set to nan. Details: \n",
      "Traceback (most recent call last):\n",
      "  File \"/opt/anaconda3/envs/learn-env/lib/python3.8/site-packages/sklearn/model_selection/_validation.py\", line 531, in _fit_and_score\n",
      "    estimator.fit(X_train, y_train, **fit_params)\n",
      "  File \"/opt/anaconda3/envs/learn-env/lib/python3.8/site-packages/sklearn/linear_model/_logistic.py\", line 1304, in fit\n",
      "    solver = _check_solver(self.solver, self.penalty, self.dual)\n",
      "  File \"/opt/anaconda3/envs/learn-env/lib/python3.8/site-packages/sklearn/linear_model/_logistic.py\", line 442, in _check_solver\n",
      "    raise ValueError(\"Solver %s supports only 'l2' or 'none' penalties, \"\n",
      "ValueError: Solver sag supports only 'l2' or 'none' penalties, got elasticnet penalty.\n",
      "\n",
      "  warnings.warn(\"Estimator fit failed. The score on this train-test\"\n",
      "/opt/anaconda3/envs/learn-env/lib/python3.8/site-packages/sklearn/model_selection/_validation.py:548: FitFailedWarning: Estimator fit failed. The score on this train-test partition for these parameters will be set to nan. Details: \n",
      "Traceback (most recent call last):\n",
      "  File \"/opt/anaconda3/envs/learn-env/lib/python3.8/site-packages/sklearn/model_selection/_validation.py\", line 531, in _fit_and_score\n",
      "    estimator.fit(X_train, y_train, **fit_params)\n",
      "  File \"/opt/anaconda3/envs/learn-env/lib/python3.8/site-packages/sklearn/linear_model/_logistic.py\", line 1312, in fit\n",
      "    raise ValueError(\"l1_ratio must be between 0 and 1;\"\n",
      "ValueError: l1_ratio must be between 0 and 1; got (l1_ratio=None)\n",
      "\n",
      "  warnings.warn(\"Estimator fit failed. The score on this train-test\"\n",
      "/opt/anaconda3/envs/learn-env/lib/python3.8/site-packages/sklearn/model_selection/_validation.py:548: FitFailedWarning: Estimator fit failed. The score on this train-test partition for these parameters will be set to nan. Details: \n",
      "Traceback (most recent call last):\n",
      "  File \"/opt/anaconda3/envs/learn-env/lib/python3.8/site-packages/sklearn/model_selection/_validation.py\", line 531, in _fit_and_score\n",
      "    estimator.fit(X_train, y_train, **fit_params)\n",
      "  File \"/opt/anaconda3/envs/learn-env/lib/python3.8/site-packages/sklearn/linear_model/_logistic.py\", line 1304, in fit\n",
      "    solver = _check_solver(self.solver, self.penalty, self.dual)\n",
      "  File \"/opt/anaconda3/envs/learn-env/lib/python3.8/site-packages/sklearn/linear_model/_logistic.py\", line 442, in _check_solver\n",
      "    raise ValueError(\"Solver %s supports only 'l2' or 'none' penalties, \"\n",
      "ValueError: Solver newton-cg supports only 'l2' or 'none' penalties, got l1 penalty.\n",
      "\n",
      "  warnings.warn(\"Estimator fit failed. The score on this train-test\"\n",
      "/opt/anaconda3/envs/learn-env/lib/python3.8/site-packages/sklearn/model_selection/_validation.py:548: FitFailedWarning: Estimator fit failed. The score on this train-test partition for these parameters will be set to nan. Details: \n",
      "Traceback (most recent call last):\n",
      "  File \"/opt/anaconda3/envs/learn-env/lib/python3.8/site-packages/sklearn/model_selection/_validation.py\", line 531, in _fit_and_score\n",
      "    estimator.fit(X_train, y_train, **fit_params)\n",
      "  File \"/opt/anaconda3/envs/learn-env/lib/python3.8/site-packages/sklearn/linear_model/_logistic.py\", line 1304, in fit\n",
      "    solver = _check_solver(self.solver, self.penalty, self.dual)\n",
      "  File \"/opt/anaconda3/envs/learn-env/lib/python3.8/site-packages/sklearn/linear_model/_logistic.py\", line 442, in _check_solver\n",
      "    raise ValueError(\"Solver %s supports only 'l2' or 'none' penalties, \"\n",
      "ValueError: Solver lbfgs supports only 'l2' or 'none' penalties, got l1 penalty.\n",
      "\n",
      "  warnings.warn(\"Estimator fit failed. The score on this train-test\"\n",
      "/opt/anaconda3/envs/learn-env/lib/python3.8/site-packages/sklearn/model_selection/_validation.py:548: FitFailedWarning: Estimator fit failed. The score on this train-test partition for these parameters will be set to nan. Details: \n",
      "Traceback (most recent call last):\n",
      "  File \"/opt/anaconda3/envs/learn-env/lib/python3.8/site-packages/sklearn/model_selection/_validation.py\", line 531, in _fit_and_score\n",
      "    estimator.fit(X_train, y_train, **fit_params)\n",
      "  File \"/opt/anaconda3/envs/learn-env/lib/python3.8/site-packages/sklearn/linear_model/_logistic.py\", line 1304, in fit\n",
      "    solver = _check_solver(self.solver, self.penalty, self.dual)\n",
      "  File \"/opt/anaconda3/envs/learn-env/lib/python3.8/site-packages/sklearn/linear_model/_logistic.py\", line 442, in _check_solver\n",
      "    raise ValueError(\"Solver %s supports only 'l2' or 'none' penalties, \"\n",
      "ValueError: Solver sag supports only 'l2' or 'none' penalties, got l1 penalty.\n",
      "\n",
      "  warnings.warn(\"Estimator fit failed. The score on this train-test\"\n",
      "/opt/anaconda3/envs/learn-env/lib/python3.8/site-packages/sklearn/model_selection/_validation.py:548: FitFailedWarning: Estimator fit failed. The score on this train-test partition for these parameters will be set to nan. Details: \n",
      "Traceback (most recent call last):\n",
      "  File \"/opt/anaconda3/envs/learn-env/lib/python3.8/site-packages/sklearn/model_selection/_validation.py\", line 531, in _fit_and_score\n",
      "    estimator.fit(X_train, y_train, **fit_params)\n",
      "  File \"/opt/anaconda3/envs/learn-env/lib/python3.8/site-packages/sklearn/linear_model/_logistic.py\", line 1304, in fit\n",
      "    solver = _check_solver(self.solver, self.penalty, self.dual)\n",
      "  File \"/opt/anaconda3/envs/learn-env/lib/python3.8/site-packages/sklearn/linear_model/_logistic.py\", line 442, in _check_solver\n",
      "    raise ValueError(\"Solver %s supports only 'l2' or 'none' penalties, \"\n",
      "ValueError: Solver newton-cg supports only 'l2' or 'none' penalties, got elasticnet penalty.\n",
      "\n",
      "  warnings.warn(\"Estimator fit failed. The score on this train-test\"\n",
      "/opt/anaconda3/envs/learn-env/lib/python3.8/site-packages/sklearn/model_selection/_validation.py:548: FitFailedWarning: Estimator fit failed. The score on this train-test partition for these parameters will be set to nan. Details: \n",
      "Traceback (most recent call last):\n",
      "  File \"/opt/anaconda3/envs/learn-env/lib/python3.8/site-packages/sklearn/model_selection/_validation.py\", line 531, in _fit_and_score\n",
      "    estimator.fit(X_train, y_train, **fit_params)\n",
      "  File \"/opt/anaconda3/envs/learn-env/lib/python3.8/site-packages/sklearn/linear_model/_logistic.py\", line 1304, in fit\n",
      "    solver = _check_solver(self.solver, self.penalty, self.dual)\n",
      "  File \"/opt/anaconda3/envs/learn-env/lib/python3.8/site-packages/sklearn/linear_model/_logistic.py\", line 442, in _check_solver\n",
      "    raise ValueError(\"Solver %s supports only 'l2' or 'none' penalties, \"\n",
      "ValueError: Solver lbfgs supports only 'l2' or 'none' penalties, got elasticnet penalty.\n",
      "\n",
      "  warnings.warn(\"Estimator fit failed. The score on this train-test\"\n",
      "/opt/anaconda3/envs/learn-env/lib/python3.8/site-packages/sklearn/model_selection/_validation.py:548: FitFailedWarning: Estimator fit failed. The score on this train-test partition for these parameters will be set to nan. Details: \n",
      "Traceback (most recent call last):\n",
      "  File \"/opt/anaconda3/envs/learn-env/lib/python3.8/site-packages/sklearn/model_selection/_validation.py\", line 531, in _fit_and_score\n",
      "    estimator.fit(X_train, y_train, **fit_params)\n",
      "  File \"/opt/anaconda3/envs/learn-env/lib/python3.8/site-packages/sklearn/linear_model/_logistic.py\", line 1304, in fit\n",
      "    solver = _check_solver(self.solver, self.penalty, self.dual)\n",
      "  File \"/opt/anaconda3/envs/learn-env/lib/python3.8/site-packages/sklearn/linear_model/_logistic.py\", line 449, in _check_solver\n",
      "    raise ValueError(\"Only 'saga' solver supports elasticnet penalty,\"\n",
      "ValueError: Only 'saga' solver supports elasticnet penalty, got solver=liblinear.\n",
      "\n",
      "  warnings.warn(\"Estimator fit failed. The score on this train-test\"\n",
      "/opt/anaconda3/envs/learn-env/lib/python3.8/site-packages/sklearn/model_selection/_validation.py:548: FitFailedWarning: Estimator fit failed. The score on this train-test partition for these parameters will be set to nan. Details: \n",
      "Traceback (most recent call last):\n",
      "  File \"/opt/anaconda3/envs/learn-env/lib/python3.8/site-packages/sklearn/model_selection/_validation.py\", line 531, in _fit_and_score\n",
      "    estimator.fit(X_train, y_train, **fit_params)\n",
      "  File \"/opt/anaconda3/envs/learn-env/lib/python3.8/site-packages/sklearn/linear_model/_logistic.py\", line 1304, in fit\n",
      "    solver = _check_solver(self.solver, self.penalty, self.dual)\n",
      "  File \"/opt/anaconda3/envs/learn-env/lib/python3.8/site-packages/sklearn/linear_model/_logistic.py\", line 442, in _check_solver\n",
      "    raise ValueError(\"Solver %s supports only 'l2' or 'none' penalties, \"\n",
      "ValueError: Solver sag supports only 'l2' or 'none' penalties, got elasticnet penalty.\n",
      "\n",
      "  warnings.warn(\"Estimator fit failed. The score on this train-test\"\n",
      "/opt/anaconda3/envs/learn-env/lib/python3.8/site-packages/sklearn/model_selection/_validation.py:548: FitFailedWarning: Estimator fit failed. The score on this train-test partition for these parameters will be set to nan. Details: \n",
      "Traceback (most recent call last):\n",
      "  File \"/opt/anaconda3/envs/learn-env/lib/python3.8/site-packages/sklearn/model_selection/_validation.py\", line 531, in _fit_and_score\n",
      "    estimator.fit(X_train, y_train, **fit_params)\n",
      "  File \"/opt/anaconda3/envs/learn-env/lib/python3.8/site-packages/sklearn/linear_model/_logistic.py\", line 1312, in fit\n",
      "    raise ValueError(\"l1_ratio must be between 0 and 1;\"\n",
      "ValueError: l1_ratio must be between 0 and 1; got (l1_ratio=None)\n",
      "\n",
      "  warnings.warn(\"Estimator fit failed. The score on this train-test\"\n"
     ]
    },
    {
     "data": {
      "text/plain": [
       "GridSearchCV(cv=3, estimator=LogisticRegression(), n_jobs=1,\n",
       "             param_grid={'max_iter': [100, 200, 300],\n",
       "                         'penalty': ['l2', 'l1', 'elasticnet'],\n",
       "                         'solver': ['newton-cg', 'lbfgs', 'liblinear', 'sag',\n",
       "                                    'saga']},\n",
       "             scoring='accuracy')"
      ]
     },
     "execution_count": 83,
     "metadata": {},
     "output_type": "execute_result"
    }
   ],
   "source": [
    "log_model_grid.fit(X_train, y_train)"
   ]
  },
  {
   "cell_type": "code",
   "execution_count": 84,
   "id": "85126f3e",
   "metadata": {},
   "outputs": [
    {
     "data": {
      "text/plain": [
       "{'max_iter': 100, 'penalty': 'l1', 'solver': 'saga'}"
      ]
     },
     "execution_count": 84,
     "metadata": {},
     "output_type": "execute_result"
    }
   ],
   "source": [
    "log_model_grid.best_params_"
   ]
  },
  {
   "cell_type": "code",
   "execution_count": 85,
   "id": "00869cf1",
   "metadata": {},
   "outputs": [
    {
     "name": "stdout",
     "output_type": "stream",
     "text": [
      "              precision    recall  f1-score   support\n",
      "\n",
      "           0       0.65      0.73      0.69       479\n",
      "           1       0.47      0.18      0.26       407\n",
      "           2       0.70      0.88      0.78       777\n",
      "\n",
      "    accuracy                           0.66      1663\n",
      "   macro avg       0.61      0.59      0.58      1663\n",
      "weighted avg       0.63      0.66      0.63      1663\n",
      "\n"
     ]
    },
    {
     "data": {
      "image/png": "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\n",
      "text/plain": [
       "<Figure size 432x288 with 2 Axes>"
      ]
     },
     "metadata": {
      "needs_background": "light"
     },
     "output_type": "display_data"
    }
   ],
   "source": [
    "# model performance\n",
    "model_evaluation(log_model_grid, y_test, X_test)"
   ]
  },
  {
   "cell_type": "markdown",
   "id": "6ef9f862",
   "metadata": {},
   "source": [
    "Looks like Logistic Regression CV and a Logistic Regression GridSearch are having trouble getting past a 66% accuracy. Let's move onto more complex classifier algorithms and see how they perform on the data."
   ]
  },
  {
   "cell_type": "markdown",
   "id": "6c2f193e",
   "metadata": {},
   "source": [
    "### Model 5 - Random Forest"
   ]
  },
  {
   "cell_type": "code",
   "execution_count": 86,
   "id": "fdadffbc",
   "metadata": {},
   "outputs": [
    {
     "data": {
      "text/plain": [
       "RandomForestClassifier()"
      ]
     },
     "execution_count": 86,
     "metadata": {},
     "output_type": "execute_result"
    }
   ],
   "source": [
    "rfc = RandomForestClassifier()\n",
    "\n",
    "rfc.fit(X_train, y_train)"
   ]
  },
  {
   "cell_type": "code",
   "execution_count": 87,
   "id": "80fe0ef2",
   "metadata": {
    "scrolled": true
   },
   "outputs": [
    {
     "name": "stdout",
     "output_type": "stream",
     "text": [
      "              precision    recall  f1-score   support\n",
      "\n",
      "           0       0.64      0.61      0.62       479\n",
<<<<<<< Updated upstream
      "           1       0.39      0.34      0.36       407\n",
      "           2       0.72      0.79      0.75       777\n",
      "\n",
      "    accuracy                           0.63      1663\n",
      "   macro avg       0.58      0.58      0.58      1663\n",
      "weighted avg       0.62      0.63      0.62      1663\n",
=======
      "           1       0.37      0.31      0.34       407\n",
      "           2       0.70      0.78      0.74       777\n",
      "\n",
      "    accuracy                           0.62      1663\n",
      "   macro avg       0.57      0.57      0.57      1663\n",
      "weighted avg       0.60      0.62      0.61      1663\n",
>>>>>>> Stashed changes
      "\n"
     ]
    },
    {
     "data": {
<<<<<<< Updated upstream
      "image/png": "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\n",
=======
      "image/png": "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\n",
>>>>>>> Stashed changes
      "text/plain": [
       "<Figure size 432x288 with 2 Axes>"
      ]
     },
     "metadata": {
      "needs_background": "light"
     },
     "output_type": "display_data"
    }
   ],
   "source": [
    "# model evaluation\n",
    "model_evaluation(rfc, y_test, X_test)"
   ]
  },
  {
   "cell_type": "markdown",
   "id": "50148530",
   "metadata": {},
   "source": [
    "62% accuracy still does not beat our Logistic Regression and LogisticRegression CV models"
   ]
  },
  {
   "cell_type": "markdown",
   "id": "9e409d5c",
   "metadata": {},
   "source": [
    "### Model 6 - Random Forest GridSearch"
   ]
  },
  {
   "cell_type": "code",
   "execution_count": 88,
   "id": "52a45900",
   "metadata": {},
   "outputs": [],
   "source": [
    "rfc2 = RandomForestClassifier()"
   ]
  },
  {
   "cell_type": "code",
   "execution_count": 89,
   "id": "40bb0ff1",
   "metadata": {},
   "outputs": [],
   "source": [
    "# parameter grid\n",
    "forest_param = {'n_estimators':[50,100,200],\n",
    "                'criterion':['gini','entropy']}"
   ]
  },
  {
   "cell_type": "code",
   "execution_count": 90,
   "id": "a55c0f9e",
   "metadata": {},
   "outputs": [],
   "source": [
    "rfc_grid = GridSearchCV(rfc, \n",
    "                        forest_param,\n",
    "                        scoring='accuracy',\n",
    "                        cv=5)"
   ]
  },
  {
   "cell_type": "code",
   "execution_count": 91,
   "id": "923e435d",
   "metadata": {},
   "outputs": [
    {
     "data": {
      "text/plain": [
       "GridSearchCV(cv=5, estimator=RandomForestClassifier(),\n",
       "             param_grid={'criterion': ['gini', 'entropy'],\n",
       "                         'n_estimators': [50, 100, 200]},\n",
       "             scoring='accuracy')"
      ]
     },
     "execution_count": 91,
     "metadata": {},
     "output_type": "execute_result"
    }
   ],
   "source": [
    "rfc_grid.fit(X_train, y_train)"
   ]
  },
  {
   "cell_type": "code",
   "execution_count": 92,
   "id": "8601819e",
   "metadata": {},
   "outputs": [
    {
     "name": "stdout",
     "output_type": "stream",
     "text": [
      "              precision    recall  f1-score   support\n",
      "\n",
<<<<<<< Updated upstream
      "           0       0.65      0.62      0.63       479\n",
      "           1       0.39      0.33      0.35       407\n",
      "           2       0.71      0.79      0.75       777\n",
      "\n",
      "    accuracy                           0.63      1663\n",
      "   macro avg       0.58      0.58      0.58      1663\n",
      "weighted avg       0.62      0.63      0.62      1663\n",
=======
      "           0       0.64      0.62      0.63       479\n",
      "           1       0.36      0.30      0.33       407\n",
      "           2       0.71      0.78      0.74       777\n",
      "\n",
      "    accuracy                           0.62      1663\n",
      "   macro avg       0.57      0.57      0.57      1663\n",
      "weighted avg       0.60      0.62      0.61      1663\n",
>>>>>>> Stashed changes
      "\n"
     ]
    },
    {
     "data": {
<<<<<<< Updated upstream
      "image/png": "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\n",
=======
      "image/png": "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\n",
>>>>>>> Stashed changes
      "text/plain": [
       "<Figure size 432x288 with 2 Axes>"
      ]
     },
     "metadata": {
      "needs_background": "light"
     },
     "output_type": "display_data"
    }
   ],
   "source": [
    "model_evaluation(rfc_grid, y_test, X_test)"
   ]
  },
  {
   "cell_type": "code",
   "execution_count": 93,
   "id": "7df625ce",
   "metadata": {},
   "outputs": [
    {
     "data": {
      "text/plain": [
<<<<<<< Updated upstream
       "{'criterion': 'entropy', 'n_estimators': 200}"
=======
       "{'criterion': 'entropy', 'n_estimators': 100}"
>>>>>>> Stashed changes
      ]
     },
     "execution_count": 93,
     "metadata": {},
     "output_type": "execute_result"
    }
   ],
   "source": [
    "rfc_grid.best_params_"
   ]
  },
  {
   "cell_type": "markdown",
   "id": "52c46a48",
   "metadata": {},
   "source": [
    "Still not seeing the improvement from the baseline model that I am hoping for so we will continue to try different models. Let's take a look at how a Support Vector Machine and an XGBoost performs."
   ]
  },
  {
   "cell_type": "markdown",
   "id": "1c7d560c",
   "metadata": {},
   "source": [
    "### Model 7 - Support Vector Machine"
   ]
  },
  {
   "cell_type": "code",
   "execution_count": 94,
   "id": "982a0bcc",
   "metadata": {},
   "outputs": [],
   "source": [
    "# SVC instance\n",
    "# using class_weight = 'balanced' because our target class is imbalanced\n",
    "svc = SVC(class_weight='balanced')"
   ]
  },
  {
   "cell_type": "code",
   "execution_count": 95,
   "id": "44b195ae",
   "metadata": {},
   "outputs": [
    {
     "data": {
      "text/plain": [
       "SVC(class_weight='balanced')"
      ]
     },
     "execution_count": 95,
     "metadata": {},
     "output_type": "execute_result"
    }
   ],
   "source": [
    "svc.fit(X_train, y_train)"
   ]
  },
  {
   "cell_type": "code",
   "execution_count": 96,
   "id": "8e421e0b",
   "metadata": {},
   "outputs": [
    {
     "name": "stdout",
     "output_type": "stream",
     "text": [
      "              precision    recall  f1-score   support\n",
      "\n",
      "           0       0.66      0.62      0.64       479\n",
      "           1       0.35      0.53      0.42       407\n",
      "           2       0.83      0.63      0.72       777\n",
      "\n",
      "    accuracy                           0.60      1663\n",
      "   macro avg       0.61      0.59      0.59      1663\n",
      "weighted avg       0.66      0.60      0.62      1663\n",
      "\n"
     ]
    },
    {
     "data": {
      "image/png": "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\n",
      "text/plain": [
       "<Figure size 432x288 with 2 Axes>"
      ]
     },
     "metadata": {
      "needs_background": "light"
     },
     "output_type": "display_data"
    }
   ],
   "source": [
    "model_evaluation(svc, y_test, X_test)"
   ]
  },
  {
   "cell_type": "markdown",
   "id": "cc8ccae4",
   "metadata": {},
   "source": [
    "60% accuracy with no parameters set. Let's try and put the svc in a GridSearch and see if the performance improves."
   ]
  },
  {
   "cell_type": "markdown",
   "id": "814e30bb",
   "metadata": {},
   "source": [
    "### Model 8 - Support Vector Machine GridSearch"
   ]
  },
  {
   "cell_type": "code",
   "execution_count": 97,
   "id": "40229fff",
   "metadata": {},
   "outputs": [],
   "source": [
    "svc2 = SVC(class_weight='balanced')"
   ]
  },
  {
   "cell_type": "code",
   "execution_count": 98,
   "id": "273430c5",
   "metadata": {},
   "outputs": [],
   "source": [
    "# use grid search to find the best parameters for SVC\n",
    "param_grid_svc = {'C':[0.001,0.01,0.1,0.5,1],'gamma':['scale','auto']}"
   ]
  },
  {
   "cell_type": "code",
   "execution_count": 99,
   "id": "90e0c639",
   "metadata": {},
   "outputs": [],
   "source": [
    "svc_grid = GridSearchCV(svc2, param_grid_svc)"
   ]
  },
  {
   "cell_type": "code",
   "execution_count": 100,
   "id": "e55a9794",
   "metadata": {},
   "outputs": [
    {
     "data": {
      "text/plain": [
       "GridSearchCV(estimator=SVC(class_weight='balanced'),\n",
       "             param_grid={'C': [0.001, 0.01, 0.1, 0.5, 1],\n",
       "                         'gamma': ['scale', 'auto']})"
      ]
     },
     "execution_count": 100,
     "metadata": {},
     "output_type": "execute_result"
    }
   ],
   "source": [
    "svc_grid.fit(X_train, y_train)"
   ]
  },
  {
   "cell_type": "code",
   "execution_count": 101,
   "id": "3975c55b",
   "metadata": {},
   "outputs": [
    {
     "data": {
      "text/plain": [
       "{'C': 1, 'gamma': 'scale'}"
      ]
     },
     "execution_count": 101,
     "metadata": {},
     "output_type": "execute_result"
    }
   ],
   "source": [
    "svc_grid.best_params_"
   ]
  },
  {
   "cell_type": "code",
   "execution_count": 102,
   "id": "f3402062",
   "metadata": {},
   "outputs": [
    {
     "name": "stdout",
     "output_type": "stream",
     "text": [
      "              precision    recall  f1-score   support\n",
      "\n",
      "           0       0.66      0.62      0.64       479\n",
      "           1       0.35      0.53      0.42       407\n",
      "           2       0.83      0.63      0.72       777\n",
      "\n",
      "    accuracy                           0.60      1663\n",
      "   macro avg       0.61      0.59      0.59      1663\n",
      "weighted avg       0.66      0.60      0.62      1663\n",
      "\n"
     ]
    },
    {
     "data": {
      "image/png": "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\n",
      "text/plain": [
       "<Figure size 432x288 with 2 Axes>"
      ]
     },
     "metadata": {
      "needs_background": "light"
     },
     "output_type": "display_data"
    }
   ],
   "source": [
    "model_evaluation(svc_grid, y_test, X_test)"
   ]
  },
  {
   "cell_type": "markdown",
   "id": "adccdb40",
   "metadata": {},
   "source": [
    "Same exact score as before... let's move onto XGBoost"
   ]
  },
  {
   "cell_type": "markdown",
   "id": "22cc3591",
   "metadata": {},
   "source": [
    "### Model 9 - XGBoost"
   ]
  },
  {
   "cell_type": "code",
   "execution_count": 103,
   "id": "b989660a",
   "metadata": {},
   "outputs": [],
   "source": [
    "# XGBoost instance\n",
    "xgb = XGBClassifier()"
   ]
  },
  {
   "cell_type": "code",
   "execution_count": 104,
   "id": "fb897c86",
   "metadata": {},
   "outputs": [
    {
     "data": {
      "text/plain": [
       "XGBClassifier(base_score=0.5, booster='gbtree', colsample_bylevel=1,\n",
       "              colsample_bynode=1, colsample_bytree=1, gamma=0, gpu_id=-1,\n",
       "              importance_type='gain', interaction_constraints='',\n",
       "              learning_rate=0.300000012, max_delta_step=0, max_depth=6,\n",
       "              min_child_weight=1, missing=nan, monotone_constraints='()',\n",
       "              n_estimators=100, n_jobs=0, num_parallel_tree=1,\n",
       "              objective='multi:softprob', random_state=0, reg_alpha=0,\n",
       "              reg_lambda=1, scale_pos_weight=None, subsample=1,\n",
       "              tree_method='exact', validate_parameters=1, verbosity=None)"
      ]
     },
     "execution_count": 104,
     "metadata": {},
     "output_type": "execute_result"
    }
   ],
   "source": [
    "xgb.fit(X_train, y_train)"
   ]
  },
  {
   "cell_type": "code",
   "execution_count": 105,
   "id": "6da0e3fc",
   "metadata": {
    "scrolled": true
   },
   "outputs": [
    {
     "name": "stdout",
     "output_type": "stream",
     "text": [
      "              precision    recall  f1-score   support\n",
      "\n",
      "           0       0.67      0.60      0.63       479\n",
      "           1       0.39      0.36      0.37       407\n",
      "           2       0.73      0.80      0.76       777\n",
      "\n",
      "    accuracy                           0.63      1663\n",
      "   macro avg       0.59      0.59      0.59      1663\n",
      "weighted avg       0.63      0.63      0.63      1663\n",
      "\n"
     ]
    },
    {
     "data": {
      "image/png": "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\n",
      "text/plain": [
       "<Figure size 432x288 with 2 Axes>"
      ]
     },
     "metadata": {
      "needs_background": "light"
     },
     "output_type": "display_data"
    }
   ],
   "source": [
    "model_evaluation(xgb, y_test, X_test)"
   ]
  },
  {
   "cell_type": "markdown",
   "id": "b30534ed",
   "metadata": {},
   "source": [
    "No luck getting a better accuracy with an XGBoost classifier, only 63% accuracy. Let's see if finding the best parameters of an XGBoost classifier will help the model performance."
   ]
  },
  {
   "cell_type": "markdown",
   "id": "41931f48",
   "metadata": {},
   "source": [
    "### Model 10 - XGBoost GridSearch"
   ]
  },
  {
   "cell_type": "code",
   "execution_count": 106,
   "id": "bb2463a2",
   "metadata": {},
   "outputs": [],
   "source": [
    "xgb2 = XGBClassifier()"
   ]
  },
  {
   "cell_type": "code",
   "execution_count": 107,
   "id": "0b48d00b",
   "metadata": {},
   "outputs": [],
   "source": [
    "param_grid_xgb = {\n",
    "    'learning_rate': [0.1,0.3,0.5],\n",
    "    'max_depth': [1,3,5],\n",
    "    'min_child_weight': [1,3,5],\n",
    "    'subsample': [0.5, 0.7],\n",
    "    'n_estimators': [10,50,100],\n",
    "}"
   ]
  },
  {
   "cell_type": "code",
<<<<<<< Updated upstream
   "execution_count": null,
   "id": "97210fd0",
   "metadata": {},
   "outputs": [],
=======
   "execution_count": 108,
   "id": "97210fd0",
   "metadata": {},
   "outputs": [
    {
     "data": {
      "text/plain": [
       "GridSearchCV(estimator=XGBClassifier(base_score=None, booster=None,\n",
       "                                     colsample_bylevel=None,\n",
       "                                     colsample_bynode=None,\n",
       "                                     colsample_bytree=None, gamma=None,\n",
       "                                     gpu_id=None, importance_type='gain',\n",
       "                                     interaction_constraints=None,\n",
       "                                     learning_rate=None, max_delta_step=None,\n",
       "                                     max_depth=None, min_child_weight=None,\n",
       "                                     missing=nan, monotone_constraints=None,\n",
       "                                     n_estimators=100, n_jobs=None,\n",
       "                                     num_parallel_tree=None, random_state=None,\n",
       "                                     reg_alpha=None, reg_lambda=None,\n",
       "                                     scale_pos_weight=None, subsample=None,\n",
       "                                     tree_method=None, validate_parameters=None,\n",
       "                                     verbosity=None),\n",
       "             n_jobs=1,\n",
       "             param_grid={'learning_rate': [0.1, 0.3, 0.5],\n",
       "                         'max_depth': [1, 3, 5], 'min_child_weight': [1, 3, 5],\n",
       "                         'n_estimators': [10, 50, 100],\n",
       "                         'subsample': [0.5, 0.7]},\n",
       "             scoring='accuracy')"
      ]
     },
     "execution_count": 108,
     "metadata": {},
     "output_type": "execute_result"
    }
   ],
>>>>>>> Stashed changes
   "source": [
    "grid_xgb = GridSearchCV(xgb2, param_grid_xgb, scoring='accuracy', n_jobs=1)\n",
    "grid_xgb.fit(X_train, y_train)"
   ]
  },
  {
   "cell_type": "code",
<<<<<<< Updated upstream
   "execution_count": null,
   "id": "b05b6781",
   "metadata": {},
   "outputs": [],
=======
   "execution_count": 109,
   "id": "b05b6781",
   "metadata": {},
   "outputs": [
    {
     "data": {
      "text/plain": [
       "{'learning_rate': 0.3,\n",
       " 'max_depth': 1,\n",
       " 'min_child_weight': 1,\n",
       " 'n_estimators': 50,\n",
       " 'subsample': 0.7}"
      ]
     },
     "execution_count": 109,
     "metadata": {},
     "output_type": "execute_result"
    }
   ],
>>>>>>> Stashed changes
   "source": [
    "grid_xgb.best_params_"
   ]
  },
  {
   "cell_type": "code",
<<<<<<< Updated upstream
   "execution_count": null,
   "id": "09b563f4",
   "metadata": {},
   "outputs": [],
=======
   "execution_count": 110,
   "id": "09b563f4",
   "metadata": {},
   "outputs": [
    {
     "name": "stdout",
     "output_type": "stream",
     "text": [
      "              precision    recall  f1-score   support\n",
      "\n",
      "           0       0.64      0.68      0.66       479\n",
      "           1       0.39      0.25      0.31       407\n",
      "           2       0.74      0.84      0.79       777\n",
      "\n",
      "    accuracy                           0.65      1663\n",
      "   macro avg       0.59      0.59      0.58      1663\n",
      "weighted avg       0.62      0.65      0.63      1663\n",
      "\n"
     ]
    },
    {
     "data": {
      "image/png": "iVBORw0KGgoAAAANSUhEUgAAATgAAAEGCAYAAADxD4m3AAAAOXRFWHRTb2Z0d2FyZQBNYXRwbG90bGliIHZlcnNpb24zLjMuMSwgaHR0cHM6Ly9tYXRwbG90bGliLm9yZy/d3fzzAAAACXBIWXMAAAsTAAALEwEAmpwYAAAj5klEQVR4nO3de3xU1bn/8c+TQBLuEK6ROxVRUFCLiHq8a5WqlfaUc2ir5dfaVitVq7UW+murtfWop8d6rK32UKvFWy3eflLviiJqvYFCERTNAYVAuCQhEK5JZp7fH3sHBySTGXOZmZ3v+/Xar5lZs2fvZ0byuNZee61l7o6ISBTlZToAEZHWogQnIpGlBCcikaUEJyKRpQQnIpHVIdMBJMrv0sU79irOdBhZq3Dj7kyHkP1i8UxHkNV2xrdR67usOcc44+QuXlkVS2nfRf/c/Yy7n9mc8zVHViW4jr2KGTz98kyHkbUOvHVlpkPIevGabZkOIau9vuPxZh+jsirGm88MSWnf/JIP+zT7hM2QVQlORLKfA3Fyo6asBCciaXGcOk+tiZppSnAikjbV4EQkkhwnliNDPJXgRCRtcZTgRCSCHIgpwYlIVKkGJyKR5ECdrsGJSBQ5riaqiESUQyw38psSnIikJxjJkBuU4EQkTUaMZo3XbzNKcCKSlqCTQQlORCIouA9OCU5EIiqeIzU4zegrImlpqMGlsjXFzHqa2UNm9r6ZvWdmx5hZsZk9Z2Yfho+9EvafaWalZrbCzM5o6vhKcCKSFseIkZfSloJbgKfd/WBgHPAeMAOY5+4jgXnha8xsNDAVGAOcCdxmZvnJDq4EJyJpi7ultCVjZt2BE4A/A7h7rbtXA+cCs8PdZgOTw+fnAg+4+253XwWUAhOSnUPX4EQkLY5R60krTon6mNnChNez3H1W+HwEsAm4y8zGAYuAy4D+7l4O4O7lZtYv3H8g8HrCscrCskYpwYlIWoIbfVNu/FW4+/hG3usAHAlc4u5vmNkthM3RRuyvSph0TIWaqCKSthbqZCgDytz9jfD1QwQJb4OZlQCEjxsT9h+c8PlBwLpkJ1CCE5G0uBsxz0tpS34cXw+sMbNRYdGpwHJgLjAtLJsGPBY+nwtMNbNCMxsOjATeTHYONVFFJG3xlrvR9xLgPjMrAFYC3yKoeM0xswuA1cAUAHdfZmZzCJJgPTDdPfnqN0pwIpKWoJOhZVKHuy8G9neN7tRG9r8OuC7V4yvBiUha0uxkyCglOBFJWyxHhmopwYlIWhpGMuQCJTgRSVu8iR7SbKEEJyJpCQbbK8GJSAQ5Rl3qQ7Uyqt0muIL8eu6b9BgF+XHyLc4zH43g1sVHcdX41zh58MfUxfNYXdOdma+cTE1tIQCjelXyy2MX0LVjLXGMr/79K9TG2s9POPkbH/OFyWW4w8el3bj5mjFcce27DBq6A4Au3erYXtORS752TIYjzYwu3er54X+UMnTkThy4ecaBvL+4G186v5xzzisnFjPenN+LO/9zWKZDbRZ3mryJN1u06l+nmZ1JMB1KPnCHu9/QmudLR20sn2lPf4kd9R3pYDHuP+sxFqwdwqvrBnHToqOJeR5Xjn+dC8e+w38tnEi+xfnNCfP48YJTWLG5Dz0Ld1Efz43/yC2hd99dnDP1Y77/1eOo3Z3PjBuWcOIZ67lxxrg9+1xw+Qp2bGs/CX9fF/1sFQsX9OK6Sw6mQ8c4hUVxxh69hYmnVnHxOYdTV5tHj+LaTIfZAqwlb/RtVa32FxrO0/QHYBIwGvhaOJ9TljB21HcEoENenA55cdzh1XWD9/zfafHG/gzovA2A4wauYcXm3qzY3AeA6t1FOXOhtaXk5zsFhXHy8uMUdopRuakw4V3n+NPX89LTAzIWXyZ17lrPoUdt5ZkHg4kv6uvy2F7TgbO+vp45swZSVxv8W9lSVZDJMFuEQ4sM1WoLrfm/2wlAqbuvBDCzBwjmc1reiudMS57FeeSchxnSfQv3v38o/6zov9f7/zryfZ5a9TkAhnffgjvc8YXHKS7axZMrP8cd7x6RibAzonJTEY/cM4y/PLmA2t15vP1ab955vc+e98ccuZnqqkLWremSwSgzZ8Dg3Wyp6sgVN5Yy4uAdfPhuF/746+EMHL6TQ8dvZdoVq6nbnccdNwzlg6XdMh1us+VKJ0NrRjkQWJPwusm5m9pa3POYPHcKJ845n7F9NjKyZ9We9y4au4iYG3NXjgQgPy/O5/uv58cvncrXnziX04Z+xMSSskyF3ua6dqtj4kkb+fbZx3P+GSdS1CnGyV/8ZCKHE89ov7U3CGq3B47ZxhP3D+AH545j1858/u3CteTnO1171HP5Vw/jjhuHMvOWD2hihp+s56Q22WU2rNvQmgkupbmbzOx7ZrbQzBbGtm9vxXAaV1NbyBvrD+D4QasBmHzgCk4avJorXzqVhq+xfntX3lxfwubdndgV68iCsiGM6V2RkXgz4fCjK9mwtjNbqwuI1efxjxf6c8jYagDy8uMce8pGFjzbfhNcxfoCKtYXsmJJUDt75eneHDhmGxXrC3n1md6A8cE/u+EOPYrrMxtsMwXLBnZIacu01kxwKc3d5O6z3H28u4/P79J2zZtehTvpVrAbgML8eo4tKWNldS+OH7ia7x62mO8/fya7Yh337P/K2sGMKq6iKL+OfItz1IB1lFb3auzwkbNpfRGjDqumsCgGOOMmVLJmVVcAjji6irKPulC5sSizQWbQ5ooCNpUXMHD4TgAOP6aa1aWdee35Yg4/ZgsAA4ftpENHZ0tV5v/wmye1ueCyYWnB1vyl3wJGhvM2rSVYLOLrrXi+tPTrvIMbjn+BfHPMnKdXfY75ZUN59l/vpyA/xl1nPA7Akk39ufq1E9haW8hf3h3LQ+c8ggMLyobwUtnQzH6JNrTi3Z68Oq8/t9z3GrGYsXJFd556ZBAAJ3yhfTdPG9z+qxFcddMHdOzolK8p4uYZB7JrZx6XX1/K7U+8Q31dHjddNZL9N25yh5M7IxnMvfWuB5jZF4H/JrhN5M5wqpNGFQ0a7IOnX95q8eS6A29dmekQsl68ZlumQ8hqr+94nC2ximZl2EGH9vDpc45Lad+fjnlqUZIpy1tdq9aV3f1J4MnWPIeItC13y5kaXK5fDBCRNhZ0MmiolohEkmXFTbypUIITkbQEnQy50VGiBCciacuVkQxKcCKSloaRDLlACU5E0qZFZ0QkktyhLkemClOCE5G0BE1UJTgRiahsGGeaCiU4EUlLLt0mkhv1TBHJIkETNZWtySOZfWRmS81ssZktDMuKzew5M/swfOyVsP9MMys1sxVmdkZTx1eCE5G0xcN1GZraUnSyux+eMCh/BjDP3UcC88LXhEseTAXGAGcCt4VLIzRKCU5E0hL0ouantH1G5wKzw+ezgckJ5Q+4+253XwWUEiyN0CglOBFJSwtPWe7As2a2yMy+F5b1d/dygPCxX1ie9jII6mQQkbSl0fzs03BtLTTL3WclvD7O3deZWT/gOTN7P8mxUloGIZESnIikJc1e1IpkE166+7rwcaOZPUrQ5NxgZiXuXm5mJcDGcPeUlkFIpCaqiKStJXpRzayLmXVreA58AXgXmAtMC3ebBjwWPp8LTDWzwnAphJHAm8nOoRqciKTF3ahvmZEM/YFHzQyCXHS/uz9tZm8Bc8zsAmA1MCU4ry8zszkEayvXA9PdPZbsBEpwIpK2lrjRN1wUftx+yiuBUxv5zHVA0rVdEinBiUhacmkkgxKciKRNCU5EIkkTXopIpKVxH1xGKcGJSFrcoV4TXopIVKmJKiKRpGtwIhJprgQnIlGlTgYRiSR3XYMTkcgyYupFFZGo0jW4z6Bgc4zhD23NdBjZq1NRpiPIerVjBmU6hKwWf+P5Zh9DY1FFJLo8uA6XC5TgRCRt6kUVkUhydTKISJSpiSoikaVeVBGJJHclOBGJMN0mIiKRpWtwIhJJjhFXL6qIRFWOVOCU4EQkTepkEJFIy5EqnBKciKQt52twZnYrSfK0u1/aKhGJSFZzIB7P8QQHLGyzKEQkdzjQgjU4M8snyDdr3f1sMysG/gYMAz4C/s3dN4f7zgQuAGLApe7+TLJjN5rg3H32PkF0cfftzfgeIhIRLXwf3GXAe0D38PUMYJ6732BmM8LXPzGz0cBUYAxwAPC8mR3k7rHGDtzkzSxmdoyZLQ8DwMzGmdltzfo6IpLbPMWtCWY2CDgLuCOh+FygoYI1G5icUP6Au+9291VAKTAh2fFTuVvvv4EzgEoAd18CnJDC50Qkkgz31Dagj5ktTNi+t8/B/hu4CognlPV393KA8LFfWD4QWJOwX1lY1qiUelHdfY3ZXm3uRquEItIOpN5ErXD38ft7w8zOBja6+yIzOymFY+3vwl/SSFJJcGvM7FjAzawAuJSwuSoi7ZCDt0wv6nHAl8zsi0AR0N3M7gU2mFmJu5ebWQmwMdy/DBic8PlBwLpkJ0iliXoRMJ2gKrgWODx8LSLtlqW4Nc7dZ7r7IHcfRtB58IK7nwfMBaaFu00DHgufzwWmmlmhmQ0HRgJvJjtHkzU4d68AvtHUfiLSjrTuSIYbgDlmdgGwGpgC4O7LzGwOsByoB6Yn60GFFBKcmY0AbgEmEnyt14DL3X1ls76CiOSuFk5w7j4fmB8+rwRObWS/64DrUj1uKk3U+4E5QAnBvScPAn9N9QQiEjENN/qmsmVYKgnO3P0ed68Pt3vJmaG2ItIa3FPbMi3ZWNTi8OmL4d3EDxAktn8HnmiD2EQkW0VgLOoigoTW8E0uTHjPgV+1VlAikt0sC2pnqUg2FnV4WwYiIjkixWFY2SClkQxmdigwmuBmPADc/e7WCkpEsll2dCCkIpXbRK4GTiJIcE8Ck4BXACU4kfYqR2pwqfSifpXgnpT17v4tYBxQ2KpRiUh2i6e4ZVgqTdSd7h43s3oz604wLmxEK8fV6i6/7HWOnrCW6uoiLpp+FgDfPG8Jx0xcS9yhurqIm26eSFVVZ/r328asPz5B2dpuALz/fh9u/UPSWVoi4bKZ7zDhuA1Uby5k+vknA9C1Wy0zfrWQfgN2snF9J274+Xi21RRw0CGbueQnS/Z89v47R/HagpJMhd4mrvzOy0w8Yg3VW4v4zsyv7CmffPpyJp++nFgsjzeWDGbWA0fRIT/G5d/+BwcNr8Ad/nDPRJa8n6O/TwtPeNmaUklwC82sJ/Angp7VbTQx/gvAzO4EGmYLOLQ5QbaG554fwd8fP4grr3htT9lDD4/m7nvHAXDuOSv4xtfe3ZPIysu7Mv2SL2Yk1kx5/skhPP7wcK74+Tt7yqac/yFLFvblwXtHMuW8D5lyXil33T6aj1d247ILTiAey6NX7138fvZ83ni1P/FYbqyf+Vk88/JIHnvuEH5y0YI9ZYcfUs6xR37Md3/6Zerq8+nZfScAZ528AoDv/vTL9Oy+k+uvfJaLr/5SzqxtsK9c6UVt8l+fu1/s7tXu/kfgdGBa2FRtyl+AM5sZX6t5d1k/amoK9irbsbPjnudFRfVZcaNiJi1b0puarXv/RhOPX8/zTwUTOjz/1GAmnlAOwO7dHfYks4KCWLv47ZauGMDW7XtfrTnn1Pd44PGx1NXnA1C9tRMAQwdW886ykj1l23YUcNDwirYNuCW10ISXrS3Zjb5HJnvP3d9OdmB3X2Bmw5oRW0ZM++YSTjtlFdu3d+QnMz8ZDjdgwDZ+/7un2LGjI7PvGcuyZf2SHCW6evbazebKoDN9c2URPXvW7nlv1OjNXPbTxfTrv4ObfnVkpGtvjRk0YCuHjdrAt6csorauA/9z/1GsWNWX/11dzLGfX80Lr4+gX+/tHDSskn7F21mxsm+mQ460ZE3Um5K858ApLRFAOMPn9wCKCnq0xCGbZfbd45h99zj+fcoyzjnnA+69byxVVZ04//9MpqamkAMPrOLqny3gwu+ftVeNT2DF8l5cfN7JDB5aw+U/e4eFr/ejrjY/02G1qfz8OF271PKDa85h1IgKfn7Ji5x3xRSeeukghhywhduvncuGiq4sK+1HLEdGA+xPrjRRk93oe3JbBODus4BZAN27HJA1P9uL84dx7TXzufe+oLlRVxP8oZaWFlNe3pWBA7fyYWnvDEfZ9qo3F9Kr9y42VxbRq/cuqqsLPrXPmo+7sXtXPkNH1FD6fs+2DzKDNlV14ZW3hgLGipV98bjRo9suttR04vb7jt6z3+9+8Thr13dv/EDZzMmZoVrtrw2RxAEHbN3zfOLEMtaUBf8Ae3TfRV5e0Oc9YMA2DjighvL1XTMSY6a98coATpsUTIt/2qQ1vP7yAAD6l2wnLz/4jfr238HAIdvYWN4pY3FmyquLhnLE6OC65KABW+jQIc6WmiIKC+opKqwD4POHriUWMz5e1yuToTZPrl+Di7oZV73K2MM20L37bu6Z/Sj33jeWo8avY9DArbgbGzZ23tODeuihG/nmeUuJxYx43Lj1D0exbVv0bwW86ppFHHZEBd171jL70We578+jePCekcz41UJOP3s1mzZ04vqfBdPtjx5bxZTzS4nVB7/Rbf81lq1bov0b/d+LX2TcIevp0XUXD9zyALMfOZKnXxrJj7/7Cndc/wj19fncOOt4wOjZfSc3XvUM8bhRsbkz1//xxEyH3yy50kQ1b6XuLjP7K8EIiD7ABuBqd/9zss9073KATzx430V3pEF+9bZMh5D1do3ok+kQstrCN35PzdayZrUvCwcP9kE/vDylfVde+aNFjS060xZSGaplBFOWj3D3a81sCDDA3ZPeC+fuX2uhGEUk2+RIDS6Va3C3AccADQmrBvhDq0UkIlnNPPUt01K5Bne0ux9pZu8AuPvmcPlAEWmvcqQXNZUEV2dm+YSVUjPrS1YMoxWRTMmG2lkqUmmi/g54FOhnZtcRTJX0H60alYhkt6jcJuLu95nZIoIpkwyY7O5a2V6kvcqS62upSKUXdQiwA/h7Ypm7r27NwEQki0UlwRGsoNWw+EwRMBxYAYxpxbhEJItZjlyFT6WJelji63CWkQsb2V1EJGukPVTL3d82s6NaIxgRyRFRaaKa2RUJL/OAI4FNrRaRiGS3FupkMLMiYAHBGi8dgIfc/epw0fm/AcOAj4B/c/fN4WdmAhcAMeBSd38m2TlSuU2kW8JWSHBN7tzP8H1EJCpa5jaR3cAp7j4OOBw408wmAjOAee4+EpgXvsbMRgNTCa7/nwncFt6j26ikNbjww13d/cdNhioi7UcL1OA8mOmjYQaJjuHmBBWok8Ly2cB84Cdh+QPuvhtYZWalwATgk4VV9tFoDc7MOrh7jKBJKiICBLdTWDy1DehjZgsTtr2mCzKzfDNbTLBa33Pu/gbQ393LAcLHhvUBBgJrEj5eFpY1KlkN7k2C5LbYzOYCDwLbG95090ea+iFEJILSuwZXkWy6pLASdXi4ct+jZpZsBb79DYBNGkkqvajFQCXBGgwN98M5oAQn0l61cC+qu1eb2XyCa2sbzKzE3cvNrISgdgdBjW1wwscGAeuSHTdZJ0O/sAf1XWBp+LgsfHz3M30LEYmGFuhkMLO+Yc0NM+sEnAa8D8wFpoW7TQMeC5/PBaaaWaGZDQdG0sQazclqcPlAVz5DtVBEoq2FxqKWALPDzsw8YI67P25mrwFzzOwCYDUwBcDdl5nZHGA5UA9MD5u4jUqW4Mrd/dqW+BYiEjEt04v6T+CI/ZRXEkzusb/PXAdcl+o5kiW43JjRTkTalkdjLOp+M6iISK5cpEq28HNVWwYiIrkjMvPBiYh8ihKciERSlkxHngolOBFJi6EmqohEmBKciESXEpyIRJYSnIhEUpSWDRQR+RQlOBGJqigM1Wp7O3bh7yzLdBRZy3sXZzqErDfvnsea3qkdm3BGRYscR01UEYkm3egrIpGmBCciUaSRDCISaRbPjQynBCci6dE1OBGJMjVRRSS6lOBEJKpUgxOR6FKCE5FIisiqWiIin6L74EQk2jw3MpwSnIikLVdqcHmZDkBEcoynsSVhZoPN7EUze8/MlpnZZWF5sZk9Z2Yfho+9Ej4z08xKzWyFmZ3RVKhKcCKSNountjWhHviRux8CTASmm9loYAYwz91HAvPC14TvTQXGAGcCt5lZfrITKMGJSNpaIsG5e7m7vx0+rwHeAwYC5wKzw91mA5PD5+cCD7j7bndfBZQCE5KdQwlORNLjBJ0MqWwpMrNhwBHAG0B/dy+HIAkC/cLdBgJrEj5WFpY1Sp0MIpK2NDoZ+pjZwoTXs9x91l7HMusKPAz80N23mlmjp91PWdJIlOBEJH2pJ7gKdx/f2Jtm1pEgud3n7o+ExRvMrMTdy82sBNgYlpcBgxM+PghYl+zkaqKKSFoabvRNZUt6nKCq9mfgPXf/bcJbc4Fp4fNpwGMJ5VPNrNDMhgMjgTeTnUM1OBFJj3tLTXh5HHA+sNTMFodlPwVuAOaY2QXAamBKcFpfZmZzgOUEPbDT3T2W7ARKcCKSvhbIb+7+Cvu/rgZwaiOfuQ64LtVzKMGJSNpyZSSDEpyIpMcBrckgIpGVG/lNCU5E0qcmqohElpYNFJFo0rKBIhJVwY2+uZHhlOBEJH1ak0FEoko1uByUl+fc+vQHVJZ35BfTRnDej9Yz6euVbKkKfqa7ri/hrRe6ZzjKzBg4bAczfrNsz+uSQTu55w/DOWTcVgYO2wFA1271bKvpwCVTjspUmG1u25Z8br5yMB+9X4QZXPHb1Sya352n7i+mR3EwiuhbM9cx4dQa1q8p4LsnHsygEbsBOPjz27nsxrJMhv/Z6BpcMB0xcDcwgKBCO8vdb2mt87WEyd+pYM2HRXTu+snwtkf/1JeH/tgvyafah7Ufdd6TuPLynLvn/YPX5vXlsXs/mdzhO1eWsn1b0glWI+f2Xwxk/Elb+fmfPqKu1ti9M49F8+HL393ElO9v+tT+JUN3c/vzK9o+0BbVYmNRW11rzibS2HTEWalPSS0TTt3KU/cXZzqUrDfu6M2sX1PExvKihFLn+DM28tKT/TMWV1vbXpPH0te7cObXqwDoWOB07ZF07Hd0tPCEl62l1RJckumIs9JFv1zHHb8uweN7j/0951sV3P78Cq747Wq69qjPUHTZ5cRJG5j/1N6J7NDPb6G6soB1qztnKKq2t/7jQnr0ruemy4dw8ekHcfOPBrNrR/An9fe7+nLRqaO46fLB1FR/Uqtdv7qAi08/iCu/ciBL3+iSqdCbx1tsTYZW1ybzwe0zHXHWOfq0rVRXdKB06d5/nI/P7s23jjmEi08/iKoNHfne1Unn1msXOnSIc/RJlbzy7N7N9hMnbWD+k+2rKR+LQenSzpz9zQpue+4DijrH+dvv+3H2tAruem05tz23guL+dcz65QEAFPer4963lnPbcx9w4TVrueHioWyvydEpGdt7Da7BvtMR7+f975nZQjNbWMfu1g5nv0YftZ2JX9jK7DeWM/P2jxn3L9u46taPqa7oSDxuuBtP3debUYfvzEh82WT88ZX873tdqa4s2FOWlx/n2NM2seCZ9pXg+pTU0bekjoOPDDpZ/uXsakqXdqJX33ry8yEvDyZ9o4oVi4P/cRYUOt3DjoeRY3dywLBa1q4szFj8zdICywa2hVbtRW1kOuK9hPOzzwLobsUZ+Unuur6Eu64vAWDsMdv46kUb+c9LhlLcr46qjR0BOHbSFj5aUZTsMO3CiZM28tI+zdMjJm6mbFVnKje0r9+nuF89fQ6oZU1pIYMP3M3il7sxZORuKjd0oHf/4HLGP57qwbBRuwCorsynW88Y+flQ/nEBa1cVMGBIbSa/wmdm8Sxof6agNXtRG5uOOGdc8LNyPjdmJ+6woayA3101KNMhZVRhUYwjjqni1mtH7VV+wqT21bmQaPqv13LjD4ZSX2cMGFLLj25eze0/H8j/LuuEGfQfVMul/xksBLX09a7c/ZsB5HeA/Dzn0hvK6N4rBzslnJy50de8ldrJZvYvwMvAUj75OX7q7k829pnuVuxH234n8hQgv7d6eJvy5NIXMh1CVptwxhoWLtnV6LJVqejR5QCfOPrClPZ9duE1i5ItOtPaWq0G18R0xCKSy7KgAyEVGskgIulTghORSMqha3BKcCKStnbfiyoiUZUdN/GmQglORNLjKMGJSITlRgtVCU5E0qcJL0UkunIkweXoVAYikjHuEIuntjXBzO40s41m9m5CWbGZPWdmH4aPvRLem2lmpWa2wszOaOr4SnAikr6Wmy7pL8CZ+5TNAOa5+0hgXviacMLcqcCY8DO3mVnSKaSV4EQkfS2U4Nx9AVC1T/G5wOzw+WxgckL5A+6+291XAaXAhGTH1zU4EUmPA6mvydDHzBYmvJ4VTpGWTH93L4dgZnAza5hocCDwesJ+ZTQxS7gSnIikycFTvk+kogVnE9nf5B1JM60SnIikx0mpA6EZNphZSVh7KwE2huVlwOCE/QYBSdcR0DU4EUlf667JMBeYFj6fBjyWUD7VzArNbDgwEngz2YFUgxOR9LXQfXBm9lfgJIJrdWXA1cANwBwzuwBYDUwJTunLzGwOsJxgWdLp7p50SmQlOBFJU8sNtnf3rzXy1n6n9nb364DrUj2+EpyIpMcBTZckIpGVI0O1lOBEJE3e2r2oLUYJTkTS4+Cp3weXUUpwIpK+1EcyZJQSnIikT9fgRCSS3NWLKiIRphqciEST47GkAwiyhhKciKQnvemSMkoJTkTSp9tERCSKHHDV4EQkkjytCS8zSglORNKWK50M5lnU3Wtmm4CPMx1Hgj5ARaaDyGL6fZqWbb/RUHfv25wDmNnTBN8rFRXuvu+qWW0mqxJctjGzhS04n3zk6Pdpmn6jzNKU5SISWUpwIhJZSnDJNbV+Y3un36dp+o0ySNfgRCSyVIMTkchSghORyFKC2w8zO9PMVphZqZnNyHQ82cbM7jSzjWb2bqZjyUZmNtjMXjSz98xsmZldlumY2itdg9uHmeUDHwCnA2XAW8DX3H15RgPLImZ2ArANuNvdD810PNnGzEqAEnd/28y6AYuAyfo31PZUg/u0CUCpu69091rgAeDcDMeUVdx9AVCV6TiylbuXu/vb4fMa4D1gYGajap+U4D5tILAm4XUZ+scpn5GZDQOOAN7IcCjtkhLcp9l+ytSOl7SZWVfgYeCH7r410/G0R0pwn1YGDE54PQhYl6FYJEeZWUeC5Hafuz+S6XjaKyW4T3sLGGlmw82sAJgKzM1wTJJDzMyAPwPvuftvMx1Pe6YEtw93rwd+ADxDcHF4jrsvy2xU2cXM/gq8BowyszIzuyDTMWWZ44DzgVPMbHG4fTHTQbVHuk1ERCJLNTgRiSwlOBGJLCU4EYksJTgRiSwlOBGJLCW4HGJmsfCWg3fN7EEz69yMY/3FzL4aPr/DzEYn2fckMzv2M5zjIzP71OpLjZXvs8+2NM91jZldmW6MEm1KcLllp7sfHs7gUQtclPhmOBNK2tz9O03MdHESkHaCE8k0Jbjc9TJwYFi7etHM7geWmlm+mf3GzN4ys3+a2YUQ3F1vZr83s+Vm9gTQr+FAZjbfzMaHz880s7fNbImZzQsHi18EXB7WHo83s75m9nB4jrfM7Ljws73N7Fkze8fM/of9j+vdi5n9PzNbFM6b9r193rspjGWemfUNyz5nZk+Hn3nZzA5ukV9TIkkr2+cgM+sATAKeDosmAIe6+6owSWxx96PMrBB41cyeJZjRYhRwGNAfWA7cuc9x+wJ/Ak4Ij1Xs7lVm9kdgm7v/V7jf/cDN7v6KmQ0hGPVxCHA18Iq7X2tmZwF7JaxGfDs8RyfgLTN72N0rgS7A2+7+IzP7RXjsHxAs4nKRu39oZkcDtwGnfIafUdoBJbjc0snMFofPXyYY73gs8Ka7rwrLvwCMbbi+BvQARgInAH919xiwzsxe2M/xJwILGo7l7o3N+XYaMDoYcglA93BixxOAr4SffcLMNqfwnS41sy+HzweHsVYCceBvYfm9wCPh7BzHAg8mnLswhXNIO6UEl1t2uvvhiQXhH/r2xCLgEnd/Zp/9vkjT0z5ZCvtAcGnjGHffuZ9YUh77Z2YnESTLY9x9h5nNB4oa2d3D81bv+xuINEbX4KLnGeD74XQ9mNlBZtYFWABMDa/RlQAn7+ezrwEnmtnw8LPFYXkN0C1hv2cJmouE+x0ePl0AfCMsmwT0aiLWHsDmMLkdTFCDbJAHNNRCv07Q9N0KrDKzKeE5zMzGNXEOaceU4KLnDoLra29bsCjM/xDU1B8FPgSWArcDL+37QXffRHDd7BEzW8InTcS/A19u6GQALgXGh50Yy/mkN/eXwAlm9jZBU3l1E7E+DXQws38CvwJeT3hvOzDGzBYRXGO7Niz/BnBBGN8yNJ28JKHZREQkslSDE5HIUoITkchSghORyFKCE5HIUoITkchSghORyFKCE5HI+v8LTwgf3rp0MgAAAABJRU5ErkJggg==\n",
      "text/plain": [
       "<Figure size 432x288 with 2 Axes>"
      ]
     },
     "metadata": {
      "needs_background": "light"
     },
     "output_type": "display_data"
    }
   ],
>>>>>>> Stashed changes
   "source": [
    "model_evaluation(grid_xgb, y_test, X_test)"
   ]
  },
  {
   "cell_type": "markdown",
   "id": "c9deb5c7",
   "metadata": {},
   "source": [
    "# Our best performing model is 66% which was achieved by a Logistic Regression model."
   ]
  }
 ],
 "metadata": {
  "kernelspec": {
   "display_name": "Python (learn-env)",
   "language": "python",
   "name": "learn-env"
  },
  "language_info": {
   "codemirror_mode": {
    "name": "ipython",
    "version": 3
   },
   "file_extension": ".py",
   "mimetype": "text/x-python",
   "name": "python",
   "nbconvert_exporter": "python",
   "pygments_lexer": "ipython3",
   "version": "3.8.5"
  }
 },
 "nbformat": 4,
 "nbformat_minor": 5
}
