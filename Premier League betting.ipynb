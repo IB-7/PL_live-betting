{
 "cells": [
  {
   "cell_type": "markdown",
   "id": "17061590",
   "metadata": {},
   "source": [
    "# English Premier League sports-betting model"
   ]
  },
  {
   "cell_type": "markdown",
   "id": "14d34ff8",
   "metadata": {},
   "source": [
    "## Overview"
   ]
  },
  {
   "cell_type": "markdown",
   "id": "bbff4f56",
   "metadata": {},
   "source": [
    "## Business Problem\n",
    "- Bettors are looking for a model that can be used to place their bets on Premier League matches. This model will be used in replacement of their own intuition/biases.\n",
    "- General sports bettors who gamble as a hobby\n",
    "- FanDuel, DraftKings, --> provide insight on which teams are most likely to win and price competitions\n",
    "- model deployment"
   ]
  },
  {
   "cell_type": "markdown",
   "id": "eeb62c14",
   "metadata": {},
   "source": [
    "## Data Preprocessing and Cleaning"
   ]
  },
  {
   "cell_type": "code",
   "execution_count": 80,
   "id": "62cbc1a9",
   "metadata": {},
   "outputs": [],
   "source": [
    "# imports\n",
    "import numpy as np\n",
    "import pandas as pd\n",
    "import seaborn as sns\n",
    "import matplotlib.pyplot as plt"
   ]
  },
  {
   "cell_type": "code",
   "execution_count": 81,
   "id": "89768b6f",
   "metadata": {},
   "outputs": [
    {
     "data": {
      "text/html": [
       "<div>\n",
       "<style scoped>\n",
       "    .dataframe tbody tr th:only-of-type {\n",
       "        vertical-align: middle;\n",
       "    }\n",
       "\n",
       "    .dataframe tbody tr th {\n",
       "        vertical-align: top;\n",
       "    }\n",
       "\n",
       "    .dataframe thead th {\n",
       "        text-align: right;\n",
       "    }\n",
       "</style>\n",
       "<table border=\"1\" class=\"dataframe\">\n",
       "  <thead>\n",
       "    <tr style=\"text-align: right;\">\n",
       "      <th></th>\n",
       "      <th>Season</th>\n",
       "      <th>DateTime</th>\n",
       "      <th>HomeTeam</th>\n",
       "      <th>AwayTeam</th>\n",
       "      <th>HomeML</th>\n",
       "      <th>DrawML</th>\n",
       "      <th>AwayML</th>\n",
       "      <th>ML_Favorite</th>\n",
       "      <th>Home_Favorite?</th>\n",
       "      <th>FTHG</th>\n",
       "      <th>...</th>\n",
       "      <th>HST</th>\n",
       "      <th>AST</th>\n",
       "      <th>HC</th>\n",
       "      <th>AC</th>\n",
       "      <th>HF</th>\n",
       "      <th>AF</th>\n",
       "      <th>HY</th>\n",
       "      <th>AY</th>\n",
       "      <th>HR</th>\n",
       "      <th>AR</th>\n",
       "    </tr>\n",
       "  </thead>\n",
       "  <tbody>\n",
       "    <tr>\n",
       "      <th>0</th>\n",
       "      <td>2003-04</td>\n",
       "      <td>2004-02-11T00:00:00Z</td>\n",
       "      <td>Birmingham</td>\n",
       "      <td>Everton</td>\n",
       "      <td>-105.0</td>\n",
       "      <td>215.0</td>\n",
       "      <td>229.0</td>\n",
       "      <td>Birmingham</td>\n",
       "      <td>1.0</td>\n",
       "      <td>3</td>\n",
       "      <td>...</td>\n",
       "      <td>11</td>\n",
       "      <td>3</td>\n",
       "      <td>8</td>\n",
       "      <td>11</td>\n",
       "      <td>10</td>\n",
       "      <td>14</td>\n",
       "      <td>1</td>\n",
       "      <td>0</td>\n",
       "      <td>0</td>\n",
       "      <td>0</td>\n",
       "    </tr>\n",
       "    <tr>\n",
       "      <th>1</th>\n",
       "      <td>2003-04</td>\n",
       "      <td>2004-02-11T00:00:00Z</td>\n",
       "      <td>Blackburn</td>\n",
       "      <td>Newcastle</td>\n",
       "      <td>150.0</td>\n",
       "      <td>210.0</td>\n",
       "      <td>138.0</td>\n",
       "      <td>Newcastle</td>\n",
       "      <td>0.0</td>\n",
       "      <td>1</td>\n",
       "      <td>...</td>\n",
       "      <td>7</td>\n",
       "      <td>7</td>\n",
       "      <td>8</td>\n",
       "      <td>6</td>\n",
       "      <td>12</td>\n",
       "      <td>10</td>\n",
       "      <td>0</td>\n",
       "      <td>0</td>\n",
       "      <td>0</td>\n",
       "      <td>0</td>\n",
       "    </tr>\n",
       "    <tr>\n",
       "      <th>2</th>\n",
       "      <td>2003-04</td>\n",
       "      <td>2004-02-11T00:00:00Z</td>\n",
       "      <td>Charlton</td>\n",
       "      <td>Tottenham</td>\n",
       "      <td>110.0</td>\n",
       "      <td>215.0</td>\n",
       "      <td>195.0</td>\n",
       "      <td>Charlton</td>\n",
       "      <td>1.0</td>\n",
       "      <td>2</td>\n",
       "      <td>...</td>\n",
       "      <td>14</td>\n",
       "      <td>10</td>\n",
       "      <td>10</td>\n",
       "      <td>4</td>\n",
       "      <td>13</td>\n",
       "      <td>14</td>\n",
       "      <td>3</td>\n",
       "      <td>0</td>\n",
       "      <td>0</td>\n",
       "      <td>0</td>\n",
       "    </tr>\n",
       "    <tr>\n",
       "      <th>3</th>\n",
       "      <td>2003-04</td>\n",
       "      <td>2004-02-11T00:00:00Z</td>\n",
       "      <td>Fulham</td>\n",
       "      <td>Aston Villa</td>\n",
       "      <td>102.0</td>\n",
       "      <td>215.0</td>\n",
       "      <td>210.0</td>\n",
       "      <td>Fulham</td>\n",
       "      <td>1.0</td>\n",
       "      <td>1</td>\n",
       "      <td>...</td>\n",
       "      <td>6</td>\n",
       "      <td>3</td>\n",
       "      <td>6</td>\n",
       "      <td>5</td>\n",
       "      <td>16</td>\n",
       "      <td>17</td>\n",
       "      <td>2</td>\n",
       "      <td>1</td>\n",
       "      <td>1</td>\n",
       "      <td>0</td>\n",
       "    </tr>\n",
       "    <tr>\n",
       "      <th>4</th>\n",
       "      <td>2003-04</td>\n",
       "      <td>2004-02-11T00:00:00Z</td>\n",
       "      <td>Liverpool</td>\n",
       "      <td>Man City</td>\n",
       "      <td>-172.0</td>\n",
       "      <td>240.0</td>\n",
       "      <td>383.0</td>\n",
       "      <td>Liverpool</td>\n",
       "      <td>1.0</td>\n",
       "      <td>2</td>\n",
       "      <td>...</td>\n",
       "      <td>7</td>\n",
       "      <td>3</td>\n",
       "      <td>6</td>\n",
       "      <td>3</td>\n",
       "      <td>7</td>\n",
       "      <td>8</td>\n",
       "      <td>0</td>\n",
       "      <td>0</td>\n",
       "      <td>0</td>\n",
       "      <td>0</td>\n",
       "    </tr>\n",
       "  </tbody>\n",
       "</table>\n",
       "<p>5 rows × 28 columns</p>\n",
       "</div>"
      ],
      "text/plain": [
       "    Season              DateTime    HomeTeam     AwayTeam  HomeML  DrawML  \\\n",
       "0  2003-04  2004-02-11T00:00:00Z  Birmingham      Everton  -105.0   215.0   \n",
       "1  2003-04  2004-02-11T00:00:00Z   Blackburn    Newcastle   150.0   210.0   \n",
       "2  2003-04  2004-02-11T00:00:00Z    Charlton    Tottenham   110.0   215.0   \n",
       "3  2003-04  2004-02-11T00:00:00Z      Fulham  Aston Villa   102.0   215.0   \n",
       "4  2003-04  2004-02-11T00:00:00Z   Liverpool     Man City  -172.0   240.0   \n",
       "\n",
       "   AwayML ML_Favorite  Home_Favorite?  FTHG  ...  HST AST  HC  AC  HF  AF  HY  \\\n",
       "0   229.0  Birmingham             1.0     3  ...   11   3   8  11  10  14   1   \n",
       "1   138.0   Newcastle             0.0     1  ...    7   7   8   6  12  10   0   \n",
       "2   195.0    Charlton             1.0     2  ...   14  10  10   4  13  14   3   \n",
       "3   210.0      Fulham             1.0     1  ...    6   3   6   5  16  17   2   \n",
       "4   383.0   Liverpool             1.0     2  ...    7   3   6   3   7   8   0   \n",
       "\n",
       "   AY  HR  AR  \n",
       "0   0   0   0  \n",
       "1   0   0   0  \n",
       "2   0   0   0  \n",
       "3   1   1   0  \n",
       "4   0   0   0  \n",
       "\n",
       "[5 rows x 28 columns]"
      ]
     },
     "execution_count": 81,
     "metadata": {},
     "output_type": "execute_result"
    }
   ],
   "source": [
    "# reading in the data\n",
    "df = pd.read_excel('/Users/schoollaptop/Documents/FLATIRON2021/CAPSTONE/results.xlsm')\n",
    "df.head()"
   ]
  },
  {
   "cell_type": "code",
   "execution_count": 82,
   "id": "0bcadd63",
   "metadata": {},
   "outputs": [
    {
     "name": "stdout",
     "output_type": "stream",
     "text": [
      "<class 'pandas.core.frame.DataFrame'>\n",
      "RangeIndex: 6657 entries, 0 to 6656\n",
      "Data columns (total 28 columns):\n",
      " #   Column          Non-Null Count  Dtype  \n",
      "---  ------          --------------  -----  \n",
      " 0   Season          6657 non-null   object \n",
      " 1   DateTime        6657 non-null   object \n",
      " 2   HomeTeam        6657 non-null   object \n",
      " 3   AwayTeam        6657 non-null   object \n",
      " 4   HomeML          397 non-null    float64\n",
      " 5   DrawML          397 non-null    float64\n",
      " 6   AwayML          397 non-null    float64\n",
      " 7   ML_Favorite     6654 non-null   object \n",
      " 8   Home_Favorite?  12 non-null     float64\n",
      " 9   FTHG            6657 non-null   int64  \n",
      " 10  FTAG            6657 non-null   int64  \n",
      " 11  FTR             6657 non-null   object \n",
      " 12  HTHG            6657 non-null   int64  \n",
      " 13  HTAG            6657 non-null   int64  \n",
      " 14  HTR             6657 non-null   object \n",
      " 15  Referee         6657 non-null   object \n",
      " 16  HS              6657 non-null   int64  \n",
      " 17  AS              6657 non-null   int64  \n",
      " 18  HST             6657 non-null   int64  \n",
      " 19  AST             6657 non-null   int64  \n",
      " 20  HC              6657 non-null   int64  \n",
      " 21  AC              6657 non-null   int64  \n",
      " 22  HF              6657 non-null   int64  \n",
      " 23  AF              6657 non-null   int64  \n",
      " 24  HY              6657 non-null   int64  \n",
      " 25  AY              6657 non-null   int64  \n",
      " 26  HR              6657 non-null   int64  \n",
      " 27  AR              6657 non-null   int64  \n",
      "dtypes: float64(4), int64(16), object(8)\n",
      "memory usage: 1.4+ MB\n"
     ]
    }
   ],
   "source": [
    "# info\n",
    "df.info()"
   ]
  },
  {
   "cell_type": "code",
   "execution_count": 83,
   "id": "5c446eea",
   "metadata": {},
   "outputs": [
    {
     "data": {
      "text/html": [
       "<div>\n",
       "<style scoped>\n",
       "    .dataframe tbody tr th:only-of-type {\n",
       "        vertical-align: middle;\n",
       "    }\n",
       "\n",
       "    .dataframe tbody tr th {\n",
       "        vertical-align: top;\n",
       "    }\n",
       "\n",
       "    .dataframe thead th {\n",
       "        text-align: right;\n",
       "    }\n",
       "</style>\n",
       "<table border=\"1\" class=\"dataframe\">\n",
       "  <thead>\n",
       "    <tr style=\"text-align: right;\">\n",
       "      <th></th>\n",
       "      <th>HomeML</th>\n",
       "      <th>DrawML</th>\n",
       "      <th>AwayML</th>\n",
       "      <th>Home_Favorite?</th>\n",
       "      <th>FTHG</th>\n",
       "      <th>FTAG</th>\n",
       "      <th>HTHG</th>\n",
       "      <th>HTAG</th>\n",
       "      <th>HS</th>\n",
       "      <th>AS</th>\n",
       "      <th>HST</th>\n",
       "      <th>AST</th>\n",
       "      <th>HC</th>\n",
       "      <th>AC</th>\n",
       "      <th>HF</th>\n",
       "      <th>AF</th>\n",
       "      <th>HY</th>\n",
       "      <th>AY</th>\n",
       "      <th>HR</th>\n",
       "      <th>AR</th>\n",
       "    </tr>\n",
       "  </thead>\n",
       "  <tbody>\n",
       "    <tr>\n",
       "      <th>count</th>\n",
       "      <td>397.000000</td>\n",
       "      <td>397.000000</td>\n",
       "      <td>397.000000</td>\n",
       "      <td>12.000000</td>\n",
       "      <td>6657.000000</td>\n",
       "      <td>6657.000000</td>\n",
       "      <td>6657.000000</td>\n",
       "      <td>6657.000000</td>\n",
       "      <td>6657.000000</td>\n",
       "      <td>6657.000000</td>\n",
       "      <td>6657.000000</td>\n",
       "      <td>6657.000000</td>\n",
       "      <td>6657.000000</td>\n",
       "      <td>6657.000000</td>\n",
       "      <td>6657.000000</td>\n",
       "      <td>6657.000000</td>\n",
       "      <td>6657.000000</td>\n",
       "      <td>6657.000000</td>\n",
       "      <td>6657.000000</td>\n",
       "      <td>6657.000000</td>\n",
       "    </tr>\n",
       "    <tr>\n",
       "      <th>mean</th>\n",
       "      <td>22.947103</td>\n",
       "      <td>241.443325</td>\n",
       "      <td>264.916877</td>\n",
       "      <td>0.833333</td>\n",
       "      <td>1.525913</td>\n",
       "      <td>1.152772</td>\n",
       "      <td>0.683191</td>\n",
       "      <td>0.504431</td>\n",
       "      <td>13.673426</td>\n",
       "      <td>10.847980</td>\n",
       "      <td>6.112814</td>\n",
       "      <td>4.795403</td>\n",
       "      <td>6.041160</td>\n",
       "      <td>4.790446</td>\n",
       "      <td>11.127385</td>\n",
       "      <td>11.588403</td>\n",
       "      <td>1.424666</td>\n",
       "      <td>1.741175</td>\n",
       "      <td>0.060087</td>\n",
       "      <td>0.087877</td>\n",
       "    </tr>\n",
       "    <tr>\n",
       "      <th>std</th>\n",
       "      <td>233.480851</td>\n",
       "      <td>49.595892</td>\n",
       "      <td>255.740884</td>\n",
       "      <td>0.389249</td>\n",
       "      <td>1.305026</td>\n",
       "      <td>1.142862</td>\n",
       "      <td>0.834831</td>\n",
       "      <td>0.719963</td>\n",
       "      <td>5.363752</td>\n",
       "      <td>4.672221</td>\n",
       "      <td>3.391968</td>\n",
       "      <td>2.849578</td>\n",
       "      <td>3.110078</td>\n",
       "      <td>2.746684</td>\n",
       "      <td>3.650893</td>\n",
       "      <td>3.818804</td>\n",
       "      <td>1.186770</td>\n",
       "      <td>1.271276</td>\n",
       "      <td>0.248180</td>\n",
       "      <td>0.295090</td>\n",
       "    </tr>\n",
       "    <tr>\n",
       "      <th>min</th>\n",
       "      <td>-667.000000</td>\n",
       "      <td>200.000000</td>\n",
       "      <td>-286.000000</td>\n",
       "      <td>0.000000</td>\n",
       "      <td>0.000000</td>\n",
       "      <td>0.000000</td>\n",
       "      <td>0.000000</td>\n",
       "      <td>0.000000</td>\n",
       "      <td>0.000000</td>\n",
       "      <td>0.000000</td>\n",
       "      <td>0.000000</td>\n",
       "      <td>0.000000</td>\n",
       "      <td>0.000000</td>\n",
       "      <td>0.000000</td>\n",
       "      <td>0.000000</td>\n",
       "      <td>1.000000</td>\n",
       "      <td>0.000000</td>\n",
       "      <td>0.000000</td>\n",
       "      <td>0.000000</td>\n",
       "      <td>0.000000</td>\n",
       "    </tr>\n",
       "    <tr>\n",
       "      <th>25%</th>\n",
       "      <td>-139.000000</td>\n",
       "      <td>216.000000</td>\n",
       "      <td>156.000000</td>\n",
       "      <td>1.000000</td>\n",
       "      <td>1.000000</td>\n",
       "      <td>0.000000</td>\n",
       "      <td>0.000000</td>\n",
       "      <td>0.000000</td>\n",
       "      <td>10.000000</td>\n",
       "      <td>7.000000</td>\n",
       "      <td>4.000000</td>\n",
       "      <td>3.000000</td>\n",
       "      <td>4.000000</td>\n",
       "      <td>3.000000</td>\n",
       "      <td>9.000000</td>\n",
       "      <td>9.000000</td>\n",
       "      <td>1.000000</td>\n",
       "      <td>1.000000</td>\n",
       "      <td>0.000000</td>\n",
       "      <td>0.000000</td>\n",
       "    </tr>\n",
       "    <tr>\n",
       "      <th>50%</th>\n",
       "      <td>110.000000</td>\n",
       "      <td>222.000000</td>\n",
       "      <td>208.000000</td>\n",
       "      <td>1.000000</td>\n",
       "      <td>1.000000</td>\n",
       "      <td>1.000000</td>\n",
       "      <td>0.000000</td>\n",
       "      <td>0.000000</td>\n",
       "      <td>13.000000</td>\n",
       "      <td>10.000000</td>\n",
       "      <td>6.000000</td>\n",
       "      <td>4.000000</td>\n",
       "      <td>6.000000</td>\n",
       "      <td>4.000000</td>\n",
       "      <td>11.000000</td>\n",
       "      <td>11.000000</td>\n",
       "      <td>1.000000</td>\n",
       "      <td>2.000000</td>\n",
       "      <td>0.000000</td>\n",
       "      <td>0.000000</td>\n",
       "    </tr>\n",
       "    <tr>\n",
       "      <th>75%</th>\n",
       "      <td>147.000000</td>\n",
       "      <td>240.000000</td>\n",
       "      <td>345.000000</td>\n",
       "      <td>1.000000</td>\n",
       "      <td>2.000000</td>\n",
       "      <td>2.000000</td>\n",
       "      <td>1.000000</td>\n",
       "      <td>1.000000</td>\n",
       "      <td>17.000000</td>\n",
       "      <td>14.000000</td>\n",
       "      <td>8.000000</td>\n",
       "      <td>6.000000</td>\n",
       "      <td>8.000000</td>\n",
       "      <td>6.000000</td>\n",
       "      <td>13.000000</td>\n",
       "      <td>14.000000</td>\n",
       "      <td>2.000000</td>\n",
       "      <td>3.000000</td>\n",
       "      <td>0.000000</td>\n",
       "      <td>0.000000</td>\n",
       "    </tr>\n",
       "    <tr>\n",
       "      <th>max</th>\n",
       "      <td>715.000000</td>\n",
       "      <td>517.000000</td>\n",
       "      <td>899.000000</td>\n",
       "      <td>1.000000</td>\n",
       "      <td>9.000000</td>\n",
       "      <td>9.000000</td>\n",
       "      <td>5.000000</td>\n",
       "      <td>5.000000</td>\n",
       "      <td>43.000000</td>\n",
       "      <td>30.000000</td>\n",
       "      <td>24.000000</td>\n",
       "      <td>20.000000</td>\n",
       "      <td>20.000000</td>\n",
       "      <td>19.000000</td>\n",
       "      <td>33.000000</td>\n",
       "      <td>28.000000</td>\n",
       "      <td>7.000000</td>\n",
       "      <td>9.000000</td>\n",
       "      <td>3.000000</td>\n",
       "      <td>2.000000</td>\n",
       "    </tr>\n",
       "  </tbody>\n",
       "</table>\n",
       "</div>"
      ],
      "text/plain": [
       "           HomeML      DrawML      AwayML  Home_Favorite?         FTHG  \\\n",
       "count  397.000000  397.000000  397.000000       12.000000  6657.000000   \n",
       "mean    22.947103  241.443325  264.916877        0.833333     1.525913   \n",
       "std    233.480851   49.595892  255.740884        0.389249     1.305026   \n",
       "min   -667.000000  200.000000 -286.000000        0.000000     0.000000   \n",
       "25%   -139.000000  216.000000  156.000000        1.000000     1.000000   \n",
       "50%    110.000000  222.000000  208.000000        1.000000     1.000000   \n",
       "75%    147.000000  240.000000  345.000000        1.000000     2.000000   \n",
       "max    715.000000  517.000000  899.000000        1.000000     9.000000   \n",
       "\n",
       "              FTAG         HTHG         HTAG           HS           AS  \\\n",
       "count  6657.000000  6657.000000  6657.000000  6657.000000  6657.000000   \n",
       "mean      1.152772     0.683191     0.504431    13.673426    10.847980   \n",
       "std       1.142862     0.834831     0.719963     5.363752     4.672221   \n",
       "min       0.000000     0.000000     0.000000     0.000000     0.000000   \n",
       "25%       0.000000     0.000000     0.000000    10.000000     7.000000   \n",
       "50%       1.000000     0.000000     0.000000    13.000000    10.000000   \n",
       "75%       2.000000     1.000000     1.000000    17.000000    14.000000   \n",
       "max       9.000000     5.000000     5.000000    43.000000    30.000000   \n",
       "\n",
       "               HST          AST           HC           AC           HF  \\\n",
       "count  6657.000000  6657.000000  6657.000000  6657.000000  6657.000000   \n",
       "mean      6.112814     4.795403     6.041160     4.790446    11.127385   \n",
       "std       3.391968     2.849578     3.110078     2.746684     3.650893   \n",
       "min       0.000000     0.000000     0.000000     0.000000     0.000000   \n",
       "25%       4.000000     3.000000     4.000000     3.000000     9.000000   \n",
       "50%       6.000000     4.000000     6.000000     4.000000    11.000000   \n",
       "75%       8.000000     6.000000     8.000000     6.000000    13.000000   \n",
       "max      24.000000    20.000000    20.000000    19.000000    33.000000   \n",
       "\n",
       "                AF           HY           AY           HR           AR  \n",
       "count  6657.000000  6657.000000  6657.000000  6657.000000  6657.000000  \n",
       "mean     11.588403     1.424666     1.741175     0.060087     0.087877  \n",
       "std       3.818804     1.186770     1.271276     0.248180     0.295090  \n",
       "min       1.000000     0.000000     0.000000     0.000000     0.000000  \n",
       "25%       9.000000     1.000000     1.000000     0.000000     0.000000  \n",
       "50%      11.000000     1.000000     2.000000     0.000000     0.000000  \n",
       "75%      14.000000     2.000000     3.000000     0.000000     0.000000  \n",
       "max      28.000000     7.000000     9.000000     3.000000     2.000000  "
      ]
     },
     "execution_count": 83,
     "metadata": {},
     "output_type": "execute_result"
    }
   ],
   "source": [
    "df.describe()"
   ]
  },
  {
   "cell_type": "markdown",
   "id": "72f78bf3",
   "metadata": {},
   "source": [
    "It looks like the Home Moneyline (HomeML), Draw Moneyline (DrawML), and Away Moneyline (AwayML) odds are only provided for about 400 games. It is probably safe to get rid of these columns altogether because the dataset provides the straight up favorite already in the column, 'ML_Favorite'."
   ]
  },
  {
   "cell_type": "code",
   "execution_count": 84,
   "id": "1cb57209",
   "metadata": {},
   "outputs": [
    {
     "data": {
      "text/html": [
       "<div>\n",
       "<style scoped>\n",
       "    .dataframe tbody tr th:only-of-type {\n",
       "        vertical-align: middle;\n",
       "    }\n",
       "\n",
       "    .dataframe tbody tr th {\n",
       "        vertical-align: top;\n",
       "    }\n",
       "\n",
       "    .dataframe thead th {\n",
       "        text-align: right;\n",
       "    }\n",
       "</style>\n",
       "<table border=\"1\" class=\"dataframe\">\n",
       "  <thead>\n",
       "    <tr style=\"text-align: right;\">\n",
       "      <th></th>\n",
       "      <th>Season</th>\n",
       "      <th>DateTime</th>\n",
       "      <th>HomeTeam</th>\n",
       "      <th>AwayTeam</th>\n",
       "      <th>ML_Favorite</th>\n",
       "      <th>FTHG</th>\n",
       "      <th>FTAG</th>\n",
       "      <th>FTR</th>\n",
       "      <th>HTHG</th>\n",
       "      <th>HTAG</th>\n",
       "      <th>...</th>\n",
       "      <th>HST</th>\n",
       "      <th>AST</th>\n",
       "      <th>HC</th>\n",
       "      <th>AC</th>\n",
       "      <th>HF</th>\n",
       "      <th>AF</th>\n",
       "      <th>HY</th>\n",
       "      <th>AY</th>\n",
       "      <th>HR</th>\n",
       "      <th>AR</th>\n",
       "    </tr>\n",
       "  </thead>\n",
       "  <tbody>\n",
       "    <tr>\n",
       "      <th>0</th>\n",
       "      <td>2003-04</td>\n",
       "      <td>2004-02-11T00:00:00Z</td>\n",
       "      <td>Birmingham</td>\n",
       "      <td>Everton</td>\n",
       "      <td>Birmingham</td>\n",
       "      <td>3</td>\n",
       "      <td>0</td>\n",
       "      <td>H</td>\n",
       "      <td>2</td>\n",
       "      <td>0</td>\n",
       "      <td>...</td>\n",
       "      <td>11</td>\n",
       "      <td>3</td>\n",
       "      <td>8</td>\n",
       "      <td>11</td>\n",
       "      <td>10</td>\n",
       "      <td>14</td>\n",
       "      <td>1</td>\n",
       "      <td>0</td>\n",
       "      <td>0</td>\n",
       "      <td>0</td>\n",
       "    </tr>\n",
       "    <tr>\n",
       "      <th>1</th>\n",
       "      <td>2003-04</td>\n",
       "      <td>2004-02-11T00:00:00Z</td>\n",
       "      <td>Blackburn</td>\n",
       "      <td>Newcastle</td>\n",
       "      <td>Newcastle</td>\n",
       "      <td>1</td>\n",
       "      <td>1</td>\n",
       "      <td>D</td>\n",
       "      <td>0</td>\n",
       "      <td>0</td>\n",
       "      <td>...</td>\n",
       "      <td>7</td>\n",
       "      <td>7</td>\n",
       "      <td>8</td>\n",
       "      <td>6</td>\n",
       "      <td>12</td>\n",
       "      <td>10</td>\n",
       "      <td>0</td>\n",
       "      <td>0</td>\n",
       "      <td>0</td>\n",
       "      <td>0</td>\n",
       "    </tr>\n",
       "    <tr>\n",
       "      <th>2</th>\n",
       "      <td>2003-04</td>\n",
       "      <td>2004-02-11T00:00:00Z</td>\n",
       "      <td>Charlton</td>\n",
       "      <td>Tottenham</td>\n",
       "      <td>Charlton</td>\n",
       "      <td>2</td>\n",
       "      <td>4</td>\n",
       "      <td>A</td>\n",
       "      <td>0</td>\n",
       "      <td>2</td>\n",
       "      <td>...</td>\n",
       "      <td>14</td>\n",
       "      <td>10</td>\n",
       "      <td>10</td>\n",
       "      <td>4</td>\n",
       "      <td>13</td>\n",
       "      <td>14</td>\n",
       "      <td>3</td>\n",
       "      <td>0</td>\n",
       "      <td>0</td>\n",
       "      <td>0</td>\n",
       "    </tr>\n",
       "    <tr>\n",
       "      <th>3</th>\n",
       "      <td>2003-04</td>\n",
       "      <td>2004-02-11T00:00:00Z</td>\n",
       "      <td>Fulham</td>\n",
       "      <td>Aston Villa</td>\n",
       "      <td>Fulham</td>\n",
       "      <td>1</td>\n",
       "      <td>2</td>\n",
       "      <td>A</td>\n",
       "      <td>1</td>\n",
       "      <td>2</td>\n",
       "      <td>...</td>\n",
       "      <td>6</td>\n",
       "      <td>3</td>\n",
       "      <td>6</td>\n",
       "      <td>5</td>\n",
       "      <td>16</td>\n",
       "      <td>17</td>\n",
       "      <td>2</td>\n",
       "      <td>1</td>\n",
       "      <td>1</td>\n",
       "      <td>0</td>\n",
       "    </tr>\n",
       "    <tr>\n",
       "      <th>4</th>\n",
       "      <td>2003-04</td>\n",
       "      <td>2004-02-11T00:00:00Z</td>\n",
       "      <td>Liverpool</td>\n",
       "      <td>Man City</td>\n",
       "      <td>Liverpool</td>\n",
       "      <td>2</td>\n",
       "      <td>1</td>\n",
       "      <td>H</td>\n",
       "      <td>1</td>\n",
       "      <td>0</td>\n",
       "      <td>...</td>\n",
       "      <td>7</td>\n",
       "      <td>3</td>\n",
       "      <td>6</td>\n",
       "      <td>3</td>\n",
       "      <td>7</td>\n",
       "      <td>8</td>\n",
       "      <td>0</td>\n",
       "      <td>0</td>\n",
       "      <td>0</td>\n",
       "      <td>0</td>\n",
       "    </tr>\n",
       "  </tbody>\n",
       "</table>\n",
       "<p>5 rows × 24 columns</p>\n",
       "</div>"
      ],
      "text/plain": [
       "    Season              DateTime    HomeTeam     AwayTeam ML_Favorite  FTHG  \\\n",
       "0  2003-04  2004-02-11T00:00:00Z  Birmingham      Everton  Birmingham     3   \n",
       "1  2003-04  2004-02-11T00:00:00Z   Blackburn    Newcastle   Newcastle     1   \n",
       "2  2003-04  2004-02-11T00:00:00Z    Charlton    Tottenham    Charlton     2   \n",
       "3  2003-04  2004-02-11T00:00:00Z      Fulham  Aston Villa      Fulham     1   \n",
       "4  2003-04  2004-02-11T00:00:00Z   Liverpool     Man City   Liverpool     2   \n",
       "\n",
       "   FTAG FTR  HTHG  HTAG  ... HST AST  HC  AC  HF  AF  HY  AY  HR  AR  \n",
       "0     0   H     2     0  ...  11   3   8  11  10  14   1   0   0   0  \n",
       "1     1   D     0     0  ...   7   7   8   6  12  10   0   0   0   0  \n",
       "2     4   A     0     2  ...  14  10  10   4  13  14   3   0   0   0  \n",
       "3     2   A     1     2  ...   6   3   6   5  16  17   2   1   1   0  \n",
       "4     1   H     1     0  ...   7   3   6   3   7   8   0   0   0   0  \n",
       "\n",
       "[5 rows x 24 columns]"
      ]
     },
     "execution_count": 84,
     "metadata": {},
     "output_type": "execute_result"
    }
   ],
   "source": [
    "df = df.drop(['HomeML','DrawML','AwayML','Home_Favorite?'], axis=1)\n",
    "df.head()"
   ]
  },
  {
   "cell_type": "markdown",
   "id": "dd1d99fd",
   "metadata": {},
   "source": [
    "Now I will rename some of the columns to make them easier to understand"
   ]
  },
  {
   "cell_type": "code",
   "execution_count": 85,
   "id": "a9b8b915",
   "metadata": {},
   "outputs": [
    {
     "data": {
      "text/plain": [
       "Index(['Season', 'DateTime', 'HomeTeam', 'AwayTeam', 'ML_Favorite', 'FTHG',\n",
       "       'FTAG', 'FTR', 'HTHG', 'HTAG', 'HTR', 'Referee', 'HS', 'AS', 'HST',\n",
       "       'AST', 'HC', 'AC', 'HF', 'AF', 'HY', 'AY', 'HR', 'AR'],\n",
       "      dtype='object')"
      ]
     },
     "execution_count": 85,
     "metadata": {},
     "output_type": "execute_result"
    }
   ],
   "source": [
    "df.columns"
   ]
  },
  {
   "cell_type": "code",
   "execution_count": 86,
   "id": "ef4f5ef1",
   "metadata": {},
   "outputs": [],
   "source": [
    "df.rename(columns={'FTHG':'FullTime_HomeGoals',\n",
    "                   'FTAG':'FullTime_AwayGoals',\n",
    "                   'FTR':'FullTime_Result',\n",
    "                   'HTHG':'HalfTime_HomeGoals',\n",
    "                   'HTAG':'HalfTime_AwayGoals',\n",
    "                   'HTR':'HalfTime_Result',\n",
    "                   'HS':'Home_Shots',\n",
    "                   'AS':'Away_Shots',\n",
    "                   'HST':'Home_ShotsOnTarget',\n",
    "                   'AST':'Away_ShotsOnTarget',\n",
    "                   'HC':'Home_Corners',\n",
    "                   'AC':'Away_Corners',\n",
    "                   'HF':'Home_Fouls',\n",
    "                   'AF':'Away_Fouls',\n",
    "                   'HY':'Home_YellowCs',\n",
    "                   'AY':'Away_YellowCs',\n",
    "                   'HR':'Home_RedCs',\n",
    "                   'AR':'Away_RedCs'}, inplace=True)"
   ]
  },
  {
   "cell_type": "code",
   "execution_count": 87,
   "id": "bdac5e12",
   "metadata": {},
   "outputs": [
    {
     "data": {
      "text/html": [
       "<div>\n",
       "<style scoped>\n",
       "    .dataframe tbody tr th:only-of-type {\n",
       "        vertical-align: middle;\n",
       "    }\n",
       "\n",
       "    .dataframe tbody tr th {\n",
       "        vertical-align: top;\n",
       "    }\n",
       "\n",
       "    .dataframe thead th {\n",
       "        text-align: right;\n",
       "    }\n",
       "</style>\n",
       "<table border=\"1\" class=\"dataframe\">\n",
       "  <thead>\n",
       "    <tr style=\"text-align: right;\">\n",
       "      <th></th>\n",
       "      <th>Season</th>\n",
       "      <th>DateTime</th>\n",
       "      <th>HomeTeam</th>\n",
       "      <th>AwayTeam</th>\n",
       "      <th>ML_Favorite</th>\n",
       "      <th>FullTime_HomeGoals</th>\n",
       "      <th>FullTime_AwayGoals</th>\n",
       "      <th>FullTime_Result</th>\n",
       "      <th>HalfTime_HomeGoals</th>\n",
       "      <th>HalfTime_AwayGoals</th>\n",
       "      <th>...</th>\n",
       "      <th>Home_ShotsOnTarget</th>\n",
       "      <th>Away_ShotsOnTarget</th>\n",
       "      <th>Home_Corners</th>\n",
       "      <th>Away_Corners</th>\n",
       "      <th>Home_Fouls</th>\n",
       "      <th>Away_Fouls</th>\n",
       "      <th>Home_YellowCs</th>\n",
       "      <th>Away_YellowCs</th>\n",
       "      <th>Home_RedCs</th>\n",
       "      <th>Away_RedCs</th>\n",
       "    </tr>\n",
       "  </thead>\n",
       "  <tbody>\n",
       "    <tr>\n",
       "      <th>0</th>\n",
       "      <td>2003-04</td>\n",
       "      <td>2004-02-11T00:00:00Z</td>\n",
       "      <td>Birmingham</td>\n",
       "      <td>Everton</td>\n",
       "      <td>Birmingham</td>\n",
       "      <td>3</td>\n",
       "      <td>0</td>\n",
       "      <td>H</td>\n",
       "      <td>2</td>\n",
       "      <td>0</td>\n",
       "      <td>...</td>\n",
       "      <td>11</td>\n",
       "      <td>3</td>\n",
       "      <td>8</td>\n",
       "      <td>11</td>\n",
       "      <td>10</td>\n",
       "      <td>14</td>\n",
       "      <td>1</td>\n",
       "      <td>0</td>\n",
       "      <td>0</td>\n",
       "      <td>0</td>\n",
       "    </tr>\n",
       "    <tr>\n",
       "      <th>1</th>\n",
       "      <td>2003-04</td>\n",
       "      <td>2004-02-11T00:00:00Z</td>\n",
       "      <td>Blackburn</td>\n",
       "      <td>Newcastle</td>\n",
       "      <td>Newcastle</td>\n",
       "      <td>1</td>\n",
       "      <td>1</td>\n",
       "      <td>D</td>\n",
       "      <td>0</td>\n",
       "      <td>0</td>\n",
       "      <td>...</td>\n",
       "      <td>7</td>\n",
       "      <td>7</td>\n",
       "      <td>8</td>\n",
       "      <td>6</td>\n",
       "      <td>12</td>\n",
       "      <td>10</td>\n",
       "      <td>0</td>\n",
       "      <td>0</td>\n",
       "      <td>0</td>\n",
       "      <td>0</td>\n",
       "    </tr>\n",
       "    <tr>\n",
       "      <th>2</th>\n",
       "      <td>2003-04</td>\n",
       "      <td>2004-02-11T00:00:00Z</td>\n",
       "      <td>Charlton</td>\n",
       "      <td>Tottenham</td>\n",
       "      <td>Charlton</td>\n",
       "      <td>2</td>\n",
       "      <td>4</td>\n",
       "      <td>A</td>\n",
       "      <td>0</td>\n",
       "      <td>2</td>\n",
       "      <td>...</td>\n",
       "      <td>14</td>\n",
       "      <td>10</td>\n",
       "      <td>10</td>\n",
       "      <td>4</td>\n",
       "      <td>13</td>\n",
       "      <td>14</td>\n",
       "      <td>3</td>\n",
       "      <td>0</td>\n",
       "      <td>0</td>\n",
       "      <td>0</td>\n",
       "    </tr>\n",
       "    <tr>\n",
       "      <th>3</th>\n",
       "      <td>2003-04</td>\n",
       "      <td>2004-02-11T00:00:00Z</td>\n",
       "      <td>Fulham</td>\n",
       "      <td>Aston Villa</td>\n",
       "      <td>Fulham</td>\n",
       "      <td>1</td>\n",
       "      <td>2</td>\n",
       "      <td>A</td>\n",
       "      <td>1</td>\n",
       "      <td>2</td>\n",
       "      <td>...</td>\n",
       "      <td>6</td>\n",
       "      <td>3</td>\n",
       "      <td>6</td>\n",
       "      <td>5</td>\n",
       "      <td>16</td>\n",
       "      <td>17</td>\n",
       "      <td>2</td>\n",
       "      <td>1</td>\n",
       "      <td>1</td>\n",
       "      <td>0</td>\n",
       "    </tr>\n",
       "    <tr>\n",
       "      <th>4</th>\n",
       "      <td>2003-04</td>\n",
       "      <td>2004-02-11T00:00:00Z</td>\n",
       "      <td>Liverpool</td>\n",
       "      <td>Man City</td>\n",
       "      <td>Liverpool</td>\n",
       "      <td>2</td>\n",
       "      <td>1</td>\n",
       "      <td>H</td>\n",
       "      <td>1</td>\n",
       "      <td>0</td>\n",
       "      <td>...</td>\n",
       "      <td>7</td>\n",
       "      <td>3</td>\n",
       "      <td>6</td>\n",
       "      <td>3</td>\n",
       "      <td>7</td>\n",
       "      <td>8</td>\n",
       "      <td>0</td>\n",
       "      <td>0</td>\n",
       "      <td>0</td>\n",
       "      <td>0</td>\n",
       "    </tr>\n",
       "  </tbody>\n",
       "</table>\n",
       "<p>5 rows × 24 columns</p>\n",
       "</div>"
      ],
      "text/plain": [
       "    Season              DateTime    HomeTeam     AwayTeam ML_Favorite  \\\n",
       "0  2003-04  2004-02-11T00:00:00Z  Birmingham      Everton  Birmingham   \n",
       "1  2003-04  2004-02-11T00:00:00Z   Blackburn    Newcastle   Newcastle   \n",
       "2  2003-04  2004-02-11T00:00:00Z    Charlton    Tottenham    Charlton   \n",
       "3  2003-04  2004-02-11T00:00:00Z      Fulham  Aston Villa      Fulham   \n",
       "4  2003-04  2004-02-11T00:00:00Z   Liverpool     Man City   Liverpool   \n",
       "\n",
       "   FullTime_HomeGoals  FullTime_AwayGoals FullTime_Result  HalfTime_HomeGoals  \\\n",
       "0                   3                   0               H                   2   \n",
       "1                   1                   1               D                   0   \n",
       "2                   2                   4               A                   0   \n",
       "3                   1                   2               A                   1   \n",
       "4                   2                   1               H                   1   \n",
       "\n",
       "   HalfTime_AwayGoals  ... Home_ShotsOnTarget Away_ShotsOnTarget  \\\n",
       "0                   0  ...                 11                  3   \n",
       "1                   0  ...                  7                  7   \n",
       "2                   2  ...                 14                 10   \n",
       "3                   2  ...                  6                  3   \n",
       "4                   0  ...                  7                  3   \n",
       "\n",
       "   Home_Corners  Away_Corners  Home_Fouls  Away_Fouls  Home_YellowCs  \\\n",
       "0             8            11          10          14              1   \n",
       "1             8             6          12          10              0   \n",
       "2            10             4          13          14              3   \n",
       "3             6             5          16          17              2   \n",
       "4             6             3           7           8              0   \n",
       "\n",
       "   Away_YellowCs  Home_RedCs  Away_RedCs  \n",
       "0              0           0           0  \n",
       "1              0           0           0  \n",
       "2              0           0           0  \n",
       "3              1           1           0  \n",
       "4              0           0           0  \n",
       "\n",
       "[5 rows x 24 columns]"
      ]
     },
     "execution_count": 87,
     "metadata": {},
     "output_type": "execute_result"
    }
   ],
   "source": [
    "df.head()"
   ]
  },
  {
   "cell_type": "markdown",
   "id": "3eba9717",
   "metadata": {},
   "source": [
    "And finally, I will change the 'FullTime_Result' and 'HalfTime_Result' columns so that instead of strings of 'H', 'D', and 'A', they will be 2, 1, and 0 respectively."
   ]
  },
  {
   "cell_type": "markdown",
   "id": "62aace1c",
   "metadata": {},
   "source": [
    "Full Time Result explained:\n",
    "- 2 = Home win\n",
    "- 1 = Draw\n",
    "- 0 = Away win\n",
    "\n",
    "Half Time Result explained:\n",
    "- 2 = Home team winning at halftime\n",
    "- 1 = Draw/tie at halftime\n",
    "- 0 = Away team winning at halftime"
   ]
  },
  {
   "cell_type": "code",
   "execution_count": 88,
   "id": "06b1fc7e",
   "metadata": {},
   "outputs": [],
   "source": [
    "# map a dictionary to convert strings to integers\n",
    "# Full Time Result\n",
    "df['FullTime_Result'] = df['FullTime_Result'].map({'H': 2,\n",
    "                                                   'D': 1,\n",
    "                                                   'A': 0})\n",
    "\n",
    "# map a dictionary to convert strings to integers\n",
    "df['HalfTime_Result'] = df['HalfTime_Result'].map({'H': 2,\n",
    "                                                   'D': 1,\n",
    "                                                   'A': 0})"
   ]
  },
  {
   "cell_type": "code",
   "execution_count": 89,
   "id": "65a5b4ac",
   "metadata": {},
   "outputs": [
    {
     "data": {
      "text/html": [
       "<div>\n",
       "<style scoped>\n",
       "    .dataframe tbody tr th:only-of-type {\n",
       "        vertical-align: middle;\n",
       "    }\n",
       "\n",
       "    .dataframe tbody tr th {\n",
       "        vertical-align: top;\n",
       "    }\n",
       "\n",
       "    .dataframe thead th {\n",
       "        text-align: right;\n",
       "    }\n",
       "</style>\n",
       "<table border=\"1\" class=\"dataframe\">\n",
       "  <thead>\n",
       "    <tr style=\"text-align: right;\">\n",
       "      <th></th>\n",
       "      <th>FullTime_Result</th>\n",
       "      <th>HalfTime_Result</th>\n",
       "    </tr>\n",
       "  </thead>\n",
       "  <tbody>\n",
       "    <tr>\n",
       "      <th>0</th>\n",
       "      <td>2</td>\n",
       "      <td>2</td>\n",
       "    </tr>\n",
       "    <tr>\n",
       "      <th>1</th>\n",
       "      <td>1</td>\n",
       "      <td>1</td>\n",
       "    </tr>\n",
       "    <tr>\n",
       "      <th>2</th>\n",
       "      <td>0</td>\n",
       "      <td>0</td>\n",
       "    </tr>\n",
       "    <tr>\n",
       "      <th>3</th>\n",
       "      <td>0</td>\n",
       "      <td>0</td>\n",
       "    </tr>\n",
       "    <tr>\n",
       "      <th>4</th>\n",
       "      <td>2</td>\n",
       "      <td>2</td>\n",
       "    </tr>\n",
       "    <tr>\n",
       "      <th>...</th>\n",
       "      <td>...</td>\n",
       "      <td>...</td>\n",
       "    </tr>\n",
       "    <tr>\n",
       "      <th>6652</th>\n",
       "      <td>1</td>\n",
       "      <td>1</td>\n",
       "    </tr>\n",
       "    <tr>\n",
       "      <th>6653</th>\n",
       "      <td>1</td>\n",
       "      <td>0</td>\n",
       "    </tr>\n",
       "    <tr>\n",
       "      <th>6654</th>\n",
       "      <td>2</td>\n",
       "      <td>2</td>\n",
       "    </tr>\n",
       "    <tr>\n",
       "      <th>6655</th>\n",
       "      <td>0</td>\n",
       "      <td>0</td>\n",
       "    </tr>\n",
       "    <tr>\n",
       "      <th>6656</th>\n",
       "      <td>1</td>\n",
       "      <td>1</td>\n",
       "    </tr>\n",
       "  </tbody>\n",
       "</table>\n",
       "<p>6657 rows × 2 columns</p>\n",
       "</div>"
      ],
      "text/plain": [
       "      FullTime_Result  HalfTime_Result\n",
       "0                   2                2\n",
       "1                   1                1\n",
       "2                   0                0\n",
       "3                   0                0\n",
       "4                   2                2\n",
       "...               ...              ...\n",
       "6652                1                1\n",
       "6653                1                0\n",
       "6654                2                2\n",
       "6655                0                0\n",
       "6656                1                1\n",
       "\n",
       "[6657 rows x 2 columns]"
      ]
     },
     "execution_count": 89,
     "metadata": {},
     "output_type": "execute_result"
    }
   ],
   "source": [
    "df[['FullTime_Result', 'HalfTime_Result']]"
   ]
  },
  {
   "cell_type": "markdown",
   "id": "86553ba0",
   "metadata": {},
   "source": [
    "## Feature Engineering"
   ]
  },
  {
   "cell_type": "markdown",
   "id": "01426b53",
   "metadata": {},
   "source": [
    "Some matches did not provide whether or not the home team was the favorite to win the game. It would be interesting to have this data for all of the matches so we will create a new column of the same name but have it be filled with booleans (True/False) and later replace them with 1s and 0s respectively"
   ]
  },
  {
   "cell_type": "code",
   "execution_count": 90,
   "id": "a3997519",
   "metadata": {},
   "outputs": [],
   "source": [
    "df['HomeTeam_Favorite'] = (df['HomeTeam'] == df['ML_Favorite'])"
   ]
  },
  {
   "cell_type": "code",
   "execution_count": 91,
   "id": "bb30ff2e",
   "metadata": {},
   "outputs": [
    {
     "data": {
      "text/plain": [
       "True"
      ]
     },
     "execution_count": 91,
     "metadata": {},
     "output_type": "execute_result"
    }
   ],
   "source": [
    "df['HomeTeam_Favorite'][20]"
   ]
  },
  {
   "cell_type": "code",
   "execution_count": 92,
   "id": "c41df3ef",
   "metadata": {},
   "outputs": [
    {
     "data": {
      "text/html": [
       "<div>\n",
       "<style scoped>\n",
       "    .dataframe tbody tr th:only-of-type {\n",
       "        vertical-align: middle;\n",
       "    }\n",
       "\n",
       "    .dataframe tbody tr th {\n",
       "        vertical-align: top;\n",
       "    }\n",
       "\n",
       "    .dataframe thead th {\n",
       "        text-align: right;\n",
       "    }\n",
       "</style>\n",
       "<table border=\"1\" class=\"dataframe\">\n",
       "  <thead>\n",
       "    <tr style=\"text-align: right;\">\n",
       "      <th></th>\n",
       "      <th>Season</th>\n",
       "      <th>DateTime</th>\n",
       "      <th>HomeTeam</th>\n",
       "      <th>AwayTeam</th>\n",
       "      <th>ML_Favorite</th>\n",
       "      <th>FullTime_HomeGoals</th>\n",
       "      <th>FullTime_AwayGoals</th>\n",
       "      <th>FullTime_Result</th>\n",
       "      <th>HalfTime_HomeGoals</th>\n",
       "      <th>HalfTime_AwayGoals</th>\n",
       "      <th>...</th>\n",
       "      <th>Away_ShotsOnTarget</th>\n",
       "      <th>Home_Corners</th>\n",
       "      <th>Away_Corners</th>\n",
       "      <th>Home_Fouls</th>\n",
       "      <th>Away_Fouls</th>\n",
       "      <th>Home_YellowCs</th>\n",
       "      <th>Away_YellowCs</th>\n",
       "      <th>Home_RedCs</th>\n",
       "      <th>Away_RedCs</th>\n",
       "      <th>HomeTeam_Favorite</th>\n",
       "    </tr>\n",
       "  </thead>\n",
       "  <tbody>\n",
       "    <tr>\n",
       "      <th>0</th>\n",
       "      <td>2003-04</td>\n",
       "      <td>2004-02-11T00:00:00Z</td>\n",
       "      <td>Birmingham</td>\n",
       "      <td>Everton</td>\n",
       "      <td>Birmingham</td>\n",
       "      <td>3</td>\n",
       "      <td>0</td>\n",
       "      <td>2</td>\n",
       "      <td>2</td>\n",
       "      <td>0</td>\n",
       "      <td>...</td>\n",
       "      <td>3</td>\n",
       "      <td>8</td>\n",
       "      <td>11</td>\n",
       "      <td>10</td>\n",
       "      <td>14</td>\n",
       "      <td>1</td>\n",
       "      <td>0</td>\n",
       "      <td>0</td>\n",
       "      <td>0</td>\n",
       "      <td>True</td>\n",
       "    </tr>\n",
       "    <tr>\n",
       "      <th>1</th>\n",
       "      <td>2003-04</td>\n",
       "      <td>2004-02-11T00:00:00Z</td>\n",
       "      <td>Blackburn</td>\n",
       "      <td>Newcastle</td>\n",
       "      <td>Newcastle</td>\n",
       "      <td>1</td>\n",
       "      <td>1</td>\n",
       "      <td>1</td>\n",
       "      <td>0</td>\n",
       "      <td>0</td>\n",
       "      <td>...</td>\n",
       "      <td>7</td>\n",
       "      <td>8</td>\n",
       "      <td>6</td>\n",
       "      <td>12</td>\n",
       "      <td>10</td>\n",
       "      <td>0</td>\n",
       "      <td>0</td>\n",
       "      <td>0</td>\n",
       "      <td>0</td>\n",
       "      <td>False</td>\n",
       "    </tr>\n",
       "    <tr>\n",
       "      <th>2</th>\n",
       "      <td>2003-04</td>\n",
       "      <td>2004-02-11T00:00:00Z</td>\n",
       "      <td>Charlton</td>\n",
       "      <td>Tottenham</td>\n",
       "      <td>Charlton</td>\n",
       "      <td>2</td>\n",
       "      <td>4</td>\n",
       "      <td>0</td>\n",
       "      <td>0</td>\n",
       "      <td>2</td>\n",
       "      <td>...</td>\n",
       "      <td>10</td>\n",
       "      <td>10</td>\n",
       "      <td>4</td>\n",
       "      <td>13</td>\n",
       "      <td>14</td>\n",
       "      <td>3</td>\n",
       "      <td>0</td>\n",
       "      <td>0</td>\n",
       "      <td>0</td>\n",
       "      <td>True</td>\n",
       "    </tr>\n",
       "    <tr>\n",
       "      <th>3</th>\n",
       "      <td>2003-04</td>\n",
       "      <td>2004-02-11T00:00:00Z</td>\n",
       "      <td>Fulham</td>\n",
       "      <td>Aston Villa</td>\n",
       "      <td>Fulham</td>\n",
       "      <td>1</td>\n",
       "      <td>2</td>\n",
       "      <td>0</td>\n",
       "      <td>1</td>\n",
       "      <td>2</td>\n",
       "      <td>...</td>\n",
       "      <td>3</td>\n",
       "      <td>6</td>\n",
       "      <td>5</td>\n",
       "      <td>16</td>\n",
       "      <td>17</td>\n",
       "      <td>2</td>\n",
       "      <td>1</td>\n",
       "      <td>1</td>\n",
       "      <td>0</td>\n",
       "      <td>True</td>\n",
       "    </tr>\n",
       "    <tr>\n",
       "      <th>4</th>\n",
       "      <td>2003-04</td>\n",
       "      <td>2004-02-11T00:00:00Z</td>\n",
       "      <td>Liverpool</td>\n",
       "      <td>Man City</td>\n",
       "      <td>Liverpool</td>\n",
       "      <td>2</td>\n",
       "      <td>1</td>\n",
       "      <td>2</td>\n",
       "      <td>1</td>\n",
       "      <td>0</td>\n",
       "      <td>...</td>\n",
       "      <td>3</td>\n",
       "      <td>6</td>\n",
       "      <td>3</td>\n",
       "      <td>7</td>\n",
       "      <td>8</td>\n",
       "      <td>0</td>\n",
       "      <td>0</td>\n",
       "      <td>0</td>\n",
       "      <td>0</td>\n",
       "      <td>True</td>\n",
       "    </tr>\n",
       "  </tbody>\n",
       "</table>\n",
       "<p>5 rows × 25 columns</p>\n",
       "</div>"
      ],
      "text/plain": [
       "    Season              DateTime    HomeTeam     AwayTeam ML_Favorite  \\\n",
       "0  2003-04  2004-02-11T00:00:00Z  Birmingham      Everton  Birmingham   \n",
       "1  2003-04  2004-02-11T00:00:00Z   Blackburn    Newcastle   Newcastle   \n",
       "2  2003-04  2004-02-11T00:00:00Z    Charlton    Tottenham    Charlton   \n",
       "3  2003-04  2004-02-11T00:00:00Z      Fulham  Aston Villa      Fulham   \n",
       "4  2003-04  2004-02-11T00:00:00Z   Liverpool     Man City   Liverpool   \n",
       "\n",
       "   FullTime_HomeGoals  FullTime_AwayGoals  FullTime_Result  \\\n",
       "0                   3                   0                2   \n",
       "1                   1                   1                1   \n",
       "2                   2                   4                0   \n",
       "3                   1                   2                0   \n",
       "4                   2                   1                2   \n",
       "\n",
       "   HalfTime_HomeGoals  HalfTime_AwayGoals  ...  Away_ShotsOnTarget  \\\n",
       "0                   2                   0  ...                   3   \n",
       "1                   0                   0  ...                   7   \n",
       "2                   0                   2  ...                  10   \n",
       "3                   1                   2  ...                   3   \n",
       "4                   1                   0  ...                   3   \n",
       "\n",
       "  Home_Corners  Away_Corners  Home_Fouls  Away_Fouls  Home_YellowCs  \\\n",
       "0            8            11          10          14              1   \n",
       "1            8             6          12          10              0   \n",
       "2           10             4          13          14              3   \n",
       "3            6             5          16          17              2   \n",
       "4            6             3           7           8              0   \n",
       "\n",
       "   Away_YellowCs  Home_RedCs  Away_RedCs  HomeTeam_Favorite  \n",
       "0              0           0           0               True  \n",
       "1              0           0           0              False  \n",
       "2              0           0           0               True  \n",
       "3              1           1           0               True  \n",
       "4              0           0           0               True  \n",
       "\n",
       "[5 rows x 25 columns]"
      ]
     },
     "execution_count": 92,
     "metadata": {},
     "output_type": "execute_result"
    }
   ],
   "source": [
    "df.head()"
   ]
  },
  {
   "cell_type": "code",
   "execution_count": 93,
   "id": "1a49aac7",
   "metadata": {},
   "outputs": [],
   "source": [
    "# map a dictionary to replace True and False with 1 and 0, respectively\n",
    "df['HomeTeam_Favorite'] = df['HomeTeam_Favorite'].map({True: 1,\n",
    "                                                 False: 0})"
   ]
  },
  {
   "cell_type": "code",
   "execution_count": 94,
   "id": "8e579c8d",
   "metadata": {},
   "outputs": [
    {
     "data": {
      "text/plain": [
       "0       1\n",
       "1       0\n",
       "2       1\n",
       "3       1\n",
       "4       1\n",
       "       ..\n",
       "6652    0\n",
       "6653    0\n",
       "6654    1\n",
       "6655    1\n",
       "6656    0\n",
       "Name: HomeTeam_Favorite, Length: 6657, dtype: int64"
      ]
     },
     "execution_count": 94,
     "metadata": {},
     "output_type": "execute_result"
    }
   ],
   "source": [
    "df['HomeTeam_Favorite']"
   ]
  },
  {
   "cell_type": "markdown",
   "id": "c71ff05c",
   "metadata": {},
   "source": [
    "HomeTeam_Favorite explained:\n",
    "- 1: Home team was the betting favorite to win the game\n",
    "- 0: Away team was the betting favorite to win the game"
   ]
  },
  {
   "cell_type": "markdown",
   "id": "3401eb42",
   "metadata": {},
   "source": [
    "Conversion Rate is calculated as the number of goals divided by the total number of shots. We will create a column for both the Home and Away team."
   ]
  },
  {
   "cell_type": "code",
   "execution_count": 95,
   "id": "c7ceba61",
   "metadata": {},
   "outputs": [],
   "source": [
    "# Home Conversion Rate\n",
    "df['Home_ConversionRate'] = df['FullTime_HomeGoals'] / df['Home_Shots']\n",
    "\n",
    "# Away Conversion Rate\n",
    "df['Away_ConversionRate'] = df['FullTime_AwayGoals'] / df['Away_Shots']"
   ]
  },
  {
   "cell_type": "code",
   "execution_count": 96,
   "id": "da09edac",
   "metadata": {},
   "outputs": [
    {
     "data": {
      "text/html": [
       "<div>\n",
       "<style scoped>\n",
       "    .dataframe tbody tr th:only-of-type {\n",
       "        vertical-align: middle;\n",
       "    }\n",
       "\n",
       "    .dataframe tbody tr th {\n",
       "        vertical-align: top;\n",
       "    }\n",
       "\n",
       "    .dataframe thead th {\n",
       "        text-align: right;\n",
       "    }\n",
       "</style>\n",
       "<table border=\"1\" class=\"dataframe\">\n",
       "  <thead>\n",
       "    <tr style=\"text-align: right;\">\n",
       "      <th></th>\n",
       "      <th>Home_ConversionRate</th>\n",
       "      <th>Away_ConversionRate</th>\n",
       "    </tr>\n",
       "  </thead>\n",
       "  <tbody>\n",
       "    <tr>\n",
       "      <th>0</th>\n",
       "      <td>0.200000</td>\n",
       "      <td>0.000000</td>\n",
       "    </tr>\n",
       "    <tr>\n",
       "      <th>1</th>\n",
       "      <td>0.058824</td>\n",
       "      <td>0.071429</td>\n",
       "    </tr>\n",
       "    <tr>\n",
       "      <th>2</th>\n",
       "      <td>0.111111</td>\n",
       "      <td>0.333333</td>\n",
       "    </tr>\n",
       "    <tr>\n",
       "      <th>3</th>\n",
       "      <td>0.076923</td>\n",
       "      <td>0.200000</td>\n",
       "    </tr>\n",
       "    <tr>\n",
       "      <th>4</th>\n",
       "      <td>0.166667</td>\n",
       "      <td>0.166667</td>\n",
       "    </tr>\n",
       "    <tr>\n",
       "      <th>...</th>\n",
       "      <td>...</td>\n",
       "      <td>...</td>\n",
       "    </tr>\n",
       "    <tr>\n",
       "      <th>6652</th>\n",
       "      <td>0.000000</td>\n",
       "      <td>0.000000</td>\n",
       "    </tr>\n",
       "    <tr>\n",
       "      <th>6653</th>\n",
       "      <td>0.111111</td>\n",
       "      <td>0.222222</td>\n",
       "    </tr>\n",
       "    <tr>\n",
       "      <th>6654</th>\n",
       "      <td>0.117647</td>\n",
       "      <td>0.071429</td>\n",
       "    </tr>\n",
       "    <tr>\n",
       "      <th>6655</th>\n",
       "      <td>0.055556</td>\n",
       "      <td>0.153846</td>\n",
       "    </tr>\n",
       "    <tr>\n",
       "      <th>6656</th>\n",
       "      <td>0.333333</td>\n",
       "      <td>0.166667</td>\n",
       "    </tr>\n",
       "  </tbody>\n",
       "</table>\n",
       "<p>6657 rows × 2 columns</p>\n",
       "</div>"
      ],
      "text/plain": [
       "      Home_ConversionRate  Away_ConversionRate\n",
       "0                0.200000             0.000000\n",
       "1                0.058824             0.071429\n",
       "2                0.111111             0.333333\n",
       "3                0.076923             0.200000\n",
       "4                0.166667             0.166667\n",
       "...                   ...                  ...\n",
       "6652             0.000000             0.000000\n",
       "6653             0.111111             0.222222\n",
       "6654             0.117647             0.071429\n",
       "6655             0.055556             0.153846\n",
       "6656             0.333333             0.166667\n",
       "\n",
       "[6657 rows x 2 columns]"
      ]
     },
     "execution_count": 96,
     "metadata": {},
     "output_type": "execute_result"
    }
   ],
   "source": [
    "df[['Home_ConversionRate','Away_ConversionRate']]"
   ]
  },
  {
   "cell_type": "markdown",
   "id": "4788cf3c",
   "metadata": {},
   "source": [
    "New column for each time based on what percentage of their total shots were shots on target"
   ]
  },
  {
   "cell_type": "code",
   "execution_count": 97,
   "id": "fde348b7",
   "metadata": {},
   "outputs": [],
   "source": [
    "# Home Shots on Target (SoT percentage)\n",
    "df['Home_SoT%'] = df['Home_ShotsOnTarget'] / df['Home_Shots']\n",
    "\n",
    "# Away Shots on Target (SoT percentage)\n",
    "df['Away_SoT%'] = df['Away_ShotsOnTarget'] / df['Away_Shots']"
   ]
  },
  {
   "cell_type": "code",
   "execution_count": 98,
   "id": "7e472617",
   "metadata": {},
   "outputs": [
    {
     "data": {
      "text/html": [
       "<div>\n",
       "<style scoped>\n",
       "    .dataframe tbody tr th:only-of-type {\n",
       "        vertical-align: middle;\n",
       "    }\n",
       "\n",
       "    .dataframe tbody tr th {\n",
       "        vertical-align: top;\n",
       "    }\n",
       "\n",
       "    .dataframe thead th {\n",
       "        text-align: right;\n",
       "    }\n",
       "</style>\n",
       "<table border=\"1\" class=\"dataframe\">\n",
       "  <thead>\n",
       "    <tr style=\"text-align: right;\">\n",
       "      <th></th>\n",
       "      <th>Home_SoT%</th>\n",
       "      <th>Away_SoT%</th>\n",
       "    </tr>\n",
       "  </thead>\n",
       "  <tbody>\n",
       "    <tr>\n",
       "      <th>0</th>\n",
       "      <td>0.733333</td>\n",
       "      <td>0.600000</td>\n",
       "    </tr>\n",
       "    <tr>\n",
       "      <th>1</th>\n",
       "      <td>0.411765</td>\n",
       "      <td>0.500000</td>\n",
       "    </tr>\n",
       "    <tr>\n",
       "      <th>2</th>\n",
       "      <td>0.777778</td>\n",
       "      <td>0.833333</td>\n",
       "    </tr>\n",
       "    <tr>\n",
       "      <th>3</th>\n",
       "      <td>0.461538</td>\n",
       "      <td>0.300000</td>\n",
       "    </tr>\n",
       "    <tr>\n",
       "      <th>4</th>\n",
       "      <td>0.583333</td>\n",
       "      <td>0.500000</td>\n",
       "    </tr>\n",
       "    <tr>\n",
       "      <th>...</th>\n",
       "      <td>...</td>\n",
       "      <td>...</td>\n",
       "    </tr>\n",
       "    <tr>\n",
       "      <th>6652</th>\n",
       "      <td>0.095238</td>\n",
       "      <td>0.250000</td>\n",
       "    </tr>\n",
       "    <tr>\n",
       "      <th>6653</th>\n",
       "      <td>0.222222</td>\n",
       "      <td>0.555556</td>\n",
       "    </tr>\n",
       "    <tr>\n",
       "      <th>6654</th>\n",
       "      <td>0.470588</td>\n",
       "      <td>0.214286</td>\n",
       "    </tr>\n",
       "    <tr>\n",
       "      <th>6655</th>\n",
       "      <td>0.277778</td>\n",
       "      <td>0.461538</td>\n",
       "    </tr>\n",
       "    <tr>\n",
       "      <th>6656</th>\n",
       "      <td>0.666667</td>\n",
       "      <td>0.250000</td>\n",
       "    </tr>\n",
       "  </tbody>\n",
       "</table>\n",
       "<p>6657 rows × 2 columns</p>\n",
       "</div>"
      ],
      "text/plain": [
       "      Home_SoT%  Away_SoT%\n",
       "0      0.733333   0.600000\n",
       "1      0.411765   0.500000\n",
       "2      0.777778   0.833333\n",
       "3      0.461538   0.300000\n",
       "4      0.583333   0.500000\n",
       "...         ...        ...\n",
       "6652   0.095238   0.250000\n",
       "6653   0.222222   0.555556\n",
       "6654   0.470588   0.214286\n",
       "6655   0.277778   0.461538\n",
       "6656   0.666667   0.250000\n",
       "\n",
       "[6657 rows x 2 columns]"
      ]
     },
     "execution_count": 98,
     "metadata": {},
     "output_type": "execute_result"
    }
   ],
   "source": [
    "df[['Home_SoT%','Away_SoT%']]"
   ]
  },
  {
   "cell_type": "markdown",
   "id": "c01a4029",
   "metadata": {},
   "source": [
    "Did the team that was favored to win actually end up winning?"
   ]
  },
  {
   "cell_type": "code",
   "execution_count": 99,
   "id": "4b46b15e",
   "metadata": {},
   "outputs": [],
   "source": [
    "# creating a Pandas series by using a for loop that determines whether the home team or the away team was the\n",
    "# betting favorite in the match. I decided to use integers because strings are more difficult to work with.\n",
    "# I am appending the integer 2 because that is what is used to identify the home team in 'FullTime_Result'\n",
    "# After creating this 'favorites' column, I will identify whether or not the favored team actually won\n",
    "\n",
    "favorites = []\n",
    "\n",
    "for match in range(0,6657):\n",
    "    # if the home team is favored, append a 2\n",
    "    if df['HomeTeam'][match] == df['ML_Favorite'][match]:\n",
    "        favorites.append(2)\n",
    "    # if the away team is favored, append a 0\n",
    "    else:\n",
    "        favorites.append(0)"
   ]
  },
  {
   "cell_type": "code",
   "execution_count": 100,
   "id": "afacafd3",
   "metadata": {},
   "outputs": [],
   "source": [
    "favorites = pd.Series(favorites)"
   ]
  },
  {
   "cell_type": "code",
   "execution_count": 101,
   "id": "052fc0eb",
   "metadata": {},
   "outputs": [],
   "source": [
    "df['Favorites'] = favorites"
   ]
  },
  {
   "cell_type": "markdown",
   "id": "45586868",
   "metadata": {},
   "source": [
    "'Favorites' column explained:\n",
    "- 2 = Home Team favored to win the match\n",
    "- 0 = Away Team favored to win the match"
   ]
  },
  {
   "cell_type": "code",
   "execution_count": 102,
   "id": "d156f780",
   "metadata": {},
   "outputs": [
    {
     "data": {
      "text/html": [
       "<div>\n",
       "<style scoped>\n",
       "    .dataframe tbody tr th:only-of-type {\n",
       "        vertical-align: middle;\n",
       "    }\n",
       "\n",
       "    .dataframe tbody tr th {\n",
       "        vertical-align: top;\n",
       "    }\n",
       "\n",
       "    .dataframe thead th {\n",
       "        text-align: right;\n",
       "    }\n",
       "</style>\n",
       "<table border=\"1\" class=\"dataframe\">\n",
       "  <thead>\n",
       "    <tr style=\"text-align: right;\">\n",
       "      <th></th>\n",
       "      <th>FullTime_Result</th>\n",
       "      <th>Favorites</th>\n",
       "    </tr>\n",
       "  </thead>\n",
       "  <tbody>\n",
       "    <tr>\n",
       "      <th>0</th>\n",
       "      <td>2</td>\n",
       "      <td>2</td>\n",
       "    </tr>\n",
       "    <tr>\n",
       "      <th>1</th>\n",
       "      <td>1</td>\n",
       "      <td>0</td>\n",
       "    </tr>\n",
       "    <tr>\n",
       "      <th>2</th>\n",
       "      <td>0</td>\n",
       "      <td>2</td>\n",
       "    </tr>\n",
       "    <tr>\n",
       "      <th>3</th>\n",
       "      <td>0</td>\n",
       "      <td>2</td>\n",
       "    </tr>\n",
       "    <tr>\n",
       "      <th>4</th>\n",
       "      <td>2</td>\n",
       "      <td>2</td>\n",
       "    </tr>\n",
       "    <tr>\n",
       "      <th>...</th>\n",
       "      <td>...</td>\n",
       "      <td>...</td>\n",
       "    </tr>\n",
       "    <tr>\n",
       "      <th>6652</th>\n",
       "      <td>1</td>\n",
       "      <td>0</td>\n",
       "    </tr>\n",
       "    <tr>\n",
       "      <th>6653</th>\n",
       "      <td>1</td>\n",
       "      <td>0</td>\n",
       "    </tr>\n",
       "    <tr>\n",
       "      <th>6654</th>\n",
       "      <td>2</td>\n",
       "      <td>2</td>\n",
       "    </tr>\n",
       "    <tr>\n",
       "      <th>6655</th>\n",
       "      <td>0</td>\n",
       "      <td>2</td>\n",
       "    </tr>\n",
       "    <tr>\n",
       "      <th>6656</th>\n",
       "      <td>1</td>\n",
       "      <td>0</td>\n",
       "    </tr>\n",
       "  </tbody>\n",
       "</table>\n",
       "<p>6657 rows × 2 columns</p>\n",
       "</div>"
      ],
      "text/plain": [
       "      FullTime_Result  Favorites\n",
       "0                   2          2\n",
       "1                   1          0\n",
       "2                   0          2\n",
       "3                   0          2\n",
       "4                   2          2\n",
       "...               ...        ...\n",
       "6652                1          0\n",
       "6653                1          0\n",
       "6654                2          2\n",
       "6655                0          2\n",
       "6656                1          0\n",
       "\n",
       "[6657 rows x 2 columns]"
      ]
     },
     "execution_count": 102,
     "metadata": {},
     "output_type": "execute_result"
    }
   ],
   "source": [
    "df[['FullTime_Result','Favorites']]"
   ]
  },
  {
   "cell_type": "code",
   "execution_count": 103,
   "id": "9ba8ae4f",
   "metadata": {},
   "outputs": [],
   "source": [
    "# using np.where to fill in 1 for when a favored team wins and 0 for when a favored team loses OR draws\n",
    "df['Favorite_Winner'] = np.where((df['FullTime_Result'] == df['Favorites']), 1, 0)"
   ]
  },
  {
   "cell_type": "code",
   "execution_count": 104,
   "id": "2b8a4a7c",
   "metadata": {},
   "outputs": [
    {
     "data": {
      "text/html": [
       "<div>\n",
       "<style scoped>\n",
       "    .dataframe tbody tr th:only-of-type {\n",
       "        vertical-align: middle;\n",
       "    }\n",
       "\n",
       "    .dataframe tbody tr th {\n",
       "        vertical-align: top;\n",
       "    }\n",
       "\n",
       "    .dataframe thead th {\n",
       "        text-align: right;\n",
       "    }\n",
       "</style>\n",
       "<table border=\"1\" class=\"dataframe\">\n",
       "  <thead>\n",
       "    <tr style=\"text-align: right;\">\n",
       "      <th></th>\n",
       "      <th>FullTime_Result</th>\n",
       "      <th>Favorites</th>\n",
       "      <th>Favorite_Winner</th>\n",
       "    </tr>\n",
       "  </thead>\n",
       "  <tbody>\n",
       "    <tr>\n",
       "      <th>0</th>\n",
       "      <td>2</td>\n",
       "      <td>2</td>\n",
       "      <td>1</td>\n",
       "    </tr>\n",
       "    <tr>\n",
       "      <th>1</th>\n",
       "      <td>1</td>\n",
       "      <td>0</td>\n",
       "      <td>0</td>\n",
       "    </tr>\n",
       "    <tr>\n",
       "      <th>2</th>\n",
       "      <td>0</td>\n",
       "      <td>2</td>\n",
       "      <td>0</td>\n",
       "    </tr>\n",
       "    <tr>\n",
       "      <th>3</th>\n",
       "      <td>0</td>\n",
       "      <td>2</td>\n",
       "      <td>0</td>\n",
       "    </tr>\n",
       "    <tr>\n",
       "      <th>4</th>\n",
       "      <td>2</td>\n",
       "      <td>2</td>\n",
       "      <td>1</td>\n",
       "    </tr>\n",
       "    <tr>\n",
       "      <th>...</th>\n",
       "      <td>...</td>\n",
       "      <td>...</td>\n",
       "      <td>...</td>\n",
       "    </tr>\n",
       "    <tr>\n",
       "      <th>6652</th>\n",
       "      <td>1</td>\n",
       "      <td>0</td>\n",
       "      <td>0</td>\n",
       "    </tr>\n",
       "    <tr>\n",
       "      <th>6653</th>\n",
       "      <td>1</td>\n",
       "      <td>0</td>\n",
       "      <td>0</td>\n",
       "    </tr>\n",
       "    <tr>\n",
       "      <th>6654</th>\n",
       "      <td>2</td>\n",
       "      <td>2</td>\n",
       "      <td>1</td>\n",
       "    </tr>\n",
       "    <tr>\n",
       "      <th>6655</th>\n",
       "      <td>0</td>\n",
       "      <td>2</td>\n",
       "      <td>0</td>\n",
       "    </tr>\n",
       "    <tr>\n",
       "      <th>6656</th>\n",
       "      <td>1</td>\n",
       "      <td>0</td>\n",
       "      <td>0</td>\n",
       "    </tr>\n",
       "  </tbody>\n",
       "</table>\n",
       "<p>6657 rows × 3 columns</p>\n",
       "</div>"
      ],
      "text/plain": [
       "      FullTime_Result  Favorites  Favorite_Winner\n",
       "0                   2          2                1\n",
       "1                   1          0                0\n",
       "2                   0          2                0\n",
       "3                   0          2                0\n",
       "4                   2          2                1\n",
       "...               ...        ...              ...\n",
       "6652                1          0                0\n",
       "6653                1          0                0\n",
       "6654                2          2                1\n",
       "6655                0          2                0\n",
       "6656                1          0                0\n",
       "\n",
       "[6657 rows x 3 columns]"
      ]
     },
     "execution_count": 104,
     "metadata": {},
     "output_type": "execute_result"
    }
   ],
   "source": [
    "df[['FullTime_Result','Favorites','Favorite_Winner']]"
   ]
  },
  {
   "cell_type": "markdown",
   "id": "efb49368",
   "metadata": {},
   "source": [
    "Favorite Winner explained:\n",
    "- 1 = the favored team ended up winning the game\n",
    "- 0 = the favored team ended up losing OR drawing the game"
   ]
  },
  {
   "cell_type": "code",
   "execution_count": 105,
   "id": "79e8e210",
   "metadata": {},
   "outputs": [
    {
     "data": {
      "text/plain": [
       "Index(['Season', 'DateTime', 'HomeTeam', 'AwayTeam', 'ML_Favorite',\n",
       "       'FullTime_HomeGoals', 'FullTime_AwayGoals', 'FullTime_Result',\n",
       "       'HalfTime_HomeGoals', 'HalfTime_AwayGoals', 'HalfTime_Result',\n",
       "       'Referee', 'Home_Shots', 'Away_Shots', 'Home_ShotsOnTarget',\n",
       "       'Away_ShotsOnTarget', 'Home_Corners', 'Away_Corners', 'Home_Fouls',\n",
       "       'Away_Fouls', 'Home_YellowCs', 'Away_YellowCs', 'Home_RedCs',\n",
       "       'Away_RedCs', 'HomeTeam_Favorite', 'Home_ConversionRate',\n",
       "       'Away_ConversionRate', 'Home_SoT%', 'Away_SoT%', 'Favorites',\n",
       "       'Favorite_Winner'],\n",
       "      dtype='object')"
      ]
     },
     "execution_count": 105,
     "metadata": {},
     "output_type": "execute_result"
    }
   ],
   "source": [
    "# now what columns do we have?\n",
    "df.columns"
   ]
  },
  {
   "cell_type": "markdown",
   "id": "319d1290",
   "metadata": {},
   "source": [
    "We MIGHT no longer need the 'ML_Favorite' column but will keep for now. We will also not need the DateTime or Referee column because they are irrelevant for this analysis"
   ]
  },
  {
   "cell_type": "code",
   "execution_count": 106,
   "id": "1692b1b4",
   "metadata": {},
   "outputs": [],
   "source": [
    "df.drop(['DateTime','Referee'], axis=1, inplace=True)"
   ]
  },
  {
   "cell_type": "code",
   "execution_count": 107,
   "id": "797e0fef",
   "metadata": {},
   "outputs": [
    {
     "data": {
      "text/html": [
       "<div>\n",
       "<style scoped>\n",
       "    .dataframe tbody tr th:only-of-type {\n",
       "        vertical-align: middle;\n",
       "    }\n",
       "\n",
       "    .dataframe tbody tr th {\n",
       "        vertical-align: top;\n",
       "    }\n",
       "\n",
       "    .dataframe thead th {\n",
       "        text-align: right;\n",
       "    }\n",
       "</style>\n",
       "<table border=\"1\" class=\"dataframe\">\n",
       "  <thead>\n",
       "    <tr style=\"text-align: right;\">\n",
       "      <th></th>\n",
       "      <th>Season</th>\n",
       "      <th>HomeTeam</th>\n",
       "      <th>AwayTeam</th>\n",
       "      <th>ML_Favorite</th>\n",
       "      <th>FullTime_HomeGoals</th>\n",
       "      <th>FullTime_AwayGoals</th>\n",
       "      <th>FullTime_Result</th>\n",
       "      <th>HalfTime_HomeGoals</th>\n",
       "      <th>HalfTime_AwayGoals</th>\n",
       "      <th>HalfTime_Result</th>\n",
       "      <th>...</th>\n",
       "      <th>Away_YellowCs</th>\n",
       "      <th>Home_RedCs</th>\n",
       "      <th>Away_RedCs</th>\n",
       "      <th>HomeTeam_Favorite</th>\n",
       "      <th>Home_ConversionRate</th>\n",
       "      <th>Away_ConversionRate</th>\n",
       "      <th>Home_SoT%</th>\n",
       "      <th>Away_SoT%</th>\n",
       "      <th>Favorites</th>\n",
       "      <th>Favorite_Winner</th>\n",
       "    </tr>\n",
       "  </thead>\n",
       "  <tbody>\n",
       "    <tr>\n",
       "      <th>0</th>\n",
       "      <td>2003-04</td>\n",
       "      <td>Birmingham</td>\n",
       "      <td>Everton</td>\n",
       "      <td>Birmingham</td>\n",
       "      <td>3</td>\n",
       "      <td>0</td>\n",
       "      <td>2</td>\n",
       "      <td>2</td>\n",
       "      <td>0</td>\n",
       "      <td>2</td>\n",
       "      <td>...</td>\n",
       "      <td>0</td>\n",
       "      <td>0</td>\n",
       "      <td>0</td>\n",
       "      <td>1</td>\n",
       "      <td>0.200000</td>\n",
       "      <td>0.000000</td>\n",
       "      <td>0.733333</td>\n",
       "      <td>0.600000</td>\n",
       "      <td>2</td>\n",
       "      <td>1</td>\n",
       "    </tr>\n",
       "    <tr>\n",
       "      <th>1</th>\n",
       "      <td>2003-04</td>\n",
       "      <td>Blackburn</td>\n",
       "      <td>Newcastle</td>\n",
       "      <td>Newcastle</td>\n",
       "      <td>1</td>\n",
       "      <td>1</td>\n",
       "      <td>1</td>\n",
       "      <td>0</td>\n",
       "      <td>0</td>\n",
       "      <td>1</td>\n",
       "      <td>...</td>\n",
       "      <td>0</td>\n",
       "      <td>0</td>\n",
       "      <td>0</td>\n",
       "      <td>0</td>\n",
       "      <td>0.058824</td>\n",
       "      <td>0.071429</td>\n",
       "      <td>0.411765</td>\n",
       "      <td>0.500000</td>\n",
       "      <td>0</td>\n",
       "      <td>0</td>\n",
       "    </tr>\n",
       "    <tr>\n",
       "      <th>2</th>\n",
       "      <td>2003-04</td>\n",
       "      <td>Charlton</td>\n",
       "      <td>Tottenham</td>\n",
       "      <td>Charlton</td>\n",
       "      <td>2</td>\n",
       "      <td>4</td>\n",
       "      <td>0</td>\n",
       "      <td>0</td>\n",
       "      <td>2</td>\n",
       "      <td>0</td>\n",
       "      <td>...</td>\n",
       "      <td>0</td>\n",
       "      <td>0</td>\n",
       "      <td>0</td>\n",
       "      <td>1</td>\n",
       "      <td>0.111111</td>\n",
       "      <td>0.333333</td>\n",
       "      <td>0.777778</td>\n",
       "      <td>0.833333</td>\n",
       "      <td>2</td>\n",
       "      <td>0</td>\n",
       "    </tr>\n",
       "    <tr>\n",
       "      <th>3</th>\n",
       "      <td>2003-04</td>\n",
       "      <td>Fulham</td>\n",
       "      <td>Aston Villa</td>\n",
       "      <td>Fulham</td>\n",
       "      <td>1</td>\n",
       "      <td>2</td>\n",
       "      <td>0</td>\n",
       "      <td>1</td>\n",
       "      <td>2</td>\n",
       "      <td>0</td>\n",
       "      <td>...</td>\n",
       "      <td>1</td>\n",
       "      <td>1</td>\n",
       "      <td>0</td>\n",
       "      <td>1</td>\n",
       "      <td>0.076923</td>\n",
       "      <td>0.200000</td>\n",
       "      <td>0.461538</td>\n",
       "      <td>0.300000</td>\n",
       "      <td>2</td>\n",
       "      <td>0</td>\n",
       "    </tr>\n",
       "    <tr>\n",
       "      <th>4</th>\n",
       "      <td>2003-04</td>\n",
       "      <td>Liverpool</td>\n",
       "      <td>Man City</td>\n",
       "      <td>Liverpool</td>\n",
       "      <td>2</td>\n",
       "      <td>1</td>\n",
       "      <td>2</td>\n",
       "      <td>1</td>\n",
       "      <td>0</td>\n",
       "      <td>2</td>\n",
       "      <td>...</td>\n",
       "      <td>0</td>\n",
       "      <td>0</td>\n",
       "      <td>0</td>\n",
       "      <td>1</td>\n",
       "      <td>0.166667</td>\n",
       "      <td>0.166667</td>\n",
       "      <td>0.583333</td>\n",
       "      <td>0.500000</td>\n",
       "      <td>2</td>\n",
       "      <td>1</td>\n",
       "    </tr>\n",
       "  </tbody>\n",
       "</table>\n",
       "<p>5 rows × 29 columns</p>\n",
       "</div>"
      ],
      "text/plain": [
       "    Season    HomeTeam     AwayTeam ML_Favorite  FullTime_HomeGoals  \\\n",
       "0  2003-04  Birmingham      Everton  Birmingham                   3   \n",
       "1  2003-04   Blackburn    Newcastle   Newcastle                   1   \n",
       "2  2003-04    Charlton    Tottenham    Charlton                   2   \n",
       "3  2003-04      Fulham  Aston Villa      Fulham                   1   \n",
       "4  2003-04   Liverpool     Man City   Liverpool                   2   \n",
       "\n",
       "   FullTime_AwayGoals  FullTime_Result  HalfTime_HomeGoals  \\\n",
       "0                   0                2                   2   \n",
       "1                   1                1                   0   \n",
       "2                   4                0                   0   \n",
       "3                   2                0                   1   \n",
       "4                   1                2                   1   \n",
       "\n",
       "   HalfTime_AwayGoals  HalfTime_Result  ...  Away_YellowCs  Home_RedCs  \\\n",
       "0                   0                2  ...              0           0   \n",
       "1                   0                1  ...              0           0   \n",
       "2                   2                0  ...              0           0   \n",
       "3                   2                0  ...              1           1   \n",
       "4                   0                2  ...              0           0   \n",
       "\n",
       "   Away_RedCs  HomeTeam_Favorite  Home_ConversionRate  Away_ConversionRate  \\\n",
       "0           0                  1             0.200000             0.000000   \n",
       "1           0                  0             0.058824             0.071429   \n",
       "2           0                  1             0.111111             0.333333   \n",
       "3           0                  1             0.076923             0.200000   \n",
       "4           0                  1             0.166667             0.166667   \n",
       "\n",
       "   Home_SoT%  Away_SoT%  Favorites  Favorite_Winner  \n",
       "0   0.733333   0.600000          2                1  \n",
       "1   0.411765   0.500000          0                0  \n",
       "2   0.777778   0.833333          2                0  \n",
       "3   0.461538   0.300000          2                0  \n",
       "4   0.583333   0.500000          2                1  \n",
       "\n",
       "[5 rows x 29 columns]"
      ]
     },
     "execution_count": 107,
     "metadata": {},
     "output_type": "execute_result"
    }
   ],
   "source": [
    "df.head()"
   ]
  },
  {
   "cell_type": "markdown",
   "id": "33e9797a",
   "metadata": {},
   "source": [
    "## EDA"
   ]
  },
  {
   "cell_type": "code",
   "execution_count": 108,
   "id": "84831c83",
   "metadata": {},
   "outputs": [
    {
     "name": "stderr",
     "output_type": "stream",
     "text": [
      "/opt/anaconda3/envs/learn-env/lib/python3.8/site-packages/seaborn/_decorators.py:36: FutureWarning: Pass the following variable as a keyword arg: x. From version 0.12, the only valid positional argument will be `data`, and passing other arguments without an explicit keyword will result in an error or misinterpretation.\n",
      "  warnings.warn(\n"
     ]
    },
    {
     "data": {
      "text/plain": [
       "<AxesSubplot:xlabel='HomeTeam_Favorite', ylabel='count'>"
      ]
     },
     "execution_count": 108,
     "metadata": {},
     "output_type": "execute_result"
    },
    {
     "data": {
      "image/png": "[encoded data removed]",
      "text/plain": [
       "<Figure size 432x288 with 1 Axes>"
      ]
     },
     "metadata": {
      "needs_background": "light"
     },
     "output_type": "display_data"
    }
   ],
   "source": [
    "# count of home teams that were favored to win\n",
    "sns.countplot(df['HomeTeam_Favorite'])"
   ]
  },
  {
   "cell_type": "code",
   "execution_count": 109,
   "id": "002eab47",
   "metadata": {},
   "outputs": [
    {
     "name": "stdout",
     "output_type": "stream",
     "text": [
      "Home Teams were favored in 0.6948% of all matches in the dataset.\n"
     ]
    }
   ],
   "source": [
    "# percentage of games where the home team was the favorite\n",
    "home_favorite_percentage = len(df[df['HomeTeam_Favorite'] == 1]) / len(df['HomeTeam_Favorite'])\n",
    "\n",
    "print('Home Teams were favored in ' + str(round(home_favorite_percentage, ndigits=4)) + \n",
    "      '% of all matches in the dataset.')"
   ]
  },
  {
   "cell_type": "code",
   "execution_count": 110,
   "id": "fbc531bf",
   "metadata": {},
   "outputs": [
    {
     "name": "stderr",
     "output_type": "stream",
     "text": [
      "/opt/anaconda3/envs/learn-env/lib/python3.8/site-packages/seaborn/_decorators.py:36: FutureWarning: Pass the following variable as a keyword arg: x. From version 0.12, the only valid positional argument will be `data`, and passing other arguments without an explicit keyword will result in an error or misinterpretation.\n",
      "  warnings.warn(\n"
     ]
    },
    {
     "data": {
      "text/plain": [
       "<AxesSubplot:xlabel='HomeTeam_Favorite', ylabel='count'>"
      ]
     },
     "execution_count": 110,
     "metadata": {},
     "output_type": "execute_result"
    },
    {
     "data": {
      "image/png": "[encoded data removed]",
      "text/plain": [
       "<Figure size 432x288 with 1 Axes>"
      ]
     },
     "metadata": {
      "needs_background": "light"
     },
     "output_type": "display_data"
    }
   ],
   "source": [
    "# count of home favorites that actually won\n",
    "sns.countplot(df['HomeTeam_Favorite'], hue=df['FullTime_Result'])"
   ]
  },
  {
   "cell_type": "code",
   "execution_count": 111,
   "id": "131f0107",
   "metadata": {},
   "outputs": [
    {
     "name": "stderr",
     "output_type": "stream",
     "text": [
      "/opt/anaconda3/envs/learn-env/lib/python3.8/site-packages/seaborn/_decorators.py:36: FutureWarning: Pass the following variable as a keyword arg: x. From version 0.12, the only valid positional argument will be `data`, and passing other arguments without an explicit keyword will result in an error or misinterpretation.\n",
      "  warnings.warn(\n"
     ]
    },
    {
     "data": {
      "text/plain": [
       "<AxesSubplot:xlabel='Favorite_Winner', ylabel='count'>"
      ]
     },
     "execution_count": 111,
     "metadata": {},
     "output_type": "execute_result"
    },
    {
     "data": {
      "image/png": "[encoded data removed]",
      "text/plain": [
       "<Figure size 432x288 with 1 Axes>"
      ]
     },
     "metadata": {
      "needs_background": "light"
     },
     "output_type": "display_data"
    }
   ],
   "source": [
    "sns.countplot(df['Favorite_Winner'], hue=df['FullTime_Result'])"
   ]
  },
  {
   "cell_type": "code",
   "execution_count": 112,
   "id": "d581eb48",
   "metadata": {},
   "outputs": [
    {
     "name": "stderr",
     "output_type": "stream",
     "text": [
      "/opt/anaconda3/envs/learn-env/lib/python3.8/site-packages/seaborn/_decorators.py:36: FutureWarning: Pass the following variable as a keyword arg: x. From version 0.12, the only valid positional argument will be `data`, and passing other arguments without an explicit keyword will result in an error or misinterpretation.\n",
      "  warnings.warn(\n"
     ]
    },
    {
     "data": {
      "text/plain": [
       "<AxesSubplot:xlabel='FullTime_Result', ylabel='count'>"
      ]
     },
     "execution_count": 112,
     "metadata": {},
     "output_type": "execute_result"
    },
    {
     "data": {
      "image/png": "[encoded data removed]",
      "text/plain": [
       "<Figure size 432x288 with 1 Axes>"
      ]
     },
     "metadata": {
      "needs_background": "light"
     },
     "output_type": "display_data"
    }
   ],
   "source": [
    "# Distribution of results\n",
    "sns.countplot(df['FullTime_Result'])"
   ]
  },
  {
   "cell_type": "code",
   "execution_count": 113,
   "id": "27888793",
   "metadata": {},
   "outputs": [
    {
     "name": "stderr",
     "output_type": "stream",
     "text": [
      "/opt/anaconda3/envs/learn-env/lib/python3.8/site-packages/seaborn/_decorators.py:36: FutureWarning: Pass the following variable as a keyword arg: x. From version 0.12, the only valid positional argument will be `data`, and passing other arguments without an explicit keyword will result in an error or misinterpretation.\n",
      "  warnings.warn(\n"
     ]
    },
    {
     "data": {
      "text/plain": [
       "<AxesSubplot:xlabel='HalfTime_Result', ylabel='count'>"
      ]
     },
     "execution_count": 113,
     "metadata": {},
     "output_type": "execute_result"
    },
    {
     "data": {
      "image/png": "[encoded data removed]",
      "text/plain": [
       "<Figure size 432x288 with 1 Axes>"
      ]
     },
     "metadata": {
      "needs_background": "light"
     },
     "output_type": "display_data"
    }
   ],
   "source": [
    "# how many teams leading at half time went on to win the game?\n",
    "sns.countplot(df['HalfTime_Result'], hue=df['FullTime_Result'])"
   ]
  },
  {
   "cell_type": "code",
   "execution_count": 114,
   "id": "6d23f67c",
   "metadata": {},
   "outputs": [
    {
     "data": {
      "text/plain": [
       "0.28270992939762657"
      ]
     },
     "execution_count": 114,
     "metadata": {},
     "output_type": "execute_result"
    }
   ],
   "source": [
    "# percentage of games where home team winning at half time AND ends up \n",
    "# winning at full time\n",
    "len(df[(df['HalfTime_Result'] == 2) & (df['FullTime_Result'] == 2)]) / len(df)"
   ]
  },
  {
   "cell_type": "code",
   "execution_count": 115,
   "id": "dd793c5e",
   "metadata": {},
   "outputs": [
    {
     "data": {
      "text/plain": [
       "0.16554003304791948"
      ]
     },
     "execution_count": 115,
     "metadata": {},
     "output_type": "execute_result"
    }
   ],
   "source": [
    "# percentage of games where away team winning at half time AND ends up \n",
    "# winning at full time\n",
    "len(df[(df['HalfTime_Result'] == 0) & (df['FullTime_Result'] == 0)]) / len(df)"
   ]
  },
  {
   "cell_type": "code",
   "execution_count": 116,
   "id": "74a99ad5",
   "metadata": {},
   "outputs": [
    {
     "data": {
      "text/plain": [
       "0.06624605678233439"
      ]
     },
     "execution_count": 116,
     "metadata": {},
     "output_type": "execute_result"
    }
   ],
   "source": [
    "# percentage of games where home team winning at half time AND ends up \n",
    "# losing/drawing at full time\n",
    "len(df[(df['HalfTime_Result'] == 2) & (df['FullTime_Result'] != 2)]) / len(df)"
   ]
  },
  {
   "cell_type": "code",
   "execution_count": 117,
   "id": "30704837",
   "metadata": {},
   "outputs": [
    {
     "data": {
      "text/plain": [
       "0.07045215562565721"
      ]
     },
     "execution_count": 117,
     "metadata": {},
     "output_type": "execute_result"
    }
   ],
   "source": [
    "# percentage of games where away team winning at half time AND ends up \n",
    "# losing/drawing at full time\n",
    "len(df[(df['HalfTime_Result'] == 0) & (df['FullTime_Result'] != 0)]) / len(df)"
   ]
  },
  {
   "cell_type": "code",
   "execution_count": 118,
   "id": "ccaf7f96",
   "metadata": {},
   "outputs": [
    {
     "data": {
      "text/plain": [
       "0.15382304341294878"
      ]
     },
     "execution_count": 118,
     "metadata": {},
     "output_type": "execute_result"
    }
   ],
   "source": [
    "# percentage of games where it's a draw at halftime AND ends up \n",
    "# as a draw at full time\n",
    "len(df[(df['HalfTime_Result'] == 1) & (df['FullTime_Result'] == 1)]) / len(df)"
   ]
  },
  {
   "cell_type": "markdown",
   "id": "682b3079",
   "metadata": {},
   "source": [
    "### Reducing the amount of dimensions in dataset: get rid of redundant and/or irrelevant features"
   ]
  },
  {
   "cell_type": "code",
   "execution_count": 119,
   "id": "ebeb49fe",
   "metadata": {},
   "outputs": [
    {
     "data": {
      "text/plain": [
       "<AxesSubplot:>"
      ]
     },
     "execution_count": 119,
     "metadata": {},
     "output_type": "execute_result"
    },
    {
     "data": {
      "image/png": "[encoded data removed]",
      "text/plain": [
       "<Figure size 1080x864 with 2 Axes>"
      ]
     },
     "metadata": {
      "needs_background": "light"
     },
     "output_type": "display_data"
    }
   ],
   "source": [
    "# heatmap correlation\n",
    "plt.figure(figsize=(15,12))\n",
    "sns.heatmap(df.corr(), annot=True)"
   ]
  },
  {
   "cell_type": "markdown",
   "id": "4b35e362",
   "metadata": {},
   "source": [
    "Ultimately, we want the model to be able to predict 'FullTime_Result' so let's see which columns are most/least correlated with this target variable"
   ]
  },
  {
   "cell_type": "code",
   "execution_count": 120,
   "id": "a126e28e",
   "metadata": {},
   "outputs": [
    {
     "data": {
      "text/plain": [
       "FullTime_Result        1.000000\n",
       "FullTime_HomeGoals     0.627083\n",
       "HalfTime_Result        0.602206\n",
       "Home_ConversionRate    0.516432\n",
       "HalfTime_HomeGoals     0.434142\n",
       "Favorites              0.341739\n",
       "HomeTeam_Favorite      0.341739\n",
       "Favorite_Winner        0.327223\n",
       "Home_ShotsOnTarget     0.309438\n",
       "Home_SoT%              0.232704\n",
       "Home_Shots             0.214076\n",
       "Away_RedCs             0.090447\n",
       "Home_Corners           0.053508\n",
       "Away_Fouls             0.031430\n",
       "Away_YellowCs          0.022138\n",
       "Home_Fouls            -0.035652\n",
       "Away_Corners          -0.042672\n",
       "Home_YellowCs         -0.116995\n",
       "Home_RedCs            -0.131621\n",
       "Away_SoT%             -0.184058\n",
       "Away_Shots            -0.252295\n",
       "Away_ShotsOnTarget    -0.308754\n",
       "HalfTime_AwayGoals    -0.424904\n",
       "Away_ConversionRate   -0.497444\n",
       "FullTime_AwayGoals    -0.635393\n",
       "Name: FullTime_Result, dtype: float64"
      ]
     },
     "execution_count": 120,
     "metadata": {},
     "output_type": "execute_result"
    }
   ],
   "source": [
    "df.corr()['FullTime_Result'].sort_values(ascending=False)"
   ]
  },
  {
   "cell_type": "markdown",
   "id": "4bef6917",
   "metadata": {},
   "source": [
    "It will be better to have a dataset without all of the extra, redundant columns in it. For example, ShotsOnTarget, ShotsOnTarget%, and Shots are all basically saying the same thing. In this case, we will keep ShotsOnTarget because it is slightly higher correlated with Full Time Result"
   ]
  },
  {
   "cell_type": "code",
   "execution_count": 121,
   "id": "b57b3c8b",
   "metadata": {},
   "outputs": [
    {
     "data": {
      "text/plain": [
       "Index(['Season', 'HomeTeam', 'AwayTeam', 'ML_Favorite', 'FullTime_HomeGoals',\n",
       "       'FullTime_AwayGoals', 'FullTime_Result', 'HalfTime_HomeGoals',\n",
       "       'HalfTime_AwayGoals', 'HalfTime_Result', 'Home_Shots', 'Away_Shots',\n",
       "       'Home_ShotsOnTarget', 'Away_ShotsOnTarget', 'Home_Corners',\n",
       "       'Away_Corners', 'Home_Fouls', 'Away_Fouls', 'Home_YellowCs',\n",
       "       'Away_YellowCs', 'Home_RedCs', 'Away_RedCs', 'HomeTeam_Favorite',\n",
       "       'Home_ConversionRate', 'Away_ConversionRate', 'Home_SoT%', 'Away_SoT%',\n",
       "       'Favorites', 'Favorite_Winner'],\n",
       "      dtype='object')"
      ]
     },
     "execution_count": 121,
     "metadata": {},
     "output_type": "execute_result"
    }
   ],
   "source": [
    "df.columns"
   ]
  },
  {
   "cell_type": "code",
   "execution_count": 122,
   "id": "fd036695",
   "metadata": {},
   "outputs": [],
   "source": [
    "cleaned_df = df.drop(['Favorites',\n",
    "                      'Home_SoT%',\n",
    "                      'Home_Shots',\n",
    "                      'Away_RedCs',\n",
    "                      'Home_Corners',\n",
    "                      'Away_Corners',\n",
    "                      'Home_YellowCs',\n",
    "                      'Away_YellowCs',\n",
    "                      'Away_SoT%',\n",
    "                      'Away_Shots',\n",
    "                      'Season',\n",
    "                      'ML_Favorite'], axis=1)"
   ]
  },
  {
   "cell_type": "code",
   "execution_count": 123,
   "id": "b23dd4cb",
   "metadata": {},
   "outputs": [
    {
     "data": {
      "text/html": [
       "<div>\n",
       "<style scoped>\n",
       "    .dataframe tbody tr th:only-of-type {\n",
       "        vertical-align: middle;\n",
       "    }\n",
       "\n",
       "    .dataframe tbody tr th {\n",
       "        vertical-align: top;\n",
       "    }\n",
       "\n",
       "    .dataframe thead th {\n",
       "        text-align: right;\n",
       "    }\n",
       "</style>\n",
       "<table border=\"1\" class=\"dataframe\">\n",
       "  <thead>\n",
       "    <tr style=\"text-align: right;\">\n",
       "      <th></th>\n",
       "      <th>HomeTeam</th>\n",
       "      <th>AwayTeam</th>\n",
       "      <th>FullTime_HomeGoals</th>\n",
       "      <th>FullTime_AwayGoals</th>\n",
       "      <th>FullTime_Result</th>\n",
       "      <th>HalfTime_HomeGoals</th>\n",
       "      <th>HalfTime_AwayGoals</th>\n",
       "      <th>HalfTime_Result</th>\n",
       "      <th>Home_ShotsOnTarget</th>\n",
       "      <th>Away_ShotsOnTarget</th>\n",
       "      <th>Home_Fouls</th>\n",
       "      <th>Away_Fouls</th>\n",
       "      <th>Home_RedCs</th>\n",
       "      <th>HomeTeam_Favorite</th>\n",
       "      <th>Home_ConversionRate</th>\n",
       "      <th>Away_ConversionRate</th>\n",
       "      <th>Favorite_Winner</th>\n",
       "    </tr>\n",
       "  </thead>\n",
       "  <tbody>\n",
       "    <tr>\n",
       "      <th>0</th>\n",
       "      <td>Birmingham</td>\n",
       "      <td>Everton</td>\n",
       "      <td>3</td>\n",
       "      <td>0</td>\n",
       "      <td>2</td>\n",
       "      <td>2</td>\n",
       "      <td>0</td>\n",
       "      <td>2</td>\n",
       "      <td>11</td>\n",
       "      <td>3</td>\n",
       "      <td>10</td>\n",
       "      <td>14</td>\n",
       "      <td>0</td>\n",
       "      <td>1</td>\n",
       "      <td>0.200000</td>\n",
       "      <td>0.000000</td>\n",
       "      <td>1</td>\n",
       "    </tr>\n",
       "    <tr>\n",
       "      <th>1</th>\n",
       "      <td>Blackburn</td>\n",
       "      <td>Newcastle</td>\n",
       "      <td>1</td>\n",
       "      <td>1</td>\n",
       "      <td>1</td>\n",
       "      <td>0</td>\n",
       "      <td>0</td>\n",
       "      <td>1</td>\n",
       "      <td>7</td>\n",
       "      <td>7</td>\n",
       "      <td>12</td>\n",
       "      <td>10</td>\n",
       "      <td>0</td>\n",
       "      <td>0</td>\n",
       "      <td>0.058824</td>\n",
       "      <td>0.071429</td>\n",
       "      <td>0</td>\n",
       "    </tr>\n",
       "    <tr>\n",
       "      <th>2</th>\n",
       "      <td>Charlton</td>\n",
       "      <td>Tottenham</td>\n",
       "      <td>2</td>\n",
       "      <td>4</td>\n",
       "      <td>0</td>\n",
       "      <td>0</td>\n",
       "      <td>2</td>\n",
       "      <td>0</td>\n",
       "      <td>14</td>\n",
       "      <td>10</td>\n",
       "      <td>13</td>\n",
       "      <td>14</td>\n",
       "      <td>0</td>\n",
       "      <td>1</td>\n",
       "      <td>0.111111</td>\n",
       "      <td>0.333333</td>\n",
       "      <td>0</td>\n",
       "    </tr>\n",
       "    <tr>\n",
       "      <th>3</th>\n",
       "      <td>Fulham</td>\n",
       "      <td>Aston Villa</td>\n",
       "      <td>1</td>\n",
       "      <td>2</td>\n",
       "      <td>0</td>\n",
       "      <td>1</td>\n",
       "      <td>2</td>\n",
       "      <td>0</td>\n",
       "      <td>6</td>\n",
       "      <td>3</td>\n",
       "      <td>16</td>\n",
       "      <td>17</td>\n",
       "      <td>1</td>\n",
       "      <td>1</td>\n",
       "      <td>0.076923</td>\n",
       "      <td>0.200000</td>\n",
       "      <td>0</td>\n",
       "    </tr>\n",
       "    <tr>\n",
       "      <th>4</th>\n",
       "      <td>Liverpool</td>\n",
       "      <td>Man City</td>\n",
       "      <td>2</td>\n",
       "      <td>1</td>\n",
       "      <td>2</td>\n",
       "      <td>1</td>\n",
       "      <td>0</td>\n",
       "      <td>2</td>\n",
       "      <td>7</td>\n",
       "      <td>3</td>\n",
       "      <td>7</td>\n",
       "      <td>8</td>\n",
       "      <td>0</td>\n",
       "      <td>1</td>\n",
       "      <td>0.166667</td>\n",
       "      <td>0.166667</td>\n",
       "      <td>1</td>\n",
       "    </tr>\n",
       "  </tbody>\n",
       "</table>\n",
       "</div>"
      ],
      "text/plain": [
       "     HomeTeam     AwayTeam  FullTime_HomeGoals  FullTime_AwayGoals  \\\n",
       "0  Birmingham      Everton                   3                   0   \n",
       "1   Blackburn    Newcastle                   1                   1   \n",
       "2    Charlton    Tottenham                   2                   4   \n",
       "3      Fulham  Aston Villa                   1                   2   \n",
       "4   Liverpool     Man City                   2                   1   \n",
       "\n",
       "   FullTime_Result  HalfTime_HomeGoals  HalfTime_AwayGoals  HalfTime_Result  \\\n",
       "0                2                   2                   0                2   \n",
       "1                1                   0                   0                1   \n",
       "2                0                   0                   2                0   \n",
       "3                0                   1                   2                0   \n",
       "4                2                   1                   0                2   \n",
       "\n",
       "   Home_ShotsOnTarget  Away_ShotsOnTarget  Home_Fouls  Away_Fouls  Home_RedCs  \\\n",
       "0                  11                   3          10          14           0   \n",
       "1                   7                   7          12          10           0   \n",
       "2                  14                  10          13          14           0   \n",
       "3                   6                   3          16          17           1   \n",
       "4                   7                   3           7           8           0   \n",
       "\n",
       "   HomeTeam_Favorite  Home_ConversionRate  Away_ConversionRate  \\\n",
       "0                  1             0.200000             0.000000   \n",
       "1                  0             0.058824             0.071429   \n",
       "2                  1             0.111111             0.333333   \n",
       "3                  1             0.076923             0.200000   \n",
       "4                  1             0.166667             0.166667   \n",
       "\n",
       "   Favorite_Winner  \n",
       "0                1  \n",
       "1                0  \n",
       "2                0  \n",
       "3                0  \n",
       "4                1  "
      ]
     },
     "execution_count": 123,
     "metadata": {},
     "output_type": "execute_result"
    }
   ],
   "source": [
    "cleaned_df.head()"
   ]
  },
  {
   "cell_type": "code",
   "execution_count": 124,
   "id": "20552657",
   "metadata": {},
   "outputs": [
    {
     "data": {
      "text/plain": [
       "<AxesSubplot:>"
      ]
     },
     "execution_count": 124,
     "metadata": {},
     "output_type": "execute_result"
    },
    {
     "data": {
      "image/png": "[encoded data removed]",
      "text/plain": [
       "<Figure size 864x576 with 2 Axes>"
      ]
     },
     "metadata": {
      "needs_background": "light"
     },
     "output_type": "display_data"
    }
   ],
   "source": [
    "# new heatmap\n",
    "plt.figure(figsize=(12,8))\n",
    "sns.heatmap(cleaned_df.corr(),annot=True)"
   ]
  },
  {
   "cell_type": "code",
   "execution_count": 125,
   "id": "2d183819",
   "metadata": {},
   "outputs": [
    {
     "data": {
      "text/plain": [
       "FullTime_Result        1.000000\n",
       "FullTime_HomeGoals     0.627083\n",
       "HalfTime_Result        0.602206\n",
       "Home_ConversionRate    0.516432\n",
       "HalfTime_HomeGoals     0.434142\n",
       "HomeTeam_Favorite      0.341739\n",
       "Favorite_Winner        0.327223\n",
       "Home_ShotsOnTarget     0.309438\n",
       "Away_Fouls             0.031430\n",
       "Home_Fouls            -0.035652\n",
       "Home_RedCs            -0.131621\n",
       "Away_ShotsOnTarget    -0.308754\n",
       "HalfTime_AwayGoals    -0.424904\n",
       "Away_ConversionRate   -0.497444\n",
       "FullTime_AwayGoals    -0.635393\n",
       "Name: FullTime_Result, dtype: float64"
      ]
     },
     "execution_count": 125,
     "metadata": {},
     "output_type": "execute_result"
    }
   ],
   "source": [
    "# correlation with full time result\n",
    "cleaned_df.corr()['FullTime_Result'].sort_values(ascending=False)"
   ]
  },
  {
   "cell_type": "markdown",
   "id": "01d3208c",
   "metadata": {},
   "source": [
    "## Modeling Process"
   ]
  },
  {
   "cell_type": "code",
   "execution_count": 126,
   "id": "af87bc6d",
   "metadata": {},
   "outputs": [
    {
     "name": "stdout",
     "output_type": "stream",
     "text": [
      "<class 'pandas.core.frame.DataFrame'>\n",
      "Int64Index: 6653 entries, 0 to 6656\n",
      "Data columns (total 17 columns):\n",
      " #   Column               Non-Null Count  Dtype  \n",
      "---  ------               --------------  -----  \n",
      " 0   HomeTeam             6653 non-null   object \n",
      " 1   AwayTeam             6653 non-null   object \n",
      " 2   FullTime_HomeGoals   6653 non-null   int64  \n",
      " 3   FullTime_AwayGoals   6653 non-null   int64  \n",
      " 4   FullTime_Result      6653 non-null   int64  \n",
      " 5   HalfTime_HomeGoals   6653 non-null   int64  \n",
      " 6   HalfTime_AwayGoals   6653 non-null   int64  \n",
      " 7   HalfTime_Result      6653 non-null   int64  \n",
      " 8   Home_ShotsOnTarget   6653 non-null   int64  \n",
      " 9   Away_ShotsOnTarget   6653 non-null   int64  \n",
      " 10  Home_Fouls           6653 non-null   int64  \n",
      " 11  Away_Fouls           6653 non-null   int64  \n",
      " 12  Home_RedCs           6653 non-null   int64  \n",
      " 13  HomeTeam_Favorite    6653 non-null   int64  \n",
      " 14  Home_ConversionRate  6653 non-null   float64\n",
      " 15  Away_ConversionRate  6653 non-null   float64\n",
      " 16  Favorite_Winner      6653 non-null   int64  \n",
      "dtypes: float64(2), int64(13), object(2)\n",
      "memory usage: 935.6+ KB\n"
     ]
    }
   ],
   "source": [
    "cleaned_df = cleaned_df.dropna()\n",
    "cleaned_df.info()"
   ]
  },
  {
   "cell_type": "code",
   "execution_count": 127,
   "id": "3e51cd69",
   "metadata": {},
   "outputs": [],
   "source": [
    "# target feature is FullTime_Result\n",
    "# for baseline model, we will only input the column that identifies betting favorite\n",
    "X = cleaned_df[['HomeTeam_Favorite']]\n",
    "y = cleaned_df['FullTime_Result']"
   ]
  },
  {
   "cell_type": "code",
   "execution_count": 128,
   "id": "7f669c70",
   "metadata": {},
   "outputs": [
    {
     "data": {
      "text/html": [
       "<div>\n",
       "<style scoped>\n",
       "    .dataframe tbody tr th:only-of-type {\n",
       "        vertical-align: middle;\n",
       "    }\n",
       "\n",
       "    .dataframe tbody tr th {\n",
       "        vertical-align: top;\n",
       "    }\n",
       "\n",
       "    .dataframe thead th {\n",
       "        text-align: right;\n",
       "    }\n",
       "</style>\n",
       "<table border=\"1\" class=\"dataframe\">\n",
       "  <thead>\n",
       "    <tr style=\"text-align: right;\">\n",
       "      <th></th>\n",
       "      <th>HomeTeam_Favorite</th>\n",
       "    </tr>\n",
       "  </thead>\n",
       "  <tbody>\n",
       "    <tr>\n",
       "      <th>0</th>\n",
       "      <td>1</td>\n",
       "    </tr>\n",
       "    <tr>\n",
       "      <th>1</th>\n",
       "      <td>0</td>\n",
       "    </tr>\n",
       "    <tr>\n",
       "      <th>2</th>\n",
       "      <td>1</td>\n",
       "    </tr>\n",
       "    <tr>\n",
       "      <th>3</th>\n",
       "      <td>1</td>\n",
       "    </tr>\n",
       "    <tr>\n",
       "      <th>4</th>\n",
       "      <td>1</td>\n",
       "    </tr>\n",
       "    <tr>\n",
       "      <th>...</th>\n",
       "      <td>...</td>\n",
       "    </tr>\n",
       "    <tr>\n",
       "      <th>6652</th>\n",
       "      <td>0</td>\n",
       "    </tr>\n",
       "    <tr>\n",
       "      <th>6653</th>\n",
       "      <td>0</td>\n",
       "    </tr>\n",
       "    <tr>\n",
       "      <th>6654</th>\n",
       "      <td>1</td>\n",
       "    </tr>\n",
       "    <tr>\n",
       "      <th>6655</th>\n",
       "      <td>1</td>\n",
       "    </tr>\n",
       "    <tr>\n",
       "      <th>6656</th>\n",
       "      <td>0</td>\n",
       "    </tr>\n",
       "  </tbody>\n",
       "</table>\n",
       "<p>6653 rows × 1 columns</p>\n",
       "</div>"
      ],
      "text/plain": [
       "      HomeTeam_Favorite\n",
       "0                     1\n",
       "1                     0\n",
       "2                     1\n",
       "3                     1\n",
       "4                     1\n",
       "...                 ...\n",
       "6652                  0\n",
       "6653                  0\n",
       "6654                  1\n",
       "6655                  1\n",
       "6656                  0\n",
       "\n",
       "[6653 rows x 1 columns]"
      ]
     },
     "execution_count": 128,
     "metadata": {},
     "output_type": "execute_result"
    }
   ],
   "source": [
    "X"
   ]
  },
  {
   "cell_type": "code",
   "execution_count": 129,
   "id": "2367b90e",
   "metadata": {},
   "outputs": [
    {
     "data": {
      "text/plain": [
       "0       2\n",
       "1       1\n",
       "2       0\n",
       "3       0\n",
       "4       2\n",
       "       ..\n",
       "6652    1\n",
       "6653    1\n",
       "6654    2\n",
       "6655    0\n",
       "6656    1\n",
       "Name: FullTime_Result, Length: 6653, dtype: int64"
      ]
     },
     "execution_count": 129,
     "metadata": {},
     "output_type": "execute_result"
    }
   ],
   "source": [
    "y"
   ]
  },
  {
   "cell_type": "markdown",
   "id": "8e40eb79",
   "metadata": {},
   "source": [
    "### Train | Test split"
   ]
  },
  {
   "cell_type": "code",
   "execution_count": 130,
   "id": "99c21d64",
   "metadata": {},
   "outputs": [],
   "source": [
    "from sklearn.model_selection import train_test_split\n",
    "\n",
    "# split into training and testing data\n",
    "X_train, X_test, y_train, y_test = train_test_split(X, y, test_size=0.25, random_state=42)\n",
    "\n"
   ]
  },
  {
   "cell_type": "code",
   "execution_count": 131,
   "id": "26222607",
   "metadata": {},
   "outputs": [],
   "source": [
    "# scaling?\n",
    "from sklearn.preprocessing import StandardScaler\n",
    "\n",
    "scaler = StandardScaler()\n",
    "\n",
    "scaled_X_train = scaler.fit_transform(X_train)\n",
    "scaled_X_test = scaler.transform(X_test)\n"
   ]
  },
  {
   "cell_type": "markdown",
   "id": "fa50ee70",
   "metadata": {},
   "source": [
    "### Baseline Model - Logistic Regression"
   ]
  },
  {
   "cell_type": "code",
   "execution_count": 132,
   "id": "23cfa901",
   "metadata": {},
   "outputs": [
    {
     "data": {
      "text/plain": [
       "LogisticRegression()"
      ]
     },
     "execution_count": 132,
     "metadata": {},
     "output_type": "execute_result"
    }
   ],
   "source": [
    "from sklearn.linear_model import LogisticRegression\n",
    "\n",
    "# base model --> default parameters\n",
    "log_model = LogisticRegression()\n",
    "\n",
    "# fit training data\n",
    "log_model.fit(scaled_X_train, y_train)"
   ]
  },
  {
   "cell_type": "code",
   "execution_count": 133,
   "id": "ae454539",
   "metadata": {},
   "outputs": [
    {
     "data": {
      "text/plain": [
       "array([[-0.44470989],\n",
       "       [ 0.04420094],\n",
       "       [ 0.40050896]])"
      ]
     },
     "execution_count": 133,
     "metadata": {},
     "output_type": "execute_result"
    }
   ],
   "source": [
    "log_model.coef_"
   ]
  },
  {
   "cell_type": "code",
   "execution_count": 134,
   "id": "2548bd49",
   "metadata": {},
   "outputs": [],
   "source": [
    "from sklearn.metrics import accuracy_score,confusion_matrix,classification_report,plot_confusion_matrix\n",
    "\n"
   ]
  },
  {
   "cell_type": "code",
   "execution_count": 137,
   "id": "c135ec77",
   "metadata": {},
   "outputs": [
    {
     "data": {
      "text/plain": [
       "0.5228365384615384"
      ]
     },
     "execution_count": 137,
     "metadata": {},
     "output_type": "execute_result"
    }
   ],
   "source": [
    "y_preds = log_model.predict(scaled_X_test)\n",
    "accuracy_score(y_test, y_preds)"
   ]
  },
  {
   "cell_type": "code",
   "execution_count": 138,
   "id": "bbf510cc",
   "metadata": {},
   "outputs": [
    {
     "data": {
      "text/plain": [
       "<sklearn.metrics._plot.confusion_matrix.ConfusionMatrixDisplay at 0x7f839b845d30>"
      ]
     },
     "execution_count": 138,
     "metadata": {},
     "output_type": "execute_result"
    },
    {
     "data": {
      "image/png": "[encoded data removed]",
      "text/plain": [
       "<Figure size 432x288 with 2 Axes>"
      ]
     },
     "metadata": {
      "needs_background": "light"
     },
     "output_type": "display_data"
    }
   ],
   "source": [
    "plot_confusion_matrix(log_model, X_test, y_test)"
   ]
  },
  {
   "cell_type": "code",
   "execution_count": 139,
   "id": "5d39b0f4",
   "metadata": {},
   "outputs": [
    {
     "name": "stdout",
     "output_type": "stream",
     "text": [
      "              precision    recall  f1-score   support\n",
      "\n",
      "           0       0.46      0.50      0.48       448\n",
      "           1       0.00      0.00      0.00       450\n",
      "           2       0.55      0.84      0.67       766\n",
      "\n",
      "    accuracy                           0.52      1664\n",
      "   macro avg       0.34      0.45      0.38      1664\n",
      "weighted avg       0.38      0.52      0.44      1664\n",
      "\n"
     ]
    },
    {
     "name": "stderr",
     "output_type": "stream",
     "text": [
      "/opt/anaconda3/envs/learn-env/lib/python3.8/site-packages/sklearn/metrics/_classification.py:1221: UndefinedMetricWarning: Precision and F-score are ill-defined and being set to 0.0 in labels with no predicted samples. Use `zero_division` parameter to control this behavior.\n",
      "  _warn_prf(average, modifier, msg_start, len(result))\n"
     ]
    }
   ],
   "source": [
    "print(classification_report(y_test,y_preds))"
   ]
  },
  {
   "cell_type": "markdown",
   "id": "7de669ed",
   "metadata": {},
   "source": [
    "Overall, not terrible. The baseline model is scoring 52% on overall accuracy which it means it is classifying a little over half of the matches correctly. The baseline model is not able to predict draws/ties because the only data that was fed in was HomeTeam_Favorite. This column only identifies whether or not the Home Team was the betting favorite. Additionally, a draw/tie is never the betting favorite for a Premier League match."
   ]
  },
  {
   "cell_type": "markdown",
   "id": "652a7206",
   "metadata": {},
   "source": [
    "### Model 2 - Logistic Regression with more columns"
   ]
  },
  {
   "cell_type": "code",
   "execution_count": 140,
   "id": "ccee3c98",
   "metadata": {},
   "outputs": [
    {
     "name": "stdout",
     "output_type": "stream",
     "text": [
      "<class 'pandas.core.frame.DataFrame'>\n",
      "Int64Index: 6653 entries, 0 to 6656\n",
      "Data columns (total 17 columns):\n",
      " #   Column               Non-Null Count  Dtype  \n",
      "---  ------               --------------  -----  \n",
      " 0   HomeTeam             6653 non-null   object \n",
      " 1   AwayTeam             6653 non-null   object \n",
      " 2   FullTime_HomeGoals   6653 non-null   int64  \n",
      " 3   FullTime_AwayGoals   6653 non-null   int64  \n",
      " 4   FullTime_Result      6653 non-null   int64  \n",
      " 5   HalfTime_HomeGoals   6653 non-null   int64  \n",
      " 6   HalfTime_AwayGoals   6653 non-null   int64  \n",
      " 7   HalfTime_Result      6653 non-null   int64  \n",
      " 8   Home_ShotsOnTarget   6653 non-null   int64  \n",
      " 9   Away_ShotsOnTarget   6653 non-null   int64  \n",
      " 10  Home_Fouls           6653 non-null   int64  \n",
      " 11  Away_Fouls           6653 non-null   int64  \n",
      " 12  Home_RedCs           6653 non-null   int64  \n",
      " 13  HomeTeam_Favorite    6653 non-null   int64  \n",
      " 14  Home_ConversionRate  6653 non-null   float64\n",
      " 15  Away_ConversionRate  6653 non-null   float64\n",
      " 16  Favorite_Winner      6653 non-null   int64  \n",
      "dtypes: float64(2), int64(13), object(2)\n",
      "memory usage: 935.6+ KB\n"
     ]
    }
   ],
   "source": [
    "cleaned_df.info()"
   ]
  },
  {
   "cell_type": "code",
   "execution_count": 141,
   "id": "dbb68545",
   "metadata": {},
   "outputs": [],
   "source": [
    "# train_test_split\n",
    "# NOT including full time home and away goals because that gives away the result but will include half time\n",
    "# stats for live-betting considerations\n",
    "X = cleaned_df.drop(['HomeTeam',\n",
    "                     'AwayTeam',\n",
    "                     'FullTime_HomeGoals',\n",
    "                     'FullTime_AwayGoals',\n",
    "                     'Favorite_Winner',\n",
    "                     'FullTime_Result'], axis=1)\n",
    "                    \n",
    "y = cleaned_df['FullTime_Result']"
   ]
  },
  {
   "cell_type": "code",
   "execution_count": 145,
   "id": "6ecc92f7",
   "metadata": {},
   "outputs": [],
   "source": [
    "cleaned_df['Home_ConversionRate'] = cleaned_df['Home_ConversionRate'].round(2)\n",
    "cleaned_df['Away_ConversionRate'] = cleaned_df['Away_ConversionRate'].round(2)"
   ]
  },
  {
   "cell_type": "code",
   "execution_count": 146,
   "id": "a43538c2",
   "metadata": {},
   "outputs": [],
   "source": [
    "# split into training and testing data\n",
    "X_train, X_test, y_train, y_test = train_test_split(X, y, test_size=0.25, random_state=42)"
   ]
  },
  {
   "cell_type": "code",
   "execution_count": 147,
   "id": "357fb1c0",
   "metadata": {},
   "outputs": [
    {
     "ename": "ValueError",
     "evalue": "Input contains infinity or a value too large for dtype('float64').",
     "output_type": "error",
     "traceback": [
      "\u001b[0;31m---------------------------------------------------------------------------\u001b[0m",
      "\u001b[0;31mValueError\u001b[0m                                Traceback (most recent call last)",
      "\u001b[0;32m<ipython-input-147-9a0f9a144688>\u001b[0m in \u001b[0;36m<module>\u001b[0;34m\u001b[0m\n\u001b[1;32m      1\u001b[0m \u001b[0mscaler\u001b[0m \u001b[0;34m=\u001b[0m \u001b[0mStandardScaler\u001b[0m\u001b[0;34m(\u001b[0m\u001b[0;34m)\u001b[0m\u001b[0;34m\u001b[0m\u001b[0;34m\u001b[0m\u001b[0m\n\u001b[1;32m      2\u001b[0m \u001b[0mscaled_X_train\u001b[0m \u001b[0;34m=\u001b[0m \u001b[0mscaler\u001b[0m\u001b[0;34m.\u001b[0m\u001b[0mfit_transform\u001b[0m\u001b[0;34m(\u001b[0m\u001b[0mX_train\u001b[0m\u001b[0;34m)\u001b[0m\u001b[0;34m\u001b[0m\u001b[0;34m\u001b[0m\u001b[0m\n\u001b[0;32m----> 3\u001b[0;31m \u001b[0mscaled_X_test\u001b[0m \u001b[0;34m=\u001b[0m \u001b[0mscaler\u001b[0m\u001b[0;34m.\u001b[0m\u001b[0mtransform\u001b[0m\u001b[0;34m(\u001b[0m\u001b[0mX_test\u001b[0m\u001b[0;34m)\u001b[0m\u001b[0;34m\u001b[0m\u001b[0;34m\u001b[0m\u001b[0m\n\u001b[0m",
      "\u001b[0;32m/opt/anaconda3/envs/learn-env/lib/python3.8/site-packages/sklearn/preprocessing/_data.py\u001b[0m in \u001b[0;36mtransform\u001b[0;34m(self, X, copy)\u001b[0m\n\u001b[1;32m    789\u001b[0m \u001b[0;34m\u001b[0m\u001b[0m\n\u001b[1;32m    790\u001b[0m         \u001b[0mcopy\u001b[0m \u001b[0;34m=\u001b[0m \u001b[0mcopy\u001b[0m \u001b[0;32mif\u001b[0m \u001b[0mcopy\u001b[0m \u001b[0;32mis\u001b[0m \u001b[0;32mnot\u001b[0m \u001b[0;32mNone\u001b[0m \u001b[0;32melse\u001b[0m \u001b[0mself\u001b[0m\u001b[0;34m.\u001b[0m\u001b[0mcopy\u001b[0m\u001b[0;34m\u001b[0m\u001b[0;34m\u001b[0m\u001b[0m\n\u001b[0;32m--> 791\u001b[0;31m         X = self._validate_data(X, reset=False,\n\u001b[0m\u001b[1;32m    792\u001b[0m                                 \u001b[0maccept_sparse\u001b[0m\u001b[0;34m=\u001b[0m\u001b[0;34m'csr'\u001b[0m\u001b[0;34m,\u001b[0m \u001b[0mcopy\u001b[0m\u001b[0;34m=\u001b[0m\u001b[0mcopy\u001b[0m\u001b[0;34m,\u001b[0m\u001b[0;34m\u001b[0m\u001b[0;34m\u001b[0m\u001b[0m\n\u001b[1;32m    793\u001b[0m                                 \u001b[0mestimator\u001b[0m\u001b[0;34m=\u001b[0m\u001b[0mself\u001b[0m\u001b[0;34m,\u001b[0m \u001b[0mdtype\u001b[0m\u001b[0;34m=\u001b[0m\u001b[0mFLOAT_DTYPES\u001b[0m\u001b[0;34m,\u001b[0m\u001b[0;34m\u001b[0m\u001b[0;34m\u001b[0m\u001b[0m\n",
      "\u001b[0;32m/opt/anaconda3/envs/learn-env/lib/python3.8/site-packages/sklearn/base.py\u001b[0m in \u001b[0;36m_validate_data\u001b[0;34m(self, X, y, reset, validate_separately, **check_params)\u001b[0m\n\u001b[1;32m    418\u001b[0m                     \u001b[0;34mf\"requires y to be passed, but the target y is None.\"\u001b[0m\u001b[0;34m\u001b[0m\u001b[0;34m\u001b[0m\u001b[0m\n\u001b[1;32m    419\u001b[0m                 )\n\u001b[0;32m--> 420\u001b[0;31m             \u001b[0mX\u001b[0m \u001b[0;34m=\u001b[0m \u001b[0mcheck_array\u001b[0m\u001b[0;34m(\u001b[0m\u001b[0mX\u001b[0m\u001b[0;34m,\u001b[0m \u001b[0;34m**\u001b[0m\u001b[0mcheck_params\u001b[0m\u001b[0;34m)\u001b[0m\u001b[0;34m\u001b[0m\u001b[0;34m\u001b[0m\u001b[0m\n\u001b[0m\u001b[1;32m    421\u001b[0m             \u001b[0mout\u001b[0m \u001b[0;34m=\u001b[0m \u001b[0mX\u001b[0m\u001b[0;34m\u001b[0m\u001b[0;34m\u001b[0m\u001b[0m\n\u001b[1;32m    422\u001b[0m         \u001b[0;32melse\u001b[0m\u001b[0;34m:\u001b[0m\u001b[0;34m\u001b[0m\u001b[0;34m\u001b[0m\u001b[0m\n",
      "\u001b[0;32m/opt/anaconda3/envs/learn-env/lib/python3.8/site-packages/sklearn/utils/validation.py\u001b[0m in \u001b[0;36minner_f\u001b[0;34m(*args, **kwargs)\u001b[0m\n\u001b[1;32m     70\u001b[0m                           FutureWarning)\n\u001b[1;32m     71\u001b[0m         \u001b[0mkwargs\u001b[0m\u001b[0;34m.\u001b[0m\u001b[0mupdate\u001b[0m\u001b[0;34m(\u001b[0m\u001b[0;34m{\u001b[0m\u001b[0mk\u001b[0m\u001b[0;34m:\u001b[0m \u001b[0marg\u001b[0m \u001b[0;32mfor\u001b[0m \u001b[0mk\u001b[0m\u001b[0;34m,\u001b[0m \u001b[0marg\u001b[0m \u001b[0;32min\u001b[0m \u001b[0mzip\u001b[0m\u001b[0;34m(\u001b[0m\u001b[0msig\u001b[0m\u001b[0;34m.\u001b[0m\u001b[0mparameters\u001b[0m\u001b[0;34m,\u001b[0m \u001b[0margs\u001b[0m\u001b[0;34m)\u001b[0m\u001b[0;34m}\u001b[0m\u001b[0;34m)\u001b[0m\u001b[0;34m\u001b[0m\u001b[0;34m\u001b[0m\u001b[0m\n\u001b[0;32m---> 72\u001b[0;31m         \u001b[0;32mreturn\u001b[0m \u001b[0mf\u001b[0m\u001b[0;34m(\u001b[0m\u001b[0;34m**\u001b[0m\u001b[0mkwargs\u001b[0m\u001b[0;34m)\u001b[0m\u001b[0;34m\u001b[0m\u001b[0;34m\u001b[0m\u001b[0m\n\u001b[0m\u001b[1;32m     73\u001b[0m     \u001b[0;32mreturn\u001b[0m \u001b[0minner_f\u001b[0m\u001b[0;34m\u001b[0m\u001b[0;34m\u001b[0m\u001b[0m\n\u001b[1;32m     74\u001b[0m \u001b[0;34m\u001b[0m\u001b[0m\n",
      "\u001b[0;32m/opt/anaconda3/envs/learn-env/lib/python3.8/site-packages/sklearn/utils/validation.py\u001b[0m in \u001b[0;36mcheck_array\u001b[0;34m(array, accept_sparse, accept_large_sparse, dtype, order, copy, force_all_finite, ensure_2d, allow_nd, ensure_min_samples, ensure_min_features, estimator)\u001b[0m\n\u001b[1;32m    642\u001b[0m \u001b[0;34m\u001b[0m\u001b[0m\n\u001b[1;32m    643\u001b[0m         \u001b[0;32mif\u001b[0m \u001b[0mforce_all_finite\u001b[0m\u001b[0;34m:\u001b[0m\u001b[0;34m\u001b[0m\u001b[0;34m\u001b[0m\u001b[0m\n\u001b[0;32m--> 644\u001b[0;31m             _assert_all_finite(array,\n\u001b[0m\u001b[1;32m    645\u001b[0m                                allow_nan=force_all_finite == 'allow-nan')\n\u001b[1;32m    646\u001b[0m \u001b[0;34m\u001b[0m\u001b[0m\n",
      "\u001b[0;32m/opt/anaconda3/envs/learn-env/lib/python3.8/site-packages/sklearn/utils/validation.py\u001b[0m in \u001b[0;36m_assert_all_finite\u001b[0;34m(X, allow_nan, msg_dtype)\u001b[0m\n\u001b[1;32m     94\u001b[0m                 not allow_nan and not np.isfinite(X).all()):\n\u001b[1;32m     95\u001b[0m             \u001b[0mtype_err\u001b[0m \u001b[0;34m=\u001b[0m \u001b[0;34m'infinity'\u001b[0m \u001b[0;32mif\u001b[0m \u001b[0mallow_nan\u001b[0m \u001b[0;32melse\u001b[0m \u001b[0;34m'NaN, infinity'\u001b[0m\u001b[0;34m\u001b[0m\u001b[0;34m\u001b[0m\u001b[0m\n\u001b[0;32m---> 96\u001b[0;31m             raise ValueError(\n\u001b[0m\u001b[1;32m     97\u001b[0m                     \u001b[0mmsg_err\u001b[0m\u001b[0;34m.\u001b[0m\u001b[0mformat\u001b[0m\u001b[0;34m\u001b[0m\u001b[0;34m\u001b[0m\u001b[0m\n\u001b[1;32m     98\u001b[0m                     (type_err,\n",
      "\u001b[0;31mValueError\u001b[0m: Input contains infinity or a value too large for dtype('float64')."
     ]
    }
   ],
   "source": [
    "scaler = StandardScaler()\n",
    "scaled_X_train = scaler.fit_transform(X_train)\n",
    "scaled_X_test = scaler.transform(X_test)"
   ]
  },
  {
   "cell_type": "code",
   "execution_count": 75,
   "id": "90d26245",
   "metadata": {},
   "outputs": [
    {
     "data": {
      "text/plain": [
       "(1664, 11)"
      ]
     },
     "execution_count": 75,
     "metadata": {},
     "output_type": "execute_result"
    }
   ],
   "source": [
    "X_test.shape"
   ]
  },
  {
   "cell_type": "code",
   "execution_count": 76,
   "id": "5dbac93f",
   "metadata": {},
   "outputs": [
    {
     "data": {
      "text/plain": [
       "(4989,)"
      ]
     },
     "execution_count": 76,
     "metadata": {},
     "output_type": "execute_result"
    }
   ],
   "source": [
    "y_train.shape"
   ]
  },
  {
   "cell_type": "code",
   "execution_count": 77,
   "id": "0efd229c",
   "metadata": {},
   "outputs": [
    {
     "data": {
      "text/plain": [
       "(1664,)"
      ]
     },
     "execution_count": 77,
     "metadata": {},
     "output_type": "execute_result"
    }
   ],
   "source": [
    "y_test.shape"
   ]
  },
  {
   "cell_type": "code",
   "execution_count": 78,
   "id": "d1254235",
   "metadata": {},
   "outputs": [
    {
     "name": "stderr",
     "output_type": "stream",
     "text": [
      "/opt/anaconda3/envs/learn-env/lib/python3.8/site-packages/sklearn/linear_model/_logistic.py:762: ConvergenceWarning: lbfgs failed to converge (status=1):\n",
      "STOP: TOTAL NO. of ITERATIONS REACHED LIMIT.\n",
      "\n",
      "Increase the number of iterations (max_iter) or scale the data as shown in:\n",
      "    https://scikit-learn.org/stable/modules/preprocessing.html\n",
      "Please also refer to the documentation for alternative solver options:\n",
      "    https://scikit-learn.org/stable/modules/linear_model.html#logistic-regression\n",
      "  n_iter_i = _check_optimize_result(\n"
     ]
    },
    {
     "data": {
      "text/plain": [
       "LogisticRegression()"
      ]
     },
     "execution_count": 78,
     "metadata": {},
     "output_type": "execute_result"
    }
   ],
   "source": [
    "log_model2 = LogisticRegression()\n",
    "\n",
    "log_model2.fit(X_train, y_train)"
   ]
  },
  {
   "cell_type": "code",
   "execution_count": 79,
   "id": "29b6601d",
   "metadata": {},
   "outputs": [
    {
     "ename": "ValueError",
     "evalue": "Input contains NaN, infinity or a value too large for dtype('float64').",
     "output_type": "error",
     "traceback": [
      "\u001b[0;31m---------------------------------------------------------------------------\u001b[0m",
      "\u001b[0;31mValueError\u001b[0m                                Traceback (most recent call last)",
      "\u001b[0;32m<ipython-input-79-33334d974bda>\u001b[0m in \u001b[0;36m<module>\u001b[0;34m\u001b[0m\n\u001b[1;32m      1\u001b[0m \u001b[0;31m# predictions\u001b[0m\u001b[0;34m\u001b[0m\u001b[0;34m\u001b[0m\u001b[0;34m\u001b[0m\u001b[0m\n\u001b[0;32m----> 2\u001b[0;31m \u001b[0my_preds2\u001b[0m \u001b[0;34m=\u001b[0m \u001b[0mlog_model2\u001b[0m\u001b[0;34m.\u001b[0m\u001b[0mpredict\u001b[0m\u001b[0;34m(\u001b[0m\u001b[0mX_test\u001b[0m\u001b[0;34m)\u001b[0m\u001b[0;34m\u001b[0m\u001b[0;34m\u001b[0m\u001b[0m\n\u001b[0m",
      "\u001b[0;32m/opt/anaconda3/envs/learn-env/lib/python3.8/site-packages/sklearn/linear_model/_base.py\u001b[0m in \u001b[0;36mpredict\u001b[0;34m(self, X)\u001b[0m\n\u001b[1;32m    305\u001b[0m             \u001b[0mPredicted\u001b[0m \u001b[0;32mclass\u001b[0m \u001b[0mlabel\u001b[0m \u001b[0mper\u001b[0m \u001b[0msample\u001b[0m\u001b[0;34m.\u001b[0m\u001b[0;34m\u001b[0m\u001b[0;34m\u001b[0m\u001b[0m\n\u001b[1;32m    306\u001b[0m         \"\"\"\n\u001b[0;32m--> 307\u001b[0;31m         \u001b[0mscores\u001b[0m \u001b[0;34m=\u001b[0m \u001b[0mself\u001b[0m\u001b[0;34m.\u001b[0m\u001b[0mdecision_function\u001b[0m\u001b[0;34m(\u001b[0m\u001b[0mX\u001b[0m\u001b[0;34m)\u001b[0m\u001b[0;34m\u001b[0m\u001b[0;34m\u001b[0m\u001b[0m\n\u001b[0m\u001b[1;32m    308\u001b[0m         \u001b[0;32mif\u001b[0m \u001b[0mlen\u001b[0m\u001b[0;34m(\u001b[0m\u001b[0mscores\u001b[0m\u001b[0;34m.\u001b[0m\u001b[0mshape\u001b[0m\u001b[0;34m)\u001b[0m \u001b[0;34m==\u001b[0m \u001b[0;36m1\u001b[0m\u001b[0;34m:\u001b[0m\u001b[0;34m\u001b[0m\u001b[0;34m\u001b[0m\u001b[0m\n\u001b[1;32m    309\u001b[0m             \u001b[0mindices\u001b[0m \u001b[0;34m=\u001b[0m \u001b[0;34m(\u001b[0m\u001b[0mscores\u001b[0m \u001b[0;34m>\u001b[0m \u001b[0;36m0\u001b[0m\u001b[0;34m)\u001b[0m\u001b[0;34m.\u001b[0m\u001b[0mastype\u001b[0m\u001b[0;34m(\u001b[0m\u001b[0mnp\u001b[0m\u001b[0;34m.\u001b[0m\u001b[0mint\u001b[0m\u001b[0;34m)\u001b[0m\u001b[0;34m\u001b[0m\u001b[0;34m\u001b[0m\u001b[0m\n",
      "\u001b[0;32m/opt/anaconda3/envs/learn-env/lib/python3.8/site-packages/sklearn/linear_model/_base.py\u001b[0m in \u001b[0;36mdecision_function\u001b[0;34m(self, X)\u001b[0m\n\u001b[1;32m    280\u001b[0m         \u001b[0mcheck_is_fitted\u001b[0m\u001b[0;34m(\u001b[0m\u001b[0mself\u001b[0m\u001b[0;34m)\u001b[0m\u001b[0;34m\u001b[0m\u001b[0;34m\u001b[0m\u001b[0m\n\u001b[1;32m    281\u001b[0m \u001b[0;34m\u001b[0m\u001b[0m\n\u001b[0;32m--> 282\u001b[0;31m         \u001b[0mX\u001b[0m \u001b[0;34m=\u001b[0m \u001b[0mcheck_array\u001b[0m\u001b[0;34m(\u001b[0m\u001b[0mX\u001b[0m\u001b[0;34m,\u001b[0m \u001b[0maccept_sparse\u001b[0m\u001b[0;34m=\u001b[0m\u001b[0;34m'csr'\u001b[0m\u001b[0;34m)\u001b[0m\u001b[0;34m\u001b[0m\u001b[0;34m\u001b[0m\u001b[0m\n\u001b[0m\u001b[1;32m    283\u001b[0m \u001b[0;34m\u001b[0m\u001b[0m\n\u001b[1;32m    284\u001b[0m         \u001b[0mn_features\u001b[0m \u001b[0;34m=\u001b[0m \u001b[0mself\u001b[0m\u001b[0;34m.\u001b[0m\u001b[0mcoef_\u001b[0m\u001b[0;34m.\u001b[0m\u001b[0mshape\u001b[0m\u001b[0;34m[\u001b[0m\u001b[0;36m1\u001b[0m\u001b[0;34m]\u001b[0m\u001b[0;34m\u001b[0m\u001b[0;34m\u001b[0m\u001b[0m\n",
      "\u001b[0;32m/opt/anaconda3/envs/learn-env/lib/python3.8/site-packages/sklearn/utils/validation.py\u001b[0m in \u001b[0;36minner_f\u001b[0;34m(*args, **kwargs)\u001b[0m\n\u001b[1;32m     70\u001b[0m                           FutureWarning)\n\u001b[1;32m     71\u001b[0m         \u001b[0mkwargs\u001b[0m\u001b[0;34m.\u001b[0m\u001b[0mupdate\u001b[0m\u001b[0;34m(\u001b[0m\u001b[0;34m{\u001b[0m\u001b[0mk\u001b[0m\u001b[0;34m:\u001b[0m \u001b[0marg\u001b[0m \u001b[0;32mfor\u001b[0m \u001b[0mk\u001b[0m\u001b[0;34m,\u001b[0m \u001b[0marg\u001b[0m \u001b[0;32min\u001b[0m \u001b[0mzip\u001b[0m\u001b[0;34m(\u001b[0m\u001b[0msig\u001b[0m\u001b[0;34m.\u001b[0m\u001b[0mparameters\u001b[0m\u001b[0;34m,\u001b[0m \u001b[0margs\u001b[0m\u001b[0;34m)\u001b[0m\u001b[0;34m}\u001b[0m\u001b[0;34m)\u001b[0m\u001b[0;34m\u001b[0m\u001b[0;34m\u001b[0m\u001b[0m\n\u001b[0;32m---> 72\u001b[0;31m         \u001b[0;32mreturn\u001b[0m \u001b[0mf\u001b[0m\u001b[0;34m(\u001b[0m\u001b[0;34m**\u001b[0m\u001b[0mkwargs\u001b[0m\u001b[0;34m)\u001b[0m\u001b[0;34m\u001b[0m\u001b[0;34m\u001b[0m\u001b[0m\n\u001b[0m\u001b[1;32m     73\u001b[0m     \u001b[0;32mreturn\u001b[0m \u001b[0minner_f\u001b[0m\u001b[0;34m\u001b[0m\u001b[0;34m\u001b[0m\u001b[0m\n\u001b[1;32m     74\u001b[0m \u001b[0;34m\u001b[0m\u001b[0m\n",
      "\u001b[0;32m/opt/anaconda3/envs/learn-env/lib/python3.8/site-packages/sklearn/utils/validation.py\u001b[0m in \u001b[0;36mcheck_array\u001b[0;34m(array, accept_sparse, accept_large_sparse, dtype, order, copy, force_all_finite, ensure_2d, allow_nd, ensure_min_samples, ensure_min_features, estimator)\u001b[0m\n\u001b[1;32m    642\u001b[0m \u001b[0;34m\u001b[0m\u001b[0m\n\u001b[1;32m    643\u001b[0m         \u001b[0;32mif\u001b[0m \u001b[0mforce_all_finite\u001b[0m\u001b[0;34m:\u001b[0m\u001b[0;34m\u001b[0m\u001b[0;34m\u001b[0m\u001b[0m\n\u001b[0;32m--> 644\u001b[0;31m             _assert_all_finite(array,\n\u001b[0m\u001b[1;32m    645\u001b[0m                                allow_nan=force_all_finite == 'allow-nan')\n\u001b[1;32m    646\u001b[0m \u001b[0;34m\u001b[0m\u001b[0m\n",
      "\u001b[0;32m/opt/anaconda3/envs/learn-env/lib/python3.8/site-packages/sklearn/utils/validation.py\u001b[0m in \u001b[0;36m_assert_all_finite\u001b[0;34m(X, allow_nan, msg_dtype)\u001b[0m\n\u001b[1;32m     94\u001b[0m                 not allow_nan and not np.isfinite(X).all()):\n\u001b[1;32m     95\u001b[0m             \u001b[0mtype_err\u001b[0m \u001b[0;34m=\u001b[0m \u001b[0;34m'infinity'\u001b[0m \u001b[0;32mif\u001b[0m \u001b[0mallow_nan\u001b[0m \u001b[0;32melse\u001b[0m \u001b[0;34m'NaN, infinity'\u001b[0m\u001b[0;34m\u001b[0m\u001b[0;34m\u001b[0m\u001b[0m\n\u001b[0;32m---> 96\u001b[0;31m             raise ValueError(\n\u001b[0m\u001b[1;32m     97\u001b[0m                     \u001b[0mmsg_err\u001b[0m\u001b[0;34m.\u001b[0m\u001b[0mformat\u001b[0m\u001b[0;34m\u001b[0m\u001b[0;34m\u001b[0m\u001b[0m\n\u001b[1;32m     98\u001b[0m                     (type_err,\n",
      "\u001b[0;31mValueError\u001b[0m: Input contains NaN, infinity or a value too large for dtype('float64')."
     ]
    }
   ],
   "source": [
    "# predictions\n",
    "y_preds2 = log_model2.predict(X_test)"
   ]
  },
  {
   "cell_type": "code",
   "execution_count": null,
   "id": "d2a15d26",
   "metadata": {},
   "outputs": [],
   "source": [
    "accuracy_score(y_test, y_preds2)"
   ]
  },
  {
   "cell_type": "markdown",
   "id": "6ca2d42f",
   "metadata": {},
   "source": [
    "## Note for 11/23\n",
    "- Morning work --> figure out the value error (too large for dtype)\n",
    "- Possible fix --> convert the column to a percentage by multiplying by 100\n",
    "- Another solution --> do not include the column in the model"
   ]
  },
  {
   "cell_type": "code",
   "execution_count": null,
   "id": "31202737",
   "metadata": {},
   "outputs": [],
   "source": []
  }
 ],
 "metadata": {
  "kernelspec": {
   "display_name": "Python (learn-env)",
   "language": "python",
   "name": "learn-env"
  },
  "language_info": {
   "codemirror_mode": {
    "name": "ipython",
    "version": 3
   },
   "file_extension": ".py",
   "mimetype": "text/x-python",
   "name": "python",
   "nbconvert_exporter": "python",
   "pygments_lexer": "ipython3",
   "version": "3.8.5"
  }
 },
 "nbformat": 4,
 "nbformat_minor": 5
}
