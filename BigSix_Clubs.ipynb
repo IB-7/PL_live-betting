{
 "cells": [
  {
   "cell_type": "markdown",
   "id": "a1a6ea1b",
   "metadata": {},
   "source": [
    "# This notebook is used to explore the data for the Premier League 'Big Six' clubs vs. the non-'Big Six' clubs"
   ]
  },
  {
   "cell_type": "markdown",
   "id": "cce925e1",
   "metadata": {},
   "source": [
    "Premier League 'Big Six':\n",
    "- Manchester United\n",
    "- Liverpool\n",
    "- Chelsea\n",
    "- Arsenal\n",
    "- Manchester City\n",
    "- Tottenham"
   ]
  },
  {
   "cell_type": "markdown",
   "id": "54cd4a5e",
   "metadata": {},
   "source": [
    "Reading in the dataframe and cleaning + feature engineering like the one in the original notebook."
   ]
  },
  {
   "cell_type": "code",
   "execution_count": 27,
   "id": "49c69166",
   "metadata": {},
   "outputs": [],
   "source": [
    "# imports\n",
    "import numpy as np\n",
    "import pandas as pd\n",
    "import seaborn as sns\n",
    "import matplotlib.pyplot as plt\n",
    "from sklearn.model_selection import train_test_split\n",
    "from sklearn.preprocessing import MinMaxScaler\n",
    "from sklearn.linear_model import LogisticRegression\n",
    "from sklearn.metrics import accuracy_score,confusion_matrix,classification_report,plot_confusion_matrix\n",
    "from sklearn.linear_model import LogisticRegressionCV\n",
    "from sklearn.model_selection import GridSearchCV\n",
    "from sklearn.ensemble import RandomForestClassifier\n",
    "from sklearn.svm import SVC\n",
    "from xgboost import XGBClassifier\n"
   ]
  },
  {
   "cell_type": "code",
   "execution_count": 28,
   "id": "73224207",
   "metadata": {},
   "outputs": [
    {
     "data": {
      "text/html": [
       "<div>\n",
       "<style scoped>\n",
       "    .dataframe tbody tr th:only-of-type {\n",
       "        vertical-align: middle;\n",
       "    }\n",
       "\n",
       "    .dataframe tbody tr th {\n",
       "        vertical-align: top;\n",
       "    }\n",
       "\n",
       "    .dataframe thead th {\n",
       "        text-align: right;\n",
       "    }\n",
       "</style>\n",
       "<table border=\"1\" class=\"dataframe\">\n",
       "  <thead>\n",
       "    <tr style=\"text-align: right;\">\n",
       "      <th></th>\n",
       "      <th>Season</th>\n",
       "      <th>DateTime</th>\n",
       "      <th>HomeTeam</th>\n",
       "      <th>AwayTeam</th>\n",
       "      <th>HomeML</th>\n",
       "      <th>DrawML</th>\n",
       "      <th>AwayML</th>\n",
       "      <th>ML_Favorite</th>\n",
       "      <th>Home_Favorite?</th>\n",
       "      <th>FTHG</th>\n",
       "      <th>...</th>\n",
       "      <th>HST</th>\n",
       "      <th>AST</th>\n",
       "      <th>HC</th>\n",
       "      <th>AC</th>\n",
       "      <th>HF</th>\n",
       "      <th>AF</th>\n",
       "      <th>HY</th>\n",
       "      <th>AY</th>\n",
       "      <th>HR</th>\n",
       "      <th>AR</th>\n",
       "    </tr>\n",
       "  </thead>\n",
       "  <tbody>\n",
       "    <tr>\n",
       "      <th>0</th>\n",
       "      <td>2003-04</td>\n",
       "      <td>2004-02-11T00:00:00Z</td>\n",
       "      <td>Birmingham</td>\n",
       "      <td>Everton</td>\n",
       "      <td>-105.0</td>\n",
       "      <td>215.0</td>\n",
       "      <td>229.0</td>\n",
       "      <td>Birmingham</td>\n",
       "      <td>1.0</td>\n",
       "      <td>3</td>\n",
       "      <td>...</td>\n",
       "      <td>11</td>\n",
       "      <td>3</td>\n",
       "      <td>8</td>\n",
       "      <td>11</td>\n",
       "      <td>10</td>\n",
       "      <td>14</td>\n",
       "      <td>1</td>\n",
       "      <td>0</td>\n",
       "      <td>0</td>\n",
       "      <td>0</td>\n",
       "    </tr>\n",
       "    <tr>\n",
       "      <th>1</th>\n",
       "      <td>2003-04</td>\n",
       "      <td>2004-02-11T00:00:00Z</td>\n",
       "      <td>Blackburn</td>\n",
       "      <td>Newcastle</td>\n",
       "      <td>150.0</td>\n",
       "      <td>210.0</td>\n",
       "      <td>138.0</td>\n",
       "      <td>Newcastle</td>\n",
       "      <td>0.0</td>\n",
       "      <td>1</td>\n",
       "      <td>...</td>\n",
       "      <td>7</td>\n",
       "      <td>7</td>\n",
       "      <td>8</td>\n",
       "      <td>6</td>\n",
       "      <td>12</td>\n",
       "      <td>10</td>\n",
       "      <td>0</td>\n",
       "      <td>0</td>\n",
       "      <td>0</td>\n",
       "      <td>0</td>\n",
       "    </tr>\n",
       "    <tr>\n",
       "      <th>2</th>\n",
       "      <td>2003-04</td>\n",
       "      <td>2004-02-11T00:00:00Z</td>\n",
       "      <td>Charlton</td>\n",
       "      <td>Tottenham</td>\n",
       "      <td>110.0</td>\n",
       "      <td>215.0</td>\n",
       "      <td>195.0</td>\n",
       "      <td>Charlton</td>\n",
       "      <td>1.0</td>\n",
       "      <td>2</td>\n",
       "      <td>...</td>\n",
       "      <td>14</td>\n",
       "      <td>10</td>\n",
       "      <td>10</td>\n",
       "      <td>4</td>\n",
       "      <td>13</td>\n",
       "      <td>14</td>\n",
       "      <td>3</td>\n",
       "      <td>0</td>\n",
       "      <td>0</td>\n",
       "      <td>0</td>\n",
       "    </tr>\n",
       "    <tr>\n",
       "      <th>3</th>\n",
       "      <td>2003-04</td>\n",
       "      <td>2004-02-11T00:00:00Z</td>\n",
       "      <td>Fulham</td>\n",
       "      <td>Aston Villa</td>\n",
       "      <td>102.0</td>\n",
       "      <td>215.0</td>\n",
       "      <td>210.0</td>\n",
       "      <td>Fulham</td>\n",
       "      <td>1.0</td>\n",
       "      <td>1</td>\n",
       "      <td>...</td>\n",
       "      <td>6</td>\n",
       "      <td>3</td>\n",
       "      <td>6</td>\n",
       "      <td>5</td>\n",
       "      <td>16</td>\n",
       "      <td>17</td>\n",
       "      <td>2</td>\n",
       "      <td>1</td>\n",
       "      <td>1</td>\n",
       "      <td>0</td>\n",
       "    </tr>\n",
       "    <tr>\n",
       "      <th>4</th>\n",
       "      <td>2003-04</td>\n",
       "      <td>2004-02-11T00:00:00Z</td>\n",
       "      <td>Liverpool</td>\n",
       "      <td>Man City</td>\n",
       "      <td>-172.0</td>\n",
       "      <td>240.0</td>\n",
       "      <td>383.0</td>\n",
       "      <td>Liverpool</td>\n",
       "      <td>1.0</td>\n",
       "      <td>2</td>\n",
       "      <td>...</td>\n",
       "      <td>7</td>\n",
       "      <td>3</td>\n",
       "      <td>6</td>\n",
       "      <td>3</td>\n",
       "      <td>7</td>\n",
       "      <td>8</td>\n",
       "      <td>0</td>\n",
       "      <td>0</td>\n",
       "      <td>0</td>\n",
       "      <td>0</td>\n",
       "    </tr>\n",
       "  </tbody>\n",
       "</table>\n",
       "<p>5 rows × 28 columns</p>\n",
       "</div>"
      ],
      "text/plain": [
       "    Season              DateTime    HomeTeam     AwayTeam  HomeML  DrawML  \\\n",
       "0  2003-04  2004-02-11T00:00:00Z  Birmingham      Everton  -105.0   215.0   \n",
       "1  2003-04  2004-02-11T00:00:00Z   Blackburn    Newcastle   150.0   210.0   \n",
       "2  2003-04  2004-02-11T00:00:00Z    Charlton    Tottenham   110.0   215.0   \n",
       "3  2003-04  2004-02-11T00:00:00Z      Fulham  Aston Villa   102.0   215.0   \n",
       "4  2003-04  2004-02-11T00:00:00Z   Liverpool     Man City  -172.0   240.0   \n",
       "\n",
       "   AwayML ML_Favorite  Home_Favorite?  FTHG  ...  HST AST  HC  AC  HF  AF  HY  \\\n",
       "0   229.0  Birmingham             1.0     3  ...   11   3   8  11  10  14   1   \n",
       "1   138.0   Newcastle             0.0     1  ...    7   7   8   6  12  10   0   \n",
       "2   195.0    Charlton             1.0     2  ...   14  10  10   4  13  14   3   \n",
       "3   210.0      Fulham             1.0     1  ...    6   3   6   5  16  17   2   \n",
       "4   383.0   Liverpool             1.0     2  ...    7   3   6   3   7   8   0   \n",
       "\n",
       "   AY  HR  AR  \n",
       "0   0   0   0  \n",
       "1   0   0   0  \n",
       "2   0   0   0  \n",
       "3   1   1   0  \n",
       "4   0   0   0  \n",
       "\n",
       "[5 rows x 28 columns]"
      ]
     },
     "execution_count": 28,
     "metadata": {},
     "output_type": "execute_result"
    }
   ],
   "source": [
    "# reading in the data\n",
    "df = pd.read_excel('/Users/schoollaptop/Documents/FLATIRON2021/CAPSTONE/results.xlsm')\n",
    "df.head()"
   ]
  },
  {
   "cell_type": "markdown",
   "id": "0529be0c",
   "metadata": {},
   "source": [
    "It looks like the Home Moneyline (HomeML), Draw Moneyline (DrawML), and Away Moneyline (AwayML) odds are only provided for about 400 games. It is probably safe to get rid of these columns altogether because the dataset provides the straight up favorite already in the column, 'ML_Favorite'."
   ]
  },
  {
   "cell_type": "code",
   "execution_count": 29,
   "id": "70a70577",
   "metadata": {},
   "outputs": [
    {
     "data": {
      "text/html": [
       "<div>\n",
       "<style scoped>\n",
       "    .dataframe tbody tr th:only-of-type {\n",
       "        vertical-align: middle;\n",
       "    }\n",
       "\n",
       "    .dataframe tbody tr th {\n",
       "        vertical-align: top;\n",
       "    }\n",
       "\n",
       "    .dataframe thead th {\n",
       "        text-align: right;\n",
       "    }\n",
       "</style>\n",
       "<table border=\"1\" class=\"dataframe\">\n",
       "  <thead>\n",
       "    <tr style=\"text-align: right;\">\n",
       "      <th></th>\n",
       "      <th>Season</th>\n",
       "      <th>DateTime</th>\n",
       "      <th>HomeTeam</th>\n",
       "      <th>AwayTeam</th>\n",
       "      <th>ML_Favorite</th>\n",
       "      <th>FTHG</th>\n",
       "      <th>FTAG</th>\n",
       "      <th>FTR</th>\n",
       "      <th>HTHG</th>\n",
       "      <th>HTAG</th>\n",
       "      <th>...</th>\n",
       "      <th>HST</th>\n",
       "      <th>AST</th>\n",
       "      <th>HC</th>\n",
       "      <th>AC</th>\n",
       "      <th>HF</th>\n",
       "      <th>AF</th>\n",
       "      <th>HY</th>\n",
       "      <th>AY</th>\n",
       "      <th>HR</th>\n",
       "      <th>AR</th>\n",
       "    </tr>\n",
       "  </thead>\n",
       "  <tbody>\n",
       "    <tr>\n",
       "      <th>0</th>\n",
       "      <td>2003-04</td>\n",
       "      <td>2004-02-11T00:00:00Z</td>\n",
       "      <td>Birmingham</td>\n",
       "      <td>Everton</td>\n",
       "      <td>Birmingham</td>\n",
       "      <td>3</td>\n",
       "      <td>0</td>\n",
       "      <td>H</td>\n",
       "      <td>2</td>\n",
       "      <td>0</td>\n",
       "      <td>...</td>\n",
       "      <td>11</td>\n",
       "      <td>3</td>\n",
       "      <td>8</td>\n",
       "      <td>11</td>\n",
       "      <td>10</td>\n",
       "      <td>14</td>\n",
       "      <td>1</td>\n",
       "      <td>0</td>\n",
       "      <td>0</td>\n",
       "      <td>0</td>\n",
       "    </tr>\n",
       "    <tr>\n",
       "      <th>1</th>\n",
       "      <td>2003-04</td>\n",
       "      <td>2004-02-11T00:00:00Z</td>\n",
       "      <td>Blackburn</td>\n",
       "      <td>Newcastle</td>\n",
       "      <td>Newcastle</td>\n",
       "      <td>1</td>\n",
       "      <td>1</td>\n",
       "      <td>D</td>\n",
       "      <td>0</td>\n",
       "      <td>0</td>\n",
       "      <td>...</td>\n",
       "      <td>7</td>\n",
       "      <td>7</td>\n",
       "      <td>8</td>\n",
       "      <td>6</td>\n",
       "      <td>12</td>\n",
       "      <td>10</td>\n",
       "      <td>0</td>\n",
       "      <td>0</td>\n",
       "      <td>0</td>\n",
       "      <td>0</td>\n",
       "    </tr>\n",
       "    <tr>\n",
       "      <th>2</th>\n",
       "      <td>2003-04</td>\n",
       "      <td>2004-02-11T00:00:00Z</td>\n",
       "      <td>Charlton</td>\n",
       "      <td>Tottenham</td>\n",
       "      <td>Charlton</td>\n",
       "      <td>2</td>\n",
       "      <td>4</td>\n",
       "      <td>A</td>\n",
       "      <td>0</td>\n",
       "      <td>2</td>\n",
       "      <td>...</td>\n",
       "      <td>14</td>\n",
       "      <td>10</td>\n",
       "      <td>10</td>\n",
       "      <td>4</td>\n",
       "      <td>13</td>\n",
       "      <td>14</td>\n",
       "      <td>3</td>\n",
       "      <td>0</td>\n",
       "      <td>0</td>\n",
       "      <td>0</td>\n",
       "    </tr>\n",
       "    <tr>\n",
       "      <th>3</th>\n",
       "      <td>2003-04</td>\n",
       "      <td>2004-02-11T00:00:00Z</td>\n",
       "      <td>Fulham</td>\n",
       "      <td>Aston Villa</td>\n",
       "      <td>Fulham</td>\n",
       "      <td>1</td>\n",
       "      <td>2</td>\n",
       "      <td>A</td>\n",
       "      <td>1</td>\n",
       "      <td>2</td>\n",
       "      <td>...</td>\n",
       "      <td>6</td>\n",
       "      <td>3</td>\n",
       "      <td>6</td>\n",
       "      <td>5</td>\n",
       "      <td>16</td>\n",
       "      <td>17</td>\n",
       "      <td>2</td>\n",
       "      <td>1</td>\n",
       "      <td>1</td>\n",
       "      <td>0</td>\n",
       "    </tr>\n",
       "    <tr>\n",
       "      <th>4</th>\n",
       "      <td>2003-04</td>\n",
       "      <td>2004-02-11T00:00:00Z</td>\n",
       "      <td>Liverpool</td>\n",
       "      <td>Man City</td>\n",
       "      <td>Liverpool</td>\n",
       "      <td>2</td>\n",
       "      <td>1</td>\n",
       "      <td>H</td>\n",
       "      <td>1</td>\n",
       "      <td>0</td>\n",
       "      <td>...</td>\n",
       "      <td>7</td>\n",
       "      <td>3</td>\n",
       "      <td>6</td>\n",
       "      <td>3</td>\n",
       "      <td>7</td>\n",
       "      <td>8</td>\n",
       "      <td>0</td>\n",
       "      <td>0</td>\n",
       "      <td>0</td>\n",
       "      <td>0</td>\n",
       "    </tr>\n",
       "  </tbody>\n",
       "</table>\n",
       "<p>5 rows × 24 columns</p>\n",
       "</div>"
      ],
      "text/plain": [
       "    Season              DateTime    HomeTeam     AwayTeam ML_Favorite  FTHG  \\\n",
       "0  2003-04  2004-02-11T00:00:00Z  Birmingham      Everton  Birmingham     3   \n",
       "1  2003-04  2004-02-11T00:00:00Z   Blackburn    Newcastle   Newcastle     1   \n",
       "2  2003-04  2004-02-11T00:00:00Z    Charlton    Tottenham    Charlton     2   \n",
       "3  2003-04  2004-02-11T00:00:00Z      Fulham  Aston Villa      Fulham     1   \n",
       "4  2003-04  2004-02-11T00:00:00Z   Liverpool     Man City   Liverpool     2   \n",
       "\n",
       "   FTAG FTR  HTHG  HTAG  ... HST AST  HC  AC  HF  AF  HY  AY  HR  AR  \n",
       "0     0   H     2     0  ...  11   3   8  11  10  14   1   0   0   0  \n",
       "1     1   D     0     0  ...   7   7   8   6  12  10   0   0   0   0  \n",
       "2     4   A     0     2  ...  14  10  10   4  13  14   3   0   0   0  \n",
       "3     2   A     1     2  ...   6   3   6   5  16  17   2   1   1   0  \n",
       "4     1   H     1     0  ...   7   3   6   3   7   8   0   0   0   0  \n",
       "\n",
       "[5 rows x 24 columns]"
      ]
     },
     "execution_count": 29,
     "metadata": {},
     "output_type": "execute_result"
    }
   ],
   "source": [
    "df = df.drop(['HomeML','DrawML','AwayML','Home_Favorite?'], axis=1)\n",
    "df.head()"
   ]
  },
  {
   "cell_type": "code",
   "execution_count": 30,
   "id": "010904f0",
   "metadata": {},
   "outputs": [],
   "source": [
    "df.rename(columns={'FTHG':'FullTime_HomeGoals',\n",
    "                   'FTAG':'FullTime_AwayGoals',\n",
    "                   'FTR':'FullTime_Result',\n",
    "                   'HTHG':'HalfTime_HomeGoals',\n",
    "                   'HTAG':'HalfTime_AwayGoals',\n",
    "                   'HTR':'HalfTime_Result',\n",
    "                   'HS':'Home_Shots',\n",
    "                   'AS':'Away_Shots',\n",
    "                   'HST':'Home_ShotsOnTarget',\n",
    "                   'AST':'Away_ShotsOnTarget',\n",
    "                   'HC':'Home_Corners',\n",
    "                   'AC':'Away_Corners',\n",
    "                   'HF':'Home_Fouls',\n",
    "                   'AF':'Away_Fouls',\n",
    "                   'HY':'Home_YellowCs',\n",
    "                   'AY':'Away_YellowCs',\n",
    "                   'HR':'Home_RedCs',\n",
    "                   'AR':'Away_RedCs'}, inplace=True)"
   ]
  },
  {
   "cell_type": "code",
   "execution_count": 31,
   "id": "0e3ea420",
   "metadata": {},
   "outputs": [],
   "source": [
    "# map a dictionary to convert strings to integers\n",
    "# Full Time Result\n",
    "df['FullTime_Result'] = df['FullTime_Result'].map({'H': 2,\n",
    "                                                   'D': 1,\n",
    "                                                   'A': 0})\n",
    "\n",
    "# map a dictionary to convert strings to integers\n",
    "df['HalfTime_Result'] = df['HalfTime_Result'].map({'H': 2,\n",
    "                                                   'D': 1,\n",
    "                                                   'A': 0})"
   ]
  },
  {
   "cell_type": "markdown",
   "id": "fd9e8a72",
   "metadata": {},
   "source": [
    "Feature Engineering"
   ]
  },
  {
   "cell_type": "code",
   "execution_count": 32,
   "id": "9103a2c3",
   "metadata": {},
   "outputs": [],
   "source": [
    "df['HomeTeam_Favorite'] = (df['HomeTeam'] == df['ML_Favorite'])"
   ]
  },
  {
   "cell_type": "code",
   "execution_count": 33,
   "id": "27216174",
   "metadata": {},
   "outputs": [],
   "source": [
    "# map a dictionary to replace True and False with 1 and 0, respectively\n",
    "df['HomeTeam_Favorite'] = df['HomeTeam_Favorite'].map({True: 1,\n",
    "                                                 False: 0})"
   ]
  },
  {
   "cell_type": "code",
   "execution_count": 34,
   "id": "af42a714",
   "metadata": {},
   "outputs": [],
   "source": [
    "# Home Conversion Rate\n",
    "df['Home_ConversionRate'] = round((df['FullTime_HomeGoals'] / df['Home_Shots']) * 100, 0)\n",
    "\n",
    "# Away Conversion Rate\n",
    "df['Away_ConversionRate'] = round((df['FullTime_AwayGoals'] / df['Away_Shots']) * 100, 0)"
   ]
  },
  {
   "cell_type": "code",
   "execution_count": 35,
   "id": "843a975e",
   "metadata": {},
   "outputs": [],
   "source": [
    "# Home Shots on Target (SoT percentage)\n",
    "df['Home_SoT%'] = round((df['Home_ShotsOnTarget'] / df['Home_Shots']), 2)\n",
    "\n",
    "# Away Shots on Target (SoT percentage)\n",
    "df['Away_SoT%'] = round((df['Away_ShotsOnTarget'] / df['Away_Shots']), 2)"
   ]
  },
  {
   "cell_type": "code",
   "execution_count": 36,
   "id": "08d10d09",
   "metadata": {},
   "outputs": [],
   "source": [
    "# creating a Pandas series by using a for loop that determines whether the home team or the away team was the\n",
    "# betting favorite in the match. I decided to use integers because strings are more difficult to work with.\n",
    "# I am appending the integer 2 because that is what is used to identify the home team in 'FullTime_Result'\n",
    "# After creating this 'favorites' column, I will identify whether or not the favored team actually won\n",
    "\n",
    "favorites = []\n",
    "\n",
    "for match in range(0,6657):\n",
    "    # if the home team is favored, append a 2\n",
    "    if df['HomeTeam'][match] == df['ML_Favorite'][match]:\n",
    "        favorites.append(2)\n",
    "    # if the away team is favored, append a 0\n",
    "    else:\n",
    "        favorites.append(0)"
   ]
  },
  {
   "cell_type": "code",
   "execution_count": 37,
   "id": "b8239a3a",
   "metadata": {},
   "outputs": [],
   "source": [
    "favorites = pd.Series(favorites)\n",
    "df['Favorites'] = favorites"
   ]
  },
  {
   "cell_type": "code",
   "execution_count": 38,
   "id": "0b96e3f4",
   "metadata": {},
   "outputs": [],
   "source": [
    "# using np.where to fill in 1 for when a favored team wins and 0 for when a favored team loses OR draws\n",
    "df['Favorite_Winner'] = np.where((df['FullTime_Result'] == df['Favorites']), 1, 0)"
   ]
  },
  {
   "cell_type": "code",
   "execution_count": 39,
   "id": "323f620c",
   "metadata": {},
   "outputs": [],
   "source": [
    "df.drop(['DateTime','Referee'], axis=1, inplace=True)"
   ]
  },
  {
   "cell_type": "markdown",
   "id": "887ce0f8",
   "metadata": {},
   "source": [
    "# DO SUPER BASIC MODEL WITH ALL FEATURES HERE"
   ]
  },
  {
   "cell_type": "code",
   "execution_count": 40,
   "id": "05eff74b",
   "metadata": {},
   "outputs": [
    {
     "data": {
      "text/plain": [
       "Index(['Season', 'HomeTeam', 'AwayTeam', 'ML_Favorite', 'FullTime_HomeGoals',\n",
       "       'FullTime_AwayGoals', 'FullTime_Result', 'HalfTime_HomeGoals',\n",
       "       'HalfTime_AwayGoals', 'HalfTime_Result', 'Home_Shots', 'Away_Shots',\n",
       "       'Home_ShotsOnTarget', 'Away_ShotsOnTarget', 'Home_Corners',\n",
       "       'Away_Corners', 'Home_Fouls', 'Away_Fouls', 'Home_YellowCs',\n",
       "       'Away_YellowCs', 'Home_RedCs', 'Away_RedCs', 'HomeTeam_Favorite',\n",
       "       'Home_ConversionRate', 'Away_ConversionRate', 'Home_SoT%', 'Away_SoT%',\n",
       "       'Favorites', 'Favorite_Winner'],\n",
       "      dtype='object')"
      ]
     },
     "execution_count": 40,
     "metadata": {},
     "output_type": "execute_result"
    }
   ],
   "source": [
    "df.columns"
   ]
  },
  {
   "cell_type": "code",
   "execution_count": 41,
   "id": "84d8fe16",
   "metadata": {},
   "outputs": [
    {
     "data": {
      "text/plain": [
       "FullTime_Result        1.000000\n",
       "FullTime_HomeGoals     0.627083\n",
       "HalfTime_Result        0.602206\n",
       "Home_ConversionRate    0.516405\n",
       "HalfTime_HomeGoals     0.434142\n",
       "Favorites              0.341739\n",
       "HomeTeam_Favorite      0.341739\n",
       "Favorite_Winner        0.327223\n",
       "Home_ShotsOnTarget     0.309438\n",
       "Home_SoT%              0.232717\n",
       "Home_Shots             0.214076\n",
       "Away_RedCs             0.090447\n",
       "Home_Corners           0.053508\n",
       "Away_Fouls             0.031430\n",
       "Away_YellowCs          0.022138\n",
       "Home_Fouls            -0.035652\n",
       "Away_Corners          -0.042672\n",
       "Home_YellowCs         -0.116995\n",
       "Home_RedCs            -0.131621\n",
       "Away_SoT%             -0.183807\n",
       "Away_Shots            -0.252295\n",
       "Away_ShotsOnTarget    -0.308754\n",
       "HalfTime_AwayGoals    -0.424904\n",
       "Away_ConversionRate   -0.497415\n",
       "FullTime_AwayGoals    -0.635393\n",
       "Name: FullTime_Result, dtype: float64"
      ]
     },
     "execution_count": 41,
     "metadata": {},
     "output_type": "execute_result"
    }
   ],
   "source": [
    "df.corr()['FullTime_Result'].sort_values(ascending=False)"
   ]
  },
  {
   "cell_type": "code",
   "execution_count": 42,
   "id": "ca562a35",
   "metadata": {},
   "outputs": [
    {
     "data": {
      "text/html": [
       "<div>\n",
       "<style scoped>\n",
       "    .dataframe tbody tr th:only-of-type {\n",
       "        vertical-align: middle;\n",
       "    }\n",
       "\n",
       "    .dataframe tbody tr th {\n",
       "        vertical-align: top;\n",
       "    }\n",
       "\n",
       "    .dataframe thead th {\n",
       "        text-align: right;\n",
       "    }\n",
       "</style>\n",
       "<table border=\"1\" class=\"dataframe\">\n",
       "  <thead>\n",
       "    <tr style=\"text-align: right;\">\n",
       "      <th></th>\n",
       "      <th>FullTime_Result</th>\n",
       "      <th>HalfTime_HomeGoals</th>\n",
       "      <th>HalfTime_AwayGoals</th>\n",
       "      <th>HalfTime_Result</th>\n",
       "      <th>Home_Shots</th>\n",
       "      <th>Away_Shots</th>\n",
       "      <th>Home_ShotsOnTarget</th>\n",
       "      <th>Away_ShotsOnTarget</th>\n",
       "      <th>Home_Corners</th>\n",
       "      <th>Away_Corners</th>\n",
       "      <th>...</th>\n",
       "      <th>Away_Fouls</th>\n",
       "      <th>Home_YellowCs</th>\n",
       "      <th>Away_YellowCs</th>\n",
       "      <th>Home_RedCs</th>\n",
       "      <th>Away_RedCs</th>\n",
       "      <th>HomeTeam_Favorite</th>\n",
       "      <th>Home_ConversionRate</th>\n",
       "      <th>Away_ConversionRate</th>\n",
       "      <th>Home_SoT%</th>\n",
       "      <th>Away_SoT%</th>\n",
       "    </tr>\n",
       "  </thead>\n",
       "  <tbody>\n",
       "    <tr>\n",
       "      <th>0</th>\n",
       "      <td>2</td>\n",
       "      <td>2</td>\n",
       "      <td>0</td>\n",
       "      <td>2</td>\n",
       "      <td>15</td>\n",
       "      <td>5</td>\n",
       "      <td>11</td>\n",
       "      <td>3</td>\n",
       "      <td>8</td>\n",
       "      <td>11</td>\n",
       "      <td>...</td>\n",
       "      <td>14</td>\n",
       "      <td>1</td>\n",
       "      <td>0</td>\n",
       "      <td>0</td>\n",
       "      <td>0</td>\n",
       "      <td>1</td>\n",
       "      <td>20.0</td>\n",
       "      <td>0.0</td>\n",
       "      <td>0.73</td>\n",
       "      <td>0.60</td>\n",
       "    </tr>\n",
       "    <tr>\n",
       "      <th>1</th>\n",
       "      <td>1</td>\n",
       "      <td>0</td>\n",
       "      <td>0</td>\n",
       "      <td>1</td>\n",
       "      <td>17</td>\n",
       "      <td>14</td>\n",
       "      <td>7</td>\n",
       "      <td>7</td>\n",
       "      <td>8</td>\n",
       "      <td>6</td>\n",
       "      <td>...</td>\n",
       "      <td>10</td>\n",
       "      <td>0</td>\n",
       "      <td>0</td>\n",
       "      <td>0</td>\n",
       "      <td>0</td>\n",
       "      <td>0</td>\n",
       "      <td>6.0</td>\n",
       "      <td>7.0</td>\n",
       "      <td>0.41</td>\n",
       "      <td>0.50</td>\n",
       "    </tr>\n",
       "    <tr>\n",
       "      <th>2</th>\n",
       "      <td>0</td>\n",
       "      <td>0</td>\n",
       "      <td>2</td>\n",
       "      <td>0</td>\n",
       "      <td>18</td>\n",
       "      <td>12</td>\n",
       "      <td>14</td>\n",
       "      <td>10</td>\n",
       "      <td>10</td>\n",
       "      <td>4</td>\n",
       "      <td>...</td>\n",
       "      <td>14</td>\n",
       "      <td>3</td>\n",
       "      <td>0</td>\n",
       "      <td>0</td>\n",
       "      <td>0</td>\n",
       "      <td>1</td>\n",
       "      <td>11.0</td>\n",
       "      <td>33.0</td>\n",
       "      <td>0.78</td>\n",
       "      <td>0.83</td>\n",
       "    </tr>\n",
       "    <tr>\n",
       "      <th>3</th>\n",
       "      <td>0</td>\n",
       "      <td>1</td>\n",
       "      <td>2</td>\n",
       "      <td>0</td>\n",
       "      <td>13</td>\n",
       "      <td>10</td>\n",
       "      <td>6</td>\n",
       "      <td>3</td>\n",
       "      <td>6</td>\n",
       "      <td>5</td>\n",
       "      <td>...</td>\n",
       "      <td>17</td>\n",
       "      <td>2</td>\n",
       "      <td>1</td>\n",
       "      <td>1</td>\n",
       "      <td>0</td>\n",
       "      <td>1</td>\n",
       "      <td>8.0</td>\n",
       "      <td>20.0</td>\n",
       "      <td>0.46</td>\n",
       "      <td>0.30</td>\n",
       "    </tr>\n",
       "    <tr>\n",
       "      <th>4</th>\n",
       "      <td>2</td>\n",
       "      <td>1</td>\n",
       "      <td>0</td>\n",
       "      <td>2</td>\n",
       "      <td>12</td>\n",
       "      <td>6</td>\n",
       "      <td>7</td>\n",
       "      <td>3</td>\n",
       "      <td>6</td>\n",
       "      <td>3</td>\n",
       "      <td>...</td>\n",
       "      <td>8</td>\n",
       "      <td>0</td>\n",
       "      <td>0</td>\n",
       "      <td>0</td>\n",
       "      <td>0</td>\n",
       "      <td>1</td>\n",
       "      <td>17.0</td>\n",
       "      <td>17.0</td>\n",
       "      <td>0.58</td>\n",
       "      <td>0.50</td>\n",
       "    </tr>\n",
       "  </tbody>\n",
       "</table>\n",
       "<p>5 rows × 21 columns</p>\n",
       "</div>"
      ],
      "text/plain": [
       "   FullTime_Result  HalfTime_HomeGoals  HalfTime_AwayGoals  HalfTime_Result  \\\n",
       "0                2                   2                   0                2   \n",
       "1                1                   0                   0                1   \n",
       "2                0                   0                   2                0   \n",
       "3                0                   1                   2                0   \n",
       "4                2                   1                   0                2   \n",
       "\n",
       "   Home_Shots  Away_Shots  Home_ShotsOnTarget  Away_ShotsOnTarget  \\\n",
       "0          15           5                  11                   3   \n",
       "1          17          14                   7                   7   \n",
       "2          18          12                  14                  10   \n",
       "3          13          10                   6                   3   \n",
       "4          12           6                   7                   3   \n",
       "\n",
       "   Home_Corners  Away_Corners  ...  Away_Fouls  Home_YellowCs  Away_YellowCs  \\\n",
       "0             8            11  ...          14              1              0   \n",
       "1             8             6  ...          10              0              0   \n",
       "2            10             4  ...          14              3              0   \n",
       "3             6             5  ...          17              2              1   \n",
       "4             6             3  ...           8              0              0   \n",
       "\n",
       "   Home_RedCs  Away_RedCs  HomeTeam_Favorite  Home_ConversionRate  \\\n",
       "0           0           0                  1                 20.0   \n",
       "1           0           0                  0                  6.0   \n",
       "2           0           0                  1                 11.0   \n",
       "3           1           0                  1                  8.0   \n",
       "4           0           0                  1                 17.0   \n",
       "\n",
       "   Away_ConversionRate  Home_SoT%  Away_SoT%  \n",
       "0                  0.0       0.73       0.60  \n",
       "1                  7.0       0.41       0.50  \n",
       "2                 33.0       0.78       0.83  \n",
       "3                 20.0       0.46       0.30  \n",
       "4                 17.0       0.58       0.50  \n",
       "\n",
       "[5 rows x 21 columns]"
      ]
     },
     "execution_count": 42,
     "metadata": {},
     "output_type": "execute_result"
    }
   ],
   "source": [
    "df = df.drop(['FullTime_HomeGoals',\n",
    "              'Favorites',\n",
    "              'Favorite_Winner',\n",
    "              'FullTime_AwayGoals',\n",
    "              'HomeTeam',\n",
    "              'AwayTeam',\n",
    "              'ML_Favorite',\n",
    "              'Season'], axis=1)\n",
    "df.head()"
   ]
  },
  {
   "cell_type": "code",
   "execution_count": 43,
   "id": "7ae7bc80",
   "metadata": {},
   "outputs": [],
   "source": [
    "df.dropna(inplace=True)"
   ]
  },
  {
   "cell_type": "code",
   "execution_count": 44,
   "id": "bb17889f",
   "metadata": {},
   "outputs": [],
   "source": [
    "X = df.drop('FullTime_Result', axis=1)\n",
    "y = df['FullTime_Result']"
   ]
  },
  {
   "cell_type": "code",
   "execution_count": 45,
   "id": "f549484f",
   "metadata": {},
   "outputs": [],
   "source": [
    "# split into training and testing data\n",
    "X_train, X_test, y_train, y_test = train_test_split(X, y, test_size=0.25, random_state=42)"
   ]
  },
  {
   "cell_type": "markdown",
   "id": "71decccf",
   "metadata": {},
   "source": [
    "Baseline Logistic Regression"
   ]
  },
  {
   "cell_type": "code",
   "execution_count": 48,
   "id": "a89579ab",
   "metadata": {},
   "outputs": [
    {
     "data": {
      "text/html": [
       "<div>\n",
       "<style scoped>\n",
       "    .dataframe tbody tr th:only-of-type {\n",
       "        vertical-align: middle;\n",
       "    }\n",
       "\n",
       "    .dataframe tbody tr th {\n",
       "        vertical-align: top;\n",
       "    }\n",
       "\n",
       "    .dataframe thead th {\n",
       "        text-align: right;\n",
       "    }\n",
       "</style>\n",
       "<table border=\"1\" class=\"dataframe\">\n",
       "  <thead>\n",
       "    <tr style=\"text-align: right;\">\n",
       "      <th></th>\n",
       "      <th>HalfTime_HomeGoals</th>\n",
       "      <th>HalfTime_AwayGoals</th>\n",
       "      <th>HalfTime_Result</th>\n",
       "      <th>Home_Shots</th>\n",
       "      <th>Away_Shots</th>\n",
       "      <th>Home_ShotsOnTarget</th>\n",
       "      <th>Away_ShotsOnTarget</th>\n",
       "      <th>Home_Corners</th>\n",
       "      <th>Away_Corners</th>\n",
       "      <th>Home_Fouls</th>\n",
       "      <th>Away_Fouls</th>\n",
       "      <th>Home_YellowCs</th>\n",
       "      <th>Away_YellowCs</th>\n",
       "      <th>Home_RedCs</th>\n",
       "      <th>Away_RedCs</th>\n",
       "      <th>HomeTeam_Favorite</th>\n",
       "      <th>Home_ConversionRate</th>\n",
       "      <th>Away_ConversionRate</th>\n",
       "      <th>Home_SoT%</th>\n",
       "      <th>Away_SoT%</th>\n",
       "    </tr>\n",
       "  </thead>\n",
       "  <tbody>\n",
       "    <tr>\n",
       "      <th>5711</th>\n",
       "      <td>0</td>\n",
       "      <td>0</td>\n",
       "      <td>1</td>\n",
       "      <td>10</td>\n",
       "      <td>17</td>\n",
       "      <td>4</td>\n",
       "      <td>6</td>\n",
       "      <td>7</td>\n",
       "      <td>6</td>\n",
       "      <td>9</td>\n",
       "      <td>12</td>\n",
       "      <td>1</td>\n",
       "      <td>3</td>\n",
       "      <td>0</td>\n",
       "      <td>0</td>\n",
       "      <td>0</td>\n",
       "      <td>20.0</td>\n",
       "      <td>6.0</td>\n",
       "      <td>0.40</td>\n",
       "      <td>0.35</td>\n",
       "    </tr>\n",
       "    <tr>\n",
       "      <th>1582</th>\n",
       "      <td>1</td>\n",
       "      <td>0</td>\n",
       "      <td>2</td>\n",
       "      <td>15</td>\n",
       "      <td>9</td>\n",
       "      <td>9</td>\n",
       "      <td>5</td>\n",
       "      <td>6</td>\n",
       "      <td>4</td>\n",
       "      <td>9</td>\n",
       "      <td>5</td>\n",
       "      <td>0</td>\n",
       "      <td>1</td>\n",
       "      <td>0</td>\n",
       "      <td>0</td>\n",
       "      <td>1</td>\n",
       "      <td>13.0</td>\n",
       "      <td>0.0</td>\n",
       "      <td>0.60</td>\n",
       "      <td>0.56</td>\n",
       "    </tr>\n",
       "    <tr>\n",
       "      <th>3421</th>\n",
       "      <td>0</td>\n",
       "      <td>0</td>\n",
       "      <td>1</td>\n",
       "      <td>15</td>\n",
       "      <td>14</td>\n",
       "      <td>7</td>\n",
       "      <td>9</td>\n",
       "      <td>10</td>\n",
       "      <td>8</td>\n",
       "      <td>6</td>\n",
       "      <td>20</td>\n",
       "      <td>2</td>\n",
       "      <td>5</td>\n",
       "      <td>0</td>\n",
       "      <td>0</td>\n",
       "      <td>1</td>\n",
       "      <td>0.0</td>\n",
       "      <td>0.0</td>\n",
       "      <td>0.47</td>\n",
       "      <td>0.64</td>\n",
       "    </tr>\n",
       "    <tr>\n",
       "      <th>388</th>\n",
       "      <td>0</td>\n",
       "      <td>3</td>\n",
       "      <td>0</td>\n",
       "      <td>5</td>\n",
       "      <td>15</td>\n",
       "      <td>1</td>\n",
       "      <td>6</td>\n",
       "      <td>5</td>\n",
       "      <td>2</td>\n",
       "      <td>13</td>\n",
       "      <td>11</td>\n",
       "      <td>2</td>\n",
       "      <td>0</td>\n",
       "      <td>0</td>\n",
       "      <td>0</td>\n",
       "      <td>0</td>\n",
       "      <td>20.0</td>\n",
       "      <td>20.0</td>\n",
       "      <td>0.20</td>\n",
       "      <td>0.40</td>\n",
       "    </tr>\n",
       "    <tr>\n",
       "      <th>3508</th>\n",
       "      <td>0</td>\n",
       "      <td>0</td>\n",
       "      <td>1</td>\n",
       "      <td>14</td>\n",
       "      <td>9</td>\n",
       "      <td>7</td>\n",
       "      <td>5</td>\n",
       "      <td>7</td>\n",
       "      <td>2</td>\n",
       "      <td>11</td>\n",
       "      <td>13</td>\n",
       "      <td>0</td>\n",
       "      <td>0</td>\n",
       "      <td>0</td>\n",
       "      <td>0</td>\n",
       "      <td>1</td>\n",
       "      <td>0.0</td>\n",
       "      <td>0.0</td>\n",
       "      <td>0.50</td>\n",
       "      <td>0.56</td>\n",
       "    </tr>\n",
       "    <tr>\n",
       "      <th>...</th>\n",
       "      <td>...</td>\n",
       "      <td>...</td>\n",
       "      <td>...</td>\n",
       "      <td>...</td>\n",
       "      <td>...</td>\n",
       "      <td>...</td>\n",
       "      <td>...</td>\n",
       "      <td>...</td>\n",
       "      <td>...</td>\n",
       "      <td>...</td>\n",
       "      <td>...</td>\n",
       "      <td>...</td>\n",
       "      <td>...</td>\n",
       "      <td>...</td>\n",
       "      <td>...</td>\n",
       "      <td>...</td>\n",
       "      <td>...</td>\n",
       "      <td>...</td>\n",
       "      <td>...</td>\n",
       "      <td>...</td>\n",
       "    </tr>\n",
       "    <tr>\n",
       "      <th>3775</th>\n",
       "      <td>0</td>\n",
       "      <td>1</td>\n",
       "      <td>0</td>\n",
       "      <td>13</td>\n",
       "      <td>11</td>\n",
       "      <td>3</td>\n",
       "      <td>5</td>\n",
       "      <td>8</td>\n",
       "      <td>2</td>\n",
       "      <td>6</td>\n",
       "      <td>9</td>\n",
       "      <td>2</td>\n",
       "      <td>1</td>\n",
       "      <td>0</td>\n",
       "      <td>0</td>\n",
       "      <td>0</td>\n",
       "      <td>8.0</td>\n",
       "      <td>27.0</td>\n",
       "      <td>0.23</td>\n",
       "      <td>0.45</td>\n",
       "    </tr>\n",
       "    <tr>\n",
       "      <th>5194</th>\n",
       "      <td>0</td>\n",
       "      <td>0</td>\n",
       "      <td>1</td>\n",
       "      <td>8</td>\n",
       "      <td>17</td>\n",
       "      <td>2</td>\n",
       "      <td>2</td>\n",
       "      <td>5</td>\n",
       "      <td>5</td>\n",
       "      <td>8</td>\n",
       "      <td>14</td>\n",
       "      <td>2</td>\n",
       "      <td>0</td>\n",
       "      <td>0</td>\n",
       "      <td>0</td>\n",
       "      <td>0</td>\n",
       "      <td>0.0</td>\n",
       "      <td>6.0</td>\n",
       "      <td>0.25</td>\n",
       "      <td>0.12</td>\n",
       "    </tr>\n",
       "    <tr>\n",
       "      <th>5229</th>\n",
       "      <td>0</td>\n",
       "      <td>2</td>\n",
       "      <td>0</td>\n",
       "      <td>7</td>\n",
       "      <td>12</td>\n",
       "      <td>2</td>\n",
       "      <td>5</td>\n",
       "      <td>1</td>\n",
       "      <td>3</td>\n",
       "      <td>11</td>\n",
       "      <td>4</td>\n",
       "      <td>0</td>\n",
       "      <td>0</td>\n",
       "      <td>0</td>\n",
       "      <td>0</td>\n",
       "      <td>0</td>\n",
       "      <td>14.0</td>\n",
       "      <td>25.0</td>\n",
       "      <td>0.29</td>\n",
       "      <td>0.42</td>\n",
       "    </tr>\n",
       "    <tr>\n",
       "      <th>5394</th>\n",
       "      <td>1</td>\n",
       "      <td>0</td>\n",
       "      <td>2</td>\n",
       "      <td>20</td>\n",
       "      <td>6</td>\n",
       "      <td>7</td>\n",
       "      <td>1</td>\n",
       "      <td>7</td>\n",
       "      <td>5</td>\n",
       "      <td>9</td>\n",
       "      <td>9</td>\n",
       "      <td>1</td>\n",
       "      <td>1</td>\n",
       "      <td>0</td>\n",
       "      <td>0</td>\n",
       "      <td>1</td>\n",
       "      <td>15.0</td>\n",
       "      <td>0.0</td>\n",
       "      <td>0.35</td>\n",
       "      <td>0.17</td>\n",
       "    </tr>\n",
       "    <tr>\n",
       "      <th>862</th>\n",
       "      <td>0</td>\n",
       "      <td>0</td>\n",
       "      <td>1</td>\n",
       "      <td>9</td>\n",
       "      <td>8</td>\n",
       "      <td>1</td>\n",
       "      <td>3</td>\n",
       "      <td>3</td>\n",
       "      <td>6</td>\n",
       "      <td>13</td>\n",
       "      <td>16</td>\n",
       "      <td>0</td>\n",
       "      <td>0</td>\n",
       "      <td>0</td>\n",
       "      <td>0</td>\n",
       "      <td>1</td>\n",
       "      <td>0.0</td>\n",
       "      <td>0.0</td>\n",
       "      <td>0.11</td>\n",
       "      <td>0.38</td>\n",
       "    </tr>\n",
       "  </tbody>\n",
       "</table>\n",
       "<p>4989 rows × 20 columns</p>\n",
       "</div>"
      ],
      "text/plain": [
       "      HalfTime_HomeGoals  HalfTime_AwayGoals  HalfTime_Result  Home_Shots  \\\n",
       "5711                   0                   0                1          10   \n",
       "1582                   1                   0                2          15   \n",
       "3421                   0                   0                1          15   \n",
       "388                    0                   3                0           5   \n",
       "3508                   0                   0                1          14   \n",
       "...                  ...                 ...              ...         ...   \n",
       "3775                   0                   1                0          13   \n",
       "5194                   0                   0                1           8   \n",
       "5229                   0                   2                0           7   \n",
       "5394                   1                   0                2          20   \n",
       "862                    0                   0                1           9   \n",
       "\n",
       "      Away_Shots  Home_ShotsOnTarget  Away_ShotsOnTarget  Home_Corners  \\\n",
       "5711          17                   4                   6             7   \n",
       "1582           9                   9                   5             6   \n",
       "3421          14                   7                   9            10   \n",
       "388           15                   1                   6             5   \n",
       "3508           9                   7                   5             7   \n",
       "...          ...                 ...                 ...           ...   \n",
       "3775          11                   3                   5             8   \n",
       "5194          17                   2                   2             5   \n",
       "5229          12                   2                   5             1   \n",
       "5394           6                   7                   1             7   \n",
       "862            8                   1                   3             3   \n",
       "\n",
       "      Away_Corners  Home_Fouls  Away_Fouls  Home_YellowCs  Away_YellowCs  \\\n",
       "5711             6           9          12              1              3   \n",
       "1582             4           9           5              0              1   \n",
       "3421             8           6          20              2              5   \n",
       "388              2          13          11              2              0   \n",
       "3508             2          11          13              0              0   \n",
       "...            ...         ...         ...            ...            ...   \n",
       "3775             2           6           9              2              1   \n",
       "5194             5           8          14              2              0   \n",
       "5229             3          11           4              0              0   \n",
       "5394             5           9           9              1              1   \n",
       "862              6          13          16              0              0   \n",
       "\n",
       "      Home_RedCs  Away_RedCs  HomeTeam_Favorite  Home_ConversionRate  \\\n",
       "5711           0           0                  0                 20.0   \n",
       "1582           0           0                  1                 13.0   \n",
       "3421           0           0                  1                  0.0   \n",
       "388            0           0                  0                 20.0   \n",
       "3508           0           0                  1                  0.0   \n",
       "...          ...         ...                ...                  ...   \n",
       "3775           0           0                  0                  8.0   \n",
       "5194           0           0                  0                  0.0   \n",
       "5229           0           0                  0                 14.0   \n",
       "5394           0           0                  1                 15.0   \n",
       "862            0           0                  1                  0.0   \n",
       "\n",
       "      Away_ConversionRate  Home_SoT%  Away_SoT%  \n",
       "5711                  6.0       0.40       0.35  \n",
       "1582                  0.0       0.60       0.56  \n",
       "3421                  0.0       0.47       0.64  \n",
       "388                  20.0       0.20       0.40  \n",
       "3508                  0.0       0.50       0.56  \n",
       "...                   ...        ...        ...  \n",
       "3775                 27.0       0.23       0.45  \n",
       "5194                  6.0       0.25       0.12  \n",
       "5229                 25.0       0.29       0.42  \n",
       "5394                  0.0       0.35       0.17  \n",
       "862                   0.0       0.11       0.38  \n",
       "\n",
       "[4989 rows x 20 columns]"
      ]
     },
     "execution_count": 48,
     "metadata": {},
     "output_type": "execute_result"
    }
   ],
   "source": [
    "X_train"
   ]
  },
  {
   "cell_type": "code",
   "execution_count": 46,
   "id": "7b076465",
   "metadata": {},
   "outputs": [
    {
     "name": "stderr",
     "output_type": "stream",
     "text": [
      "/opt/anaconda3/envs/learn-env/lib/python3.8/site-packages/sklearn/linear_model/_logistic.py:762: ConvergenceWarning: lbfgs failed to converge (status=1):\n",
      "STOP: TOTAL NO. of ITERATIONS REACHED LIMIT.\n",
      "\n",
      "Increase the number of iterations (max_iter) or scale the data as shown in:\n",
      "    https://scikit-learn.org/stable/modules/preprocessing.html\n",
      "Please also refer to the documentation for alternative solver options:\n",
      "    https://scikit-learn.org/stable/modules/linear_model.html#logistic-regression\n",
      "  n_iter_i = _check_optimize_result(\n"
     ]
    },
    {
     "data": {
      "text/plain": [
       "LogisticRegression()"
      ]
     },
     "execution_count": 46,
     "metadata": {},
     "output_type": "execute_result"
    }
   ],
   "source": [
    "base_log = LogisticRegression()\n",
    "base_log.fit(X_train, y_train)"
   ]
  },
  {
   "cell_type": "code",
   "execution_count": 47,
   "id": "2bbc1da6",
   "metadata": {},
   "outputs": [
    {
     "data": {
      "text/plain": [
       "0.8665063138905592"
      ]
     },
     "execution_count": 47,
     "metadata": {},
     "output_type": "execute_result"
    }
   ],
   "source": [
    "base_preds = base_log.predict(X_test)\n",
    "accuracy_score(y_test, base_preds)"
   ]
  },
  {
   "cell_type": "code",
   "execution_count": 49,
   "id": "5d752d12",
   "metadata": {
    "scrolled": true
   },
   "outputs": [
    {
     "data": {
      "text/plain": [
       "<sklearn.metrics._plot.confusion_matrix.ConfusionMatrixDisplay at 0x7fae54f796d0>"
      ]
     },
     "execution_count": 49,
     "metadata": {},
     "output_type": "execute_result"
    },
    {
     "data": {
      "image/png": "[encoded data removed]",
      "text/plain": [
       "<Figure size 432x288 with 2 Axes>"
      ]
     },
     "metadata": {
      "needs_background": "light"
     },
     "output_type": "display_data"
    }
   ],
   "source": [
    "plot_confusion_matrix(base_log, X_test, y_test)"
   ]
  },
  {
   "cell_type": "code",
   "execution_count": 51,
   "id": "23b55afc",
   "metadata": {},
   "outputs": [
    {
     "data": {
      "text/plain": [
       "HalfTime_HomeGoals    -0.129642\n",
       "HalfTime_AwayGoals     0.134797\n",
       "HalfTime_Result       -0.522491\n",
       "Home_Shots            -0.139310\n",
       "Away_Shots             0.219177\n",
       "Home_ShotsOnTarget    -0.130349\n",
       "Away_ShotsOnTarget     0.188998\n",
       "Home_Corners           0.018785\n",
       "Away_Corners          -0.035280\n",
       "Home_Fouls             0.026764\n",
       "Away_Fouls             0.006178\n",
       "Home_YellowCs         -0.026319\n",
       "Away_YellowCs         -0.047149\n",
       "Home_RedCs             0.266324\n",
       "Away_RedCs            -0.417311\n",
       "HomeTeam_Favorite     -0.564998\n",
       "Home_ConversionRate   -0.269338\n",
       "Away_ConversionRate    0.224575\n",
       "Home_SoT%              0.071378\n",
       "Away_SoT%             -0.541936\n",
       "dtype: float64"
      ]
     },
     "execution_count": 51,
     "metadata": {},
     "output_type": "execute_result"
    }
   ],
   "source": [
    "base_log_coefs = pd.Series(index=X_train.columns, data=base_log.coef_[0])\n",
    "base_log_coefs"
   ]
  },
  {
   "cell_type": "code",
   "execution_count": 52,
   "id": "47634745",
   "metadata": {},
   "outputs": [
    {
     "data": {
      "text/plain": [
       "(array([ 0,  1,  2,  3,  4,  5,  6,  7,  8,  9, 10, 11, 12, 13, 14, 15, 16,\n",
       "        17, 18, 19]),\n",
       " [Text(0, 0, 'HomeTeam_Favorite'),\n",
       "  Text(1, 0, 'Away_SoT%'),\n",
       "  Text(2, 0, 'HalfTime_Result'),\n",
       "  Text(3, 0, 'Away_RedCs'),\n",
       "  Text(4, 0, 'Home_ConversionRate'),\n",
       "  Text(5, 0, 'Home_Shots'),\n",
       "  Text(6, 0, 'Home_ShotsOnTarget'),\n",
       "  Text(7, 0, 'HalfTime_HomeGoals'),\n",
       "  Text(8, 0, 'Away_YellowCs'),\n",
       "  Text(9, 0, 'Away_Corners'),\n",
       "  Text(10, 0, 'Home_YellowCs'),\n",
       "  Text(11, 0, 'Away_Fouls'),\n",
       "  Text(12, 0, 'Home_Corners'),\n",
       "  Text(13, 0, 'Home_Fouls'),\n",
       "  Text(14, 0, 'Home_SoT%'),\n",
       "  Text(15, 0, 'HalfTime_AwayGoals'),\n",
       "  Text(16, 0, 'Away_ShotsOnTarget'),\n",
       "  Text(17, 0, 'Away_Shots'),\n",
       "  Text(18, 0, 'Away_ConversionRate'),\n",
       "  Text(19, 0, 'Home_RedCs')])"
      ]
     },
     "execution_count": 52,
     "metadata": {},
     "output_type": "execute_result"
    },
    {
     "data": {
      "image/png": "[encoded data removed]",
      "text/plain": [
       "<Figure size 720x432 with 1 Axes>"
      ]
     },
     "metadata": {
      "needs_background": "light"
     },
     "output_type": "display_data"
    }
   ],
   "source": [
    "# feature importances\n",
    "plt.figure(figsize=(10,6))\n",
    "base_log_coefs = base_log_coefs.sort_values()\n",
    "sns.barplot(x=base_log_coefs.index, y=base_log_coefs.values)\n",
    "plt.xticks(rotation=45)"
   ]
  },
  {
   "cell_type": "markdown",
   "id": "e3c6ae69",
   "metadata": {},
   "source": [
    "Dropping redundant columns and scaling data"
   ]
  },
  {
   "cell_type": "code",
   "execution_count": 14,
   "id": "d64c4f6e",
   "metadata": {},
   "outputs": [],
   "source": [
    "cleaned_df = df.drop(['Favorites',\n",
    "                      'Home_SoT%',\n",
    "                      'Home_Shots',\n",
    "                      'Away_RedCs',\n",
    "                      'Home_Corners',\n",
    "                      'Away_Corners',\n",
    "                      'Home_YellowCs',\n",
    "                      'Away_YellowCs',\n",
    "                      'Away_SoT%',\n",
    "                      'Away_Shots',\n",
    "                      'Season',\n",
    "                      'ML_Favorite',\n",
    "                      'Home_ConversionRate',\n",
    "                      'Away_ConversionRate',\n",
    "                      'Home_RedCs'], axis=1)"
   ]
  },
  {
   "cell_type": "code",
   "execution_count": 15,
   "id": "71041979",
   "metadata": {},
   "outputs": [
    {
     "data": {
      "text/plain": [
       "FullTime_Result       1.000000\n",
       "FullTime_HomeGoals    0.627083\n",
       "HalfTime_Result       0.602206\n",
       "HalfTime_HomeGoals    0.434142\n",
       "HomeTeam_Favorite     0.341739\n",
       "Favorite_Winner       0.327223\n",
       "Home_ShotsOnTarget    0.309438\n",
       "Away_Fouls            0.031430\n",
       "Home_Fouls           -0.035652\n",
       "Away_ShotsOnTarget   -0.308754\n",
       "HalfTime_AwayGoals   -0.424904\n",
       "FullTime_AwayGoals   -0.635393\n",
       "Name: FullTime_Result, dtype: float64"
      ]
     },
     "execution_count": 15,
     "metadata": {},
     "output_type": "execute_result"
    }
   ],
   "source": [
    "# correlation with full time result\n",
    "cleaned_df.corr()['FullTime_Result'].sort_values(ascending=False)"
   ]
  },
  {
   "cell_type": "code",
   "execution_count": 16,
   "id": "fa35ba2f",
   "metadata": {},
   "outputs": [],
   "source": [
    "# scaling the columns with continuous values using MinMaxScaler\n",
    "# from sklearn.preprocessing import MinMaxScaler\n",
    "mm_scaler = MinMaxScaler()\n",
    "\n",
    "cleaned_df[['Home_ShotsOnTarget','Away_ShotsOnTarget','Home_Fouls','Away_Fouls']] = mm_scaler.fit_transform(cleaned_df[['Home_ShotsOnTarget','Away_ShotsOnTarget','Home_Fouls','Away_Fouls']])"
   ]
  },
  {
   "cell_type": "code",
   "execution_count": null,
   "id": "8048a084",
   "metadata": {},
   "outputs": [],
   "source": []
  },
  {
   "cell_type": "code",
   "execution_count": null,
   "id": "667e3525",
   "metadata": {},
   "outputs": [],
   "source": []
  },
  {
   "cell_type": "code",
   "execution_count": null,
   "id": "db32dc66",
   "metadata": {},
   "outputs": [],
   "source": []
  },
  {
   "cell_type": "markdown",
   "id": "440f33fd",
   "metadata": {},
   "source": [
    "## Separate dataframes for Big Six clubs vs. the rest of the PL clubs."
   ]
  },
  {
   "cell_type": "markdown",
   "id": "0f171218",
   "metadata": {},
   "source": [
    "Big Six dataframe"
   ]
  },
  {
   "cell_type": "code",
   "execution_count": 17,
   "id": "bcac3347",
   "metadata": {},
   "outputs": [
    {
     "data": {
      "text/html": [
       "<div>\n",
       "<style scoped>\n",
       "    .dataframe tbody tr th:only-of-type {\n",
       "        vertical-align: middle;\n",
       "    }\n",
       "\n",
       "    .dataframe tbody tr th {\n",
       "        vertical-align: top;\n",
       "    }\n",
       "\n",
       "    .dataframe thead th {\n",
       "        text-align: right;\n",
       "    }\n",
       "</style>\n",
       "<table border=\"1\" class=\"dataframe\">\n",
       "  <thead>\n",
       "    <tr style=\"text-align: right;\">\n",
       "      <th></th>\n",
       "      <th>Season</th>\n",
       "      <th>HomeTeam</th>\n",
       "      <th>AwayTeam</th>\n",
       "      <th>ML_Favorite</th>\n",
       "      <th>FullTime_HomeGoals</th>\n",
       "      <th>FullTime_AwayGoals</th>\n",
       "      <th>FullTime_Result</th>\n",
       "      <th>HalfTime_HomeGoals</th>\n",
       "      <th>HalfTime_AwayGoals</th>\n",
       "      <th>HalfTime_Result</th>\n",
       "      <th>...</th>\n",
       "      <th>Away_YellowCs</th>\n",
       "      <th>Home_RedCs</th>\n",
       "      <th>Away_RedCs</th>\n",
       "      <th>HomeTeam_Favorite</th>\n",
       "      <th>Home_ConversionRate</th>\n",
       "      <th>Away_ConversionRate</th>\n",
       "      <th>Home_SoT%</th>\n",
       "      <th>Away_SoT%</th>\n",
       "      <th>Favorites</th>\n",
       "      <th>Favorite_Winner</th>\n",
       "    </tr>\n",
       "  </thead>\n",
       "  <tbody>\n",
       "    <tr>\n",
       "      <th>4</th>\n",
       "      <td>2003-04</td>\n",
       "      <td>Liverpool</td>\n",
       "      <td>Man City</td>\n",
       "      <td>Liverpool</td>\n",
       "      <td>2</td>\n",
       "      <td>1</td>\n",
       "      <td>2</td>\n",
       "      <td>1</td>\n",
       "      <td>0</td>\n",
       "      <td>2</td>\n",
       "      <td>...</td>\n",
       "      <td>0</td>\n",
       "      <td>0</td>\n",
       "      <td>0</td>\n",
       "      <td>1</td>\n",
       "      <td>17.0</td>\n",
       "      <td>17.0</td>\n",
       "      <td>0.58</td>\n",
       "      <td>0.50</td>\n",
       "      <td>2</td>\n",
       "      <td>1</td>\n",
       "    </tr>\n",
       "    <tr>\n",
       "      <th>5</th>\n",
       "      <td>2003-04</td>\n",
       "      <td>Man United</td>\n",
       "      <td>Middlesbrough</td>\n",
       "      <td>Man United</td>\n",
       "      <td>2</td>\n",
       "      <td>3</td>\n",
       "      <td>0</td>\n",
       "      <td>1</td>\n",
       "      <td>2</td>\n",
       "      <td>0</td>\n",
       "      <td>...</td>\n",
       "      <td>1</td>\n",
       "      <td>0</td>\n",
       "      <td>0</td>\n",
       "      <td>1</td>\n",
       "      <td>9.0</td>\n",
       "      <td>25.0</td>\n",
       "      <td>0.57</td>\n",
       "      <td>0.67</td>\n",
       "      <td>2</td>\n",
       "      <td>0</td>\n",
       "    </tr>\n",
       "    <tr>\n",
       "      <th>9</th>\n",
       "      <td>2003-04</td>\n",
       "      <td>Chelsea</td>\n",
       "      <td>Arsenal</td>\n",
       "      <td>Chelsea</td>\n",
       "      <td>1</td>\n",
       "      <td>2</td>\n",
       "      <td>0</td>\n",
       "      <td>1</td>\n",
       "      <td>2</td>\n",
       "      <td>0</td>\n",
       "      <td>...</td>\n",
       "      <td>2</td>\n",
       "      <td>1</td>\n",
       "      <td>0</td>\n",
       "      <td>1</td>\n",
       "      <td>10.0</td>\n",
       "      <td>22.0</td>\n",
       "      <td>0.40</td>\n",
       "      <td>0.78</td>\n",
       "      <td>2</td>\n",
       "      <td>0</td>\n",
       "    </tr>\n",
       "    <tr>\n",
       "      <th>10</th>\n",
       "      <td>2003-04</td>\n",
       "      <td>Man United</td>\n",
       "      <td>Leeds</td>\n",
       "      <td>Man United</td>\n",
       "      <td>1</td>\n",
       "      <td>1</td>\n",
       "      <td>1</td>\n",
       "      <td>0</td>\n",
       "      <td>0</td>\n",
       "      <td>1</td>\n",
       "      <td>...</td>\n",
       "      <td>2</td>\n",
       "      <td>0</td>\n",
       "      <td>0</td>\n",
       "      <td>1</td>\n",
       "      <td>4.0</td>\n",
       "      <td>14.0</td>\n",
       "      <td>0.29</td>\n",
       "      <td>0.43</td>\n",
       "      <td>2</td>\n",
       "      <td>0</td>\n",
       "    </tr>\n",
       "    <tr>\n",
       "      <th>15</th>\n",
       "      <td>2003-04</td>\n",
       "      <td>Tottenham</td>\n",
       "      <td>Leicester</td>\n",
       "      <td>Tottenham</td>\n",
       "      <td>4</td>\n",
       "      <td>4</td>\n",
       "      <td>1</td>\n",
       "      <td>3</td>\n",
       "      <td>1</td>\n",
       "      <td>2</td>\n",
       "      <td>...</td>\n",
       "      <td>2</td>\n",
       "      <td>0</td>\n",
       "      <td>1</td>\n",
       "      <td>1</td>\n",
       "      <td>40.0</td>\n",
       "      <td>29.0</td>\n",
       "      <td>0.90</td>\n",
       "      <td>0.50</td>\n",
       "      <td>2</td>\n",
       "      <td>0</td>\n",
       "    </tr>\n",
       "    <tr>\n",
       "      <th>...</th>\n",
       "      <td>...</td>\n",
       "      <td>...</td>\n",
       "      <td>...</td>\n",
       "      <td>...</td>\n",
       "      <td>...</td>\n",
       "      <td>...</td>\n",
       "      <td>...</td>\n",
       "      <td>...</td>\n",
       "      <td>...</td>\n",
       "      <td>...</td>\n",
       "      <td>...</td>\n",
       "      <td>...</td>\n",
       "      <td>...</td>\n",
       "      <td>...</td>\n",
       "      <td>...</td>\n",
       "      <td>...</td>\n",
       "      <td>...</td>\n",
       "      <td>...</td>\n",
       "      <td>...</td>\n",
       "      <td>...</td>\n",
       "      <td>...</td>\n",
       "    </tr>\n",
       "    <tr>\n",
       "      <th>6645</th>\n",
       "      <td>2021-22</td>\n",
       "      <td>Arsenal</td>\n",
       "      <td>Tottenham</td>\n",
       "      <td>Arsenal</td>\n",
       "      <td>3</td>\n",
       "      <td>1</td>\n",
       "      <td>2</td>\n",
       "      <td>3</td>\n",
       "      <td>0</td>\n",
       "      <td>2</td>\n",
       "      <td>...</td>\n",
       "      <td>1</td>\n",
       "      <td>0</td>\n",
       "      <td>0</td>\n",
       "      <td>1</td>\n",
       "      <td>25.0</td>\n",
       "      <td>10.0</td>\n",
       "      <td>0.58</td>\n",
       "      <td>0.40</td>\n",
       "      <td>2</td>\n",
       "      <td>1</td>\n",
       "    </tr>\n",
       "    <tr>\n",
       "      <th>6647</th>\n",
       "      <td>2021-22</td>\n",
       "      <td>Man United</td>\n",
       "      <td>Everton</td>\n",
       "      <td>Man United</td>\n",
       "      <td>1</td>\n",
       "      <td>1</td>\n",
       "      <td>1</td>\n",
       "      <td>1</td>\n",
       "      <td>0</td>\n",
       "      <td>2</td>\n",
       "      <td>...</td>\n",
       "      <td>1</td>\n",
       "      <td>0</td>\n",
       "      <td>0</td>\n",
       "      <td>1</td>\n",
       "      <td>8.0</td>\n",
       "      <td>8.0</td>\n",
       "      <td>0.46</td>\n",
       "      <td>0.17</td>\n",
       "      <td>2</td>\n",
       "      <td>0</td>\n",
       "    </tr>\n",
       "    <tr>\n",
       "      <th>6649</th>\n",
       "      <td>2021-22</td>\n",
       "      <td>Chelsea</td>\n",
       "      <td>Southampton</td>\n",
       "      <td>Chelsea</td>\n",
       "      <td>3</td>\n",
       "      <td>1</td>\n",
       "      <td>2</td>\n",
       "      <td>1</td>\n",
       "      <td>0</td>\n",
       "      <td>2</td>\n",
       "      <td>...</td>\n",
       "      <td>3</td>\n",
       "      <td>0</td>\n",
       "      <td>1</td>\n",
       "      <td>1</td>\n",
       "      <td>15.0</td>\n",
       "      <td>17.0</td>\n",
       "      <td>0.45</td>\n",
       "      <td>0.33</td>\n",
       "      <td>2</td>\n",
       "      <td>1</td>\n",
       "    </tr>\n",
       "    <tr>\n",
       "      <th>6654</th>\n",
       "      <td>2021-22</td>\n",
       "      <td>Tottenham</td>\n",
       "      <td>Aston Villa</td>\n",
       "      <td>Tottenham</td>\n",
       "      <td>2</td>\n",
       "      <td>1</td>\n",
       "      <td>2</td>\n",
       "      <td>1</td>\n",
       "      <td>0</td>\n",
       "      <td>2</td>\n",
       "      <td>...</td>\n",
       "      <td>1</td>\n",
       "      <td>0</td>\n",
       "      <td>0</td>\n",
       "      <td>1</td>\n",
       "      <td>12.0</td>\n",
       "      <td>7.0</td>\n",
       "      <td>0.47</td>\n",
       "      <td>0.21</td>\n",
       "      <td>2</td>\n",
       "      <td>1</td>\n",
       "    </tr>\n",
       "    <tr>\n",
       "      <th>6656</th>\n",
       "      <td>2021-22</td>\n",
       "      <td>Liverpool</td>\n",
       "      <td>Man City</td>\n",
       "      <td>Man City</td>\n",
       "      <td>2</td>\n",
       "      <td>2</td>\n",
       "      <td>1</td>\n",
       "      <td>0</td>\n",
       "      <td>0</td>\n",
       "      <td>1</td>\n",
       "      <td>...</td>\n",
       "      <td>3</td>\n",
       "      <td>0</td>\n",
       "      <td>0</td>\n",
       "      <td>0</td>\n",
       "      <td>33.0</td>\n",
       "      <td>17.0</td>\n",
       "      <td>0.67</td>\n",
       "      <td>0.25</td>\n",
       "      <td>0</td>\n",
       "      <td>0</td>\n",
       "    </tr>\n",
       "  </tbody>\n",
       "</table>\n",
       "<p>1999 rows × 29 columns</p>\n",
       "</div>"
      ],
      "text/plain": [
       "       Season    HomeTeam       AwayTeam ML_Favorite  FullTime_HomeGoals  \\\n",
       "4     2003-04   Liverpool       Man City   Liverpool                   2   \n",
       "5     2003-04  Man United  Middlesbrough  Man United                   2   \n",
       "9     2003-04     Chelsea        Arsenal     Chelsea                   1   \n",
       "10    2003-04  Man United          Leeds  Man United                   1   \n",
       "15    2003-04   Tottenham      Leicester   Tottenham                   4   \n",
       "...       ...         ...            ...         ...                 ...   \n",
       "6645  2021-22     Arsenal      Tottenham     Arsenal                   3   \n",
       "6647  2021-22  Man United        Everton  Man United                   1   \n",
       "6649  2021-22     Chelsea    Southampton     Chelsea                   3   \n",
       "6654  2021-22   Tottenham    Aston Villa   Tottenham                   2   \n",
       "6656  2021-22   Liverpool       Man City    Man City                   2   \n",
       "\n",
       "      FullTime_AwayGoals  FullTime_Result  HalfTime_HomeGoals  \\\n",
       "4                      1                2                   1   \n",
       "5                      3                0                   1   \n",
       "9                      2                0                   1   \n",
       "10                     1                1                   0   \n",
       "15                     4                1                   3   \n",
       "...                  ...              ...                 ...   \n",
       "6645                   1                2                   3   \n",
       "6647                   1                1                   1   \n",
       "6649                   1                2                   1   \n",
       "6654                   1                2                   1   \n",
       "6656                   2                1                   0   \n",
       "\n",
       "      HalfTime_AwayGoals  HalfTime_Result  ...  Away_YellowCs  Home_RedCs  \\\n",
       "4                      0                2  ...              0           0   \n",
       "5                      2                0  ...              1           0   \n",
       "9                      2                0  ...              2           1   \n",
       "10                     0                1  ...              2           0   \n",
       "15                     1                2  ...              2           0   \n",
       "...                  ...              ...  ...            ...         ...   \n",
       "6645                   0                2  ...              1           0   \n",
       "6647                   0                2  ...              1           0   \n",
       "6649                   0                2  ...              3           0   \n",
       "6654                   0                2  ...              1           0   \n",
       "6656                   0                1  ...              3           0   \n",
       "\n",
       "      Away_RedCs  HomeTeam_Favorite  Home_ConversionRate  Away_ConversionRate  \\\n",
       "4              0                  1                 17.0                 17.0   \n",
       "5              0                  1                  9.0                 25.0   \n",
       "9              0                  1                 10.0                 22.0   \n",
       "10             0                  1                  4.0                 14.0   \n",
       "15             1                  1                 40.0                 29.0   \n",
       "...          ...                ...                  ...                  ...   \n",
       "6645           0                  1                 25.0                 10.0   \n",
       "6647           0                  1                  8.0                  8.0   \n",
       "6649           1                  1                 15.0                 17.0   \n",
       "6654           0                  1                 12.0                  7.0   \n",
       "6656           0                  0                 33.0                 17.0   \n",
       "\n",
       "      Home_SoT%  Away_SoT%  Favorites  Favorite_Winner  \n",
       "4          0.58       0.50          2                1  \n",
       "5          0.57       0.67          2                0  \n",
       "9          0.40       0.78          2                0  \n",
       "10         0.29       0.43          2                0  \n",
       "15         0.90       0.50          2                0  \n",
       "...         ...        ...        ...              ...  \n",
       "6645       0.58       0.40          2                1  \n",
       "6647       0.46       0.17          2                0  \n",
       "6649       0.45       0.33          2                1  \n",
       "6654       0.47       0.21          2                1  \n",
       "6656       0.67       0.25          0                0  \n",
       "\n",
       "[1999 rows x 29 columns]"
      ]
     },
     "execution_count": 17,
     "metadata": {},
     "output_type": "execute_result"
    }
   ],
   "source": [
    "# Big Six home games\n",
    "bs_home = df[(df['HomeTeam']=='Liverpool') | (df['HomeTeam']=='Man United') | (df['HomeTeam']=='Chelsea') |\n",
    "  (df['HomeTeam']=='Arsenal') | (df['HomeTeam']=='Man City') | (df['HomeTeam']=='Tottenham')]\n",
    "\n",
    "bs_home"
   ]
  },
  {
   "cell_type": "code",
   "execution_count": 18,
   "id": "a02cb8c2",
   "metadata": {},
   "outputs": [
    {
     "data": {
      "text/html": [
       "<div>\n",
       "<style scoped>\n",
       "    .dataframe tbody tr th:only-of-type {\n",
       "        vertical-align: middle;\n",
       "    }\n",
       "\n",
       "    .dataframe tbody tr th {\n",
       "        vertical-align: top;\n",
       "    }\n",
       "\n",
       "    .dataframe thead th {\n",
       "        text-align: right;\n",
       "    }\n",
       "</style>\n",
       "<table border=\"1\" class=\"dataframe\">\n",
       "  <thead>\n",
       "    <tr style=\"text-align: right;\">\n",
       "      <th></th>\n",
       "      <th>Season</th>\n",
       "      <th>HomeTeam</th>\n",
       "      <th>AwayTeam</th>\n",
       "      <th>ML_Favorite</th>\n",
       "      <th>FullTime_HomeGoals</th>\n",
       "      <th>FullTime_AwayGoals</th>\n",
       "      <th>FullTime_Result</th>\n",
       "      <th>HalfTime_HomeGoals</th>\n",
       "      <th>HalfTime_AwayGoals</th>\n",
       "      <th>HalfTime_Result</th>\n",
       "      <th>...</th>\n",
       "      <th>Away_YellowCs</th>\n",
       "      <th>Home_RedCs</th>\n",
       "      <th>Away_RedCs</th>\n",
       "      <th>HomeTeam_Favorite</th>\n",
       "      <th>Home_ConversionRate</th>\n",
       "      <th>Away_ConversionRate</th>\n",
       "      <th>Home_SoT%</th>\n",
       "      <th>Away_SoT%</th>\n",
       "      <th>Favorites</th>\n",
       "      <th>Favorite_Winner</th>\n",
       "    </tr>\n",
       "  </thead>\n",
       "  <tbody>\n",
       "    <tr>\n",
       "      <th>2</th>\n",
       "      <td>2003-04</td>\n",
       "      <td>Charlton</td>\n",
       "      <td>Tottenham</td>\n",
       "      <td>Charlton</td>\n",
       "      <td>2</td>\n",
       "      <td>4</td>\n",
       "      <td>0</td>\n",
       "      <td>0</td>\n",
       "      <td>2</td>\n",
       "      <td>0</td>\n",
       "      <td>...</td>\n",
       "      <td>0</td>\n",
       "      <td>0</td>\n",
       "      <td>0</td>\n",
       "      <td>1</td>\n",
       "      <td>11.0</td>\n",
       "      <td>33.0</td>\n",
       "      <td>0.78</td>\n",
       "      <td>0.83</td>\n",
       "      <td>2</td>\n",
       "      <td>0</td>\n",
       "    </tr>\n",
       "    <tr>\n",
       "      <th>4</th>\n",
       "      <td>2003-04</td>\n",
       "      <td>Liverpool</td>\n",
       "      <td>Man City</td>\n",
       "      <td>Liverpool</td>\n",
       "      <td>2</td>\n",
       "      <td>1</td>\n",
       "      <td>2</td>\n",
       "      <td>1</td>\n",
       "      <td>0</td>\n",
       "      <td>2</td>\n",
       "      <td>...</td>\n",
       "      <td>0</td>\n",
       "      <td>0</td>\n",
       "      <td>0</td>\n",
       "      <td>1</td>\n",
       "      <td>17.0</td>\n",
       "      <td>17.0</td>\n",
       "      <td>0.58</td>\n",
       "      <td>0.50</td>\n",
       "      <td>2</td>\n",
       "      <td>1</td>\n",
       "    </tr>\n",
       "    <tr>\n",
       "      <th>6</th>\n",
       "      <td>2003-04</td>\n",
       "      <td>Portsmouth</td>\n",
       "      <td>Chelsea</td>\n",
       "      <td>Chelsea</td>\n",
       "      <td>0</td>\n",
       "      <td>2</td>\n",
       "      <td>0</td>\n",
       "      <td>0</td>\n",
       "      <td>1</td>\n",
       "      <td>0</td>\n",
       "      <td>...</td>\n",
       "      <td>2</td>\n",
       "      <td>0</td>\n",
       "      <td>0</td>\n",
       "      <td>0</td>\n",
       "      <td>0.0</td>\n",
       "      <td>20.0</td>\n",
       "      <td>0.45</td>\n",
       "      <td>0.40</td>\n",
       "      <td>0</td>\n",
       "      <td>1</td>\n",
       "    </tr>\n",
       "    <tr>\n",
       "      <th>7</th>\n",
       "      <td>2003-04</td>\n",
       "      <td>Bolton</td>\n",
       "      <td>Man City</td>\n",
       "      <td>Bolton</td>\n",
       "      <td>1</td>\n",
       "      <td>3</td>\n",
       "      <td>0</td>\n",
       "      <td>1</td>\n",
       "      <td>2</td>\n",
       "      <td>0</td>\n",
       "      <td>...</td>\n",
       "      <td>2</td>\n",
       "      <td>0</td>\n",
       "      <td>0</td>\n",
       "      <td>1</td>\n",
       "      <td>6.0</td>\n",
       "      <td>18.0</td>\n",
       "      <td>0.69</td>\n",
       "      <td>0.76</td>\n",
       "      <td>2</td>\n",
       "      <td>0</td>\n",
       "    </tr>\n",
       "    <tr>\n",
       "      <th>9</th>\n",
       "      <td>2003-04</td>\n",
       "      <td>Chelsea</td>\n",
       "      <td>Arsenal</td>\n",
       "      <td>Chelsea</td>\n",
       "      <td>1</td>\n",
       "      <td>2</td>\n",
       "      <td>0</td>\n",
       "      <td>1</td>\n",
       "      <td>2</td>\n",
       "      <td>0</td>\n",
       "      <td>...</td>\n",
       "      <td>2</td>\n",
       "      <td>1</td>\n",
       "      <td>0</td>\n",
       "      <td>1</td>\n",
       "      <td>10.0</td>\n",
       "      <td>22.0</td>\n",
       "      <td>0.40</td>\n",
       "      <td>0.78</td>\n",
       "      <td>2</td>\n",
       "      <td>0</td>\n",
       "    </tr>\n",
       "    <tr>\n",
       "      <th>...</th>\n",
       "      <td>...</td>\n",
       "      <td>...</td>\n",
       "      <td>...</td>\n",
       "      <td>...</td>\n",
       "      <td>...</td>\n",
       "      <td>...</td>\n",
       "      <td>...</td>\n",
       "      <td>...</td>\n",
       "      <td>...</td>\n",
       "      <td>...</td>\n",
       "      <td>...</td>\n",
       "      <td>...</td>\n",
       "      <td>...</td>\n",
       "      <td>...</td>\n",
       "      <td>...</td>\n",
       "      <td>...</td>\n",
       "      <td>...</td>\n",
       "      <td>...</td>\n",
       "      <td>...</td>\n",
       "      <td>...</td>\n",
       "      <td>...</td>\n",
       "    </tr>\n",
       "    <tr>\n",
       "      <th>6637</th>\n",
       "      <td>2021-22</td>\n",
       "      <td>Chelsea</td>\n",
       "      <td>Man City</td>\n",
       "      <td>Man City</td>\n",
       "      <td>0</td>\n",
       "      <td>1</td>\n",
       "      <td>0</td>\n",
       "      <td>0</td>\n",
       "      <td>0</td>\n",
       "      <td>1</td>\n",
       "      <td>...</td>\n",
       "      <td>2</td>\n",
       "      <td>0</td>\n",
       "      <td>0</td>\n",
       "      <td>0</td>\n",
       "      <td>0.0</td>\n",
       "      <td>7.0</td>\n",
       "      <td>0.00</td>\n",
       "      <td>0.27</td>\n",
       "      <td>0</td>\n",
       "      <td>1</td>\n",
       "    </tr>\n",
       "    <tr>\n",
       "      <th>6643</th>\n",
       "      <td>2021-22</td>\n",
       "      <td>Brentford</td>\n",
       "      <td>Liverpool</td>\n",
       "      <td>Liverpool</td>\n",
       "      <td>3</td>\n",
       "      <td>3</td>\n",
       "      <td>1</td>\n",
       "      <td>1</td>\n",
       "      <td>1</td>\n",
       "      <td>1</td>\n",
       "      <td>...</td>\n",
       "      <td>1</td>\n",
       "      <td>0</td>\n",
       "      <td>0</td>\n",
       "      <td>0</td>\n",
       "      <td>25.0</td>\n",
       "      <td>19.0</td>\n",
       "      <td>0.33</td>\n",
       "      <td>0.38</td>\n",
       "      <td>0</td>\n",
       "      <td>0</td>\n",
       "    </tr>\n",
       "    <tr>\n",
       "      <th>6645</th>\n",
       "      <td>2021-22</td>\n",
       "      <td>Arsenal</td>\n",
       "      <td>Tottenham</td>\n",
       "      <td>Arsenal</td>\n",
       "      <td>3</td>\n",
       "      <td>1</td>\n",
       "      <td>2</td>\n",
       "      <td>3</td>\n",
       "      <td>0</td>\n",
       "      <td>2</td>\n",
       "      <td>...</td>\n",
       "      <td>1</td>\n",
       "      <td>0</td>\n",
       "      <td>0</td>\n",
       "      <td>1</td>\n",
       "      <td>25.0</td>\n",
       "      <td>10.0</td>\n",
       "      <td>0.58</td>\n",
       "      <td>0.40</td>\n",
       "      <td>2</td>\n",
       "      <td>1</td>\n",
       "    </tr>\n",
       "    <tr>\n",
       "      <th>6652</th>\n",
       "      <td>2021-22</td>\n",
       "      <td>Brighton</td>\n",
       "      <td>Arsenal</td>\n",
       "      <td>Arsenal</td>\n",
       "      <td>0</td>\n",
       "      <td>0</td>\n",
       "      <td>1</td>\n",
       "      <td>0</td>\n",
       "      <td>0</td>\n",
       "      <td>1</td>\n",
       "      <td>...</td>\n",
       "      <td>1</td>\n",
       "      <td>0</td>\n",
       "      <td>0</td>\n",
       "      <td>0</td>\n",
       "      <td>0.0</td>\n",
       "      <td>0.0</td>\n",
       "      <td>0.10</td>\n",
       "      <td>0.25</td>\n",
       "      <td>0</td>\n",
       "      <td>0</td>\n",
       "    </tr>\n",
       "    <tr>\n",
       "      <th>6656</th>\n",
       "      <td>2021-22</td>\n",
       "      <td>Liverpool</td>\n",
       "      <td>Man City</td>\n",
       "      <td>Man City</td>\n",
       "      <td>2</td>\n",
       "      <td>2</td>\n",
       "      <td>1</td>\n",
       "      <td>0</td>\n",
       "      <td>0</td>\n",
       "      <td>1</td>\n",
       "      <td>...</td>\n",
       "      <td>3</td>\n",
       "      <td>0</td>\n",
       "      <td>0</td>\n",
       "      <td>0</td>\n",
       "      <td>33.0</td>\n",
       "      <td>17.0</td>\n",
       "      <td>0.67</td>\n",
       "      <td>0.25</td>\n",
       "      <td>0</td>\n",
       "      <td>0</td>\n",
       "    </tr>\n",
       "  </tbody>\n",
       "</table>\n",
       "<p>1995 rows × 29 columns</p>\n",
       "</div>"
      ],
      "text/plain": [
       "       Season    HomeTeam   AwayTeam ML_Favorite  FullTime_HomeGoals  \\\n",
       "2     2003-04    Charlton  Tottenham    Charlton                   2   \n",
       "4     2003-04   Liverpool   Man City   Liverpool                   2   \n",
       "6     2003-04  Portsmouth    Chelsea     Chelsea                   0   \n",
       "7     2003-04      Bolton   Man City      Bolton                   1   \n",
       "9     2003-04     Chelsea    Arsenal     Chelsea                   1   \n",
       "...       ...         ...        ...         ...                 ...   \n",
       "6637  2021-22     Chelsea   Man City    Man City                   0   \n",
       "6643  2021-22   Brentford  Liverpool   Liverpool                   3   \n",
       "6645  2021-22     Arsenal  Tottenham     Arsenal                   3   \n",
       "6652  2021-22    Brighton    Arsenal     Arsenal                   0   \n",
       "6656  2021-22   Liverpool   Man City    Man City                   2   \n",
       "\n",
       "      FullTime_AwayGoals  FullTime_Result  HalfTime_HomeGoals  \\\n",
       "2                      4                0                   0   \n",
       "4                      1                2                   1   \n",
       "6                      2                0                   0   \n",
       "7                      3                0                   1   \n",
       "9                      2                0                   1   \n",
       "...                  ...              ...                 ...   \n",
       "6637                   1                0                   0   \n",
       "6643                   3                1                   1   \n",
       "6645                   1                2                   3   \n",
       "6652                   0                1                   0   \n",
       "6656                   2                1                   0   \n",
       "\n",
       "      HalfTime_AwayGoals  HalfTime_Result  ...  Away_YellowCs  Home_RedCs  \\\n",
       "2                      2                0  ...              0           0   \n",
       "4                      0                2  ...              0           0   \n",
       "6                      1                0  ...              2           0   \n",
       "7                      2                0  ...              2           0   \n",
       "9                      2                0  ...              2           1   \n",
       "...                  ...              ...  ...            ...         ...   \n",
       "6637                   0                1  ...              2           0   \n",
       "6643                   1                1  ...              1           0   \n",
       "6645                   0                2  ...              1           0   \n",
       "6652                   0                1  ...              1           0   \n",
       "6656                   0                1  ...              3           0   \n",
       "\n",
       "      Away_RedCs  HomeTeam_Favorite  Home_ConversionRate  Away_ConversionRate  \\\n",
       "2              0                  1                 11.0                 33.0   \n",
       "4              0                  1                 17.0                 17.0   \n",
       "6              0                  0                  0.0                 20.0   \n",
       "7              0                  1                  6.0                 18.0   \n",
       "9              0                  1                 10.0                 22.0   \n",
       "...          ...                ...                  ...                  ...   \n",
       "6637           0                  0                  0.0                  7.0   \n",
       "6643           0                  0                 25.0                 19.0   \n",
       "6645           0                  1                 25.0                 10.0   \n",
       "6652           0                  0                  0.0                  0.0   \n",
       "6656           0                  0                 33.0                 17.0   \n",
       "\n",
       "      Home_SoT%  Away_SoT%  Favorites  Favorite_Winner  \n",
       "2          0.78       0.83          2                0  \n",
       "4          0.58       0.50          2                1  \n",
       "6          0.45       0.40          0                1  \n",
       "7          0.69       0.76          2                0  \n",
       "9          0.40       0.78          2                0  \n",
       "...         ...        ...        ...              ...  \n",
       "6637       0.00       0.27          0                1  \n",
       "6643       0.33       0.38          0                0  \n",
       "6645       0.58       0.40          2                1  \n",
       "6652       0.10       0.25          0                0  \n",
       "6656       0.67       0.25          0                0  \n",
       "\n",
       "[1995 rows x 29 columns]"
      ]
     },
     "execution_count": 18,
     "metadata": {},
     "output_type": "execute_result"
    }
   ],
   "source": [
    "# Big Six away games\n",
    "bs_away = df[(df['AwayTeam']=='Liverpool') | (df['AwayTeam']=='Man United') | (df['AwayTeam']=='Chelsea') |\n",
    "  (df['AwayTeam']=='Arsenal') | (df['AwayTeam']=='Man City') | (df['AwayTeam']=='Tottenham')]\n",
    "\n",
    "bs_away"
   ]
  },
  {
   "cell_type": "markdown",
   "id": "fbb797e9",
   "metadata": {},
   "source": [
    "Now that we have the Home and Away games for the Big Six clubs, let's concatenate these together. We will have to check for duplicates after the concatenation because the Big Six clubs inevitably play each other twice every season"
   ]
  },
  {
   "cell_type": "code",
   "execution_count": 19,
   "id": "ca8ab4fe",
   "metadata": {},
   "outputs": [],
   "source": [
    "# concat the Big Six home and away games together into one DataFrame\n",
    "big_six = pd.concat([bs_home, bs_away], axis=0, join=\"inner\")"
   ]
  },
  {
   "cell_type": "code",
   "execution_count": 20,
   "id": "4fc7e87d",
   "metadata": {},
   "outputs": [
    {
     "data": {
      "text/plain": [
       "528"
      ]
     },
     "execution_count": 20,
     "metadata": {},
     "output_type": "execute_result"
    }
   ],
   "source": [
    "# how many duplicates?\n",
    "big_six.duplicated().sum()"
   ]
  },
  {
   "cell_type": "code",
   "execution_count": 21,
   "id": "f9f244de",
   "metadata": {},
   "outputs": [],
   "source": [
    "# drop the duplicates but keep the first occurrence of each game\n",
    "big_six = big_six.drop_duplicates(keep='first')"
   ]
  },
  {
   "cell_type": "code",
   "execution_count": 22,
   "id": "f572ce10",
   "metadata": {},
   "outputs": [
    {
     "data": {
      "text/plain": [
       "0"
      ]
     },
     "execution_count": 22,
     "metadata": {},
     "output_type": "execute_result"
    }
   ],
   "source": [
    "big_six.duplicated().sum()"
   ]
  },
  {
   "cell_type": "code",
   "execution_count": 23,
   "id": "f74bb2fa",
   "metadata": {},
   "outputs": [
    {
     "data": {
      "text/plain": [
       "(3466, 29)"
      ]
     },
     "execution_count": 23,
     "metadata": {},
     "output_type": "execute_result"
    }
   ],
   "source": [
    "big_six.shape"
   ]
  },
  {
   "cell_type": "markdown",
   "id": "ade2f937",
   "metadata": {},
   "source": [
    "Non-Big Six dataframe"
   ]
  },
  {
   "cell_type": "code",
   "execution_count": 24,
   "id": "66b66eb9",
   "metadata": {},
   "outputs": [
    {
     "data": {
      "text/html": [
       "<div>\n",
       "<style scoped>\n",
       "    .dataframe tbody tr th:only-of-type {\n",
       "        vertical-align: middle;\n",
       "    }\n",
       "\n",
       "    .dataframe tbody tr th {\n",
       "        vertical-align: top;\n",
       "    }\n",
       "\n",
       "    .dataframe thead th {\n",
       "        text-align: right;\n",
       "    }\n",
       "</style>\n",
       "<table border=\"1\" class=\"dataframe\">\n",
       "  <thead>\n",
       "    <tr style=\"text-align: right;\">\n",
       "      <th></th>\n",
       "      <th>Season</th>\n",
       "      <th>HomeTeam</th>\n",
       "      <th>AwayTeam</th>\n",
       "      <th>ML_Favorite</th>\n",
       "      <th>FullTime_HomeGoals</th>\n",
       "      <th>FullTime_AwayGoals</th>\n",
       "      <th>FullTime_Result</th>\n",
       "      <th>HalfTime_HomeGoals</th>\n",
       "      <th>HalfTime_AwayGoals</th>\n",
       "      <th>HalfTime_Result</th>\n",
       "      <th>...</th>\n",
       "      <th>Away_YellowCs</th>\n",
       "      <th>Home_RedCs</th>\n",
       "      <th>Away_RedCs</th>\n",
       "      <th>HomeTeam_Favorite</th>\n",
       "      <th>Home_ConversionRate</th>\n",
       "      <th>Away_ConversionRate</th>\n",
       "      <th>Home_SoT%</th>\n",
       "      <th>Away_SoT%</th>\n",
       "      <th>Favorites</th>\n",
       "      <th>Favorite_Winner</th>\n",
       "    </tr>\n",
       "  </thead>\n",
       "  <tbody>\n",
       "    <tr>\n",
       "      <th>0</th>\n",
       "      <td>2003-04</td>\n",
       "      <td>Birmingham</td>\n",
       "      <td>Everton</td>\n",
       "      <td>Birmingham</td>\n",
       "      <td>3</td>\n",
       "      <td>0</td>\n",
       "      <td>2</td>\n",
       "      <td>2</td>\n",
       "      <td>0</td>\n",
       "      <td>2</td>\n",
       "      <td>...</td>\n",
       "      <td>0</td>\n",
       "      <td>0</td>\n",
       "      <td>0</td>\n",
       "      <td>1</td>\n",
       "      <td>20.0</td>\n",
       "      <td>0.0</td>\n",
       "      <td>0.73</td>\n",
       "      <td>0.60</td>\n",
       "      <td>2</td>\n",
       "      <td>1</td>\n",
       "    </tr>\n",
       "    <tr>\n",
       "      <th>1</th>\n",
       "      <td>2003-04</td>\n",
       "      <td>Blackburn</td>\n",
       "      <td>Newcastle</td>\n",
       "      <td>Newcastle</td>\n",
       "      <td>1</td>\n",
       "      <td>1</td>\n",
       "      <td>1</td>\n",
       "      <td>0</td>\n",
       "      <td>0</td>\n",
       "      <td>1</td>\n",
       "      <td>...</td>\n",
       "      <td>0</td>\n",
       "      <td>0</td>\n",
       "      <td>0</td>\n",
       "      <td>0</td>\n",
       "      <td>6.0</td>\n",
       "      <td>7.0</td>\n",
       "      <td>0.41</td>\n",
       "      <td>0.50</td>\n",
       "      <td>0</td>\n",
       "      <td>0</td>\n",
       "    </tr>\n",
       "    <tr>\n",
       "      <th>3</th>\n",
       "      <td>2003-04</td>\n",
       "      <td>Fulham</td>\n",
       "      <td>Aston Villa</td>\n",
       "      <td>Fulham</td>\n",
       "      <td>1</td>\n",
       "      <td>2</td>\n",
       "      <td>0</td>\n",
       "      <td>1</td>\n",
       "      <td>2</td>\n",
       "      <td>0</td>\n",
       "      <td>...</td>\n",
       "      <td>1</td>\n",
       "      <td>1</td>\n",
       "      <td>0</td>\n",
       "      <td>1</td>\n",
       "      <td>8.0</td>\n",
       "      <td>20.0</td>\n",
       "      <td>0.46</td>\n",
       "      <td>0.30</td>\n",
       "      <td>2</td>\n",
       "      <td>0</td>\n",
       "    </tr>\n",
       "    <tr>\n",
       "      <th>8</th>\n",
       "      <td>2003-04</td>\n",
       "      <td>Charlton</td>\n",
       "      <td>Blackburn</td>\n",
       "      <td>Charlton</td>\n",
       "      <td>3</td>\n",
       "      <td>2</td>\n",
       "      <td>2</td>\n",
       "      <td>2</td>\n",
       "      <td>0</td>\n",
       "      <td>2</td>\n",
       "      <td>...</td>\n",
       "      <td>0</td>\n",
       "      <td>0</td>\n",
       "      <td>0</td>\n",
       "      <td>1</td>\n",
       "      <td>27.0</td>\n",
       "      <td>11.0</td>\n",
       "      <td>0.64</td>\n",
       "      <td>0.67</td>\n",
       "      <td>2</td>\n",
       "      <td>1</td>\n",
       "    </tr>\n",
       "    <tr>\n",
       "      <th>11</th>\n",
       "      <td>2003-04</td>\n",
       "      <td>Newcastle</td>\n",
       "      <td>Middlesbrough</td>\n",
       "      <td>Newcastle</td>\n",
       "      <td>2</td>\n",
       "      <td>1</td>\n",
       "      <td>2</td>\n",
       "      <td>0</td>\n",
       "      <td>1</td>\n",
       "      <td>0</td>\n",
       "      <td>...</td>\n",
       "      <td>3</td>\n",
       "      <td>0</td>\n",
       "      <td>0</td>\n",
       "      <td>1</td>\n",
       "      <td>12.0</td>\n",
       "      <td>12.0</td>\n",
       "      <td>0.56</td>\n",
       "      <td>0.50</td>\n",
       "      <td>2</td>\n",
       "      <td>1</td>\n",
       "    </tr>\n",
       "    <tr>\n",
       "      <th>...</th>\n",
       "      <td>...</td>\n",
       "      <td>...</td>\n",
       "      <td>...</td>\n",
       "      <td>...</td>\n",
       "      <td>...</td>\n",
       "      <td>...</td>\n",
       "      <td>...</td>\n",
       "      <td>...</td>\n",
       "      <td>...</td>\n",
       "      <td>...</td>\n",
       "      <td>...</td>\n",
       "      <td>...</td>\n",
       "      <td>...</td>\n",
       "      <td>...</td>\n",
       "      <td>...</td>\n",
       "      <td>...</td>\n",
       "      <td>...</td>\n",
       "      <td>...</td>\n",
       "      <td>...</td>\n",
       "      <td>...</td>\n",
       "      <td>...</td>\n",
       "    </tr>\n",
       "    <tr>\n",
       "      <th>6648</th>\n",
       "      <td>2021-22</td>\n",
       "      <td>Burnley</td>\n",
       "      <td>Norwich</td>\n",
       "      <td>Burnley</td>\n",
       "      <td>0</td>\n",
       "      <td>0</td>\n",
       "      <td>1</td>\n",
       "      <td>0</td>\n",
       "      <td>0</td>\n",
       "      <td>1</td>\n",
       "      <td>...</td>\n",
       "      <td>2</td>\n",
       "      <td>0</td>\n",
       "      <td>0</td>\n",
       "      <td>1</td>\n",
       "      <td>0.0</td>\n",
       "      <td>0.0</td>\n",
       "      <td>0.29</td>\n",
       "      <td>0.20</td>\n",
       "      <td>2</td>\n",
       "      <td>0</td>\n",
       "    </tr>\n",
       "    <tr>\n",
       "      <th>6650</th>\n",
       "      <td>2021-22</td>\n",
       "      <td>Leeds</td>\n",
       "      <td>Watford</td>\n",
       "      <td>Leeds</td>\n",
       "      <td>1</td>\n",
       "      <td>0</td>\n",
       "      <td>2</td>\n",
       "      <td>1</td>\n",
       "      <td>0</td>\n",
       "      <td>2</td>\n",
       "      <td>...</td>\n",
       "      <td>3</td>\n",
       "      <td>0</td>\n",
       "      <td>0</td>\n",
       "      <td>1</td>\n",
       "      <td>5.0</td>\n",
       "      <td>0.0</td>\n",
       "      <td>0.20</td>\n",
       "      <td>0.20</td>\n",
       "      <td>2</td>\n",
       "      <td>1</td>\n",
       "    </tr>\n",
       "    <tr>\n",
       "      <th>6651</th>\n",
       "      <td>2021-22</td>\n",
       "      <td>Wolves</td>\n",
       "      <td>Newcastle</td>\n",
       "      <td>Wolves</td>\n",
       "      <td>2</td>\n",
       "      <td>1</td>\n",
       "      <td>2</td>\n",
       "      <td>1</td>\n",
       "      <td>1</td>\n",
       "      <td>1</td>\n",
       "      <td>...</td>\n",
       "      <td>2</td>\n",
       "      <td>0</td>\n",
       "      <td>0</td>\n",
       "      <td>1</td>\n",
       "      <td>29.0</td>\n",
       "      <td>12.0</td>\n",
       "      <td>0.43</td>\n",
       "      <td>0.25</td>\n",
       "      <td>2</td>\n",
       "      <td>1</td>\n",
       "    </tr>\n",
       "    <tr>\n",
       "      <th>6653</th>\n",
       "      <td>2021-22</td>\n",
       "      <td>Crystal Palace</td>\n",
       "      <td>Leicester</td>\n",
       "      <td>Leicester</td>\n",
       "      <td>2</td>\n",
       "      <td>2</td>\n",
       "      <td>1</td>\n",
       "      <td>0</td>\n",
       "      <td>2</td>\n",
       "      <td>0</td>\n",
       "      <td>...</td>\n",
       "      <td>3</td>\n",
       "      <td>0</td>\n",
       "      <td>0</td>\n",
       "      <td>0</td>\n",
       "      <td>11.0</td>\n",
       "      <td>22.0</td>\n",
       "      <td>0.22</td>\n",
       "      <td>0.56</td>\n",
       "      <td>0</td>\n",
       "      <td>0</td>\n",
       "    </tr>\n",
       "    <tr>\n",
       "      <th>6655</th>\n",
       "      <td>2021-22</td>\n",
       "      <td>West Ham</td>\n",
       "      <td>Brentford</td>\n",
       "      <td>West Ham</td>\n",
       "      <td>1</td>\n",
       "      <td>2</td>\n",
       "      <td>0</td>\n",
       "      <td>0</td>\n",
       "      <td>1</td>\n",
       "      <td>0</td>\n",
       "      <td>...</td>\n",
       "      <td>3</td>\n",
       "      <td>0</td>\n",
       "      <td>0</td>\n",
       "      <td>1</td>\n",
       "      <td>6.0</td>\n",
       "      <td>15.0</td>\n",
       "      <td>0.28</td>\n",
       "      <td>0.46</td>\n",
       "      <td>2</td>\n",
       "      <td>0</td>\n",
       "    </tr>\n",
       "  </tbody>\n",
       "</table>\n",
       "<p>3191 rows × 29 columns</p>\n",
       "</div>"
      ],
      "text/plain": [
       "       Season        HomeTeam       AwayTeam ML_Favorite  FullTime_HomeGoals  \\\n",
       "0     2003-04      Birmingham        Everton  Birmingham                   3   \n",
       "1     2003-04       Blackburn      Newcastle   Newcastle                   1   \n",
       "3     2003-04          Fulham    Aston Villa      Fulham                   1   \n",
       "8     2003-04        Charlton      Blackburn    Charlton                   3   \n",
       "11    2003-04       Newcastle  Middlesbrough   Newcastle                   2   \n",
       "...       ...             ...            ...         ...                 ...   \n",
       "6648  2021-22         Burnley        Norwich     Burnley                   0   \n",
       "6650  2021-22           Leeds        Watford       Leeds                   1   \n",
       "6651  2021-22          Wolves      Newcastle      Wolves                   2   \n",
       "6653  2021-22  Crystal Palace      Leicester   Leicester                   2   \n",
       "6655  2021-22        West Ham      Brentford    West Ham                   1   \n",
       "\n",
       "      FullTime_AwayGoals  FullTime_Result  HalfTime_HomeGoals  \\\n",
       "0                      0                2                   2   \n",
       "1                      1                1                   0   \n",
       "3                      2                0                   1   \n",
       "8                      2                2                   2   \n",
       "11                     1                2                   0   \n",
       "...                  ...              ...                 ...   \n",
       "6648                   0                1                   0   \n",
       "6650                   0                2                   1   \n",
       "6651                   1                2                   1   \n",
       "6653                   2                1                   0   \n",
       "6655                   2                0                   0   \n",
       "\n",
       "      HalfTime_AwayGoals  HalfTime_Result  ...  Away_YellowCs  Home_RedCs  \\\n",
       "0                      0                2  ...              0           0   \n",
       "1                      0                1  ...              0           0   \n",
       "3                      2                0  ...              1           1   \n",
       "8                      0                2  ...              0           0   \n",
       "11                     1                0  ...              3           0   \n",
       "...                  ...              ...  ...            ...         ...   \n",
       "6648                   0                1  ...              2           0   \n",
       "6650                   0                2  ...              3           0   \n",
       "6651                   1                1  ...              2           0   \n",
       "6653                   2                0  ...              3           0   \n",
       "6655                   1                0  ...              3           0   \n",
       "\n",
       "      Away_RedCs  HomeTeam_Favorite  Home_ConversionRate  Away_ConversionRate  \\\n",
       "0              0                  1                 20.0                  0.0   \n",
       "1              0                  0                  6.0                  7.0   \n",
       "3              0                  1                  8.0                 20.0   \n",
       "8              0                  1                 27.0                 11.0   \n",
       "11             0                  1                 12.0                 12.0   \n",
       "...          ...                ...                  ...                  ...   \n",
       "6648           0                  1                  0.0                  0.0   \n",
       "6650           0                  1                  5.0                  0.0   \n",
       "6651           0                  1                 29.0                 12.0   \n",
       "6653           0                  0                 11.0                 22.0   \n",
       "6655           0                  1                  6.0                 15.0   \n",
       "\n",
       "      Home_SoT%  Away_SoT%  Favorites  Favorite_Winner  \n",
       "0          0.73       0.60          2                1  \n",
       "1          0.41       0.50          0                0  \n",
       "3          0.46       0.30          2                0  \n",
       "8          0.64       0.67          2                1  \n",
       "11         0.56       0.50          2                1  \n",
       "...         ...        ...        ...              ...  \n",
       "6648       0.29       0.20          2                0  \n",
       "6650       0.20       0.20          2                1  \n",
       "6651       0.43       0.25          2                1  \n",
       "6653       0.22       0.56          0                0  \n",
       "6655       0.28       0.46          2                0  \n",
       "\n",
       "[3191 rows x 29 columns]"
      ]
     },
     "execution_count": 24,
     "metadata": {},
     "output_type": "execute_result"
    }
   ],
   "source": [
    "# Non-Big Six clubs games\n",
    "non_big_six = df[(df['HomeTeam']!='Liverpool') & (df['HomeTeam']!='Man United') & (df['HomeTeam']!='Chelsea') &\n",
    "  (df['HomeTeam']!='Arsenal') & (df['HomeTeam']!='Man City') & (df['HomeTeam']!='Tottenham') &\n",
    "  (df['AwayTeam']!='Liverpool') & (df['AwayTeam']!='Man United') & (df['AwayTeam']!='Chelsea') &\n",
    "  (df['AwayTeam']!='Arsenal') & (df['AwayTeam']!='Man City') & (df['AwayTeam']!='Tottenham')]\n",
    "\n",
    "non_big_six"
   ]
  },
  {
   "cell_type": "code",
   "execution_count": 25,
   "id": "40338a70",
   "metadata": {},
   "outputs": [
    {
     "data": {
      "text/plain": [
       "(3191, 29)"
      ]
     },
     "execution_count": 25,
     "metadata": {},
     "output_type": "execute_result"
    }
   ],
   "source": [
    "non_big_six.shape"
   ]
  },
  {
   "cell_type": "markdown",
   "id": "b084d041",
   "metadata": {},
   "source": [
    "## EDA both dataframes"
   ]
  },
  {
   "cell_type": "markdown",
   "id": "7d3733e3",
   "metadata": {},
   "source": [
    "### Big Six clubs"
   ]
  },
  {
   "cell_type": "code",
   "execution_count": 26,
   "id": "8b049429",
   "metadata": {},
   "outputs": [
    {
     "name": "stderr",
     "output_type": "stream",
     "text": [
      "/opt/anaconda3/envs/learn-env/lib/python3.8/site-packages/seaborn/_decorators.py:36: FutureWarning: Pass the following variable as a keyword arg: x. From version 0.12, the only valid positional argument will be `data`, and passing other arguments without an explicit keyword will result in an error or misinterpretation.\n",
      "  warnings.warn(\n"
     ]
    },
    {
     "data": {
      "text/plain": [
       "<AxesSubplot:xlabel='HomeTeam_Favorite', ylabel='count'>"
      ]
     },
     "execution_count": 26,
     "metadata": {},
     "output_type": "execute_result"
    },
    {
     "data": {
      "image/png": "[encoded data removed]",
      "text/plain": [
       "<Figure size 432x288 with 1 Axes>"
      ]
     },
     "metadata": {
      "needs_background": "light"
     },
     "output_type": "display_data"
    }
   ],
   "source": [
    "sns.countplot(big_six['HomeTeam_Favorite'], hue=big_six['Favorite_Winner'])"
   ]
  },
  {
   "cell_type": "code",
   "execution_count": 27,
   "id": "feaff8d7",
   "metadata": {},
   "outputs": [
    {
     "name": "stderr",
     "output_type": "stream",
     "text": [
      "/opt/anaconda3/envs/learn-env/lib/python3.8/site-packages/seaborn/_decorators.py:36: FutureWarning: Pass the following variable as a keyword arg: x. From version 0.12, the only valid positional argument will be `data`, and passing other arguments without an explicit keyword will result in an error or misinterpretation.\n",
      "  warnings.warn(\n"
     ]
    },
    {
     "data": {
      "text/plain": [
       "<AxesSubplot:xlabel='FullTime_Result', ylabel='count'>"
      ]
     },
     "execution_count": 27,
     "metadata": {},
     "output_type": "execute_result"
    },
    {
     "data": {
      "image/png": "[encoded data removed]",
      "text/plain": [
       "<Figure size 432x288 with 1 Axes>"
      ]
     },
     "metadata": {
      "needs_background": "light"
     },
     "output_type": "display_data"
    }
   ],
   "source": [
    "sns.countplot(big_six['FullTime_Result'])"
   ]
  },
  {
   "cell_type": "code",
   "execution_count": 28,
   "id": "a636b2a5",
   "metadata": {},
   "outputs": [
    {
     "name": "stderr",
     "output_type": "stream",
     "text": [
      "/opt/anaconda3/envs/learn-env/lib/python3.8/site-packages/seaborn/_decorators.py:36: FutureWarning: Pass the following variable as a keyword arg: x. From version 0.12, the only valid positional argument will be `data`, and passing other arguments without an explicit keyword will result in an error or misinterpretation.\n",
      "  warnings.warn(\n"
     ]
    },
    {
     "data": {
      "text/plain": [
       "<AxesSubplot:xlabel='HomeTeam_Favorite', ylabel='count'>"
      ]
     },
     "execution_count": 28,
     "metadata": {},
     "output_type": "execute_result"
    },
    {
     "data": {
      "image/png": "[encoded data removed]",
      "text/plain": [
       "<Figure size 432x288 with 1 Axes>"
      ]
     },
     "metadata": {
      "needs_background": "light"
     },
     "output_type": "display_data"
    }
   ],
   "source": [
    "sns.countplot(big_six['HomeTeam_Favorite'])"
   ]
  },
  {
   "cell_type": "code",
   "execution_count": 29,
   "id": "8174f635",
   "metadata": {
    "scrolled": true
   },
   "outputs": [
    {
     "name": "stderr",
     "output_type": "stream",
     "text": [
      "/opt/anaconda3/envs/learn-env/lib/python3.8/site-packages/seaborn/_decorators.py:36: FutureWarning: Pass the following variable as a keyword arg: x. From version 0.12, the only valid positional argument will be `data`, and passing other arguments without an explicit keyword will result in an error or misinterpretation.\n",
      "  warnings.warn(\n"
     ]
    },
    {
     "data": {
      "text/plain": [
       "<AxesSubplot:xlabel='HalfTime_Result', ylabel='count'>"
      ]
     },
     "execution_count": 29,
     "metadata": {},
     "output_type": "execute_result"
    },
    {
     "data": {
      "image/png": "[encoded data removed]",
      "text/plain": [
       "<Figure size 432x288 with 1 Axes>"
      ]
     },
     "metadata": {
      "needs_background": "light"
     },
     "output_type": "display_data"
    }
   ],
   "source": [
    "# how many teams leading at half time went on to win the game?\n",
    "sns.countplot(big_six['HalfTime_Result'], hue=big_six['FullTime_Result'])"
   ]
  },
  {
   "cell_type": "code",
   "execution_count": 30,
   "id": "6b5ae5d1",
   "metadata": {},
   "outputs": [
    {
     "name": "stdout",
     "output_type": "stream",
     "text": [
      "Big Six Home Teams were favored in 0.5739% of all matches in the Big Six dataset.\n"
     ]
    }
   ],
   "source": [
    "# percentage of Big Six games where the home team was the favorite\n",
    "home_favorite_percentage = len(big_six[big_six['HomeTeam_Favorite'] == 1]) / len(big_six['HomeTeam_Favorite'])\n",
    "\n",
    "print('Big Six Home Teams were favored in ' + str(round(home_favorite_percentage, ndigits=4)) + \n",
    "      '% of all matches in the Big Six dataset.')"
   ]
  },
  {
   "cell_type": "code",
   "execution_count": 31,
   "id": "17a7ce1c",
   "metadata": {},
   "outputs": [
    {
     "name": "stdout",
     "output_type": "stream",
     "text": [
      "Big Six Away Teams were favored in 0.4261% of all matches in the Big Six dataset.\n"
     ]
    }
   ],
   "source": [
    "# percentage of Big Six games where the away team was the favorite\n",
    "away_favorite_percentage = len(big_six[big_six['HomeTeam_Favorite'] == 0]) / len(big_six['HomeTeam_Favorite'])\n",
    "\n",
    "print('Big Six Away Teams were favored in ' + str(round(away_favorite_percentage, ndigits=4)) + \n",
    "      '% of all matches in the Big Six dataset.')"
   ]
  },
  {
   "cell_type": "code",
   "execution_count": 32,
   "id": "8ca1b951",
   "metadata": {},
   "outputs": [
    {
     "data": {
      "text/plain": [
       "0.3038084246970571"
      ]
     },
     "execution_count": 32,
     "metadata": {},
     "output_type": "execute_result"
    }
   ],
   "source": [
    "# percentage of Big Six games where home team winning at half time \n",
    "# AND ends up winning at full time\n",
    "len(big_six[(big_six['HalfTime_Result'] == 2) & (big_six['FullTime_Result'] == 2)]) / len(big_six)"
   ]
  },
  {
   "cell_type": "code",
   "execution_count": 33,
   "id": "7d171241",
   "metadata": {},
   "outputs": [
    {
     "data": {
      "text/plain": [
       "0.1817657241777265"
      ]
     },
     "execution_count": 33,
     "metadata": {},
     "output_type": "execute_result"
    }
   ],
   "source": [
    "# percentage of Big Six games where away team winning at half time \n",
    "# AND ends up winning at full time\n",
    "len(big_six[(big_six['HalfTime_Result'] == 0) & (big_six['FullTime_Result'] == 0)]) / len(big_six)"
   ]
  },
  {
   "cell_type": "code",
   "execution_count": 34,
   "id": "93968c64",
   "metadata": {},
   "outputs": [
    {
     "data": {
      "text/plain": [
       "0.06145412579342181"
      ]
     },
     "execution_count": 34,
     "metadata": {},
     "output_type": "execute_result"
    }
   ],
   "source": [
    "# percentage of Big Six games where home team winning at half time \n",
    "# AND ends up losing/drawing at full time\n",
    "len(big_six[(big_six['HalfTime_Result'] == 2) & (big_six['FullTime_Result'] != 2)]) / len(big_six)"
   ]
  },
  {
   "cell_type": "code",
   "execution_count": 35,
   "id": "6a834ae7",
   "metadata": {},
   "outputs": [
    {
     "data": {
      "text/plain": [
       "0.060588574725908825"
      ]
     },
     "execution_count": 35,
     "metadata": {},
     "output_type": "execute_result"
    }
   ],
   "source": [
    "# percentage of Big Six games where away team winning at half time \n",
    "# AND ends up losing/drawing at full time\n",
    "len(big_six[(big_six['HalfTime_Result'] == 0) & (big_six['FullTime_Result'] != 0)]) / len(big_six)"
   ]
  },
  {
   "cell_type": "code",
   "execution_count": 36,
   "id": "34b0617b",
   "metadata": {},
   "outputs": [
    {
     "data": {
      "text/plain": [
       "0.13358338141950374"
      ]
     },
     "execution_count": 36,
     "metadata": {},
     "output_type": "execute_result"
    }
   ],
   "source": [
    "# percentage of Big Six games where it's a draw at halftime \n",
    "# AND ends up as a draw at full time\n",
    "len(big_six[(big_six['HalfTime_Result'] == 1) & (big_six['FullTime_Result'] == 1)]) / len(big_six)"
   ]
  },
  {
   "cell_type": "markdown",
   "id": "7a6568bb",
   "metadata": {},
   "source": [
    "### Non-Big Six clubs"
   ]
  },
  {
   "cell_type": "code",
   "execution_count": 37,
   "id": "604de0b9",
   "metadata": {},
   "outputs": [
    {
     "name": "stderr",
     "output_type": "stream",
     "text": [
      "/opt/anaconda3/envs/learn-env/lib/python3.8/site-packages/seaborn/_decorators.py:36: FutureWarning: Pass the following variable as a keyword arg: x. From version 0.12, the only valid positional argument will be `data`, and passing other arguments without an explicit keyword will result in an error or misinterpretation.\n",
      "  warnings.warn(\n"
     ]
    },
    {
     "data": {
      "text/plain": [
       "<AxesSubplot:xlabel='HomeTeam_Favorite', ylabel='count'>"
      ]
     },
     "execution_count": 37,
     "metadata": {},
     "output_type": "execute_result"
    },
    {
     "data": {
      "image/png": "[encoded data removed]",
      "text/plain": [
       "<Figure size 432x288 with 1 Axes>"
      ]
     },
     "metadata": {
      "needs_background": "light"
     },
     "output_type": "display_data"
    }
   ],
   "source": [
    "# how many times did the home team favorite actually win?\n",
    "sns.countplot(non_big_six['HomeTeam_Favorite'], hue=non_big_six['Favorite_Winner'])"
   ]
  },
  {
   "cell_type": "code",
   "execution_count": 38,
   "id": "04e87d3f",
   "metadata": {},
   "outputs": [
    {
     "name": "stderr",
     "output_type": "stream",
     "text": [
      "/opt/anaconda3/envs/learn-env/lib/python3.8/site-packages/seaborn/_decorators.py:36: FutureWarning: Pass the following variable as a keyword arg: x. From version 0.12, the only valid positional argument will be `data`, and passing other arguments without an explicit keyword will result in an error or misinterpretation.\n",
      "  warnings.warn(\n"
     ]
    },
    {
     "data": {
      "text/plain": [
       "<AxesSubplot:xlabel='FullTime_Result', ylabel='count'>"
      ]
     },
     "execution_count": 38,
     "metadata": {},
     "output_type": "execute_result"
    },
    {
     "data": {
      "image/png": "[encoded data removed]",
      "text/plain": [
       "<Figure size 432x288 with 1 Axes>"
      ]
     },
     "metadata": {
      "needs_background": "light"
     },
     "output_type": "display_data"
    }
   ],
   "source": [
    "# full time results of non big six matches\n",
    "sns.countplot(non_big_six['FullTime_Result'])"
   ]
  },
  {
   "cell_type": "code",
   "execution_count": 39,
   "id": "f63d1b82",
   "metadata": {},
   "outputs": [
    {
     "name": "stderr",
     "output_type": "stream",
     "text": [
      "/opt/anaconda3/envs/learn-env/lib/python3.8/site-packages/seaborn/_decorators.py:36: FutureWarning: Pass the following variable as a keyword arg: x. From version 0.12, the only valid positional argument will be `data`, and passing other arguments without an explicit keyword will result in an error or misinterpretation.\n",
      "  warnings.warn(\n"
     ]
    },
    {
     "data": {
      "text/plain": [
       "<AxesSubplot:xlabel='HomeTeam_Favorite', ylabel='count'>"
      ]
     },
     "execution_count": 39,
     "metadata": {},
     "output_type": "execute_result"
    },
    {
     "data": {
      "image/png": "[encoded data removed]",
      "text/plain": [
       "<Figure size 432x288 with 1 Axes>"
      ]
     },
     "metadata": {
      "needs_background": "light"
     },
     "output_type": "display_data"
    }
   ],
   "source": [
    "# how many times were the home teams favored for non-big six clubs?\n",
    "sns.countplot(non_big_six['HomeTeam_Favorite'])"
   ]
  },
  {
   "cell_type": "code",
   "execution_count": 40,
   "id": "840a267c",
   "metadata": {},
   "outputs": [
    {
     "name": "stderr",
     "output_type": "stream",
     "text": [
      "/opt/anaconda3/envs/learn-env/lib/python3.8/site-packages/seaborn/_decorators.py:36: FutureWarning: Pass the following variable as a keyword arg: x. From version 0.12, the only valid positional argument will be `data`, and passing other arguments without an explicit keyword will result in an error or misinterpretation.\n",
      "  warnings.warn(\n"
     ]
    },
    {
     "data": {
      "text/plain": [
       "<AxesSubplot:xlabel='HalfTime_Result', ylabel='count'>"
      ]
     },
     "execution_count": 40,
     "metadata": {},
     "output_type": "execute_result"
    },
    {
     "data": {
      "image/png": "[encoded data removed]",
      "text/plain": [
       "<Figure size 432x288 with 1 Axes>"
      ]
     },
     "metadata": {
      "needs_background": "light"
     },
     "output_type": "display_data"
    }
   ],
   "source": [
    "# how many teams leading at half time went on to win the game?\n",
    "sns.countplot(non_big_six['HalfTime_Result'], hue=non_big_six['FullTime_Result'])"
   ]
  },
  {
   "cell_type": "code",
   "execution_count": 41,
   "id": "7a24a5f4",
   "metadata": {},
   "outputs": [
    {
     "name": "stdout",
     "output_type": "stream",
     "text": [
      "Non-Big Six Home Teams were favored in 0.8261% of all matches in the Non-Big Six dataset.\n"
     ]
    }
   ],
   "source": [
    "# percentage of non-Big Six games where the home team was the favorite\n",
    "home_favorite_percentage = len(non_big_six[non_big_six['HomeTeam_Favorite'] == 1]) / len(non_big_six['HomeTeam_Favorite'])\n",
    "\n",
    "print('Non-Big Six Home Teams were favored in ' + str(round(home_favorite_percentage, ndigits=4)) + \n",
    "      '% of all matches in the Non-Big Six dataset.')"
   ]
  },
  {
   "cell_type": "code",
   "execution_count": 42,
   "id": "0dcbce1b",
   "metadata": {},
   "outputs": [
    {
     "name": "stdout",
     "output_type": "stream",
     "text": [
      "Non-Big Six Away Teams were favored in 0.1739% of all matches in the non-Big Six dataset.\n"
     ]
    }
   ],
   "source": [
    "# percentage of non-Big Six games where the away team was the favorite\n",
    "away_favorite_percentage = len(non_big_six[non_big_six['HomeTeam_Favorite'] == 0]) / len(non_big_six['HomeTeam_Favorite'])\n",
    "\n",
    "print('Non-Big Six Away Teams were favored in ' + str(round(away_favorite_percentage, ndigits=4)) + \n",
    "      '% of all matches in the non-Big Six dataset.')"
   ]
  },
  {
   "cell_type": "code",
   "execution_count": 43,
   "id": "7447556d",
   "metadata": {},
   "outputs": [
    {
     "data": {
      "text/plain": [
       "0.25979316828580384"
      ]
     },
     "execution_count": 43,
     "metadata": {},
     "output_type": "execute_result"
    }
   ],
   "source": [
    "# percentage of non-Big Six games where home team winning at half time \n",
    "# AND ends up winning at full time\n",
    "len(non_big_six[(non_big_six['HalfTime_Result'] == 2) & (non_big_six['FullTime_Result'] == 2)]) / len(non_big_six)"
   ]
  },
  {
   "cell_type": "code",
   "execution_count": 44,
   "id": "2f2d2a43",
   "metadata": {},
   "outputs": [
    {
     "data": {
      "text/plain": [
       "0.14791601378878094"
      ]
     },
     "execution_count": 44,
     "metadata": {},
     "output_type": "execute_result"
    }
   ],
   "source": [
    "# percentage of non-Big Six games where away team winning at half time \n",
    "# AND ends up winning at full time\n",
    "len(non_big_six[(non_big_six['HalfTime_Result'] == 0) & (non_big_six['FullTime_Result'] == 0)]) / len(non_big_six)"
   ]
  },
  {
   "cell_type": "code",
   "execution_count": 45,
   "id": "e6c46a08",
   "metadata": {},
   "outputs": [
    {
     "data": {
      "text/plain": [
       "0.07145095581322469"
      ]
     },
     "execution_count": 45,
     "metadata": {},
     "output_type": "execute_result"
    }
   ],
   "source": [
    "# percentage of non-Big Six games where home team winning at half time \n",
    "# AND ends up losing/drawing at full time\n",
    "len(non_big_six[(non_big_six['HalfTime_Result'] == 2) & (non_big_six['FullTime_Result'] != 2)]) / len(non_big_six)"
   ]
  },
  {
   "cell_type": "code",
   "execution_count": 46,
   "id": "af8aabb9",
   "metadata": {},
   "outputs": [
    {
     "data": {
      "text/plain": [
       "0.08116577875274208"
      ]
     },
     "execution_count": 46,
     "metadata": {},
     "output_type": "execute_result"
    }
   ],
   "source": [
    "# percentage of non-Big Six games where away team winning at half time \n",
    "# AND ends up losing/drawing at full time\n",
    "len(non_big_six[(non_big_six['HalfTime_Result'] == 0) & (non_big_six['FullTime_Result'] != 0)]) / len(non_big_six)"
   ]
  },
  {
   "cell_type": "code",
   "execution_count": 47,
   "id": "7855d16e",
   "metadata": {},
   "outputs": [
    {
     "data": {
      "text/plain": [
       "0.17580695706675023"
      ]
     },
     "execution_count": 47,
     "metadata": {},
     "output_type": "execute_result"
    }
   ],
   "source": [
    "# percentage of non-Big Six games where it's a draw at halftime \n",
    "# AND ends up as a draw at full time\n",
    "len(non_big_six[(non_big_six['HalfTime_Result'] == 1) & (non_big_six['FullTime_Result'] == 1)]) / len(non_big_six)"
   ]
  },
  {
   "cell_type": "markdown",
   "id": "47b8fbcc",
   "metadata": {},
   "source": [
    "# Modeling Process for both DataFrames"
   ]
  },
  {
   "cell_type": "code",
   "execution_count": 48,
   "id": "06475625",
   "metadata": {},
   "outputs": [],
   "source": [
    "# drop irrelevant columns\n",
    "cleaned_bs = big_six.drop(['Favorites',\n",
    "                      'Home_SoT%',\n",
    "                      'Home_Shots',\n",
    "                      'Away_RedCs',\n",
    "                      'Home_Corners',\n",
    "                      'Away_Corners',\n",
    "                      'Home_YellowCs',\n",
    "                      'Away_YellowCs',\n",
    "                      'Away_SoT%',\n",
    "                      'Away_Shots',\n",
    "                      'Season',\n",
    "                      'ML_Favorite',\n",
    "                      'Home_ConversionRate',\n",
    "                      'Away_ConversionRate',\n",
    "                      'Home_RedCs'], axis=1)\n",
    "\n",
    "cleaned_non_bs = non_big_six.drop(['Favorites',\n",
    "                      'Home_SoT%',\n",
    "                      'Home_Shots',\n",
    "                      'Away_RedCs',\n",
    "                      'Home_Corners',\n",
    "                      'Away_Corners',\n",
    "                      'Home_YellowCs',\n",
    "                      'Away_YellowCs',\n",
    "                      'Away_SoT%',\n",
    "                      'Away_Shots',\n",
    "                      'Season',\n",
    "                      'ML_Favorite',\n",
    "                      'Home_ConversionRate',\n",
    "                      'Away_ConversionRate',\n",
    "                      'Home_RedCs'], axis=1)"
   ]
  },
  {
   "cell_type": "markdown",
   "id": "daf1ccc7",
   "metadata": {},
   "source": [
    "## Modeling Process --> Big Six dataframe"
   ]
  },
  {
   "cell_type": "markdown",
   "id": "fe61f52a",
   "metadata": {},
   "source": [
    "### Train | Test split"
   ]
  },
  {
   "cell_type": "code",
   "execution_count": 49,
   "id": "af1f6d96",
   "metadata": {},
   "outputs": [],
   "source": [
    "# Big Six X\n",
    "X = cleaned_bs.drop(['HomeTeam',\n",
    "                     'AwayTeam',\n",
    "                     'FullTime_HomeGoals',\n",
    "                     'FullTime_AwayGoals',\n",
    "                     'Favorite_Winner',\n",
    "                     'FullTime_Result'], axis=1)\n",
    "\n",
    "# Big Six y\n",
    "y = cleaned_bs['FullTime_Result']"
   ]
  },
  {
   "cell_type": "code",
   "execution_count": 50,
   "id": "9ea93844",
   "metadata": {},
   "outputs": [],
   "source": [
    "# split BS df into training and testing data\n",
    "X_train, X_test, y_train, y_test = train_test_split(X, y, test_size=0.25, random_state=42)"
   ]
  },
  {
   "cell_type": "markdown",
   "id": "c5b5518e",
   "metadata": {},
   "source": [
    "Function to analyze model performance."
   ]
  },
  {
   "cell_type": "code",
   "execution_count": 51,
   "id": "ef8b67ef",
   "metadata": {},
   "outputs": [],
   "source": [
    "def model_evaluation(model, y_true=y_test, X_test=X_test):\n",
    "    model_predictions = model.predict(X_test)\n",
    "    plot_confusion_matrix(model, X_test, y_test)\n",
    "    print(classification_report(y_test, model_predictions))"
   ]
  },
  {
   "cell_type": "markdown",
   "id": "770ad9d1",
   "metadata": {},
   "source": [
    "### Logistic Regression"
   ]
  },
  {
   "cell_type": "code",
   "execution_count": 52,
   "id": "6032f879",
   "metadata": {},
   "outputs": [],
   "source": [
    "# using best parameters from GridSearch\n",
    "log_model_bs = LogisticRegression(max_iter=100, penalty='l2', solver='lbfgs')"
   ]
  },
  {
   "cell_type": "code",
   "execution_count": 53,
   "id": "275b3dba",
   "metadata": {},
   "outputs": [
    {
     "name": "stderr",
     "output_type": "stream",
     "text": [
      "/opt/anaconda3/envs/learn-env/lib/python3.8/site-packages/sklearn/linear_model/_logistic.py:762: ConvergenceWarning: lbfgs failed to converge (status=1):\n",
      "STOP: TOTAL NO. of ITERATIONS REACHED LIMIT.\n",
      "\n",
      "Increase the number of iterations (max_iter) or scale the data as shown in:\n",
      "    https://scikit-learn.org/stable/modules/preprocessing.html\n",
      "Please also refer to the documentation for alternative solver options:\n",
      "    https://scikit-learn.org/stable/modules/linear_model.html#logistic-regression\n",
      "  n_iter_i = _check_optimize_result(\n"
     ]
    },
    {
     "data": {
      "text/plain": [
       "LogisticRegression()"
      ]
     },
     "execution_count": 53,
     "metadata": {},
     "output_type": "execute_result"
    }
   ],
   "source": [
    "log_model_bs.fit(X_train, y_train)"
   ]
  },
  {
   "cell_type": "code",
   "execution_count": 54,
   "id": "6b142c06",
   "metadata": {},
   "outputs": [
    {
     "name": "stdout",
     "output_type": "stream",
     "text": [
      "              precision    recall  f1-score   support\n",
      "\n",
      "           0       0.64      0.80      0.71       243\n",
      "           1       0.33      0.07      0.11       196\n",
      "           2       0.73      0.89      0.80       428\n",
      "\n",
      "    accuracy                           0.68       867\n",
      "   macro avg       0.57      0.59      0.54       867\n",
      "weighted avg       0.61      0.68      0.62       867\n",
      "\n"
     ]
    },
    {
     "data": {
      "image/png": "[encoded data removed]",
      "text/plain": [
       "<Figure size 432x288 with 2 Axes>"
      ]
     },
     "metadata": {
      "needs_background": "light"
     },
     "output_type": "display_data"
    }
   ],
   "source": [
    "model_evaluation(log_model_bs, y_test, X_test)"
   ]
  },
  {
   "cell_type": "code",
   "execution_count": 55,
   "id": "7345c0f5",
   "metadata": {},
   "outputs": [
    {
     "data": {
      "text/plain": [
       "array([[-8.78559767e-01,  8.47773535e-01, -2.02566548e-01,\n",
       "        -1.12073285e-01,  1.31961068e-01, -4.48551263e-04,\n",
       "        -2.58392058e-02, -5.98971284e-01],\n",
       "       [-1.00716065e-02, -1.06263670e-01, -5.36794204e-02,\n",
       "        -1.09875920e-02, -8.88640083e-03,  6.81597273e-03,\n",
       "         2.01383127e-02,  1.33973271e-01],\n",
       "       [ 8.88631373e-01, -7.41509865e-01,  2.56245969e-01,\n",
       "         1.23060877e-01, -1.23074668e-01, -6.36742147e-03,\n",
       "         5.70089311e-03,  4.64998014e-01]])"
      ]
     },
     "execution_count": 55,
     "metadata": {},
     "output_type": "execute_result"
    }
   ],
   "source": [
    "log_model_bs.coef_"
   ]
  },
  {
   "cell_type": "markdown",
   "id": "991b7ee3",
   "metadata": {},
   "source": [
    "### Random Forest Classifier"
   ]
  },
  {
   "cell_type": "code",
   "execution_count": 56,
   "id": "f1256b7c",
   "metadata": {},
   "outputs": [
    {
     "data": {
      "text/plain": [
       "RandomForestClassifier()"
      ]
     },
     "execution_count": 56,
     "metadata": {},
     "output_type": "execute_result"
    }
   ],
   "source": [
    "rfc_bs = RandomForestClassifier()\n",
    "rfc_bs.fit(X_train, y_train)"
   ]
  },
  {
   "cell_type": "code",
   "execution_count": 57,
   "id": "4f860411",
   "metadata": {},
   "outputs": [
    {
     "name": "stdout",
     "output_type": "stream",
     "text": [
      "              precision    recall  f1-score   support\n",
      "\n",
      "           0       0.65      0.72      0.69       243\n",
      "           1       0.41      0.22      0.28       196\n",
      "           2       0.75      0.86      0.80       428\n",
      "\n",
      "    accuracy                           0.67       867\n",
      "   macro avg       0.60      0.60      0.59       867\n",
      "weighted avg       0.64      0.67      0.65       867\n",
      "\n"
     ]
    },
    {
     "data": {
      "image/png": "[encoded data removed]",
      "text/plain": [
       "<Figure size 432x288 with 2 Axes>"
      ]
     },
     "metadata": {
      "needs_background": "light"
     },
     "output_type": "display_data"
    }
   ],
   "source": [
    "model_evaluation(rfc_bs, y_test, X_test)"
   ]
  },
  {
   "cell_type": "markdown",
   "id": "8b92fb6f",
   "metadata": {},
   "source": [
    "### Support Vector Machine"
   ]
  },
  {
   "cell_type": "code",
   "execution_count": 58,
   "id": "bbe53b5f",
   "metadata": {},
   "outputs": [
    {
     "data": {
      "text/plain": [
       "SVC(class_weight='balanced')"
      ]
     },
     "execution_count": 58,
     "metadata": {},
     "output_type": "execute_result"
    }
   ],
   "source": [
    "svc_bs = SVC(class_weight='balanced')\n",
    "svc_bs.fit(X_train, y_train)"
   ]
  },
  {
   "cell_type": "code",
   "execution_count": 59,
   "id": "92509ee2",
   "metadata": {},
   "outputs": [
    {
     "name": "stdout",
     "output_type": "stream",
     "text": [
      "              precision    recall  f1-score   support\n",
      "\n",
      "           0       0.69      0.70      0.69       243\n",
      "           1       0.40      0.53      0.45       196\n",
      "           2       0.86      0.72      0.78       428\n",
      "\n",
      "    accuracy                           0.67       867\n",
      "   macro avg       0.65      0.65      0.64       867\n",
      "weighted avg       0.71      0.67      0.68       867\n",
      "\n"
     ]
    },
    {
     "data": {
      "image/png": "[encoded data removed]",
      "text/plain": [
       "<Figure size 432x288 with 2 Axes>"
      ]
     },
     "metadata": {
      "needs_background": "light"
     },
     "output_type": "display_data"
    }
   ],
   "source": [
    "model_evaluation(svc_bs, y_test, X_test)"
   ]
  },
  {
   "cell_type": "markdown",
   "id": "8e3ade7a",
   "metadata": {},
   "source": [
    "### XGBoost"
   ]
  },
  {
   "cell_type": "code",
   "execution_count": 60,
   "id": "50eda12a",
   "metadata": {},
   "outputs": [
    {
     "data": {
      "text/plain": [
       "XGBClassifier(base_score=0.5, booster='gbtree', colsample_bylevel=1,\n",
       "              colsample_bynode=1, colsample_bytree=1, gamma=0, gpu_id=-1,\n",
       "              importance_type='gain', interaction_constraints='',\n",
       "              learning_rate=0.300000012, max_delta_step=0, max_depth=6,\n",
       "              min_child_weight=1, missing=nan, monotone_constraints='()',\n",
       "              n_estimators=100, n_jobs=0, num_parallel_tree=1,\n",
       "              objective='multi:softprob', random_state=0, reg_alpha=0,\n",
       "              reg_lambda=1, scale_pos_weight=None, subsample=1,\n",
       "              tree_method='exact', validate_parameters=1, verbosity=None)"
      ]
     },
     "execution_count": 60,
     "metadata": {},
     "output_type": "execute_result"
    }
   ],
   "source": [
    "xgb_bs = XGBClassifier()\n",
    "xgb_bs.fit(X_train, y_train)"
   ]
  },
  {
   "cell_type": "code",
   "execution_count": 61,
   "id": "24533f83",
   "metadata": {},
   "outputs": [
    {
     "name": "stdout",
     "output_type": "stream",
     "text": [
      "              precision    recall  f1-score   support\n",
      "\n",
      "           0       0.66      0.72      0.69       243\n",
      "           1       0.35      0.23      0.28       196\n",
      "           2       0.73      0.81      0.77       428\n",
      "\n",
      "    accuracy                           0.65       867\n",
      "   macro avg       0.58      0.59      0.58       867\n",
      "weighted avg       0.62      0.65      0.63       867\n",
      "\n"
     ]
    },
    {
     "data": {
      "image/png": "[encoded data removed]",
      "text/plain": [
       "<Figure size 432x288 with 2 Axes>"
      ]
     },
     "metadata": {
      "needs_background": "light"
     },
     "output_type": "display_data"
    }
   ],
   "source": [
    "model_evaluation(xgb_bs, y_test, X_test)"
   ]
  },
  {
   "cell_type": "markdown",
   "id": "a112306f",
   "metadata": {},
   "source": [
    "Best performing model was a 68% and it was a Logistic Regression. Let's see how our models perform on the non-Big Six dataframe"
   ]
  },
  {
   "cell_type": "markdown",
   "id": "1bd93288",
   "metadata": {},
   "source": [
    "## Modeling Process --> Non-Big Six dataframe"
   ]
  },
  {
   "cell_type": "markdown",
   "id": "921b12f9",
   "metadata": {},
   "source": [
    "### Train | Test split"
   ]
  },
  {
   "cell_type": "code",
   "execution_count": 62,
   "id": "fa1c2089",
   "metadata": {},
   "outputs": [],
   "source": [
    "# Non Big Six X\n",
    "X = cleaned_non_bs.drop(['HomeTeam',\n",
    "                     'AwayTeam',\n",
    "                     'FullTime_HomeGoals',\n",
    "                     'FullTime_AwayGoals',\n",
    "                     'Favorite_Winner',\n",
    "                     'FullTime_Result'], axis=1)\n",
    "\n",
    "# Non Big Six y\n",
    "y = cleaned_non_bs['FullTime_Result']"
   ]
  },
  {
   "cell_type": "code",
   "execution_count": 63,
   "id": "9d920a88",
   "metadata": {},
   "outputs": [],
   "source": [
    "# split Non-BS df into training and testing data\n",
    "X_train, X_test, y_train, y_test = train_test_split(X, y, test_size=0.25, random_state=42)"
   ]
  },
  {
   "cell_type": "markdown",
   "id": "a5414c3b",
   "metadata": {},
   "source": [
    "### Logistic Regression"
   ]
  },
  {
   "cell_type": "code",
   "execution_count": 64,
   "id": "871eb37e",
   "metadata": {},
   "outputs": [
    {
     "name": "stderr",
     "output_type": "stream",
     "text": [
      "/opt/anaconda3/envs/learn-env/lib/python3.8/site-packages/sklearn/linear_model/_logistic.py:762: ConvergenceWarning: lbfgs failed to converge (status=1):\n",
      "STOP: TOTAL NO. of ITERATIONS REACHED LIMIT.\n",
      "\n",
      "Increase the number of iterations (max_iter) or scale the data as shown in:\n",
      "    https://scikit-learn.org/stable/modules/preprocessing.html\n",
      "Please also refer to the documentation for alternative solver options:\n",
      "    https://scikit-learn.org/stable/modules/linear_model.html#logistic-regression\n",
      "  n_iter_i = _check_optimize_result(\n"
     ]
    },
    {
     "data": {
      "text/plain": [
       "LogisticRegression()"
      ]
     },
     "execution_count": 64,
     "metadata": {},
     "output_type": "execute_result"
    }
   ],
   "source": [
    "# using best parameters from GridSearch\n",
    "log_model_non_bs = LogisticRegression(max_iter=100, penalty='l2', solver='lbfgs')\n",
    "\n",
    "log_model_non_bs.fit(X_train, y_train)"
   ]
  },
  {
   "cell_type": "code",
   "execution_count": 65,
   "id": "01244c80",
   "metadata": {},
   "outputs": [
    {
     "name": "stdout",
     "output_type": "stream",
     "text": [
      "              precision    recall  f1-score   support\n",
      "\n",
      "           0       0.61      0.63      0.62       207\n",
      "           1       0.46      0.26      0.33       225\n",
      "           2       0.67      0.83      0.74       366\n",
      "\n",
      "    accuracy                           0.62       798\n",
      "   macro avg       0.58      0.57      0.56       798\n",
      "weighted avg       0.59      0.62      0.59       798\n",
      "\n"
     ]
    },
    {
     "data": {
      "image/png": "[encoded data removed]",
      "text/plain": [
       "<Figure size 432x288 with 2 Axes>"
      ]
     },
     "metadata": {
      "needs_background": "light"
     },
     "output_type": "display_data"
    }
   ],
   "source": [
    "model_evaluation(log_model_non_bs, y_test, X_test)"
   ]
  },
  {
   "cell_type": "markdown",
   "id": "de4dead1",
   "metadata": {},
   "source": [
    "### Random Forest Classifier"
   ]
  },
  {
   "cell_type": "code",
   "execution_count": 66,
   "id": "4f3ed84a",
   "metadata": {},
   "outputs": [
    {
     "data": {
      "text/plain": [
       "RandomForestClassifier()"
      ]
     },
     "execution_count": 66,
     "metadata": {},
     "output_type": "execute_result"
    }
   ],
   "source": [
    "rfc_non_bs = RandomForestClassifier()\n",
    "rfc_non_bs.fit(X_train, y_train)"
   ]
  },
  {
   "cell_type": "code",
   "execution_count": 67,
   "id": "f1e94934",
   "metadata": {},
   "outputs": [
    {
     "name": "stdout",
     "output_type": "stream",
     "text": [
      "              precision    recall  f1-score   support\n",
      "\n",
      "           0       0.55      0.57      0.56       207\n",
      "           1       0.41      0.35      0.38       225\n",
      "           2       0.67      0.72      0.69       366\n",
      "\n",
      "    accuracy                           0.58       798\n",
      "   macro avg       0.54      0.55      0.54       798\n",
      "weighted avg       0.57      0.58      0.57       798\n",
      "\n"
     ]
    },
    {
     "data": {
      "image/png": "[encoded data removed]",
      "text/plain": [
       "<Figure size 432x288 with 2 Axes>"
      ]
     },
     "metadata": {
      "needs_background": "light"
     },
     "output_type": "display_data"
    }
   ],
   "source": [
    "model_evaluation(rfc_non_bs, y_test, X_test)"
   ]
  },
  {
   "cell_type": "markdown",
   "id": "1cc65ad7",
   "metadata": {},
   "source": [
    "### Support Vector Machine"
   ]
  },
  {
   "cell_type": "code",
   "execution_count": 68,
   "id": "9e271b0b",
   "metadata": {},
   "outputs": [
    {
     "data": {
      "text/plain": [
       "SVC(class_weight='balanced')"
      ]
     },
     "execution_count": 68,
     "metadata": {},
     "output_type": "execute_result"
    }
   ],
   "source": [
    "svc_non_bs = SVC(class_weight='balanced')\n",
    "svc_non_bs.fit(X_train, y_train)"
   ]
  },
  {
   "cell_type": "code",
   "execution_count": 69,
   "id": "afc112fb",
   "metadata": {},
   "outputs": [
    {
     "name": "stdout",
     "output_type": "stream",
     "text": [
      "              precision    recall  f1-score   support\n",
      "\n",
      "           0       0.66      0.51      0.57       207\n",
      "           1       0.38      0.61      0.47       225\n",
      "           2       0.77      0.58      0.66       366\n",
      "\n",
      "    accuracy                           0.57       798\n",
      "   macro avg       0.60      0.57      0.57       798\n",
      "weighted avg       0.63      0.57      0.58       798\n",
      "\n"
     ]
    },
    {
     "data": {
      "image/png": "[encoded data removed]",
      "text/plain": [
       "<Figure size 432x288 with 2 Axes>"
      ]
     },
     "metadata": {
      "needs_background": "light"
     },
     "output_type": "display_data"
    }
   ],
   "source": [
    "model_evaluation(svc_bs, y_test, X_test)"
   ]
  },
  {
   "cell_type": "markdown",
   "id": "3720b791",
   "metadata": {},
   "source": [
    "### XGBoost"
   ]
  },
  {
   "cell_type": "code",
   "execution_count": 70,
   "id": "870201d6",
   "metadata": {},
   "outputs": [
    {
     "data": {
      "text/plain": [
       "XGBClassifier(base_score=0.5, booster='gbtree', colsample_bylevel=1,\n",
       "              colsample_bynode=1, colsample_bytree=1, gamma=0, gpu_id=-1,\n",
       "              importance_type='gain', interaction_constraints='',\n",
       "              learning_rate=0.300000012, max_delta_step=0, max_depth=6,\n",
       "              min_child_weight=1, missing=nan, monotone_constraints='()',\n",
       "              n_estimators=100, n_jobs=0, num_parallel_tree=1,\n",
       "              objective='multi:softprob', random_state=0, reg_alpha=0,\n",
       "              reg_lambda=1, scale_pos_weight=None, subsample=1,\n",
       "              tree_method='exact', validate_parameters=1, verbosity=None)"
      ]
     },
     "execution_count": 70,
     "metadata": {},
     "output_type": "execute_result"
    }
   ],
   "source": [
    "xgb_non_bs = XGBClassifier()\n",
    "xgb_non_bs.fit(X_train, y_train)"
   ]
  },
  {
   "cell_type": "code",
   "execution_count": 71,
   "id": "f53b36e9",
   "metadata": {},
   "outputs": [
    {
     "name": "stdout",
     "output_type": "stream",
     "text": [
      "              precision    recall  f1-score   support\n",
      "\n",
      "           0       0.57      0.56      0.56       207\n",
      "           1       0.38      0.36      0.37       225\n",
      "           2       0.68      0.72      0.70       366\n",
      "\n",
      "    accuracy                           0.58       798\n",
      "   macro avg       0.54      0.54      0.54       798\n",
      "weighted avg       0.57      0.58      0.57       798\n",
      "\n"
     ]
    },
    {
     "data": {
      "image/png": "[encoded data removed]",
      "text/plain": [
       "<Figure size 432x288 with 2 Axes>"
      ]
     },
     "metadata": {
      "needs_background": "light"
     },
     "output_type": "display_data"
    }
   ],
   "source": [
    "model_evaluation(xgb_non_bs, y_test, X_test)"
   ]
  },
  {
   "cell_type": "markdown",
   "id": "ea759795",
   "metadata": {},
   "source": [
    "### Again, our best performing model was a Logistic Regression, which achieved a 62% accuracy"
   ]
  },
  {
   "cell_type": "markdown",
   "id": "851ca403",
   "metadata": {},
   "source": [
    "# Knowing that the 2020-2021 season was played behind closed doors (no fans), would that effect our results?"
   ]
  },
  {
   "cell_type": "code",
   "execution_count": null,
   "id": "63be5e0a",
   "metadata": {},
   "outputs": [],
   "source": []
  },
  {
   "cell_type": "code",
   "execution_count": null,
   "id": "c713e8fe",
   "metadata": {},
   "outputs": [],
   "source": []
  },
  {
   "cell_type": "code",
   "execution_count": null,
   "id": "3d71eb7e",
   "metadata": {},
   "outputs": [],
   "source": []
  },
  {
   "cell_type": "code",
   "execution_count": null,
   "id": "25f32818",
   "metadata": {},
   "outputs": [],
   "source": []
  },
  {
   "cell_type": "code",
   "execution_count": null,
   "id": "6d56154e",
   "metadata": {},
   "outputs": [],
   "source": []
  },
  {
   "cell_type": "code",
   "execution_count": null,
   "id": "8007b5c4",
   "metadata": {},
   "outputs": [],
   "source": []
  },
  {
   "cell_type": "code",
   "execution_count": null,
   "id": "4513f122",
   "metadata": {},
   "outputs": [],
   "source": []
  },
  {
   "cell_type": "code",
   "execution_count": null,
   "id": "2237d5bb",
   "metadata": {},
   "outputs": [],
   "source": []
  },
  {
   "cell_type": "code",
   "execution_count": null,
   "id": "bcedb350",
   "metadata": {},
   "outputs": [],
   "source": []
  }
 ],
 "metadata": {
  "kernelspec": {
   "display_name": "Python (learn-env)",
   "language": "python",
   "name": "learn-env"
  },
  "language_info": {
   "codemirror_mode": {
    "name": "ipython",
    "version": 3
   },
   "file_extension": ".py",
   "mimetype": "text/x-python",
   "name": "python",
   "nbconvert_exporter": "python",
   "pygments_lexer": "ipython3",
   "version": "3.8.5"
  }
 },
 "nbformat": 4,
 "nbformat_minor": 5
}
